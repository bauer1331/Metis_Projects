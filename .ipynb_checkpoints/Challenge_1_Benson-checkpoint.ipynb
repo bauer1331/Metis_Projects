{
 "cells": [
  {
   "cell_type": "markdown",
   "metadata": {},
   "source": [
    "## Benson Challenges"
   ]
  },
  {
   "cell_type": "markdown",
   "metadata": {},
   "source": [
    "Challenge 1"
   ]
  },
  {
   "cell_type": "code",
   "execution_count": 1,
   "metadata": {
    "collapsed": true
   },
   "outputs": [],
   "source": [
    "import pandas as pd\n",
    "import numpy as np"
   ]
  },
  {
   "cell_type": "code",
   "execution_count": 2,
   "metadata": {
    "collapsed": true
   },
   "outputs": [],
   "source": [
    "def get_data(week_nums):\n",
    "    url = \"http://web.mta.info/developers/data/nyct/turnstile/turnstile_{}.txt\"\n",
    "    dfs = []\n",
    "    for week_num in week_nums:\n",
    "        file_url = url.format(week_num)\n",
    "        dfs.append(pd.read_csv(file_url))\n",
    "    return pd.concat(dfs)\n",
    "        \n",
    "week_nums = [160430, 160507, 160514, 160521]\n",
    "turnstiles_df = get_data(week_nums)"
   ]
  },
  {
   "cell_type": "code",
   "execution_count": 3,
   "metadata": {
    "collapsed": false
   },
   "outputs": [
    {
     "data": {
      "text/html": [
       "<div>\n",
       "<table border=\"1\" class=\"dataframe\">\n",
       "  <thead>\n",
       "    <tr style=\"text-align: right;\">\n",
       "      <th></th>\n",
       "      <th>C/A</th>\n",
       "      <th>UNIT</th>\n",
       "      <th>SCP</th>\n",
       "      <th>STATION</th>\n",
       "      <th>LINENAME</th>\n",
       "      <th>DIVISION</th>\n",
       "      <th>DATE</th>\n",
       "      <th>TIME</th>\n",
       "      <th>DESC</th>\n",
       "      <th>ENTRIES</th>\n",
       "      <th>EXITS</th>\n",
       "    </tr>\n",
       "  </thead>\n",
       "  <tbody>\n",
       "    <tr>\n",
       "      <th>0</th>\n",
       "      <td>A002</td>\n",
       "      <td>R051</td>\n",
       "      <td>02-00-00</td>\n",
       "      <td>59 ST</td>\n",
       "      <td>NQR456</td>\n",
       "      <td>BMT</td>\n",
       "      <td>04/23/2016</td>\n",
       "      <td>00:00:00</td>\n",
       "      <td>REGULAR</td>\n",
       "      <td>5630154</td>\n",
       "      <td>1906686</td>\n",
       "    </tr>\n",
       "    <tr>\n",
       "      <th>1</th>\n",
       "      <td>A002</td>\n",
       "      <td>R051</td>\n",
       "      <td>02-00-00</td>\n",
       "      <td>59 ST</td>\n",
       "      <td>NQR456</td>\n",
       "      <td>BMT</td>\n",
       "      <td>04/23/2016</td>\n",
       "      <td>04:00:00</td>\n",
       "      <td>REGULAR</td>\n",
       "      <td>5630200</td>\n",
       "      <td>1906691</td>\n",
       "    </tr>\n",
       "    <tr>\n",
       "      <th>2</th>\n",
       "      <td>A002</td>\n",
       "      <td>R051</td>\n",
       "      <td>02-00-00</td>\n",
       "      <td>59 ST</td>\n",
       "      <td>NQR456</td>\n",
       "      <td>BMT</td>\n",
       "      <td>04/23/2016</td>\n",
       "      <td>08:00:00</td>\n",
       "      <td>REGULAR</td>\n",
       "      <td>5630228</td>\n",
       "      <td>1906721</td>\n",
       "    </tr>\n",
       "    <tr>\n",
       "      <th>3</th>\n",
       "      <td>A002</td>\n",
       "      <td>R051</td>\n",
       "      <td>02-00-00</td>\n",
       "      <td>59 ST</td>\n",
       "      <td>NQR456</td>\n",
       "      <td>BMT</td>\n",
       "      <td>04/23/2016</td>\n",
       "      <td>12:00:00</td>\n",
       "      <td>REGULAR</td>\n",
       "      <td>5630337</td>\n",
       "      <td>1906819</td>\n",
       "    </tr>\n",
       "    <tr>\n",
       "      <th>4</th>\n",
       "      <td>A002</td>\n",
       "      <td>R051</td>\n",
       "      <td>02-00-00</td>\n",
       "      <td>59 ST</td>\n",
       "      <td>NQR456</td>\n",
       "      <td>BMT</td>\n",
       "      <td>04/23/2016</td>\n",
       "      <td>16:00:00</td>\n",
       "      <td>REGULAR</td>\n",
       "      <td>5630595</td>\n",
       "      <td>1906905</td>\n",
       "    </tr>\n",
       "  </tbody>\n",
       "</table>\n",
       "</div>"
      ],
      "text/plain": [
       "    C/A  UNIT       SCP STATION LINENAME DIVISION        DATE      TIME  \\\n",
       "0  A002  R051  02-00-00   59 ST   NQR456      BMT  04/23/2016  00:00:00   \n",
       "1  A002  R051  02-00-00   59 ST   NQR456      BMT  04/23/2016  04:00:00   \n",
       "2  A002  R051  02-00-00   59 ST   NQR456      BMT  04/23/2016  08:00:00   \n",
       "3  A002  R051  02-00-00   59 ST   NQR456      BMT  04/23/2016  12:00:00   \n",
       "4  A002  R051  02-00-00   59 ST   NQR456      BMT  04/23/2016  16:00:00   \n",
       "\n",
       "      DESC  ENTRIES  \\\n",
       "0  REGULAR  5630154   \n",
       "1  REGULAR  5630200   \n",
       "2  REGULAR  5630228   \n",
       "3  REGULAR  5630337   \n",
       "4  REGULAR  5630595   \n",
       "\n",
       "   EXITS                                                                 \n",
       "0                                            1906686                     \n",
       "1                                            1906691                     \n",
       "2                                            1906721                     \n",
       "3                                            1906819                     \n",
       "4                                            1906905                     "
      ]
     },
     "execution_count": 3,
     "metadata": {},
     "output_type": "execute_result"
    }
   ],
   "source": [
    "turnstiles_df.head()"
   ]
  },
  {
   "cell_type": "markdown",
   "metadata": {},
   "source": [
    "Challenge 2"
   ]
  },
  {
   "cell_type": "code",
   "execution_count": 4,
   "metadata": {
    "collapsed": true
   },
   "outputs": [],
   "source": [
    "turnstiles_df.columns = [str.lower(column).strip() for column in turnstiles_df.columns]\n",
    "turnstiles_df[\"date_time\"] = pd.to_datetime(turnstiles_df.date + \" \" + turnstiles_df.time, format=\"%m/%d/%Y %H:%M:%S\")\n",
    "turnstiles_df[\"date\"] = pd.DatetimeIndex(turnstiles_df.date)\n",
    "turnstiles_df[\"time\"] = pd.to_datetime(turnstiles_df['time'], format ='%H:%M:%S').dt.hour"
   ]
  },
  {
   "cell_type": "code",
   "execution_count": 5,
   "metadata": {
    "collapsed": false
   },
   "outputs": [
    {
     "data": {
      "text/html": [
       "<div>\n",
       "<table border=\"1\" class=\"dataframe\">\n",
       "  <thead>\n",
       "    <tr style=\"text-align: right;\">\n",
       "      <th></th>\n",
       "      <th>c/a</th>\n",
       "      <th>unit</th>\n",
       "      <th>scp</th>\n",
       "      <th>station</th>\n",
       "      <th>linename</th>\n",
       "      <th>division</th>\n",
       "      <th>date</th>\n",
       "      <th>time</th>\n",
       "      <th>desc</th>\n",
       "      <th>entries</th>\n",
       "      <th>exits</th>\n",
       "      <th>date_time</th>\n",
       "    </tr>\n",
       "  </thead>\n",
       "  <tbody>\n",
       "    <tr>\n",
       "      <th>0</th>\n",
       "      <td>A002</td>\n",
       "      <td>R051</td>\n",
       "      <td>02-00-00</td>\n",
       "      <td>59 ST</td>\n",
       "      <td>NQR456</td>\n",
       "      <td>BMT</td>\n",
       "      <td>2016-04-23</td>\n",
       "      <td>0</td>\n",
       "      <td>REGULAR</td>\n",
       "      <td>5630154</td>\n",
       "      <td>1906686</td>\n",
       "      <td>2016-04-23 00:00:00</td>\n",
       "    </tr>\n",
       "    <tr>\n",
       "      <th>1</th>\n",
       "      <td>A002</td>\n",
       "      <td>R051</td>\n",
       "      <td>02-00-00</td>\n",
       "      <td>59 ST</td>\n",
       "      <td>NQR456</td>\n",
       "      <td>BMT</td>\n",
       "      <td>2016-04-23</td>\n",
       "      <td>4</td>\n",
       "      <td>REGULAR</td>\n",
       "      <td>5630200</td>\n",
       "      <td>1906691</td>\n",
       "      <td>2016-04-23 04:00:00</td>\n",
       "    </tr>\n",
       "    <tr>\n",
       "      <th>2</th>\n",
       "      <td>A002</td>\n",
       "      <td>R051</td>\n",
       "      <td>02-00-00</td>\n",
       "      <td>59 ST</td>\n",
       "      <td>NQR456</td>\n",
       "      <td>BMT</td>\n",
       "      <td>2016-04-23</td>\n",
       "      <td>8</td>\n",
       "      <td>REGULAR</td>\n",
       "      <td>5630228</td>\n",
       "      <td>1906721</td>\n",
       "      <td>2016-04-23 08:00:00</td>\n",
       "    </tr>\n",
       "    <tr>\n",
       "      <th>3</th>\n",
       "      <td>A002</td>\n",
       "      <td>R051</td>\n",
       "      <td>02-00-00</td>\n",
       "      <td>59 ST</td>\n",
       "      <td>NQR456</td>\n",
       "      <td>BMT</td>\n",
       "      <td>2016-04-23</td>\n",
       "      <td>12</td>\n",
       "      <td>REGULAR</td>\n",
       "      <td>5630337</td>\n",
       "      <td>1906819</td>\n",
       "      <td>2016-04-23 12:00:00</td>\n",
       "    </tr>\n",
       "    <tr>\n",
       "      <th>4</th>\n",
       "      <td>A002</td>\n",
       "      <td>R051</td>\n",
       "      <td>02-00-00</td>\n",
       "      <td>59 ST</td>\n",
       "      <td>NQR456</td>\n",
       "      <td>BMT</td>\n",
       "      <td>2016-04-23</td>\n",
       "      <td>16</td>\n",
       "      <td>REGULAR</td>\n",
       "      <td>5630595</td>\n",
       "      <td>1906905</td>\n",
       "      <td>2016-04-23 16:00:00</td>\n",
       "    </tr>\n",
       "  </tbody>\n",
       "</table>\n",
       "</div>"
      ],
      "text/plain": [
       "    c/a  unit       scp station linename division       date  time     desc  \\\n",
       "0  A002  R051  02-00-00   59 ST   NQR456      BMT 2016-04-23     0  REGULAR   \n",
       "1  A002  R051  02-00-00   59 ST   NQR456      BMT 2016-04-23     4  REGULAR   \n",
       "2  A002  R051  02-00-00   59 ST   NQR456      BMT 2016-04-23     8  REGULAR   \n",
       "3  A002  R051  02-00-00   59 ST   NQR456      BMT 2016-04-23    12  REGULAR   \n",
       "4  A002  R051  02-00-00   59 ST   NQR456      BMT 2016-04-23    16  REGULAR   \n",
       "\n",
       "   entries    exits           date_time  \n",
       "0  5630154  1906686 2016-04-23 00:00:00  \n",
       "1  5630200  1906691 2016-04-23 04:00:00  \n",
       "2  5630228  1906721 2016-04-23 08:00:00  \n",
       "3  5630337  1906819 2016-04-23 12:00:00  \n",
       "4  5630595  1906905 2016-04-23 16:00:00  "
      ]
     },
     "execution_count": 5,
     "metadata": {},
     "output_type": "execute_result"
    }
   ],
   "source": [
    "turnstiles_df.head()"
   ]
  },
  {
   "cell_type": "markdown",
   "metadata": {},
   "source": [
    "Challenge 3"
   ]
  },
  {
   "cell_type": "code",
   "execution_count": 6,
   "metadata": {
    "collapsed": true
   },
   "outputs": [],
   "source": [
    "turnstiles_datetime = turnstiles_df\n",
    "turnstiles_datetime[[\"prev_date\", \"prev_entries\", \"prev_exits\"]] = (turnstiles_datetime\n",
    "                                                       .groupby([\"c/a\", \"unit\", \"scp\", \"station\",\"linename\"])[\"date_time\", \"entries\", \"exits\"]\n",
    "                                                       .transform(lambda grp: grp.shift(1)))\n",
    "turnstiles_datetime.dropna(subset=[\"prev_date\"], axis=0, inplace=True)"
   ]
  },
  {
   "cell_type": "code",
   "execution_count": 7,
   "metadata": {
    "collapsed": true
   },
   "outputs": [],
   "source": [
    "def get_daily_counts(row, max_counter, origCol, prevCol):\n",
    "    counter = row[origCol] - row[prevCol]\n",
    "    if counter < 0:\n",
    "        # make an assumption\n",
    "        counter = -counter\n",
    "    if counter > max_counter:\n",
    "        return 0\n",
    "    return counter"
   ]
  },
  {
   "cell_type": "code",
   "execution_count": 8,
   "metadata": {
    "collapsed": true
   },
   "outputs": [],
   "source": [
    "turnstiles_datetime['dt_entries'] = turnstiles_datetime.apply(get_daily_counts, axis=1, max_counter=1000000,\\\n",
    "                                                           origCol='entries', prevCol = 'prev_entries')\n",
    "\n",
    "turnstiles_datetime['dt_exits'] = turnstiles_datetime.apply(get_daily_counts, axis=1, max_counter=1000000,\\\n",
    "                                                         origCol = 'exits', prevCol='prev_exits')"
   ]
  },
  {
   "cell_type": "code",
   "execution_count": 9,
   "metadata": {
    "collapsed": true
   },
   "outputs": [],
   "source": [
    "dt_turn_clean = turnstiles_datetime.drop([\"entries\", \"exits\", \"prev_date\", \"prev_entries\", \"prev_exits\",], \\\n",
    "                                         axis=1, errors=\"ignore\")"
   ]
  },
  {
   "cell_type": "code",
   "execution_count": 16,
   "metadata": {
    "collapsed": false
   },
   "outputs": [],
   "source": [
    "dt_clean = dt_turn_clean.loc[dt_turn_clean['dt_entries']<10000]"
   ]
  },
  {
   "cell_type": "code",
   "execution_count": 17,
   "metadata": {
    "collapsed": false
   },
   "outputs": [
    {
     "data": {
      "text/html": [
       "<div>\n",
       "<table border=\"1\" class=\"dataframe\">\n",
       "  <thead>\n",
       "    <tr style=\"text-align: right;\">\n",
       "      <th></th>\n",
       "      <th>c/a</th>\n",
       "      <th>unit</th>\n",
       "      <th>scp</th>\n",
       "      <th>station</th>\n",
       "      <th>linename</th>\n",
       "      <th>division</th>\n",
       "      <th>date</th>\n",
       "      <th>time</th>\n",
       "      <th>desc</th>\n",
       "      <th>date_time</th>\n",
       "      <th>dt_entries</th>\n",
       "      <th>dt_exits</th>\n",
       "    </tr>\n",
       "  </thead>\n",
       "  <tbody>\n",
       "    <tr>\n",
       "      <th>1</th>\n",
       "      <td>A002</td>\n",
       "      <td>R051</td>\n",
       "      <td>02-00-00</td>\n",
       "      <td>59 ST</td>\n",
       "      <td>NQR456</td>\n",
       "      <td>BMT</td>\n",
       "      <td>2016-04-23</td>\n",
       "      <td>4</td>\n",
       "      <td>REGULAR</td>\n",
       "      <td>2016-04-23 04:00:00</td>\n",
       "      <td>46.0</td>\n",
       "      <td>5.0</td>\n",
       "    </tr>\n",
       "    <tr>\n",
       "      <th>2</th>\n",
       "      <td>A002</td>\n",
       "      <td>R051</td>\n",
       "      <td>02-00-00</td>\n",
       "      <td>59 ST</td>\n",
       "      <td>NQR456</td>\n",
       "      <td>BMT</td>\n",
       "      <td>2016-04-23</td>\n",
       "      <td>8</td>\n",
       "      <td>REGULAR</td>\n",
       "      <td>2016-04-23 08:00:00</td>\n",
       "      <td>28.0</td>\n",
       "      <td>30.0</td>\n",
       "    </tr>\n",
       "    <tr>\n",
       "      <th>3</th>\n",
       "      <td>A002</td>\n",
       "      <td>R051</td>\n",
       "      <td>02-00-00</td>\n",
       "      <td>59 ST</td>\n",
       "      <td>NQR456</td>\n",
       "      <td>BMT</td>\n",
       "      <td>2016-04-23</td>\n",
       "      <td>12</td>\n",
       "      <td>REGULAR</td>\n",
       "      <td>2016-04-23 12:00:00</td>\n",
       "      <td>109.0</td>\n",
       "      <td>98.0</td>\n",
       "    </tr>\n",
       "    <tr>\n",
       "      <th>4</th>\n",
       "      <td>A002</td>\n",
       "      <td>R051</td>\n",
       "      <td>02-00-00</td>\n",
       "      <td>59 ST</td>\n",
       "      <td>NQR456</td>\n",
       "      <td>BMT</td>\n",
       "      <td>2016-04-23</td>\n",
       "      <td>16</td>\n",
       "      <td>REGULAR</td>\n",
       "      <td>2016-04-23 16:00:00</td>\n",
       "      <td>258.0</td>\n",
       "      <td>86.0</td>\n",
       "    </tr>\n",
       "    <tr>\n",
       "      <th>5</th>\n",
       "      <td>A002</td>\n",
       "      <td>R051</td>\n",
       "      <td>02-00-00</td>\n",
       "      <td>59 ST</td>\n",
       "      <td>NQR456</td>\n",
       "      <td>BMT</td>\n",
       "      <td>2016-04-23</td>\n",
       "      <td>20</td>\n",
       "      <td>REGULAR</td>\n",
       "      <td>2016-04-23 20:00:00</td>\n",
       "      <td>366.0</td>\n",
       "      <td>62.0</td>\n",
       "    </tr>\n",
       "  </tbody>\n",
       "</table>\n",
       "</div>"
      ],
      "text/plain": [
       "    c/a  unit       scp station linename division       date  time     desc  \\\n",
       "1  A002  R051  02-00-00   59 ST   NQR456      BMT 2016-04-23     4  REGULAR   \n",
       "2  A002  R051  02-00-00   59 ST   NQR456      BMT 2016-04-23     8  REGULAR   \n",
       "3  A002  R051  02-00-00   59 ST   NQR456      BMT 2016-04-23    12  REGULAR   \n",
       "4  A002  R051  02-00-00   59 ST   NQR456      BMT 2016-04-23    16  REGULAR   \n",
       "5  A002  R051  02-00-00   59 ST   NQR456      BMT 2016-04-23    20  REGULAR   \n",
       "\n",
       "            date_time  dt_entries  dt_exits  \n",
       "1 2016-04-23 04:00:00        46.0       5.0  \n",
       "2 2016-04-23 08:00:00        28.0      30.0  \n",
       "3 2016-04-23 12:00:00       109.0      98.0  \n",
       "4 2016-04-23 16:00:00       258.0      86.0  \n",
       "5 2016-04-23 20:00:00       366.0      62.0  "
      ]
     },
     "execution_count": 17,
     "metadata": {},
     "output_type": "execute_result"
    }
   ],
   "source": [
    "dt_clean.head()"
   ]
  },
  {
   "cell_type": "markdown",
   "metadata": {},
   "source": [
    "Challenge 4"
   ]
  },
  {
   "cell_type": "code",
   "execution_count": 11,
   "metadata": {
    "collapsed": true
   },
   "outputs": [],
   "source": [
    "%matplotlib inline"
   ]
  },
  {
   "cell_type": "code",
   "execution_count": 12,
   "metadata": {
    "collapsed": true
   },
   "outputs": [],
   "source": [
    "import matplotlib.pyplot as plt"
   ]
  },
  {
   "cell_type": "code",
   "execution_count": 20,
   "metadata": {
    "collapsed": true
   },
   "outputs": [],
   "source": [
    "dt_clean = dt_clean.sort_values(['date_time'], ascending=False)\n",
    "dates = dt_clean['date_time']\n",
    "counts = dt_clean['dt_entries']"
   ]
  },
  {
   "cell_type": "code",
   "execution_count": 21,
   "metadata": {
    "collapsed": false
   },
   "outputs": [
    {
     "data": {
      "text/plain": [
       "[<matplotlib.lines.Line2D at 0x118872048>]"
      ]
     },
     "execution_count": 21,
     "metadata": {},
     "output_type": "execute_result"
    },
    {
     "data": {
      "image/png": "[encoded data removed]",
      "text/plain": [
       "<matplotlib.figure.Figure at 0x1181ab630>"
      ]
     },
     "metadata": {},
     "output_type": "display_data"
    }
   ],
   "source": [
    "plt.figure(figsize=(10,3))\n",
    "plt.plot(dates,counts)"
   ]
  },
  {
   "cell_type": "markdown",
   "metadata": {},
   "source": [
    "Challenge 5"
   ]
  },
  {
   "cell_type": "code",
   "execution_count": 22,
   "metadata": {
    "collapsed": false
   },
   "outputs": [
    {
     "data": {
      "text/html": [
       "<div>\n",
       "<table border=\"1\" class=\"dataframe\">\n",
       "  <thead>\n",
       "    <tr style=\"text-align: right;\">\n",
       "      <th></th>\n",
       "      <th>c/a</th>\n",
       "      <th>unit</th>\n",
       "      <th>scp</th>\n",
       "      <th>station</th>\n",
       "      <th>date</th>\n",
       "      <th>dt_entries</th>\n",
       "      <th>dt_exits</th>\n",
       "    </tr>\n",
       "  </thead>\n",
       "  <tbody>\n",
       "    <tr>\n",
       "      <th>0</th>\n",
       "      <td>A002</td>\n",
       "      <td>R051</td>\n",
       "      <td>02-00-00</td>\n",
       "      <td>59 ST</td>\n",
       "      <td>2016-04-23</td>\n",
       "      <td>807.0</td>\n",
       "      <td>281.0</td>\n",
       "    </tr>\n",
       "    <tr>\n",
       "      <th>1</th>\n",
       "      <td>A002</td>\n",
       "      <td>R051</td>\n",
       "      <td>02-00-00</td>\n",
       "      <td>59 ST</td>\n",
       "      <td>2016-04-24</td>\n",
       "      <td>723.0</td>\n",
       "      <td>273.0</td>\n",
       "    </tr>\n",
       "    <tr>\n",
       "      <th>2</th>\n",
       "      <td>A002</td>\n",
       "      <td>R051</td>\n",
       "      <td>02-00-00</td>\n",
       "      <td>59 ST</td>\n",
       "      <td>2016-04-25</td>\n",
       "      <td>1819.0</td>\n",
       "      <td>504.0</td>\n",
       "    </tr>\n",
       "    <tr>\n",
       "      <th>3</th>\n",
       "      <td>A002</td>\n",
       "      <td>R051</td>\n",
       "      <td>02-00-00</td>\n",
       "      <td>59 ST</td>\n",
       "      <td>2016-04-26</td>\n",
       "      <td>1677.0</td>\n",
       "      <td>551.0</td>\n",
       "    </tr>\n",
       "    <tr>\n",
       "      <th>4</th>\n",
       "      <td>A002</td>\n",
       "      <td>R051</td>\n",
       "      <td>02-00-00</td>\n",
       "      <td>59 ST</td>\n",
       "      <td>2016-04-27</td>\n",
       "      <td>1524.0</td>\n",
       "      <td>563.0</td>\n",
       "    </tr>\n",
       "  </tbody>\n",
       "</table>\n",
       "</div>"
      ],
      "text/plain": [
       "    c/a  unit       scp station       date  dt_entries  dt_exits\n",
       "0  A002  R051  02-00-00   59 ST 2016-04-23       807.0     281.0\n",
       "1  A002  R051  02-00-00   59 ST 2016-04-24       723.0     273.0\n",
       "2  A002  R051  02-00-00   59 ST 2016-04-25      1819.0     504.0\n",
       "3  A002  R051  02-00-00   59 ST 2016-04-26      1677.0     551.0\n",
       "4  A002  R051  02-00-00   59 ST 2016-04-27      1524.0     563.0"
      ]
     },
     "execution_count": 22,
     "metadata": {},
     "output_type": "execute_result"
    }
   ],
   "source": [
    "daily_clean = dt_clean.groupby([\"c/a\", \"unit\", \"scp\", \"station\",\"date\"])[['dt_entries','dt_exits']].sum().reset_index()\n",
    "daily_clean.head()"
   ]
  },
  {
   "cell_type": "markdown",
   "metadata": {},
   "source": [
    "Challenge 6"
   ]
  },
  {
   "cell_type": "code",
   "execution_count": 47,
   "metadata": {
    "collapsed": false,
    "scrolled": true
   },
   "outputs": [
    {
     "data": {
      "text/html": [
       "<div>\n",
       "<table border=\"1\" class=\"dataframe\">\n",
       "  <thead>\n",
       "    <tr style=\"text-align: right;\">\n",
       "      <th></th>\n",
       "      <th>station</th>\n",
       "      <th>linename</th>\n",
       "      <th>date</th>\n",
       "      <th>dt_entries</th>\n",
       "      <th>dt_exits</th>\n",
       "    </tr>\n",
       "  </thead>\n",
       "  <tbody>\n",
       "    <tr>\n",
       "      <th>0</th>\n",
       "      <td>1 AV</td>\n",
       "      <td>L</td>\n",
       "      <td>2016-04-23</td>\n",
       "      <td>15118.0</td>\n",
       "      <td>16101.0</td>\n",
       "    </tr>\n",
       "    <tr>\n",
       "      <th>1</th>\n",
       "      <td>1 AV</td>\n",
       "      <td>L</td>\n",
       "      <td>2016-04-24</td>\n",
       "      <td>17185.0</td>\n",
       "      <td>18620.0</td>\n",
       "    </tr>\n",
       "    <tr>\n",
       "      <th>2</th>\n",
       "      <td>1 AV</td>\n",
       "      <td>L</td>\n",
       "      <td>2016-04-25</td>\n",
       "      <td>20185.0</td>\n",
       "      <td>20866.0</td>\n",
       "    </tr>\n",
       "    <tr>\n",
       "      <th>3</th>\n",
       "      <td>1 AV</td>\n",
       "      <td>L</td>\n",
       "      <td>2016-04-26</td>\n",
       "      <td>21370.0</td>\n",
       "      <td>22508.0</td>\n",
       "    </tr>\n",
       "    <tr>\n",
       "      <th>4</th>\n",
       "      <td>1 AV</td>\n",
       "      <td>L</td>\n",
       "      <td>2016-04-27</td>\n",
       "      <td>22353.0</td>\n",
       "      <td>22682.0</td>\n",
       "    </tr>\n",
       "  </tbody>\n",
       "</table>\n",
       "</div>"
      ],
      "text/plain": [
       "  station linename       date  dt_entries  dt_exits\n",
       "0    1 AV        L 2016-04-23     15118.0   16101.0\n",
       "1    1 AV        L 2016-04-24     17185.0   18620.0\n",
       "2    1 AV        L 2016-04-25     20185.0   20866.0\n",
       "3    1 AV        L 2016-04-26     21370.0   22508.0\n",
       "4    1 AV        L 2016-04-27     22353.0   22682.0"
      ]
     },
     "execution_count": 47,
     "metadata": {},
     "output_type": "execute_result"
    }
   ],
   "source": [
    "daily_stations = dt_clean.groupby(['station','linename','date'])[['dt_entries','dt_exits']].sum().reset_index()\n",
    "daily_stations.head()"
   ]
  },
  {
   "cell_type": "markdown",
   "metadata": {},
   "source": [
    "Challenge 7"
   ]
  },
  {
   "cell_type": "code",
   "execution_count": 48,
   "metadata": {
    "collapsed": false,
    "scrolled": false
   },
   "outputs": [
    {
     "data": {
      "text/plain": [
       "<matplotlib.axes._subplots.AxesSubplot at 0x11add4f60>"
      ]
     },
     "execution_count": 48,
     "metadata": {},
     "output_type": "execute_result"
    },
    {
     "data": {
      "text/plain": [
       "<matplotlib.figure.Figure at 0x11adcad68>"
      ]
     },
     "metadata": {},
     "output_type": "display_data"
    },
    {
     "data": {
      "image/png": "[encoded data removed]",
      "text/plain": [
       "<matplotlib.figure.Figure at 0x106830630>"
      ]
     },
     "metadata": {},
     "output_type": "display_data"
    }
   ],
   "source": [
    "gc_stations = daily_stations[daily_stations['station']=='GRD CNTRL-42 ST']\n",
    "plt.figure(figsize=(10,3))\n",
    "gc_stations.plot(x='date', y='dt_entries')"
   ]
  },
  {
   "cell_type": "markdown",
   "metadata": {},
   "source": [
    "Challenge 8"
   ]
  },
  {
   "cell_type": "code",
   "execution_count": 98,
   "metadata": {
    "collapsed": false
   },
   "outputs": [
    {
     "name": "stderr",
     "output_type": "stream",
     "text": [
      "/Users/bauer/anaconda3/lib/python3.5/site-packages/ipykernel/__main__.py:1: SettingWithCopyWarning: \n",
      "A value is trying to be set on a copy of a slice from a DataFrame.\n",
      "Try using .loc[row_indexer,col_indexer] = value instead\n",
      "\n",
      "See the caveats in the documentation: http://pandas.pydata.org/pandas-docs/stable/indexing.html#indexing-view-versus-copy\n",
      "  if __name__ == '__main__':\n",
      "/Users/bauer/anaconda3/lib/python3.5/site-packages/ipykernel/__main__.py:2: SettingWithCopyWarning: \n",
      "A value is trying to be set on a copy of a slice from a DataFrame.\n",
      "Try using .loc[row_indexer,col_indexer] = value instead\n",
      "\n",
      "See the caveats in the documentation: http://pandas.pydata.org/pandas-docs/stable/indexing.html#indexing-view-versus-copy\n",
      "  from ipykernel import kernelapp as app\n"
     ]
    },
    {
     "data": {
      "text/html": [
       "<div>\n",
       "<table border=\"1\" class=\"dataframe\">\n",
       "  <thead>\n",
       "    <tr style=\"text-align: right;\">\n",
       "      <th></th>\n",
       "      <th>station</th>\n",
       "      <th>linename</th>\n",
       "      <th>date</th>\n",
       "      <th>dt_entries</th>\n",
       "      <th>dt_exits</th>\n",
       "      <th>weekdate</th>\n",
       "      <th>num_weekdate</th>\n",
       "    </tr>\n",
       "  </thead>\n",
       "  <tbody>\n",
       "    <tr>\n",
       "      <th>8644</th>\n",
       "      <td>GRD CNTRL-42 ST</td>\n",
       "      <td>4567S</td>\n",
       "      <td>2016-04-23</td>\n",
       "      <td>47317.0</td>\n",
       "      <td>45615.0</td>\n",
       "      <td>Saturday</td>\n",
       "      <td>5</td>\n",
       "    </tr>\n",
       "    <tr>\n",
       "      <th>8645</th>\n",
       "      <td>GRD CNTRL-42 ST</td>\n",
       "      <td>4567S</td>\n",
       "      <td>2016-04-24</td>\n",
       "      <td>45558.0</td>\n",
       "      <td>40179.0</td>\n",
       "      <td>Sunday</td>\n",
       "      <td>6</td>\n",
       "    </tr>\n",
       "    <tr>\n",
       "      <th>8646</th>\n",
       "      <td>GRD CNTRL-42 ST</td>\n",
       "      <td>4567S</td>\n",
       "      <td>2016-04-25</td>\n",
       "      <td>145878.0</td>\n",
       "      <td>127739.0</td>\n",
       "      <td>Monday</td>\n",
       "      <td>0</td>\n",
       "    </tr>\n",
       "    <tr>\n",
       "      <th>8647</th>\n",
       "      <td>GRD CNTRL-42 ST</td>\n",
       "      <td>4567S</td>\n",
       "      <td>2016-04-26</td>\n",
       "      <td>160398.0</td>\n",
       "      <td>136529.0</td>\n",
       "      <td>Tuesday</td>\n",
       "      <td>1</td>\n",
       "    </tr>\n",
       "    <tr>\n",
       "      <th>8648</th>\n",
       "      <td>GRD CNTRL-42 ST</td>\n",
       "      <td>4567S</td>\n",
       "      <td>2016-04-27</td>\n",
       "      <td>159608.0</td>\n",
       "      <td>137325.0</td>\n",
       "      <td>Wednesday</td>\n",
       "      <td>2</td>\n",
       "    </tr>\n",
       "  </tbody>\n",
       "</table>\n",
       "</div>"
      ],
      "text/plain": [
       "              station linename       date  dt_entries  dt_exits   weekdate  \\\n",
       "8644  GRD CNTRL-42 ST    4567S 2016-04-23     47317.0   45615.0   Saturday   \n",
       "8645  GRD CNTRL-42 ST    4567S 2016-04-24     45558.0   40179.0     Sunday   \n",
       "8646  GRD CNTRL-42 ST    4567S 2016-04-25    145878.0  127739.0     Monday   \n",
       "8647  GRD CNTRL-42 ST    4567S 2016-04-26    160398.0  136529.0    Tuesday   \n",
       "8648  GRD CNTRL-42 ST    4567S 2016-04-27    159608.0  137325.0  Wednesday   \n",
       "\n",
       "      num_weekdate  \n",
       "8644             5  \n",
       "8645             6  \n",
       "8646             0  \n",
       "8647             1  \n",
       "8648             2  "
      ]
     },
     "execution_count": 98,
     "metadata": {},
     "output_type": "execute_result"
    }
   ],
   "source": [
    "gc_stations['weekdate'] = gc_stations['date'].dt.weekday_name\n",
    "gc_stations['num_weekdate'] = gc_stations['date'].dt.dayofweek\n",
    "gc_stations.head()"
   ]
  },
  {
   "cell_type": "code",
   "execution_count": 100,
   "metadata": {
    "collapsed": false
   },
   "outputs": [],
   "source": [
    "gc_stations_1wk = gc_stations[gc_stations['date']<'2016-04-30']\n",
    "gc_stations_2wk = gc_stations[(gc_stations.date >= '2016-04-30') & (gc_stations.date < '2016-05-07')]\n",
    "gc_stations_3wk = gc_stations[(gc_stations.date >= '2016-05-07') & (gc_stations.date < '2016-05-14')]"
   ]
  },
  {
   "cell_type": "code",
   "execution_count": 101,
   "metadata": {
    "collapsed": false
   },
   "outputs": [
    {
     "data": {
      "text/html": [
       "<div>\n",
       "<table border=\"1\" class=\"dataframe\">\n",
       "  <thead>\n",
       "    <tr style=\"text-align: right;\">\n",
       "      <th></th>\n",
       "      <th>station</th>\n",
       "      <th>linename</th>\n",
       "      <th>date</th>\n",
       "      <th>dt_entries</th>\n",
       "      <th>dt_exits</th>\n",
       "      <th>weekdate</th>\n",
       "      <th>num_weekdate</th>\n",
       "    </tr>\n",
       "  </thead>\n",
       "  <tbody>\n",
       "    <tr>\n",
       "      <th>8644</th>\n",
       "      <td>GRD CNTRL-42 ST</td>\n",
       "      <td>4567S</td>\n",
       "      <td>2016-04-23</td>\n",
       "      <td>47317.0</td>\n",
       "      <td>45615.0</td>\n",
       "      <td>Saturday</td>\n",
       "      <td>5</td>\n",
       "    </tr>\n",
       "    <tr>\n",
       "      <th>8645</th>\n",
       "      <td>GRD CNTRL-42 ST</td>\n",
       "      <td>4567S</td>\n",
       "      <td>2016-04-24</td>\n",
       "      <td>45558.0</td>\n",
       "      <td>40179.0</td>\n",
       "      <td>Sunday</td>\n",
       "      <td>6</td>\n",
       "    </tr>\n",
       "    <tr>\n",
       "      <th>8646</th>\n",
       "      <td>GRD CNTRL-42 ST</td>\n",
       "      <td>4567S</td>\n",
       "      <td>2016-04-25</td>\n",
       "      <td>145878.0</td>\n",
       "      <td>127739.0</td>\n",
       "      <td>Monday</td>\n",
       "      <td>0</td>\n",
       "    </tr>\n",
       "    <tr>\n",
       "      <th>8647</th>\n",
       "      <td>GRD CNTRL-42 ST</td>\n",
       "      <td>4567S</td>\n",
       "      <td>2016-04-26</td>\n",
       "      <td>160398.0</td>\n",
       "      <td>136529.0</td>\n",
       "      <td>Tuesday</td>\n",
       "      <td>1</td>\n",
       "    </tr>\n",
       "    <tr>\n",
       "      <th>8648</th>\n",
       "      <td>GRD CNTRL-42 ST</td>\n",
       "      <td>4567S</td>\n",
       "      <td>2016-04-27</td>\n",
       "      <td>159608.0</td>\n",
       "      <td>137325.0</td>\n",
       "      <td>Wednesday</td>\n",
       "      <td>2</td>\n",
       "    </tr>\n",
       "  </tbody>\n",
       "</table>\n",
       "</div>"
      ],
      "text/plain": [
       "              station linename       date  dt_entries  dt_exits   weekdate  \\\n",
       "8644  GRD CNTRL-42 ST    4567S 2016-04-23     47317.0   45615.0   Saturday   \n",
       "8645  GRD CNTRL-42 ST    4567S 2016-04-24     45558.0   40179.0     Sunday   \n",
       "8646  GRD CNTRL-42 ST    4567S 2016-04-25    145878.0  127739.0     Monday   \n",
       "8647  GRD CNTRL-42 ST    4567S 2016-04-26    160398.0  136529.0    Tuesday   \n",
       "8648  GRD CNTRL-42 ST    4567S 2016-04-27    159608.0  137325.0  Wednesday   \n",
       "\n",
       "      num_weekdate  \n",
       "8644             5  \n",
       "8645             6  \n",
       "8646             0  \n",
       "8647             1  \n",
       "8648             2  "
      ]
     },
     "execution_count": 101,
     "metadata": {},
     "output_type": "execute_result"
    }
   ],
   "source": [
    "gc_stations_1wk.head()"
   ]
  },
  {
   "cell_type": "code",
   "execution_count": 141,
   "metadata": {
    "collapsed": false
   },
   "outputs": [],
   "source": [
    "week1_count_list = gc_stations_1wk[['num_weekdate','dt_entries']].sort_values(['num_weekdate'], ascending=True).groupby([\"num_weekdate\"])[['dt_entries']].sum()\n",
    "week2_count_list = gc_stations_2wk[['num_weekdate','dt_entries']].sort_values(['num_weekdate'], ascending=True).groupby([\"num_weekdate\"])[['dt_entries']].sum()\n",
    "week3_count_list = gc_stations_3wk[['num_weekdate','dt_entries']].sort_values(['num_weekdate'], ascending=True).groupby([\"num_weekdate\"])[['dt_entries']].sum()"
   ]
  },
  {
   "cell_type": "code",
   "execution_count": 149,
   "metadata": {
    "collapsed": false
   },
   "outputs": [
    {
     "data": {
      "text/plain": [
       "([<matplotlib.axis.XTick at 0x11b091550>,\n",
       "  <matplotlib.axis.XTick at 0x11b0b1860>,\n",
       "  <matplotlib.axis.XTick at 0x11b003470>,\n",
       "  <matplotlib.axis.XTick at 0x11b62d630>,\n",
       "  <matplotlib.axis.XTick at 0x11b632080>,\n",
       "  <matplotlib.axis.XTick at 0x11b632a90>,\n",
       "  <matplotlib.axis.XTick at 0x11b6374e0>],\n",
       " <a list of 7 Text xticklabel objects>)"
      ]
     },
     "execution_count": 149,
     "metadata": {},
     "output_type": "execute_result"
    },
    {
     "data": {
      "image/png": "[encoded data removed]",
      "text/plain": [
       "<matplotlib.figure.Figure at 0x11b030630>"
      ]
     },
     "metadata": {},
     "output_type": "display_data"
    }
   ],
   "source": [
    "plt.plot(week1_count_list)\n",
    "plt.plot(week2_count_list)\n",
    "plt.plot(week3_count_list)\n",
    "labels = ['Monday', 'Tuesday', 'Wednesday', 'Thursday', 'Friday', 'Saturday', 'Sunday']\n",
    "plt.xticks(week1_count_list.index[:], labels, rotation='vertical')"
   ]
  },
  {
   "cell_type": "markdown",
   "metadata": {},
   "source": [
    "Challenge 9"
   ]
  },
  {
   "cell_type": "code",
   "execution_count": 160,
   "metadata": {
    "collapsed": false
   },
   "outputs": [
    {
     "data": {
      "text/html": [
       "<div>\n",
       "<table border=\"1\" class=\"dataframe\">\n",
       "  <thead>\n",
       "    <tr style=\"text-align: right;\">\n",
       "      <th></th>\n",
       "      <th>station</th>\n",
       "      <th>linename</th>\n",
       "      <th>dt_entries</th>\n",
       "      <th>dt_exits</th>\n",
       "    </tr>\n",
       "  </thead>\n",
       "  <tbody>\n",
       "    <tr>\n",
       "      <th>309</th>\n",
       "      <td>GRD CNTRL-42 ST</td>\n",
       "      <td>4567S</td>\n",
       "      <td>3637206.0</td>\n",
       "      <td>3184755.0</td>\n",
       "    </tr>\n",
       "    <tr>\n",
       "      <th>90</th>\n",
       "      <td>34 ST-HERALD SQ</td>\n",
       "      <td>BDFMNQR</td>\n",
       "      <td>3065851.0</td>\n",
       "      <td>2893063.0</td>\n",
       "    </tr>\n",
       "    <tr>\n",
       "      <th>103</th>\n",
       "      <td>42 ST-PORT AUTH</td>\n",
       "      <td>ACENQRS1237</td>\n",
       "      <td>2273033.0</td>\n",
       "      <td>1522926.0</td>\n",
       "    </tr>\n",
       "    <tr>\n",
       "      <th>442</th>\n",
       "      <td>TIMES SQ-42 ST</td>\n",
       "      <td>1237ACENQRS</td>\n",
       "      <td>2191342.0</td>\n",
       "      <td>1827934.0</td>\n",
       "    </tr>\n",
       "    <tr>\n",
       "      <th>94</th>\n",
       "      <td>34 ST-PENN STA</td>\n",
       "      <td>ACE</td>\n",
       "      <td>1990058.0</td>\n",
       "      <td>2361157.0</td>\n",
       "    </tr>\n",
       "  </tbody>\n",
       "</table>\n",
       "</div>"
      ],
      "text/plain": [
       "             station     linename  dt_entries   dt_exits\n",
       "309  GRD CNTRL-42 ST        4567S   3637206.0  3184755.0\n",
       "90   34 ST-HERALD SQ      BDFMNQR   3065851.0  2893063.0\n",
       "103  42 ST-PORT AUTH  ACENQRS1237   2273033.0  1522926.0\n",
       "442   TIMES SQ-42 ST  1237ACENQRS   2191342.0  1827934.0\n",
       "94    34 ST-PENN STA          ACE   1990058.0  2361157.0"
      ]
     },
     "execution_count": 160,
     "metadata": {},
     "output_type": "execute_result"
    }
   ],
   "source": [
    "station_totals = dt_clean.sort_values(['dt_entries'], ascending=False)\n",
    "station_totals= station_totals.groupby(['station','linename'])[['dt_entries','dt_exits']].sum().reset_index()\n",
    "station_totals = station_totals.sort_values(['dt_entries'], ascending=False)\n",
    "\n",
    "station_totals.head()"
   ]
  },
  {
   "cell_type": "markdown",
   "metadata": {},
   "source": [
    "Challenge 10"
   ]
  },
  {
   "cell_type": "code",
   "execution_count": 161,
   "metadata": {
    "collapsed": false
   },
   "outputs": [
    {
     "data": {
      "text/plain": [
       "(array([ 346.,   88.,   21.,    6.,    3.,    2.,    2.,    0.,    1.,    1.]),\n",
       " array([  1.20000000e+01,   3.63731400e+05,   7.27450800e+05,\n",
       "          1.09117020e+06,   1.45488960e+06,   1.81860900e+06,\n",
       "          2.18232840e+06,   2.54604780e+06,   2.90976720e+06,\n",
       "          3.27348660e+06,   3.63720600e+06]),\n",
       " <a list of 10 Patch objects>)"
      ]
     },
     "execution_count": 161,
     "metadata": {},
     "output_type": "execute_result"
    },
    {
     "data": {
      "image/png": "[encoded data removed]",
      "text/plain": [
       "<matplotlib.figure.Figure at 0x11b524a90>"
      ]
     },
     "metadata": {},
     "output_type": "display_data"
    }
   ],
   "source": [
    "total_ridership_counts = station_totals['dt_entries']\n",
    "plt.hist(total_ridership_counts)"
   ]
  },
  {
   "cell_type": "code",
   "execution_count": 162,
   "metadata": {
    "collapsed": false
   },
   "outputs": [
    {
     "ename": "NameError",
     "evalue": "name 'total_ridership_values' is not defined",
     "output_type": "error",
     "traceback": [
      "\u001b[0;31m---------------------------------------------------------------------------\u001b[0m",
      "\u001b[0;31mNameError\u001b[0m                                 Traceback (most recent call last)",
      "\u001b[0;32m<ipython-input-162-d8f8cb116150>\u001b[0m in \u001b[0;36m<module>\u001b[0;34m()\u001b[0m\n\u001b[0;32m----> 1\u001b[0;31m \u001b[0mindices\u001b[0m \u001b[0;34m=\u001b[0m \u001b[0mrange\u001b[0m\u001b[0;34m(\u001b[0m\u001b[0mlen\u001b[0m\u001b[0;34m(\u001b[0m\u001b[0mtotal_ridership_values\u001b[0m\u001b[0;34m)\u001b[0m\u001b[0;34m)\u001b[0m\u001b[0;34m\u001b[0m\u001b[0m\n\u001b[0m\u001b[1;32m      2\u001b[0m \u001b[0mplt\u001b[0m\u001b[0;34m.\u001b[0m\u001b[0mbar\u001b[0m\u001b[0;34m(\u001b[0m\u001b[0mindices\u001b[0m\u001b[0;34m,\u001b[0m \u001b[0mtotal_ridership_values\u001b[0m\u001b[0;34m)\u001b[0m\u001b[0;34m\u001b[0m\u001b[0m\n",
      "\u001b[0;31mNameError\u001b[0m: name 'total_ridership_values' is not defined"
     ]
    }
   ],
   "source": []
  },
  {
   "cell_type": "code",
   "execution_count": null,
   "metadata": {
    "collapsed": true
   },
   "outputs": [],
   "source": []
  },
  {
   "cell_type": "code",
   "execution_count": null,
   "metadata": {
    "collapsed": true
   },
   "outputs": [],
   "source": []
  },
  {
   "cell_type": "code",
   "execution_count": null,
   "metadata": {
    "collapsed": false
   },
   "outputs": [],
   "source": []
  },
  {
   "cell_type": "code",
   "execution_count": null,
   "metadata": {
    "collapsed": false
   },
   "outputs": [],
   "source": []
  },
  {
   "cell_type": "code",
   "execution_count": null,
   "metadata": {
    "collapsed": false
   },
   "outputs": [],
   "source": []
  },
  {
   "cell_type": "code",
   "execution_count": null,
   "metadata": {
    "collapsed": false
   },
   "outputs": [],
   "source": []
  },
  {
   "cell_type": "code",
   "execution_count": null,
   "metadata": {
    "collapsed": true
   },
   "outputs": [],
   "source": []
  },
  {
   "cell_type": "code",
   "execution_count": null,
   "metadata": {
    "collapsed": false
   },
   "outputs": [],
   "source": []
  },
  {
   "cell_type": "code",
   "execution_count": null,
   "metadata": {
    "collapsed": true
   },
   "outputs": [],
   "source": []
  },
  {
   "cell_type": "code",
   "execution_count": null,
   "metadata": {
    "collapsed": false
   },
   "outputs": [],
   "source": []
  },
  {
   "cell_type": "code",
   "execution_count": null,
   "metadata": {
    "collapsed": false
   },
   "outputs": [],
   "source": []
  },
  {
   "cell_type": "code",
   "execution_count": null,
   "metadata": {
    "collapsed": true
   },
   "outputs": [],
   "source": []
  },
  {
   "cell_type": "code",
   "execution_count": null,
   "metadata": {
    "collapsed": true
   },
   "outputs": [],
   "source": []
  }
 ],
 "metadata": {
  "anaconda-cloud": {},
  "kernelspec": {
   "display_name": "Python [default]",
   "language": "python",
   "name": "python3"
  },
  "language_info": {
   "codemirror_mode": {
    "name": "ipython",
    "version": 3
   },
   "file_extension": ".py",
   "mimetype": "text/x-python",
   "name": "python",
   "nbconvert_exporter": "python",
   "pygments_lexer": "ipython3",
   "version": "3.5.2"
  }
 },
 "nbformat": 4,
 "nbformat_minor": 1
}
