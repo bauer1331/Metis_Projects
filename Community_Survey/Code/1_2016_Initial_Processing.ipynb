{
 "cells": [
  {
   "cell_type": "markdown",
   "metadata": {},
   "source": [
    "# Table of Contents  \n",
    "\n",
    "## Initial Processing\n",
    "\n",
    "[Import Packages](#Import-Packages)  \n",
    "[Load File](#Load-File)  \n",
    "[Column Names](#Column-Names)  \n",
    "[Initial Prep](#Initial-Prep)  \n",
    "[Correct Age](#Correct-Age)  \n",
    "[Parse Checkboxes](#Parse-Checkboxes)  \n",
    "[Process Dummy Variables](#Process-Dummy-Variables)  \n",
    "[Likert to Integer](#Likert-to-Integer)  \n",
    "\n",
    "\n",
    "## Data Filtering  \n",
    "[Filter Data](#Filter-Data)  \n",
    "[Jokes](#Jokes)  \n",
    "[Duplicates](#Duplicates)\n",
    "\n",
    "## Write in Backcoding (TBD)\n",
    "\n",
    "[Export Data](#Export-Data)\n"
   ]
  },
  {
   "cell_type": "markdown",
   "metadata": {},
   "source": [
    "# Initial Processing"
   ]
  },
  {
   "cell_type": "markdown",
   "metadata": {},
   "source": [
    "### Import Packages\n",
    "[Table of Contents](#Table-of-Contents)"
   ]
  },
  {
   "cell_type": "code",
   "execution_count": 2,
   "metadata": {
    "collapsed": true
   },
   "outputs": [],
   "source": [
    "import pandas as pd\n",
    "import copy\n",
    "import numpy as np\n",
    "\n",
    "from seaborn import plt\n",
    "%matplotlib inline\n",
    "\n",
    "import pickle"
   ]
  },
  {
   "cell_type": "markdown",
   "metadata": {},
   "source": [
    "### Load File\n",
    "[Table of Contents](#Table-of-Contents)"
   ]
  },
  {
   "cell_type": "code",
   "execution_count": 3,
   "metadata": {
    "collapsed": false
   },
   "outputs": [],
   "source": [
    "rawData = pd.read_csv('/Users/bauer/Ace/acegh/avenCensus/2016Analysis/Data_Prep/Ace_Community_Census_2016_Responses.csv')"
   ]
  },
  {
   "cell_type": "markdown",
   "metadata": {},
   "source": [
    "#### Column Names"
   ]
  },
  {
   "cell_type": "code",
   "execution_count": 4,
   "metadata": {
    "collapsed": false
   },
   "outputs": [
    {
     "data": {
      "text/html": [
       "<div>\n",
       "<table border=\"1\" class=\"dataframe\">\n",
       "  <thead>\n",
       "    <tr style=\"text-align: right;\">\n",
       "      <th></th>\n",
       "      <th>timestamp</th>\n",
       "      <th>year</th>\n",
       "      <th>month</th>\n",
       "      <th>education</th>\n",
       "      <th>student</th>\n",
       "      <th>religion</th>\n",
       "      <th>religionOther</th>\n",
       "      <th>raceDesc</th>\n",
       "      <th>raceCB</th>\n",
       "      <th>nationality</th>\n",
       "      <th>...</th>\n",
       "      <th>sexPolitics</th>\n",
       "      <th>sexAttitude</th>\n",
       "      <th>findSurvey</th>\n",
       "      <th>feedback</th>\n",
       "      <th>outResponceLong</th>\n",
       "      <th>discrimLong</th>\n",
       "      <th>aceSupportLong</th>\n",
       "      <th>allySupportLong</th>\n",
       "      <th>questions</th>\n",
       "      <th>stories</th>\n",
       "    </tr>\n",
       "  </thead>\n",
       "  <tbody>\n",
       "    <tr>\n",
       "      <th>0</th>\n",
       "      <td>10/23/2016 18:57:01</td>\n",
       "      <td>1995.0</td>\n",
       "      <td>July</td>\n",
       "      <td>Some college (no degree yet)</td>\n",
       "      <td>Yes, in an undergraduate program</td>\n",
       "      <td>Agnostic</td>\n",
       "      <td>NaN</td>\n",
       "      <td>White</td>\n",
       "      <td>White or of European Descent</td>\n",
       "      <td>United States of America</td>\n",
       "      <td>...</td>\n",
       "      <td>Sex-neutral</td>\n",
       "      <td>I believe that sex is neither negative nor pos...</td>\n",
       "      <td>AVEN (English)</td>\n",
       "      <td>NaN</td>\n",
       "      <td>I only tell people who seem familiar with or a...</td>\n",
       "      <td>No</td>\n",
       "      <td>NaN</td>\n",
       "      <td>NaN</td>\n",
       "      <td>NaN</td>\n",
       "      <td>NaN</td>\n",
       "    </tr>\n",
       "    <tr>\n",
       "      <th>1</th>\n",
       "      <td>10/23/2016 19:35:35</td>\n",
       "      <td>1998.0</td>\n",
       "      <td>September</td>\n",
       "      <td>Less than high school</td>\n",
       "      <td>Yes, in high school</td>\n",
       "      <td>Roman Catholic</td>\n",
       "      <td>NaN</td>\n",
       "      <td>White American</td>\n",
       "      <td>White or of European Descent</td>\n",
       "      <td>United Kingdom</td>\n",
       "      <td>...</td>\n",
       "      <td>Sex-neutral</td>\n",
       "      <td>I believe that sex is neither negative nor pos...</td>\n",
       "      <td>Tumblr</td>\n",
       "      <td>NaN</td>\n",
       "      <td>NaN</td>\n",
       "      <td>NaN</td>\n",
       "      <td>NaN</td>\n",
       "      <td>NaN</td>\n",
       "      <td>NaN</td>\n",
       "      <td>NaN</td>\n",
       "    </tr>\n",
       "  </tbody>\n",
       "</table>\n",
       "<p>2 rows × 166 columns</p>\n",
       "</div>"
      ],
      "text/plain": [
       "             timestamp    year      month                     education  \\\n",
       "0  10/23/2016 18:57:01  1995.0       July  Some college (no degree yet)   \n",
       "1  10/23/2016 19:35:35  1998.0  September         Less than high school   \n",
       "\n",
       "                            student        religion religionOther  \\\n",
       "0  Yes, in an undergraduate program        Agnostic           NaN   \n",
       "1               Yes, in high school  Roman Catholic           NaN   \n",
       "\n",
       "         raceDesc                        raceCB               nationality  \\\n",
       "0           White  White or of European Descent  United States of America   \n",
       "1  White American  White or of European Descent            United Kingdom   \n",
       "\n",
       "    ...    sexPolitics                                        sexAttitude  \\\n",
       "0   ...    Sex-neutral  I believe that sex is neither negative nor pos...   \n",
       "1   ...    Sex-neutral  I believe that sex is neither negative nor pos...   \n",
       "\n",
       "       findSurvey feedback                                    outResponceLong  \\\n",
       "0  AVEN (English)      NaN  I only tell people who seem familiar with or a...   \n",
       "1          Tumblr      NaN                                                NaN   \n",
       "\n",
       "  discrimLong aceSupportLong allySupportLong questions stories  \n",
       "0          No            NaN             NaN       NaN     NaN  \n",
       "1         NaN            NaN             NaN       NaN     NaN  \n",
       "\n",
       "[2 rows x 166 columns]"
      ]
     },
     "execution_count": 4,
     "metadata": {},
     "output_type": "execute_result"
    }
   ],
   "source": [
    "questions = copy.deepcopy(rawData.columns)\n",
    "questionAbb = [\"timestamp\",\n",
    "    # --------------------------- Demographics -------------------------------------------------------\n",
    "    \"year\",\"month\",\"education\",\"student\",\"religion\",\"religionOther\",\"raceDesc\",\"raceCB\", \"nationality\",\n",
    "    # --------------------------- Race by region -------------------------------------------------------\n",
    "    \"USRegion\",\"USHispanic\",\"USRace\",\n",
    "    \"UKRegion\",\"UKNationality\",\"UKWhite\",\"UKMixed\",\"UKAsian\",\"UKBlack\",\"UKOther\",\n",
    "    \"CanadaRace\",\"CanadaRegion\",\n",
    "    \"countryOther\",\n",
    "    # --------------------------- Gender -------------------------------------------------------\n",
    "    \"gender\",\"nonbinaryCB\",\"trans\",\"asab\",\n",
    "    # --------------------------- Sexual orientation labels -------------------------------------------------------\n",
    "    \"aceID\",\"priorAceCB\", \"queer\", \"nonAceID\", \"stGayBi\", \"sexualityID\",\n",
    "    # --------------------------- Ace identity questions ---------------------------\n",
    "    \"firstHear\",\"firstID\",\"firstOutAce\", \"firstOutNonAce\",\n",
    "    \"outPartners\",\"outSiblings\",\"outParents\",\"outOtherFam\", \"outHet\",\"outNonHet\",\n",
    "    \"outAcquaintances\",\"outClassmates\",\"outCoworkers\", \"outCounselor\", \"outMedical\",     \n",
    "    # --------------------------- Romantic orientation ---------------------------\n",
    "    \"romanticIDCB\",\"romanticGenderCB\", \"otherAttractCB\", \n",
    "    # --------------------------- Relationships ---------------------------\n",
    "    \"partnered\",\"sigRelationship\",\"romPartner\",\"nonRomPartner\",\"acePartner\",\"nonAcePartner\",\"poly\",\n",
    "    # --------------------------- Sexual violence ---------------------------\n",
    "    \"skipViolence\",\n",
    "    \"nonConsensual\",\"socialPressure\",\"assault\",\n",
    "    \"firstViolence\",\"lastViolence\",\"perpsCB\",\n",
    "    # --------------------------- Consensual sex ---------------------------\n",
    "    \"conSex\",\"firstConSex\",\"lastConSex\", \"sexReasonsCB\", \"sexDrive\",\n",
    "    # --------------------------- Health ---------------------------\n",
    "    \"disabled\", \"chronicallyIll\", \"physDisabled\", \"cogDisabled\", \"mentallyIll\", \"Neurod\", \"adhd\",\n",
    "    \"anxiety\", \"autism\", \"depressed\", \"ed\", \"hsdd\", \"personalityD\", \"schizoid\", \"vaginismus\", \n",
    "    \"suicideConsider\", \"suicideAttempt\", \n",
    "    # --------------------------- Substances ---------------------------\n",
    "    \"alcohol\", \"tobacco\", \"weed\", \"drugsRecRX\", \"drugsOther\", \"drugsInject\",\n",
    "    # --------------------------- Negative Experiences ---------------------------\n",
    "               #   Sexual Orientaion\n",
    "     \"harassVerbalSO\", \"harassOnlineSO\", \"harassPhysicalSO\", \n",
    "    \"getHousingDiffSO\", \"getJobDiffSO\", \"getMHealthDiffSO\", \"getOHealthDiffSO\", \n",
    "    \"excludedSO\", \"lossFinancialSO\", \"fixYouSO\", \"famRejectionSO\", \n",
    "               #   Trans Gender Non-Conforming\n",
    "     \"harassVerbalGen\", \"harassOnlineGen\", \"harassPhysicalGen\", \n",
    "    \"getHousingDiffGen\", \"getJobDiffGen\", \"getMHealthDiffGen\", \"getOHealthDiffGen\", \n",
    "    \"excludedGen\", \"lossFinancialGen\", \"fixYouGen\", \"famRejectionGen\", \n",
    "    \"negExperLong\",\n",
    "    # --------------------------- Discrimination Impact ---------------------------\n",
    "    \"negExProf\", \"negExSocial\", \"negExHousing\", \"negExFam\", \"negExMHealth\", \"negExPHealth\",\n",
    "    # --------------------------- Communities ---------------------------\n",
    "    \"firstParticipate\", \"firstParticAge\", \n",
    "    \"readAven\",\"readAlt\",\"readTumblr\",\"readLj\",\"readBlogs\",\"readFb\",\n",
    "    \"readTwitter\",\"readReddit\",\"readYoutube\",\"readMeetup\", \"readChat\",\n",
    "    \"postAven\",\"postAlt\",\"postTumblr\",\"postLj\",\"postBlogs\",\"postFb\",\n",
    "    \"postTwitter\",\"postReddit\",\"postYoutube\",\"postMeetup\", \"postChat\",\n",
    "    \"metOffline\", \"offlineGroup\",\"otherCommunity\",\n",
    "    \"participateReasonCB\", \"notParticipateReasonCB\", \n",
    "    # --------------------------- LGBTQ+ ---------------------------\n",
    "    \"lastLGBTQPartic\",\"lgbtqExp\", \"lgbtqInclusion\", #\"lgbtq\",\"lgbtqReason\",\"lgbtqCommunity\",\n",
    "    # --------------------------- sexual politics and attitudes ---------------------------\n",
    "    \"sexDisposition\",\"sexDiminish\",\"sexPolitics\",\"sexAttitude\",\n",
    "    # --------------------------- Meta ---------------------------\n",
    "    \"findSurvey\",\"feedback\",\n",
    "    \"outResponceLong\", \"discrimLong\", \"aceSupportLong\", \"allySupportLong\", \"questions\", \"stories\",\n",
    "    ]\n",
    "\n",
    "rawData.columns = questionAbb\n",
    "rawData.head(2)"
   ]
  },
  {
   "cell_type": "code",
   "execution_count": 5,
   "metadata": {
    "collapsed": false
   },
   "outputs": [
    {
     "data": {
      "text/plain": [
       "Index(['Timestamp', 'In which year were you born?',\n",
       "       'In which month were you born?',\n",
       "       'What is your highest completed level of education?',\n",
       "       'Are you currently a student?', 'What is your religious preference?',\n",
       "       'If you would like to be more specific about your religious preference, please specify below. ',\n",
       "       'In your own words, how would you describe your race and or ethnicity?',\n",
       "       'Do you identify with any of the following racial/ethnic categories?',\n",
       "       'Please select the country in which you live. ',\n",
       "       ...\n",
       "       'Do you consider yourself sex-positive, sex-neutral or sex-negative, when it comes to sex in general (i.e. other people having sex)?',\n",
       "       'Which of the following statements do you MOST agree with?',\n",
       "       'Where did you find this survey?', 'Feedback (optional)',\n",
       "       'Do you tell other people about your asexuality? How have they responded, and how did you feel about those responses?',\n",
       "       'Have you ever experienced prejudice or discrimination as a result of your a/sexuality? What happened?',\n",
       "       'What kind of support or services do you most need from ace communities?',\n",
       "       'What kind of support or services do you most need from non-ace allies?',\n",
       "       'What unanswered questions do you have about the demographics, behaviors, or attitudes of aces and ace communities?',\n",
       "       'Are there any other stories or statements you would like to share?'],\n",
       "      dtype='object', length=166)"
      ]
     },
     "execution_count": 5,
     "metadata": {},
     "output_type": "execute_result"
    }
   ],
   "source": [
    "questions"
   ]
  },
  {
   "cell_type": "markdown",
   "metadata": {},
   "source": [
    "### Initial Prep\n",
    "[Table of Contents](#Table-of-Contents)"
   ]
  },
  {
   "cell_type": "code",
   "execution_count": 6,
   "metadata": {
    "collapsed": false
   },
   "outputs": [],
   "source": [
    "# convert timestamps to appropriate object type\n",
    "rawData['timestamp'] = pd.to_datetime(rawData['timestamp'], format=\"%m/%d/%Y %H:%M:%S\")\n",
    "# sort respondents chronologically\n",
    "rawData = rawData.sort_values([\"timestamp\"],ascending=True)"
   ]
  },
  {
   "cell_type": "code",
   "execution_count": 7,
   "metadata": {
    "collapsed": false
   },
   "outputs": [
    {
     "data": {
      "text/plain": [
       "42"
      ]
     },
     "execution_count": 7,
     "metadata": {},
     "output_type": "execute_result"
    }
   ],
   "source": [
    "len(rawData[(rawData.ix[:,'firstID'] + rawData.ix[:,\"year\"] > 2016)])"
   ]
  },
  {
   "cell_type": "markdown",
   "metadata": {},
   "source": [
    "### Correct Age\n",
    "[Table of Contents](#Table-of-Contents)"
   ]
  },
  {
   "cell_type": "code",
   "execution_count": 8,
   "metadata": {
    "collapsed": true
   },
   "outputs": [],
   "source": [
    "def correctAge(question,minValue):\n",
    "    #First convert ages to years or vice versa\n",
    "    badAge = rawData[(rawData.ix[:,question] + rawData.ix[:,\"year\"] > 2016) & (pd.notnull(rawData.ix[:,question]))] \n",
    "    rawData.ix[badAge.index,question] = rawData.ix[badAge.index,question] - rawData.ix[badAge.index,\"year\"]\n",
    "    \n",
    "    #If ages are still greater than the current age, then toss it\n",
    "    badAge = rawData[((rawData.ix[:,question] > 100) | (rawData.ix[:,question] + rawData.ix[:,\"year\"] > 2015)) & (pd.notnull(rawData.ix[:,question])) ]\n",
    "    rawData.ix[badAge.index,question] = np.nan\n",
    "    \n",
    "    #Data below minValue should be tossed (minValue should be at least 1)\n",
    "    badAge = rawData[( rawData.ix[:,question] < minValue) & (pd.notnull(rawData.ix[:,question]) )]\n",
    "    rawData.ix[badAge.index,question] = np.nan\n",
    "    return rawData"
   ]
  },
  {
   "cell_type": "code",
   "execution_count": 9,
   "metadata": {
    "collapsed": false
   },
   "outputs": [],
   "source": [
    "#correct ages\n",
    "agesCorrect = [(\"firstID\",5), (\"firstOutAce\",5),(\"firstOutNonAce\",5), (\"firstViolence\",1), (\"lastViolence\",1), \n",
    "               (\"firstConSex\",5), (\"lastConSex\",5),(\"firstParticAge\",5) ]\n",
    "for i in agesCorrect:\n",
    "    correctAge(*i)"
   ]
  },
  {
   "cell_type": "markdown",
   "metadata": {},
   "source": [
    "### Parse Checkboxes\n",
    "[Table of Contents](#Table-of-Contents)"
   ]
  },
  {
   "cell_type": "markdown",
   "metadata": {},
   "source": [
    "**ParseCheckBox** is a function that does many of the same things as Siggy's parse check box function in R - with a few things to be added later. \n",
    "\n",
    "##### Dummy Variable Explanation\n",
    "Its main function is to create individual columns for each checkbox answer. Since checkbox questions allow people to pick more than one answer, each respondent may have a varying number of answers and we need to parse them out. The way to do that is with dummy variables - which takes each response option and creates its own column with a list of 0 and 1's where 1 means someone checked the box and 0 means someone did not. If someone did not check any boxes then it  will result in an NaN, or \"not a number.\" This parsing will additionally create columns for those who did answer at all, they are named with the suffix NaN.  \n",
    "\n",
    "##### Dummy Variable Naming Convention\n",
    "Column names for each set of dummy variables have the same prefix so that it is easier to tell that they are all from the same question. For example each race column starts with \"race,\" while each US race question starts with \"USRace.\"\n",
    "\n",
    "##### Parsing function notes:  \n",
    "The function first takes out the explanitory text between the parentheses, such as in:  \n",
    "        >Aboriginal (North American Indian, Metis, or Inuit (Eskimo), etc.)\n",
    "Here we do not need the explanation to be included in a column name, but more importantly each comma will split into a dummy variable - so the commas within the two parentheses will create additional dummy variables we do not need most notably a column named \"etc.)\"  \n",
    "Next the function removes spaces, then makes all text lower case. \n",
    "\n",
    "##### Survey processing vs. Bauer's project notes\n",
    "The next section gets each dummy variable's column sum, removes any column that has less than 5 responses - this eliminates *most* write in answers, but not all, and also Canadian race for West Asian, all other non-write in responses seem to have more than 5 responses. I have found this to be very helpful, but possibly not what we want for the survey. \n",
    "\n",
    "##### Funtion Returns\n",
    "A dataframe of dummy variables is returned for one check box column."
   ]
  },
  {
   "cell_type": "code",
   "execution_count": 10,
   "metadata": {
    "collapsed": false
   },
   "outputs": [],
   "source": [
    "def parseCheckBox(question):\n",
    "    temp = rawData[question]\n",
    "    #remove () explanitory text\n",
    "    temp = temp.str.replace(r'\\([^)]*\\)', '')\n",
    "    #remove spaces\n",
    "    temp=temp.str.replace(r'[ ]', '')\n",
    "    #make all text lowercase and strip spaces as a double check\n",
    "    temp = pd.Series([str.lower(str(i)).strip() for i in temp])\n",
    "\n",
    "    #create dummy variables for all answers within a column\n",
    "    temp = temp.str.get_dummies(sep=',') \n",
    "    \n",
    "    #get column sums\n",
    "    temp_sums = pd.DataFrame.sum(temp)\n",
    "    #get the column indexes for columns with more than 5 respones\n",
    "    fiveup = [temp_sums.index[i] for i in range(len(temp_sums.index)) if temp_sums[i]>5.0]\n",
    "    #only keep column sums with more than 5 respones\n",
    "    fiveup = temp[fiveup]\n",
    "    #replaces NaN's with 0's. This can be changed or left as NaN. Soemtimes NaN's create trouble\n",
    "    #in other functions, and either way there is a column for NaNs, such as RaceNaN to refer to.\n",
    "    for i in fiveup:\n",
    "        fiveup[i].fillna(0, inplace=True)\n",
    "    if question == 'raceCB':\n",
    "        fiveup.columns = ['raceAbAust','raceAsianEast','raceAsianSouthE','raceAsianSouth','raceAsianWest',\n",
    "                    'raceBlackAf','raceBlackCarib','raceBlackDias', 'raceBrown','raceHispanic','raceJewish',\n",
    "                    'raceLatinx','raceMidEast', 'raceMixed','raceNaN','raceNo','raceNorthAfr','raceNorthAmerNative',\n",
    "                    'racePacificIslPol','raceSouthCentAmerNative','raceWhiteOrEuropean']\n",
    "    if question == 'USRace':\n",
    "        fiveup.columns = ['USRaceNatAmAlask', 'USRaceAsianInd', 'USRaceBlack',\n",
    "                    'USRaceChine', 'USRaceFilip', 'USRaceHisp', 'USRaceJap', 'USRaceJewish', \n",
    "                    'USRaceKorean','USRaceLatinx', 'USRaceMex', 'USRaceMidEast', 'USRaceMixed', 'USRaceNaN', \n",
    "                    'USRaceNatHawaii','USRaceOthAsian', 'USRaceOthPacIsl', 'USRaceViet', 'USRaceWhite']\n",
    "    if question == 'CanadaRace':\n",
    "        fiveup = fiveup.drop(['etc.)'],1)\n",
    "        fiveup.columns = ['CanRaceAbor', 'CanRaceArab', 'CanRaceBlack', 'CanRaceChinese', 'CanRacefilipino',\n",
    "                    'CanRaceLatAmer', 'CanRaceNaN', 'CanRaceSAsian', 'CanRaceSEAsian', 'CanRaceWhite']\n",
    "    if question == 'nonbinaryCB':\n",
    "        fiveup.columns = ['nbAgender', 'nbAgenderflux', 'nbAndrogynous', 'nbBigender', 'nbDemigirl',\n",
    "                   'nbDemiguy', 'nbGenderfluid', 'nbGenderflux', 'nbGenderqueer', 'nbGendervague',\n",
    "                   'nbGendervoid', 'nbmanMale', 'nbMaverique', 'nbNaN', 'nbNeutrois', 'nbNogender',\n",
    "                   'nbNonbinary', 'nbUnsure', 'nbtrans', 'nbtransMasc','nbwomanFemale']\n",
    "    if question == 'priorAceCB':\n",
    "        fiveup.columns = ['priorAsex', 'priorDemi', 'priorGray', 'priorNaN', 'priorNo','priorQuestioning']\n",
    "    if question == \"romanticIDCB\":\n",
    "        fiveup.columns = ['romAndro', 'romAroflux', 'romAro', 'romBi', 'romCupio',\n",
    "                   'romDemi', 'romGray', 'romGyno','romHetero', 'romHomo', 'romUnfamiliar',\n",
    "                   'romNotIdentify', 'romLesbian', 'romLith', 'romNaN','romPanPoly', 'romQueer', \n",
    "                    'romUnsure','romSapio', 'romWTFQuoi']\n",
    "    if question == \"romanticGenderCB\":\n",
    "        fiveup.columns = ['romAttrMen', 'romAttrNaN', 'romAttrNone', 'romAttrNB', 'romAttrUnsure',\n",
    "                   'romAttrWomen']\n",
    "    if question == \"otherAttractCB\":\n",
    "        fiveup['attAlterous'] = fiveup['alterous'] + fiveup['alterousattraction']\n",
    "        fiveup['attIntellect'] = fiveup['intellectual'] +fiveup['intellectualattraction'] + fiveup['intellectual/musical/artisticability']\n",
    "        fiveup = fiveup.drop(['alterous','alterousattraction', 'intellectual', 'intellectualattraction','intellectual/musical/artisticability'],1)\n",
    "        fiveup.columns = ['attAesthetic','attUnfamiliar', 'attNotExperience','attNaN', 'attPlatonic',\n",
    "                   'attSensual', 'attUnsure','attAlterous', 'attIntellect' ]\n",
    "    if question == 'perpsCB':\n",
    "        fiveup.columns = ['perpMan', 'perpIntimatePartner', 'perpNBPerson', 'perpWoman', 'perpNaN',\n",
    "                   'perpNotIntimatePartner']\n",
    "    if question == 'sexReasonsCB':\n",
    "        fiveup.columns = ['sexRIntimacy', 'sexRSupposedTo', 'sexRNextStep', 'sexRPleasure', 'sexRPlsPartner',\n",
    "                    'sexRAffection', 'sexRAesthetic', 'sexRCurious', 'sexRRomantic', 'sexRSensual', 'sexRSexualA',\n",
    "                    'sexRNaN']\n",
    "    if question == 'participateReasonCB':\n",
    "        fiveup.columns = ['particDoNot', 'particNaN', 'particAdvocate','particFindFriendsPartners', \n",
    "                    'particFindPeopleLikMe','particDiscuss', 'particLearnAbtMeAce',\n",
    "                    'particTalkAce']\n",
    "    if question == 'notParticipateReasonCB':\n",
    "        fiveup.columns = ['notPartNotIdentStrongly', 'notPartLackInclusion', 'notPartNotAce',\n",
    "                   'notPartInconvLocSched', 'notPartCost','notPartNA', 'notPartNaN', 'notPartNervous',\n",
    "                   'notPartNoLocal', 'notPartNotInt', 'notPartRacism','notPartSocAnxiety', 'notPartNotAccDisab',\n",
    "                   'notPartUnfriendToLGBTQ','notPartUnfriendToGreyDemi','notPartElitistNonAces']\n",
    "\n",
    "#     return pd.DataFrame.sum(fiveup)\n",
    "#     return fiveup.columns\n",
    "    return fiveup"
   ]
  },
  {
   "cell_type": "markdown",
   "metadata": {},
   "source": [
    "#### Process Dummy Variables  \n",
    "[Table of Contents](#Table-of-Contents)"
   ]
  },
  {
   "cell_type": "code",
   "execution_count": 11,
   "metadata": {
    "collapsed": false
   },
   "outputs": [
    {
     "name": "stderr",
     "output_type": "stream",
     "text": [
      "/Users/bauer/anaconda3/lib/python3.5/site-packages/pandas/core/generic.py:3295: SettingWithCopyWarning: \n",
      "A value is trying to be set on a copy of a slice from a DataFrame\n",
      "\n",
      "See the caveats in the documentation: http://pandas.pydata.org/pandas-docs/stable/indexing.html#indexing-view-versus-copy\n",
      "  self._update_inplace(new_data)\n",
      "/Users/bauer/anaconda3/lib/python3.5/site-packages/ipykernel/__main__.py:53: SettingWithCopyWarning: \n",
      "A value is trying to be set on a copy of a slice from a DataFrame.\n",
      "Try using .loc[row_indexer,col_indexer] = value instead\n",
      "\n",
      "See the caveats in the documentation: http://pandas.pydata.org/pandas-docs/stable/indexing.html#indexing-view-versus-copy\n",
      "/Users/bauer/anaconda3/lib/python3.5/site-packages/ipykernel/__main__.py:54: SettingWithCopyWarning: \n",
      "A value is trying to be set on a copy of a slice from a DataFrame.\n",
      "Try using .loc[row_indexer,col_indexer] = value instead\n",
      "\n",
      "See the caveats in the documentation: http://pandas.pydata.org/pandas-docs/stable/indexing.html#indexing-view-versus-copy\n"
     ]
    }
   ],
   "source": [
    "#Create all Dummy Variables and combine into table\n",
    "dummy_columns = [\"raceCB\",\"USRace\",\"CanadaRace\", \"nonbinaryCB\",\"priorAceCB\", \"romanticIDCB\", \"romanticGenderCB\", \"otherAttractCB\", \"perpsCB\",\n",
    "                \"sexReasonsCB\",\"participateReasonCB\", \"notParticipateReasonCB\"]\n",
    "dummies = parseCheckBox(dummy_columns[0]).join(parseCheckBox(dummy_columns[1]))\n",
    "for i in dummy_columns[2:]:\n",
    "    dummies = dummies.join(parseCheckBox(i))"
   ]
  },
  {
   "cell_type": "code",
   "execution_count": 12,
   "metadata": {
    "collapsed": false
   },
   "outputs": [
    {
     "data": {
      "text/html": [
       "<div>\n",
       "<table border=\"1\" class=\"dataframe\">\n",
       "  <thead>\n",
       "    <tr style=\"text-align: right;\">\n",
       "      <th></th>\n",
       "      <th>timestamp</th>\n",
       "      <th>year</th>\n",
       "      <th>month</th>\n",
       "      <th>education</th>\n",
       "      <th>student</th>\n",
       "      <th>religion</th>\n",
       "      <th>religionOther</th>\n",
       "      <th>raceDesc</th>\n",
       "      <th>nationality</th>\n",
       "      <th>USRegion</th>\n",
       "      <th>...</th>\n",
       "      <th>notPartNaN</th>\n",
       "      <th>notPartNervous</th>\n",
       "      <th>notPartNoLocal</th>\n",
       "      <th>notPartNotInt</th>\n",
       "      <th>notPartRacism</th>\n",
       "      <th>notPartSocAnxiety</th>\n",
       "      <th>notPartNotAccDisab</th>\n",
       "      <th>notPartUnfriendToLGBTQ</th>\n",
       "      <th>notPartUnfriendToGreyDemi</th>\n",
       "      <th>notPartElitistNonAces</th>\n",
       "    </tr>\n",
       "  </thead>\n",
       "  <tbody>\n",
       "    <tr>\n",
       "      <th>0</th>\n",
       "      <td>2016-10-23 18:57:01</td>\n",
       "      <td>1995.0</td>\n",
       "      <td>July</td>\n",
       "      <td>Some college (no degree yet)</td>\n",
       "      <td>Yes, in an undergraduate program</td>\n",
       "      <td>Agnostic</td>\n",
       "      <td>NaN</td>\n",
       "      <td>White</td>\n",
       "      <td>United States of America</td>\n",
       "      <td>Florida</td>\n",
       "      <td>...</td>\n",
       "      <td>0</td>\n",
       "      <td>0</td>\n",
       "      <td>1</td>\n",
       "      <td>1</td>\n",
       "      <td>0</td>\n",
       "      <td>0</td>\n",
       "      <td>0</td>\n",
       "      <td>0</td>\n",
       "      <td>1</td>\n",
       "      <td>0</td>\n",
       "    </tr>\n",
       "    <tr>\n",
       "      <th>1</th>\n",
       "      <td>2016-10-23 19:35:35</td>\n",
       "      <td>1998.0</td>\n",
       "      <td>September</td>\n",
       "      <td>Less than high school</td>\n",
       "      <td>Yes, in high school</td>\n",
       "      <td>Roman Catholic</td>\n",
       "      <td>NaN</td>\n",
       "      <td>White American</td>\n",
       "      <td>United Kingdom</td>\n",
       "      <td>NaN</td>\n",
       "      <td>...</td>\n",
       "      <td>0</td>\n",
       "      <td>1</td>\n",
       "      <td>0</td>\n",
       "      <td>0</td>\n",
       "      <td>0</td>\n",
       "      <td>0</td>\n",
       "      <td>0</td>\n",
       "      <td>0</td>\n",
       "      <td>0</td>\n",
       "      <td>0</td>\n",
       "    </tr>\n",
       "  </tbody>\n",
       "</table>\n",
       "<p>2 rows × 308 columns</p>\n",
       "</div>"
      ],
      "text/plain": [
       "            timestamp    year      month                     education  \\\n",
       "0 2016-10-23 18:57:01  1995.0       July  Some college (no degree yet)   \n",
       "1 2016-10-23 19:35:35  1998.0  September         Less than high school   \n",
       "\n",
       "                            student        religion religionOther  \\\n",
       "0  Yes, in an undergraduate program        Agnostic           NaN   \n",
       "1               Yes, in high school  Roman Catholic           NaN   \n",
       "\n",
       "         raceDesc               nationality USRegion          ...           \\\n",
       "0           White  United States of America  Florida          ...            \n",
       "1  White American            United Kingdom      NaN          ...            \n",
       "\n",
       "  notPartNaN notPartNervous notPartNoLocal notPartNotInt notPartRacism  \\\n",
       "0          0              0              1             1             0   \n",
       "1          0              1              0             0             0   \n",
       "\n",
       "  notPartSocAnxiety notPartNotAccDisab notPartUnfriendToLGBTQ  \\\n",
       "0                 0                  0                      0   \n",
       "1                 0                  0                      0   \n",
       "\n",
       "  notPartUnfriendToGreyDemi notPartElitistNonAces  \n",
       "0                         1                     0  \n",
       "1                         0                     0  \n",
       "\n",
       "[2 rows x 308 columns]"
      ]
     },
     "execution_count": 12,
     "metadata": {},
     "output_type": "execute_result"
    }
   ],
   "source": [
    "data = rawData.join(dummies)\n",
    "# Removes original columns\n",
    "data = data.drop(dummy_columns,1)\n",
    "data.head(2)"
   ]
  },
  {
   "cell_type": "markdown",
   "metadata": {},
   "source": [
    "### Likert to Integer\n",
    "[Table of Contents](#Table-of-Contents)"
   ]
  },
  {
   "cell_type": "code",
   "execution_count": 13,
   "metadata": {
    "collapsed": true
   },
   "outputs": [],
   "source": [
    "out = ['outPartners','outSiblings','outParents', 'outOtherFam', 'outHet', 'outNonHet', 'outAcquaintances',\n",
    "         'outClassmates', 'outCoworkers', 'outCounselor', 'outMedical']\n",
    "# data['outPartners'].value_counts()\n",
    "outVals =  {0:'N/A', 1:'None', 2:'A few', 3:'About half', 4: 'Most', 5:'All'}\n",
    "\n",
    "for i in out:\n",
    "    data[i].replace(['N/A','None', 'A few', 'About half', 'Most', 'All'],[0,1,2,3,4,5], inplace = True)"
   ]
  },
  {
   "cell_type": "code",
   "execution_count": 14,
   "metadata": {
    "collapsed": true
   },
   "outputs": [],
   "source": [
    "outmap = [outVals]*len(out)"
   ]
  },
  {
   "cell_type": "code",
   "execution_count": 15,
   "metadata": {
    "collapsed": false
   },
   "outputs": [
    {
     "name": "stdout",
     "output_type": "stream",
     "text": [
      "outPartners N/A\n",
      "outSiblings None\n",
      "outParents A few\n",
      "outOtherFam About half\n",
      "outHet None\n",
      "outNonHet A few\n",
      "outAcquaintances About half\n"
     ]
    }
   ],
   "source": [
    "myans = [0,1,2,3,1,2,3]\n",
    "for i in range(len(myans)):\n",
    "    print (out[i],outmap[i][myans[i]])"
   ]
  },
  {
   "cell_type": "code",
   "execution_count": 16,
   "metadata": {
    "collapsed": false
   },
   "outputs": [
    {
     "data": {
      "text/plain": [
       "([<matplotlib.axis.XTick at 0x112b688d0>,\n",
       "  <matplotlib.axis.XTick at 0x112b68d68>,\n",
       "  <matplotlib.axis.XTick at 0x11270f860>,\n",
       "  <matplotlib.axis.XTick at 0x111a5a908>,\n",
       "  <matplotlib.axis.XTick at 0x111a88438>,\n",
       "  <matplotlib.axis.XTick at 0x111a88f28>],\n",
       " <a list of 6 Text xticklabel objects>)"
      ]
     },
     "execution_count": 16,
     "metadata": {},
     "output_type": "execute_result"
    },
    {
     "data": {
      "image/png": "[encoded data removed]",
      "text/plain": [
       "<matplotlib.figure.Figure at 0x1114e0f98>"
      ]
     },
     "metadata": {},
     "output_type": "display_data"
    }
   ],
   "source": [
    "data.ix[:,'outPartners'].hist()\n",
    "plt.title('Out to Partners')\n",
    "plt.xlabel(\"Amount Out To\")\n",
    "plt.ylabel(\"Count of Respondents\")\n",
    "labels = outVals\n",
    "# labels = ['No Mil. Action','Threat of Force','Display of Force','Use of Force','War']\n",
    "ticks= [0,1,2,3,4,5]\n",
    "plt.xticks(ticks, labels.values())"
   ]
  },
  {
   "cell_type": "code",
   "execution_count": 17,
   "metadata": {
    "collapsed": false
   },
   "outputs": [],
   "source": [
    "ynu = ['disabled', 'chronicallyIll', 'physDisabled', 'cogDisabled', 'mentallyIll', 'Neurod','suicideConsider',\n",
    "         'suicideAttempt', 'harassVerbalSO', 'harassOnlineSO', 'harassPhysicalSO', 'getHousingDiffSO',\n",
    "         'getJobDiffSO', 'getMHealthDiffSO', 'getOHealthDiffSO', 'excludedSO', 'lossFinancialSO', 'fixYouSO',\n",
    "         'famRejectionSO', 'harassVerbalGen', 'harassOnlineGen', 'harassPhysicalGen', 'getHousingDiffGen',\n",
    "         'getJobDiffGen', 'getMHealthDiffGen', 'getOHealthDiffGen', 'excludedGen', 'lossFinancialGen','fixYouGen',\n",
    "         'famRejectionGen',]\n",
    "# data['suicideConsider'].value_counts()\n",
    "ynuVals = {0:'No', 1:'Unsure', 2:'Yes'}\n",
    "\n",
    "for i in ynu:\n",
    "    data[i].replace(['No','Unsure','Yes'],[0,1,2], inplace = True)"
   ]
  },
  {
   "cell_type": "code",
   "execution_count": 18,
   "metadata": {
    "collapsed": false
   },
   "outputs": [],
   "source": [
    "health = ['adhd', 'anxiety', 'autism', 'depressed', 'ed', 'hsdd', 'personalityD', 'schizoid', 'vaginismus',]\n",
    "# data['adhd'].value_counts()\n",
    "healthVals = {0:'No', 1:'Unsure', 2:'Yes - Self-Diagnosed', 3:'Yes - Professionally Diagnosed'}\n",
    "\n",
    "for i in health:\n",
    "    data[i].replace(['No','Unsure','Yes - Self-Diagnosed', 'Yes - Professionally Diagnosed'],[0,1,2,3], inplace = True)"
   ]
  },
  {
   "cell_type": "code",
   "execution_count": 19,
   "metadata": {
    "collapsed": false
   },
   "outputs": [],
   "source": [
    "substances = ['alcohol', 'tobacco', 'weed', 'drugsRecRX', 'drugsOther', 'drugsInject',]\n",
    "# data['alcohol'].value_counts()\n",
    "substancesVals = {0:'Not at all in the last 12 months', 1:'Once/twice in the last 12 months', 2:'Once/twice a month', \n",
    "           3:'Once/twice a week', 4:'3/4 days a week', 5:'5+ days a week'}\n",
    "\n",
    "for i in substances:\n",
    "    data[i].replace(['Not at all in the last 12 months','Once/twice in the last 12 months','Once/twice a month', \n",
    "           'Once/twice a week', '3/4 days a week', '5+ days a week'],[0,1,2,3,4,5], inplace = True)"
   ]
  },
  {
   "cell_type": "code",
   "execution_count": 20,
   "metadata": {
    "collapsed": false
   },
   "outputs": [],
   "source": [
    "negex = ['negExProf', 'negExSocial', 'negExHousing', 'negExFam', 'negExMHealth', 'negExPHealth',]\n",
    "# data['negExSocial'].value_counts()\n",
    "negexVals = {0:'0 (little to no impact)', 1:1, 2:2, 3:3, 4:'4 (major impact)'}\n",
    "\n",
    "for i in negex:\n",
    "    data[i].replace(['0 (little to no impact)', '1', '2', '3', '4 (major impact)'],[0,1,2,3,4], inplace = True)"
   ]
  },
  {
   "cell_type": "code",
   "execution_count": 21,
   "metadata": {
    "collapsed": false
   },
   "outputs": [],
   "source": [
    "readpost = ['readAven', 'readAlt', 'readTumblr', 'readLj', 'readBlogs', 'readFb', 'readTwitter', 'readReddit',\n",
    "         'readYoutube', 'readMeetup', 'readChat', 'postAven', 'postAlt', 'postTumblr', 'postLj', 'postBlogs',\n",
    "         'postFb', 'postTwitter', 'postReddit', 'postYoutube', 'postMeetup', 'postChat',]\n",
    "\n",
    "readpostVals = {0:'A few times a year or less', 1:'A few times a month', 2:'A few times a week', 3:'At least once per day'}\n",
    "\n",
    "for i in readpost:\n",
    "    data[i].replace(['A few times a year or less', 'A few times a month', 'A few times a week', 'At least once per day'],\n",
    "                    [0,1,2,3], inplace = True)"
   ]
  },
  {
   "cell_type": "code",
   "execution_count": 22,
   "metadata": {
    "collapsed": true
   },
   "outputs": [],
   "source": [
    "lgbtVals = {0:'Never', 1:'In the past month', 2:'Between a month and a year ago', 3:'Between 1 and 5 years ago', \n",
    "            4:'Over 5 years ago'}\n",
    "data['lastLGBTQPartic'].replace(['Never', 'In the past month', 'Between a month and a year ago', 'Between 1 and 5 years ago', \n",
    "            'Over 5 years ago'],[0,1,2,3,4], inplace = True)"
   ]
  },
  {
   "cell_type": "code",
   "execution_count": 23,
   "metadata": {
    "collapsed": false
   },
   "outputs": [],
   "source": [
    "lgbtExpVals = {0:'0  Negative', 1:1, 2:2, 3:3, 4:'4  Positive'}\n",
    "\n",
    "data['lgbtqExp'].replace(['0 Negative', '1', '2', '3', '4 Positive'],[0,1,2,3,4], inplace = True)"
   ]
  },
  {
   "cell_type": "code",
   "execution_count": 24,
   "metadata": {
    "collapsed": false
   },
   "outputs": [],
   "source": [
    "likert_cols = out+ ynu+ health+ substances+ negex+ readpost+['lastLGBTQPartic']+['lgbtExpVals']\n",
    "likert_dics = [outVals]*len(out)+ [ynuVals]*len(ynu)+[healthVals]*len(health)+ [substancesVals]*len(substances)\\\n",
    "                +[negexVals]*len(negex)+ [readpostVals]*len(readpost)+ [lgbtVals]+ [lgbtExpVals]\n",
    "\n",
    "likert_lookup = pd.DataFrame({'column': likert_cols,'dictionary': likert_dics})\n"
   ]
  },
  {
   "cell_type": "code",
   "execution_count": 25,
   "metadata": {
    "collapsed": false
   },
   "outputs": [],
   "source": [
    "likertDict={}\n",
    "for i in range(len(likert_cols)):\n",
    "    likertDict[likert_cols[i]]=likert_dics[i]\n",
    "# likertDict"
   ]
  },
  {
   "cell_type": "code",
   "execution_count": 26,
   "metadata": {
    "collapsed": false
   },
   "outputs": [
    {
     "data": {
      "text/plain": [
       "'Between a month and a year ago'"
      ]
     },
     "execution_count": 26,
     "metadata": {},
     "output_type": "execute_result"
    }
   ],
   "source": [
    "likertDict[\"lastLGBTQPartic\"][2]"
   ]
  },
  {
   "cell_type": "code",
   "execution_count": 27,
   "metadata": {
    "collapsed": false
   },
   "outputs": [
    {
     "data": {
      "text/plain": [
       "([<matplotlib.axis.XTick at 0x1114e0208>,\n",
       "  <matplotlib.axis.XTick at 0x1114e0ac8>,\n",
       "  <matplotlib.axis.XTick at 0x1129621d0>],\n",
       " <a list of 3 Text xticklabel objects>)"
      ]
     },
     "execution_count": 27,
     "metadata": {},
     "output_type": "execute_result"
    },
    {
     "data": {
      "image/png": "[encoded data removed]",
      "text/plain": [
       "<matplotlib.figure.Figure at 0x112999978>"
      ]
     },
     "metadata": {},
     "output_type": "display_data"
    }
   ],
   "source": [
    "data.ix[:,'chronicallyIll'].hist(rwidth=1, bins=range(4))\n",
    "plt.title('Histogram of Mental Illness')\n",
    "plt.xlabel(\"Response\")\n",
    "plt.ylabel(\"Count of Respondents\")\n",
    "labels = likertDict[\"chronicallyIll\"]\n",
    "ticks= [0.5,1.5,2.5]\n",
    "plt.xticks(ticks, labels.values())"
   ]
  },
  {
   "cell_type": "markdown",
   "metadata": {},
   "source": [
    "### Functions\n",
    "[Table of Contents](#Table-of-Contents)"
   ]
  },
  {
   "cell_type": "markdown",
   "metadata": {},
   "source": [
    "## Data Filtering"
   ]
  },
  {
   "cell_type": "markdown",
   "metadata": {},
   "source": [
    "### Filter Data\n",
    "[Table of Contents](#Table-of-Contents)"
   ]
  },
  {
   "cell_type": "code",
   "execution_count": 28,
   "metadata": {
    "collapsed": false
   },
   "outputs": [
    {
     "data": {
      "text/plain": [
       "(9955, 308)"
      ]
     },
     "execution_count": 28,
     "metadata": {},
     "output_type": "execute_result"
    }
   ],
   "source": [
    "#List of collumns to test for too many NaN values. Excludes check box questions and write in, etc.\n",
    "naTestCols = [\"year\",\"month\",\"education\",\"student\",\"religion\",\"nationality\", \"gender\",\n",
    "            \"trans\",\"aceID\", \"queer\", \"nonAceID\", \"partnered\",\"sigRelationship\", \"romPartner\",\n",
    "            \"nonRomPartner\",\"acePartner\",\"nonAcePartner\",\"poly\", \"sexDrive\", \"firstParticipate\",\n",
    "            \"metOffline\", \"offlineGroup\",  \"lastLGBTQPartic\",\"sexDisposition\",\"sexDiminish\",\n",
    "            \"sexPolitics\",\"sexAttitude\", \"findSurvey\"]\n",
    "#Remove rows with more than 10 NaN's in the selected columns above\n",
    "data = data[data[naTestCols].isnull().sum(axis=1)<10]\n",
    "data.shape"
   ]
  },
  {
   "cell_type": "markdown",
   "metadata": {},
   "source": [
    "### Jokes\n",
    "[Table of Contents](#Table-of-Contents)"
   ]
  },
  {
   "cell_type": "markdown",
   "metadata": {},
   "source": [
    "### Duplicates\n",
    "[Table of Contents](#Table-of-Contents)"
   ]
  },
  {
   "cell_type": "code",
   "execution_count": 29,
   "metadata": {
    "collapsed": false
   },
   "outputs": [
    {
     "data": {
      "text/plain": [
       "(9850, 308)"
      ]
     },
     "execution_count": 29,
     "metadata": {},
     "output_type": "execute_result"
    }
   ],
   "source": [
    "# Drop rows that are duplicates for everything except the timestamp\n",
    "cols = data.columns[1:]\n",
    "data = data.drop_duplicates(cols)\n",
    "data.shape"
   ]
  },
  {
   "cell_type": "markdown",
   "metadata": {},
   "source": [
    "### Export Data\n",
    "[Table of Contents](#Table-of-Contents)"
   ]
  },
  {
   "cell_type": "code",
   "execution_count": 30,
   "metadata": {
    "collapsed": false
   },
   "outputs": [
    {
     "name": "stdout",
     "output_type": "stream",
     "text": [
      "/Users/bauer/ds/metis/metisgh/Metis_Projects/Community_Survey/Code\r\n"
     ]
    }
   ],
   "source": [
    "!pwd"
   ]
  },
  {
   "cell_type": "code",
   "execution_count": 31,
   "metadata": {
    "collapsed": false
   },
   "outputs": [],
   "source": [
    "data.to_csv('../../../local_files/Projects/CommunityCensus/AVENCensus2016_data.csv', index=False)"
   ]
  },
  {
   "cell_type": "code",
   "execution_count": 32,
   "metadata": {
    "collapsed": false
   },
   "outputs": [],
   "source": [
    "with open('../../../local_files/Projects/CommunityCensus/2016_likertDict.pkl', 'wb') as picklefile:\n",
    "    pickle.dump(likertDict, picklefile)"
   ]
  },
  {
   "cell_type": "code",
   "execution_count": null,
   "metadata": {
    "collapsed": true
   },
   "outputs": [],
   "source": []
  },
  {
   "cell_type": "code",
   "execution_count": null,
   "metadata": {
    "collapsed": true
   },
   "outputs": [],
   "source": []
  },
  {
   "cell_type": "code",
   "execution_count": null,
   "metadata": {
    "collapsed": true
   },
   "outputs": [],
   "source": []
  }
 ],
 "metadata": {
  "anaconda-cloud": {},
  "kernelspec": {
   "display_name": "Python [conda root]",
   "language": "python",
   "name": "conda-root-py"
  },
  "language_info": {
   "codemirror_mode": {
    "name": "ipython",
    "version": 3
   },
   "file_extension": ".py",
   "mimetype": "text/x-python",
   "name": "python",
   "nbconvert_exporter": "python",
   "pygments_lexer": "ipython3",
   "version": "3.5.2"
  }
 },
 "nbformat": 4,
 "nbformat_minor": 1
}
