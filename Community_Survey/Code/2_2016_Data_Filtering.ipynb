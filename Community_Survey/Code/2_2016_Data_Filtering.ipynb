{
 "cells": [
  {
   "cell_type": "markdown",
   "metadata": {},
   "source": [
    "# Table of Contents  \n",
    "\n",
    "## Initial Processing\n",
    "[Import Packages](#Import-Packages)  \n",
    "[Load File](#Load-File) \n",
    "\n",
    "## Data Filtering  \n",
    "[Filter Data](#Filter-Data)  \n",
    "[Jokes](#Jokes)  \n",
    "[Duplicates](#Duplicates)\n",
    "\n",
    "## Write in Backcoding (TBD)"
   ]
  },
  {
   "cell_type": "markdown",
   "metadata": {},
   "source": [
    "### Import Packages\n",
    "[Table of Contents](#Table-of-Contents)"
   ]
  },
  {
   "cell_type": "code",
   "execution_count": 18,
   "metadata": {
    "collapsed": true
   },
   "outputs": [],
   "source": [
    "import pandas as pd\n",
    "import numpy as np"
   ]
  },
  {
   "cell_type": "markdown",
   "metadata": {},
   "source": [
    "### Load File\n",
    "[Table of Contents](#Table-of-Contents)"
   ]
  },
  {
   "cell_type": "code",
   "execution_count": 69,
   "metadata": {
    "collapsed": false
   },
   "outputs": [
    {
     "data": {
      "text/html": [
       "<div>\n",
       "<table border=\"1\" class=\"dataframe\">\n",
       "  <thead>\n",
       "    <tr style=\"text-align: right;\">\n",
       "      <th></th>\n",
       "      <th>timestamp</th>\n",
       "      <th>year</th>\n",
       "      <th>month</th>\n",
       "      <th>education</th>\n",
       "      <th>student</th>\n",
       "      <th>religion</th>\n",
       "      <th>religionOther</th>\n",
       "      <th>raceDesc</th>\n",
       "      <th>nationality</th>\n",
       "      <th>USRegion</th>\n",
       "      <th>...</th>\n",
       "      <th>notPartNaN</th>\n",
       "      <th>notPartNervous</th>\n",
       "      <th>notPartNoLocal</th>\n",
       "      <th>notPartNotInt</th>\n",
       "      <th>notPartRacism</th>\n",
       "      <th>notPartSocAnxiety</th>\n",
       "      <th>notPartNotAccDisab</th>\n",
       "      <th>notPartUnfriendToLGBTQ</th>\n",
       "      <th>notPartUnfriendToGreyDemi</th>\n",
       "      <th>notPartElitistNonAces</th>\n",
       "    </tr>\n",
       "  </thead>\n",
       "  <tbody>\n",
       "    <tr>\n",
       "      <th>0</th>\n",
       "      <td>2016-10-23 18:57:01</td>\n",
       "      <td>1995.0</td>\n",
       "      <td>July</td>\n",
       "      <td>Some college (no degree yet)</td>\n",
       "      <td>Yes, in an undergraduate program</td>\n",
       "      <td>Agnostic</td>\n",
       "      <td>NaN</td>\n",
       "      <td>White</td>\n",
       "      <td>United States of America</td>\n",
       "      <td>Florida</td>\n",
       "      <td>...</td>\n",
       "      <td>0</td>\n",
       "      <td>0</td>\n",
       "      <td>1</td>\n",
       "      <td>1</td>\n",
       "      <td>0</td>\n",
       "      <td>0</td>\n",
       "      <td>0</td>\n",
       "      <td>0</td>\n",
       "      <td>1</td>\n",
       "      <td>0</td>\n",
       "    </tr>\n",
       "    <tr>\n",
       "      <th>1</th>\n",
       "      <td>2016-10-23 19:35:35</td>\n",
       "      <td>1998.0</td>\n",
       "      <td>September</td>\n",
       "      <td>Less than high school</td>\n",
       "      <td>Yes, in high school</td>\n",
       "      <td>Roman Catholic</td>\n",
       "      <td>NaN</td>\n",
       "      <td>White American</td>\n",
       "      <td>United Kingdom</td>\n",
       "      <td>NaN</td>\n",
       "      <td>...</td>\n",
       "      <td>0</td>\n",
       "      <td>1</td>\n",
       "      <td>0</td>\n",
       "      <td>0</td>\n",
       "      <td>0</td>\n",
       "      <td>0</td>\n",
       "      <td>0</td>\n",
       "      <td>0</td>\n",
       "      <td>0</td>\n",
       "      <td>0</td>\n",
       "    </tr>\n",
       "  </tbody>\n",
       "</table>\n",
       "<p>2 rows × 308 columns</p>\n",
       "</div>"
      ],
      "text/plain": [
       "             timestamp    year      month                     education  \\\n",
       "0  2016-10-23 18:57:01  1995.0       July  Some college (no degree yet)   \n",
       "1  2016-10-23 19:35:35  1998.0  September         Less than high school   \n",
       "\n",
       "                            student        religion religionOther  \\\n",
       "0  Yes, in an undergraduate program        Agnostic           NaN   \n",
       "1               Yes, in high school  Roman Catholic           NaN   \n",
       "\n",
       "         raceDesc               nationality USRegion          ...           \\\n",
       "0           White  United States of America  Florida          ...            \n",
       "1  White American            United Kingdom      NaN          ...            \n",
       "\n",
       "  notPartNaN notPartNervous notPartNoLocal notPartNotInt notPartRacism  \\\n",
       "0          0              0              1             1             0   \n",
       "1          0              1              0             0             0   \n",
       "\n",
       "  notPartSocAnxiety notPartNotAccDisab notPartUnfriendToLGBTQ  \\\n",
       "0                 0                  0                      0   \n",
       "1                 0                  0                      0   \n",
       "\n",
       "  notPartUnfriendToGreyDemi notPartElitistNonAces  \n",
       "0                         1                     0  \n",
       "1                         0                     0  \n",
       "\n",
       "[2 rows x 308 columns]"
      ]
     },
     "execution_count": 69,
     "metadata": {},
     "output_type": "execute_result"
    }
   ],
   "source": [
    "data = pd.read_csv('AVENCensus2016_data.csv')\n",
    "data = data.drop(['Unnamed: 0'],1)\n",
    "data.head(2)"
   ]
  },
  {
   "cell_type": "markdown",
   "metadata": {
    "collapsed": true
   },
   "source": [
    "### Duplicates\n",
    "[Table of Contents](#Table-of-Contents)"
   ]
  },
  {
   "cell_type": "code",
   "execution_count": 72,
   "metadata": {
    "collapsed": false
   },
   "outputs": [
    {
     "data": {
      "text/plain": [
       "(9857, 308)"
      ]
     },
     "execution_count": 72,
     "metadata": {},
     "output_type": "execute_result"
    }
   ],
   "source": [
    "# Drop rows that are duplicates for everything except the timestamp\n",
    "cols = data.columns[1:]\n",
    "data = data.drop_duplicates(cols)\n",
    "data.shape"
   ]
  },
  {
   "cell_type": "code",
   "execution_count": 88,
   "metadata": {
    "collapsed": false
   },
   "outputs": [],
   "source": [
    "#List of collumns to test for too many NaN values. Excludes check box questions and write in, etc.\n",
    "naTestCols = [\"year\",\"month\",\"education\",\"student\",\"religion\",\"nationality\", \"gender\",\n",
    "            \"trans\",\"aceID\", \"queer\", \"nonAceID\", \"partnered\",\"sigRelationship\", \"romPartner\",\n",
    "            \"nonRomPartner\",\"acePartner\",\"nonAcePartner\",\"poly\", \"sexDrive\", \"firstParticipate\",\n",
    "            \"metOffline\", \"offlineGroup\",  \"lastLGBTQPartic\",\"sexDisposition\",\"sexDiminish\",\n",
    "            \"sexPolitics\",\"sexAttitude\", \"findSurvey\"]\n",
    "#Remove rows with more than 10 NaN's in the selected columns above\n",
    "data = data[data[naTestCols].isnull().sum(axis=1)<10]\n",
    "data.shape"
   ]
  },
  {
   "cell_type": "code",
   "execution_count": 100,
   "metadata": {
    "collapsed": true
   },
   "outputs": [],
   "source": [
    "data.to_csv('AVENCensus2016_data.csv')"
   ]
  },
  {
   "cell_type": "code",
   "execution_count": null,
   "metadata": {
    "collapsed": true
   },
   "outputs": [],
   "source": []
  }
 ],
 "metadata": {
  "anaconda-cloud": {},
  "kernelspec": {
   "display_name": "Python [Root]",
   "language": "python",
   "name": "Python [Root]"
  },
  "language_info": {
   "codemirror_mode": {
    "name": "ipython",
    "version": 3
   },
   "file_extension": ".py",
   "mimetype": "text/x-python",
   "name": "python",
   "nbconvert_exporter": "python",
   "pygments_lexer": "ipython3",
   "version": "3.5.1"
  }
 },
 "nbformat": 4,
 "nbformat_minor": 1
}
