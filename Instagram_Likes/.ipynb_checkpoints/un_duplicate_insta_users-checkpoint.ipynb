{
 "cells": [
  {
   "cell_type": "code",
   "execution_count": 285,
   "metadata": {
    "collapsed": false
   },
   "outputs": [],
   "source": [
    "import pandas as pd\n",
    "import re\n",
    "import json \n",
    "import pickle"
   ]
  },
  {
   "cell_type": "code",
   "execution_count": 1,
   "metadata": {
    "collapsed": false
   },
   "outputs": [
    {
     "name": "stdout",
     "output_type": "stream",
     "text": [
      "['http://www.imgrum.org/user/lola_____98/3483824198', 'http://www.imgrum.org/user/czekoladovaa69/1822773892', 'http://www.imgrum.org/user/mghann1410/1460063340', '', 'http://www.imgrum.org/user/hunksammy/320964501', 'http://www.imgrum.org/user/ohllanmanzano/288551551', 'http://www.imgrum.org/user/irinaofficiallll/176134157', 'http://www.imgrum.org/user/olastarpolka/3611385095', 'http://www.imgrum.org/user/snezhinairina/3912346669', 'http://www.imgrum.org/user/lilligaufrette74/4281547752', 'http://www.imgrum.org/user/kseniya502/4049654102', '', 'http://www.imgrum.org/user/wangposts/3561133464', 'http://www.imgrum.org/user/mehvishzia/2166769719', 'http://www.imgrum.org/user/amvciejka/361228849', 'http://www.imgrum.org/user/anatae_jannfc/1724064238', 'http://www.imgrum.org/user/master_nail_service_best/3244361456', 'http://www.imgrum.org/user/abdulwahab_al_awadhi/643921756', 'http://www.imgrum.org/user/horcrux_23/1178851938', '', 'http://www.imgrum.org/user/iam.simone/266488089', 'http://www.imgrum.org/user/angie_bartleboom/43707493', 'http://www.imgrum.org/user/sabunsepetleri/411803783', 'http://www.imgrum.org/user/fantastique_style/51962881', 'http://www.imgrum.org/user/nomen_1/499804324', 'http://www.imgrum.org/user/watch_ya_meme/2497338636', 'http://www.imgrum.org/user/edonizar/609839236', '', 'http://www.imgrum.org/user/mezalorena66/4567979641', 'http://www.imgrum.org/user/hfhayley/273707214', 'http://www.imgrum.org/user/hisnameisamit/1378637521', 'http://www.imgrum.org/user/a.rch.ik/1226705245', 'http://www.imgrum.org/user/izkaa_15/1817280461', 'http://www.imgrum.org/user/andreahmanchego/194132529', 'http://www.imgrum.org/user/jousefmohseni100/4074053088', '', 'http://www.imgrum.org/user/francescopetrielli/2293462261', 'http://www.imgrum.org/user/tahachlon/3522774048', 'http://www.imgrum.org/user/giokclasmusic/3076208178', 'http://www.imgrum.org/user/aurorasbr/214941938', 'http://www.imgrum.org/user/missdicinson/236174748', 'http://www.imgrum.org/user/socialmediainflu/4762309422', 'http://www.imgrum.org/user/santecatering/204939233', '', 'http://www.imgrum.org/user/michelamigui/352410770', 'http://www.imgrum.org/user/im_laura_d/24765175', 'http://www.imgrum.org/user/ajmalhashmi6/1576570039', 'http://www.imgrum.org/user/lukolac/1643778844', 'http://www.imgrum.org/user/ayakkabi.kapinizda/3594456794', 'http://www.imgrum.org/user/reflectioncollection/3292093683', 'http://www.imgrum.org/user/ghanchipraveenkumar4/1651212826', '', 'http://www.imgrum.org/user/_fuckingoff/970961526', 'http://www.imgrum.org/user/naturally_jess/194465035', 'http://www.imgrum.org/user/jotus1979/1224593152', 'http://www.imgrum.org/user/tumblrteene/4549352411', 'http://www.imgrum.org/user/r3fract0r/1494239384', 'http://www.imgrum.org/user/instakarol_antonella/1291130290', 'http://www.imgrum.org/user/ant.poland/588138802', '', 'http://www.imgrum.org/user/melanies.trainingwheels_/4349394173', 'http://www.imgrum.org/user/bobby_frenchie/1640628853', 'http://www.imgrum.org/user/unicornzandweed/1534173544', 'http://www.imgrum.org/user/idee2look/300983387', 'http://www.imgrum.org/user/sachikamari/253461439', 'http://www.imgrum.org/user/_sugar_town_57_/4583794714', 'http://www.imgrum.org/user/lifestyleofablonde/10154909', '', 'http://www.imgrum.org/user/kindinner/1734267846', 'http://www.imgrum.org/user/neko5neko/4655963869', 'http://www.imgrum.org/user/manon_mk/280123579', 'http://www.imgrum.org/user/gumustakitasarim/1542537983', 'http://www.imgrum.org/user/baiz4878/3084849304', 'http://www.imgrum.org/user/krishna199x/268724077', 'http://www.imgrum.org/user/thawannkayke/312727447', '', 'http://www.imgrum.org/user/richardpatrick_niland/2216406411', 'http://www.imgrum.org/user/giorgiasilvia/220888991', 'http://www.imgrum.org/user/ava.love.forever/4776612606', 'http://www.imgrum.org/user/rackedmiss/4567199555', 'http://www.imgrum.org/user/karosiaaaa/3069231375', 'http://www.imgrum.org/user/rabbitinv/3999434450', 'http://www.imgrum.org/user/tatiana_gorbatiuk/519294663', '', 'http://www.imgrum.org/user/vendurio/395355113', 'http://www.imgrum.org/user/ayearofboxes/251863414', 'http://www.imgrum.org/user/flexandnala/3505690915', 'http://www.imgrum.org/user/drnkn_mnky/3267124114', 'http://www.imgrum.org/user/blackandwhitething/4589806344', '', 'http://www.imgrum.org/user/deux_photographes29/3425473441', 'http://www.imgrum.org/user/_bexhz_/2084878633', 'http://www.imgrum.org/user/hamzaalghassani/3632371580', '', 'http://www.imgrum.org/user/july_ottaiano_jg/281584370', 'http://www.imgrum.org/user/alexa_filimonova/460126094', 'http://www.imgrum.org/user/shoknroll/1133613097', 'http://www.imgrum.org/user/theimaginativehobbyist/1796675798', 'http://www.imgrum.org/user/presidentpetion/230914674', 'http://www.imgrum.org/user/simonasodano_scarpediem/244988551', 'http://www.imgrum.org/user/i_vik_tory/1466455699', '', 'http://www.imgrum.org/user/buris_diamond/4753635486', 'http://www.imgrum.org/user/unapologetic_van_horn/2964486075', 'http://www.imgrum.org/user/andrekotulla/2544393408', 'http://www.imgrum.org/user/evgenia_nesterenko_555/1580471157', 'http://www.imgrum.org/user/wsjdesigns/3495546676', 'http://www.imgrum.org/user/naughtydame/1542114969', 'http://www.imgrum.org/user/lindsay_nickole/53290045', '', 'http://www.imgrum.org/user/rinatanjung26/1030999043', 'http://www.imgrum.org/user/argent5613/1525531933', 'http://www.imgrum.org/user/pipinya_zizi/454515755', 'http://www.imgrum.org/user/lakedistrictmountaineer/38887320', 'http://www.imgrum.org/user/bangersonlock/4546193960', 'http://www.imgrum.org/user/xu_32/2234740192', 'http://www.imgrum.org/user/heavenly_destination/1778682330', '', 'http://www.imgrum.org/user/marika_designs/1256539812', 'http://www.imgrum.org/user/aynnuru/544060570', 'http://www.imgrum.org/user/sophiakozo/26551984', 'http://www.imgrum.org/user/fleurdewison19/1360747323', 'http://www.imgrum.org/user/katerina_arabey/648903105', 'http://www.imgrum.org/user/believetransform/1468597910', 'http://www.imgrum.org/user/daphnecarna/3869711345', '', 'http://www.imgrum.org/user/frezi2005games/3951429369', 'http://www.imgrum.org/user/cmdmh/12304414', 'http://www.imgrum.org/user/sassssy____/218517770', 'http://www.imgrum.org/user/anvilauto/1530980887', 'http://www.imgrum.org/user/reillycomics/1292909343', 'http://www.imgrum.org/user/igramprashant/1111154852', 'http://www.imgrum.org/user/garagemdobellotetv/325632916', '', 'http://www.imgrum.org/user/lyamalario/3155984149', 'http://www.imgrum.org/user/mxlikye/3526464179', 'http://www.imgrum.org/user/shelak_niki/2234927427', 'http://www.imgrum.org/user/diseno_mexicano/4581762705', 'http://www.imgrum.org/user/queenofreef/4730595239', 'http://www.imgrum.org/user/svetlichnic/337645892', 'http://www.imgrum.org/user/_alamander/31646239', '', 'http://www.imgrum.org/user/federico_frigo_photography/2086516136', 'http://www.imgrum.org/user/pandemonium.psycho/319179419', 'http://www.imgrum.org/user/nav_ee/1261867465', 'http://www.imgrum.org/user/mizah.tutkunu/4278369456', 'http://www.imgrum.org/user/_giadabraghetto_/243944840', 'http://www.imgrum.org/user/ciceroclothing/1106308522', 'http://www.imgrum.org/user/olson_00/3143704350', '', 'http://www.imgrum.org/user/anna_e14/3315297770', 'http://www.imgrum.org/user/hafsashfi/1219717431', 'http://www.imgrum.org/user/monsieuroz/1678406', 'http://www.imgrum.org/user/fernandoferreirasantos/2123456945', 'http://www.imgrum.org/user/johnnyjaysphotos/479835105', 'http://www.imgrum.org/user/ste_mad_ink/2990222174', 'http://www.imgrum.org/user/comedyahmed/1579219460', '', 'http://www.imgrum.org/user/dabeachery/3031725422', 'http://www.imgrum.org/user/thebridgegym/19857838', 'http://www.imgrum.org/user/indyandisabellastore/3970298423', 'http://www.imgrum.org/user/cheftraci22/1672216627', 'http://www.imgrum.org/user/craigmahoneyy/2367871', 'http://www.imgrum.org/user/coadthecatsmeow/55287423', 'http://www.imgrum.org/user/oliviahmagazine/1189463166', '', 'http://www.imgrum.org/user/__fhd.___/4517082985', 'http://www.imgrum.org/user/ariwahyudi26/2111051707', 'http://www.imgrum.org/user/ananastalek/299195887', 'http://www.imgrum.org/user/darya___moroz/215074226', 'http://www.imgrum.org/user/jokeman.tv/2951732773', 'http://www.imgrum.org/user/oarthurobson/1834029236', 'http://www.imgrum.org/user/w31rdo/5565100', '', 'http://www.imgrum.org/user/ham_k_i/247166683', 'http://www.imgrum.org/user/itskatjes/16531177', 'http://www.imgrum.org/user/loft_brussels/4767507543', 'http://www.imgrum.org/user/alvints01/497905444', '', 'http://www.imgrum.org/user/orianaphoto8/2860323216', 'http://www.imgrum.org/user/ekaterina5425/2217964702', 'http://www.imgrum.org/user/aarongpope/1739428810', '', 'http://www.imgrum.org/user/anna_vrsic/2898991212', 'http://www.imgrum.org/user/cr4ckedbabe/557080608', 'http://www.imgrum.org/user/3.1519shis/4563158648', 'http://www.imgrum.org/user/matildeballistreri/187339867', 'http://www.imgrum.org/user/ktaabarbu/1834122900', 'http://www.imgrum.org/user/kdavidcastillo/1828152903', 'http://www.imgrum.org/user/francescamiluna/203141981', '', 'http://www.imgrum.org/user/faithconverse/1194014186', 'http://www.imgrum.org/user/kamilamszyca/3303458716', 'http://www.imgrum.org/user/koniiichan7/4684580928', 'http://www.imgrum.org/user/the_beaux_life/2308687222', 'http://www.imgrum.org/user/sashadulich/1464309987', 'http://www.imgrum.org/user/giusy_herondale/304684034', 'http://www.imgrum.org/user/k_____p11/3467418098', '', 'http://www.imgrum.org/user/kimberlykane.2016/4505223634', 'http://www.imgrum.org/user/_dariabrzezinska/3484973889', 'http://www.imgrum.org/user/kristiedicecca_mua/28292818', 'http://www.imgrum.org/user/monkey___studio/3124641420', 'http://www.imgrum.org/user/_kris95/1002727808', 'http://www.imgrum.org/user/noqqo/1693286064', 'http://www.imgrum.org/user/the_root/845926071', '', 'http://www.imgrum.org/user/nottingham.streets/4764079659', 'http://www.imgrum.org/user/ss71171/211583026', 'http://www.imgrum.org/user/deki.15/1381938789', 'http://www.imgrum.org/user/onda_etnica_gioielli/42274624', 'http://www.imgrum.org/user/sweet_kitty_92/647556259', 'http://www.imgrum.org/user/lisamarchesini/3407206755', 'http://www.imgrum.org/user/_antoniodemeo_/233982407', '', 'http://www.imgrum.org/user/irischa_f/3254966027', 'http://www.imgrum.org/user/c_dessous_chateauroux/503971519', 'http://www.imgrum.org/user/iamantoniograssia/1488510687', 'http://www.imgrum.org/user/dermographink/1309827921', 'http://www.imgrum.org/user/officialmodamore/4165545871', 'http://www.imgrum.org/user/niclasw/1141873', 'http://www.imgrum.org/user/amazing_pictures93/4690303146', '', 'http://www.imgrum.org/user/cherubini_shop/1959242874', 'http://www.imgrum.org/user/marco2000s/283283954', 'http://www.imgrum.org/user/knr433/40869714', 'http://www.imgrum.org/user/nolanandco/2249373592', 'http://www.imgrum.org/user/raaztastik/8581639', 'http://www.imgrum.org/user/djninjaofficial/2824200460', 'http://www.imgrum.org/user/mejorwoman/2115731619', '', 'http://www.imgrum.org/user/cinziasauli/4632308506', 'http://www.imgrum.org/user/lays_eats/4691036047', 'http://www.imgrum.org/user/black.he.art/1339763279', 'http://www.imgrum.org/user/fruzsisz29_/2014478702', 'http://www.imgrum.org/user/kaganbey07/572674792', 'http://www.imgrum.org/user/katiakodakmoments/1726371964', 'http://www.imgrum.org/user/giulia.siconolfi/183240706', '', 'http://www.imgrum.org/user/lera_horan69/1438294812', 'http://www.imgrum.org/user/goeuro/626664343', 'http://www.imgrum.org/user/minutebuzzsuperbon/2994836222', 'http://www.imgrum.org/user/gaylemiddleton77/3157168840', 'http://www.imgrum.org/user/svetlanaav/372998131', 'http://www.imgrum.org/user/vivekkoshal/3030965375', 'http://www.imgrum.org/user/a_ndre_f/978815124', '', 'http://www.imgrum.org/user/fedo_faita/1554840582', 'http://www.imgrum.org/user/aditisingh29/2707474059', 'http://www.imgrum.org/user/gabycast_17/3021682700', 'http://www.imgrum.org/user/little_yni/3049669471', 'http://www.imgrum.org/user/thara_rajah/1641965431', 'http://www.imgrum.org/user/japoni_cristal_/4225333940', 'http://www.imgrum.org/user/mawiine_/193615782', '', 'http://www.imgrum.org/user/meme_gorilla/4774362300', 'http://www.imgrum.org/user/ness_alacer/1208499259', 'http://www.imgrum.org/user/geegeelamoroso/927986269', 'http://www.imgrum.org/user/nolakartikasari/1907852534', 'http://www.imgrum.org/user/billzarodimos/235333032', 'http://www.imgrum.org/user/yukari.from_nyc/4036291469', 'http://www.imgrum.org/user/allaboutindigo/2178423040', '', 'http://www.imgrum.org/user/olesya_lesya_vlg/1359496436', 'http://www.imgrum.org/user/fotografias9820/4761943231', 'http://www.imgrum.org/user/ofer7684/52646956']\n"
     ]
    }
   ],
   "source": [
    "with open(\"randomUsers.txt\", \"rt\") as f:\n",
    "    start_urls = [url.strip() for url in f.readlines()]\n",
    "    print(start_urls)"
   ]
  },
  {
   "cell_type": "code",
   "execution_count": 11,
   "metadata": {
    "collapsed": false
   },
   "outputs": [
    {
     "data": {
      "text/plain": [
       "266"
      ]
     },
     "execution_count": 11,
     "metadata": {},
     "output_type": "execute_result"
    }
   ],
   "source": [
    "len(start_urls)"
   ]
  },
  {
   "cell_type": "code",
   "execution_count": 8,
   "metadata": {
    "collapsed": false
   },
   "outputs": [],
   "source": [
    "df_urls = pd.DataFrame(start_urls)"
   ]
  },
  {
   "cell_type": "code",
   "execution_count": 12,
   "metadata": {
    "collapsed": false
   },
   "outputs": [],
   "source": [
    "df_urls = df_urls.drop_duplicates()"
   ]
  },
  {
   "cell_type": "code",
   "execution_count": 15,
   "metadata": {
    "collapsed": true
   },
   "outputs": [],
   "source": [
    "df_urls.to_csv(r'randUsernames.txt', header=None, index=None, sep=' ', mode='a')"
   ]
  },
  {
   "cell_type": "code",
   "execution_count": 17,
   "metadata": {
    "collapsed": false
   },
   "outputs": [
    {
     "name": "stdout",
     "output_type": "stream",
     "text": [
      "accounts_instagram.txt         randomUsers.txt\r\n",
      "blackstage.csv                 randomUsers2.csv\r\n",
      "goodPhotos.csv                 randomUsers3.csv\r\n",
      "\u001b[34minsta\u001b[m\u001b[m                          scrapy.cfg\r\n",
      "photographers12.csv            test_a1.csv\r\n",
      "randUsernames.txt              testrun.csv\r\n",
      "randUsers1Data.csv             un_duplicate_insta_users.ipynb\r\n",
      "randomUsers.csv\r\n"
     ]
    }
   ],
   "source": [
    "!ls"
   ]
  },
  {
   "cell_type": "markdown",
   "metadata": {},
   "source": [
    "## Get Usernames"
   ]
  },
  {
   "cell_type": "code",
   "execution_count": 258,
   "metadata": {
    "collapsed": false
   },
   "outputs": [
    {
     "data": {
      "text/html": [
       "<div>\n",
       "<table border=\"1\" class=\"dataframe\">\n",
       "  <thead>\n",
       "    <tr style=\"text-align: right;\">\n",
       "      <th></th>\n",
       "      <th>caption</th>\n",
       "      <th>comments</th>\n",
       "      <th>image_urls</th>\n",
       "      <th>images</th>\n",
       "      <th>likes</th>\n",
       "      <th>user_url</th>\n",
       "      <th>username</th>\n",
       "    </tr>\n",
       "  </thead>\n",
       "  <tbody>\n",
       "    <tr>\n",
       "      <th>121426</th>\n",
       "      <td>#bonplan #soldes #pimkie @pimkie  ____________...</td>\n",
       "      <td>10.0</td>\n",
       "      <td>http://scontent.cdninstagram.com/t51.2885-15/s...</td>\n",
       "      <td>[{'path': 'full/4432f9d9d6e90ab1147789a67a6694...</td>\n",
       "      <td>192.0</td>\n",
       "      <td>http://www.imgrum.org/user/idee2look/300983387</td>\n",
       "      <td>Stephanie (@idee2look)</td>\n",
       "    </tr>\n",
       "    <tr>\n",
       "      <th>121427</th>\n",
       "      <td>Look du jour #idee2look avec manteau #promod 2...</td>\n",
       "      <td>13.0</td>\n",
       "      <td>http://scontent.cdninstagram.com/t51.2885-15/s...</td>\n",
       "      <td>[{'path': 'full/259d398f595d5e19e5f291333b850c...</td>\n",
       "      <td>145.0</td>\n",
       "      <td>http://www.imgrum.org/user/idee2look/300983387</td>\n",
       "      <td>Stephanie (@idee2look)</td>\n",
       "    </tr>\n",
       "  </tbody>\n",
       "</table>\n",
       "</div>"
      ],
      "text/plain": [
       "                                                  caption  comments  \\\n",
       "121426  #bonplan #soldes #pimkie @pimkie  ____________...      10.0   \n",
       "121427  Look du jour #idee2look avec manteau #promod 2...      13.0   \n",
       "\n",
       "                                               image_urls  \\\n",
       "121426  http://scontent.cdninstagram.com/t51.2885-15/s...   \n",
       "121427  http://scontent.cdninstagram.com/t51.2885-15/s...   \n",
       "\n",
       "                                                   images  likes  \\\n",
       "121426  [{'path': 'full/4432f9d9d6e90ab1147789a67a6694...  192.0   \n",
       "121427  [{'path': 'full/259d398f595d5e19e5f291333b850c...  145.0   \n",
       "\n",
       "                                              user_url                username  \n",
       "121426  http://www.imgrum.org/user/idee2look/300983387  Stephanie (@idee2look)  \n",
       "121427  http://www.imgrum.org/user/idee2look/300983387  Stephanie (@idee2look)  "
      ]
     },
     "execution_count": 258,
     "metadata": {},
     "output_type": "execute_result"
    }
   ],
   "source": [
    "goodPhotos = pd.read_csv('goodPhotos.csv')\n",
    "randPhotos = pd.read_csv('randUsers1Data.csv')\n",
    "meta_data = goodPhotos.append(randPhotos)\n",
    "meta_data.tail(2)"
   ]
  },
  {
   "cell_type": "code",
   "execution_count": 259,
   "metadata": {
    "collapsed": false
   },
   "outputs": [
    {
     "data": {
      "text/plain": [
       "160381"
      ]
     },
     "execution_count": 259,
     "metadata": {},
     "output_type": "execute_result"
    }
   ],
   "source": [
    "meta_data = meta_data[(meta_data['username'].notnull())]\n",
    "len(test)"
   ]
  },
  {
   "cell_type": "code",
   "execution_count": 260,
   "metadata": {
    "collapsed": false
   },
   "outputs": [],
   "source": [
    "def getUsername(row):\n",
    "    a = re.search(r'\\(@[^)]*\\)', row.username)\n",
    "    return a.group(0)[2:-1]"
   ]
  },
  {
   "cell_type": "code",
   "execution_count": 261,
   "metadata": {
    "collapsed": false
   },
   "outputs": [],
   "source": [
    "meta_data[\"username\"] = meta_data.apply(getUsername,axis=1)"
   ]
  },
  {
   "cell_type": "code",
   "execution_count": 262,
   "metadata": {
    "collapsed": false,
    "scrolled": true
   },
   "outputs": [
    {
     "data": {
      "text/html": [
       "<div>\n",
       "<table border=\"1\" class=\"dataframe\">\n",
       "  <thead>\n",
       "    <tr style=\"text-align: right;\">\n",
       "      <th></th>\n",
       "      <th>caption</th>\n",
       "      <th>comments</th>\n",
       "      <th>image_urls</th>\n",
       "      <th>images</th>\n",
       "      <th>likes</th>\n",
       "      <th>user_url</th>\n",
       "      <th>username</th>\n",
       "    </tr>\n",
       "  </thead>\n",
       "  <tbody>\n",
       "    <tr>\n",
       "      <th>24</th>\n",
       "      <td>{ Timeless Beauty } • Breathtaking place to fe...</td>\n",
       "      <td>196.0</td>\n",
       "      <td>http://scontent.cdninstagram.com/t51.2885-15/s...</td>\n",
       "      <td>[{'url': 'http://scontent.cdninstagram.com/t51...</td>\n",
       "      <td>25518.0</td>\n",
       "      <td>http://www.imgrum.org/user/brahmino/1918184</td>\n",
       "      <td>brahmino</td>\n",
       "    </tr>\n",
       "    <tr>\n",
       "      <th>25</th>\n",
       "      <td>{ Golden Morning } • Happy to wake up early an...</td>\n",
       "      <td>298.0</td>\n",
       "      <td>http://scontent.cdninstagram.com/t51.2885-15/s...</td>\n",
       "      <td>[{'url': 'http://scontent.cdninstagram.com/t51...</td>\n",
       "      <td>28436.0</td>\n",
       "      <td>http://www.imgrum.org/user/brahmino/1918184</td>\n",
       "      <td>brahmino</td>\n",
       "    </tr>\n",
       "  </tbody>\n",
       "</table>\n",
       "</div>"
      ],
      "text/plain": [
       "                                              caption  comments  \\\n",
       "24  { Timeless Beauty } • Breathtaking place to fe...     196.0   \n",
       "25  { Golden Morning } • Happy to wake up early an...     298.0   \n",
       "\n",
       "                                           image_urls  \\\n",
       "24  http://scontent.cdninstagram.com/t51.2885-15/s...   \n",
       "25  http://scontent.cdninstagram.com/t51.2885-15/s...   \n",
       "\n",
       "                                               images    likes  \\\n",
       "24  [{'url': 'http://scontent.cdninstagram.com/t51...  25518.0   \n",
       "25  [{'url': 'http://scontent.cdninstagram.com/t51...  28436.0   \n",
       "\n",
       "                                       user_url  username  \n",
       "24  http://www.imgrum.org/user/brahmino/1918184  brahmino  \n",
       "25  http://www.imgrum.org/user/brahmino/1918184  brahmino  "
      ]
     },
     "execution_count": 262,
     "metadata": {},
     "output_type": "execute_result"
    }
   ],
   "source": [
    "meta_data = meta_data[(meta_data['images'].notnull())]\n",
    "meta_data.head(2)"
   ]
  },
  {
   "cell_type": "markdown",
   "metadata": {},
   "source": [
    "### Print URLS to get follower data"
   ]
  },
  {
   "cell_type": "code",
   "execution_count": 263,
   "metadata": {
    "collapsed": false
   },
   "outputs": [],
   "source": [
    "unames = list(set(meta_data['username']))"
   ]
  },
  {
   "cell_type": "code",
   "execution_count": 264,
   "metadata": {
    "collapsed": false
   },
   "outputs": [],
   "source": [
    "urls = []\n",
    "for i in range(len(unames)):\n",
    "    urls.append('https://www.instagram.com/'+unames[i]+'/?__a=1')\n",
    "urls = pd.DataFrame(urls)"
   ]
  },
  {
   "cell_type": "code",
   "execution_count": 265,
   "metadata": {
    "collapsed": false
   },
   "outputs": [],
   "source": [
    "urls.to_csv('user_urls.txt', index=False)"
   ]
  },
  {
   "cell_type": "code",
   "execution_count": 266,
   "metadata": {
    "collapsed": false
   },
   "outputs": [
    {
     "data": {
      "text/plain": [
       "160418"
      ]
     },
     "execution_count": 266,
     "metadata": {},
     "output_type": "execute_result"
    }
   ],
   "source": [
    "len(meta_data)"
   ]
  },
  {
   "cell_type": "code",
   "execution_count": 267,
   "metadata": {
    "collapsed": true
   },
   "outputs": [],
   "source": [
    "followers = pd.read_csv('data/followers_data.csv')\n",
    "followers = followers.drop(['images'],1)"
   ]
  },
  {
   "cell_type": "code",
   "execution_count": 255,
   "metadata": {
    "collapsed": false
   },
   "outputs": [
    {
     "data": {
      "text/html": [
       "<div>\n",
       "<table border=\"1\" class=\"dataframe\">\n",
       "  <thead>\n",
       "    <tr style=\"text-align: right;\">\n",
       "      <th></th>\n",
       "      <th>insta_id</th>\n",
       "      <th>is_verified</th>\n",
       "      <th>following</th>\n",
       "      <th>full_name</th>\n",
       "      <th>followers</th>\n",
       "      <th>posts</th>\n",
       "      <th>username</th>\n",
       "    </tr>\n",
       "  </thead>\n",
       "  <tbody>\n",
       "    <tr>\n",
       "      <th>0</th>\n",
       "      <td>208131708</td>\n",
       "      <td>False</td>\n",
       "      <td>356</td>\n",
       "      <td>▪️5ft. dad ▪️</td>\n",
       "      <td>4056</td>\n",
       "      <td>69</td>\n",
       "      <td>airinyung</td>\n",
       "    </tr>\n",
       "    <tr>\n",
       "      <th>1</th>\n",
       "      <td>1579219460</td>\n",
       "      <td>False</td>\n",
       "      <td>232</td>\n",
       "      <td>Comedy Ahmed</td>\n",
       "      <td>1012</td>\n",
       "      <td>1357</td>\n",
       "      <td>comedyahmed</td>\n",
       "    </tr>\n",
       "    <tr>\n",
       "      <th>2</th>\n",
       "      <td>264364242</td>\n",
       "      <td>False</td>\n",
       "      <td>483</td>\n",
       "      <td>Jesse Herzog</td>\n",
       "      <td>228722</td>\n",
       "      <td>1782</td>\n",
       "      <td>jesseherzog</td>\n",
       "    </tr>\n",
       "    <tr>\n",
       "      <th>3</th>\n",
       "      <td>454515755</td>\n",
       "      <td>False</td>\n",
       "      <td>561</td>\n",
       "      <td>pipinya_zizi</td>\n",
       "      <td>1187</td>\n",
       "      <td>565</td>\n",
       "      <td>pipinya_zizi</td>\n",
       "    </tr>\n",
       "    <tr>\n",
       "      <th>4</th>\n",
       "      <td>1462059659</td>\n",
       "      <td>False</td>\n",
       "      <td>2602</td>\n",
       "      <td>MO 👼🏾</td>\n",
       "      <td>20351</td>\n",
       "      <td>807</td>\n",
       "      <td>phobymo</td>\n",
       "    </tr>\n",
       "  </tbody>\n",
       "</table>\n",
       "</div>"
      ],
      "text/plain": [
       "     insta_id is_verified  following      full_name  followers  posts  \\\n",
       "0   208131708       False        356  ▪️5ft. dad ▪️       4056     69   \n",
       "1  1579219460       False        232   Comedy Ahmed       1012   1357   \n",
       "2   264364242       False        483   Jesse Herzog     228722   1782   \n",
       "3   454515755       False        561   pipinya_zizi       1187    565   \n",
       "4  1462059659       False       2602          MO 👼🏾      20351    807   \n",
       "\n",
       "       username  \n",
       "0     airinyung  \n",
       "1   comedyahmed  \n",
       "2   jesseherzog  \n",
       "3  pipinya_zizi  \n",
       "4       phobymo  "
      ]
     },
     "execution_count": 255,
     "metadata": {},
     "output_type": "execute_result"
    }
   ],
   "source": [
    "followers.head()"
   ]
  },
  {
   "cell_type": "code",
   "execution_count": 268,
   "metadata": {
    "collapsed": false
   },
   "outputs": [
    {
     "data": {
      "text/plain": [
       "160381"
      ]
     },
     "execution_count": 268,
     "metadata": {},
     "output_type": "execute_result"
    }
   ],
   "source": [
    "meta_data = pd.merge(meta_data,followers, on = 'username').reset_index()\n",
    "meta_data = meta_data.drop(['images'],1)\n",
    "len(test)"
   ]
  },
  {
   "cell_type": "code",
   "execution_count": 269,
   "metadata": {
    "collapsed": false
   },
   "outputs": [
    {
     "data": {
      "text/html": [
       "<div>\n",
       "<table border=\"1\" class=\"dataframe\">\n",
       "  <thead>\n",
       "    <tr style=\"text-align: right;\">\n",
       "      <th></th>\n",
       "      <th>caption</th>\n",
       "      <th>comments</th>\n",
       "      <th>image_urls</th>\n",
       "      <th>images</th>\n",
       "      <th>likes</th>\n",
       "      <th>user_url</th>\n",
       "      <th>username</th>\n",
       "      <th>insta_id</th>\n",
       "      <th>is_verified</th>\n",
       "      <th>following</th>\n",
       "      <th>full_name</th>\n",
       "      <th>followers</th>\n",
       "      <th>posts</th>\n",
       "    </tr>\n",
       "  </thead>\n",
       "  <tbody>\n",
       "    <tr>\n",
       "      <th>0</th>\n",
       "      <td>{ Timeless Beauty } • Breathtaking place to fe...</td>\n",
       "      <td>196.0</td>\n",
       "      <td>http://scontent.cdninstagram.com/t51.2885-15/s...</td>\n",
       "      <td>[{'url': 'http://scontent.cdninstagram.com/t51...</td>\n",
       "      <td>25518.0</td>\n",
       "      <td>http://www.imgrum.org/user/brahmino/1918184</td>\n",
       "      <td>brahmino</td>\n",
       "      <td>1918184</td>\n",
       "      <td>False</td>\n",
       "      <td>341</td>\n",
       "      <td>Simone Bramante</td>\n",
       "      <td>830765</td>\n",
       "      <td>1194</td>\n",
       "    </tr>\n",
       "    <tr>\n",
       "      <th>1</th>\n",
       "      <td>{ Golden Morning } • Happy to wake up early an...</td>\n",
       "      <td>298.0</td>\n",
       "      <td>http://scontent.cdninstagram.com/t51.2885-15/s...</td>\n",
       "      <td>[{'url': 'http://scontent.cdninstagram.com/t51...</td>\n",
       "      <td>28436.0</td>\n",
       "      <td>http://www.imgrum.org/user/brahmino/1918184</td>\n",
       "      <td>brahmino</td>\n",
       "      <td>1918184</td>\n",
       "      <td>False</td>\n",
       "      <td>341</td>\n",
       "      <td>Simone Bramante</td>\n",
       "      <td>830765</td>\n",
       "      <td>1194</td>\n",
       "    </tr>\n",
       "  </tbody>\n",
       "</table>\n",
       "</div>"
      ],
      "text/plain": [
       "                                             caption  comments  \\\n",
       "0  { Timeless Beauty } • Breathtaking place to fe...     196.0   \n",
       "1  { Golden Morning } • Happy to wake up early an...     298.0   \n",
       "\n",
       "                                          image_urls  \\\n",
       "0  http://scontent.cdninstagram.com/t51.2885-15/s...   \n",
       "1  http://scontent.cdninstagram.com/t51.2885-15/s...   \n",
       "\n",
       "                                              images    likes  \\\n",
       "0  [{'url': 'http://scontent.cdninstagram.com/t51...  25518.0   \n",
       "1  [{'url': 'http://scontent.cdninstagram.com/t51...  28436.0   \n",
       "\n",
       "                                      user_url  username  insta_id  \\\n",
       "0  http://www.imgrum.org/user/brahmino/1918184  brahmino   1918184   \n",
       "1  http://www.imgrum.org/user/brahmino/1918184  brahmino   1918184   \n",
       "\n",
       "  is_verified  following        full_name  followers  posts  \n",
       "0       False        341  Simone Bramante     830765   1194  \n",
       "1       False        341  Simone Bramante     830765   1194  "
      ]
     },
     "execution_count": 269,
     "metadata": {},
     "output_type": "execute_result"
    }
   ],
   "source": [
    "meta_data.head(2)"
   ]
  },
  {
   "cell_type": "code",
   "execution_count": 273,
   "metadata": {
    "collapsed": false
   },
   "outputs": [
    {
     "name": "stdout",
     "output_type": "stream",
     "text": [
      "<class 'str'>\n",
      "[{'url': 'http://scontent.cdninstagram.com/t51.2885-15/s480x480/e35/c0.134.1080.1080/17125902_1260649764012807_8695089225495740416_n.jpg?ig_cache_key=MTQ2NTI5MDU2OTYzMDAxMTg1OQ%3D%3D.2.c', 'path': 'full/2299079fa299a4b2ad784ebe588243865f45791c.jpg', 'checksum': '6d382a79e19ef8eef973b715d63180aa'}]\n"
     ]
    }
   ],
   "source": [
    "print(type(meta_data.images[0][1:-1]))\n",
    "print((meta_data.images[0]))"
   ]
  },
  {
   "cell_type": "code",
   "execution_count": 274,
   "metadata": {
    "collapsed": false
   },
   "outputs": [],
   "source": [
    "def makeJson(row):\n",
    "    row = row[1:-1]\n",
    "    json_acceptable_string = row.replace(\"'\", \"\\\"\")\n",
    "    return json.loads(json_acceptable_string)"
   ]
  },
  {
   "cell_type": "code",
   "execution_count": 275,
   "metadata": {
    "collapsed": false
   },
   "outputs": [
    {
     "data": {
      "text/html": [
       "<div>\n",
       "<table border=\"1\" class=\"dataframe\">\n",
       "  <thead>\n",
       "    <tr style=\"text-align: right;\">\n",
       "      <th></th>\n",
       "      <th>caption</th>\n",
       "      <th>comments</th>\n",
       "      <th>image_urls</th>\n",
       "      <th>images</th>\n",
       "      <th>likes</th>\n",
       "      <th>user_url</th>\n",
       "      <th>username</th>\n",
       "      <th>insta_id</th>\n",
       "      <th>is_verified</th>\n",
       "      <th>following</th>\n",
       "      <th>full_name</th>\n",
       "      <th>followers</th>\n",
       "      <th>posts</th>\n",
       "    </tr>\n",
       "  </thead>\n",
       "  <tbody>\n",
       "    <tr>\n",
       "      <th>0</th>\n",
       "      <td>{ Timeless Beauty } • Breathtaking place to fe...</td>\n",
       "      <td>196.0</td>\n",
       "      <td>http://scontent.cdninstagram.com/t51.2885-15/s...</td>\n",
       "      <td>{'checksum': '6d382a79e19ef8eef973b715d63180aa...</td>\n",
       "      <td>25518.0</td>\n",
       "      <td>http://www.imgrum.org/user/brahmino/1918184</td>\n",
       "      <td>brahmino</td>\n",
       "      <td>1918184</td>\n",
       "      <td>False</td>\n",
       "      <td>341</td>\n",
       "      <td>Simone Bramante</td>\n",
       "      <td>830765</td>\n",
       "      <td>1194</td>\n",
       "    </tr>\n",
       "    <tr>\n",
       "      <th>1</th>\n",
       "      <td>{ Golden Morning } • Happy to wake up early an...</td>\n",
       "      <td>298.0</td>\n",
       "      <td>http://scontent.cdninstagram.com/t51.2885-15/s...</td>\n",
       "      <td>{'checksum': '3757b15a6fe424b2c543f07e48d87d60...</td>\n",
       "      <td>28436.0</td>\n",
       "      <td>http://www.imgrum.org/user/brahmino/1918184</td>\n",
       "      <td>brahmino</td>\n",
       "      <td>1918184</td>\n",
       "      <td>False</td>\n",
       "      <td>341</td>\n",
       "      <td>Simone Bramante</td>\n",
       "      <td>830765</td>\n",
       "      <td>1194</td>\n",
       "    </tr>\n",
       "  </tbody>\n",
       "</table>\n",
       "</div>"
      ],
      "text/plain": [
       "                                             caption  comments  \\\n",
       "0  { Timeless Beauty } • Breathtaking place to fe...     196.0   \n",
       "1  { Golden Morning } • Happy to wake up early an...     298.0   \n",
       "\n",
       "                                          image_urls  \\\n",
       "0  http://scontent.cdninstagram.com/t51.2885-15/s...   \n",
       "1  http://scontent.cdninstagram.com/t51.2885-15/s...   \n",
       "\n",
       "                                              images    likes  \\\n",
       "0  {'checksum': '6d382a79e19ef8eef973b715d63180aa...  25518.0   \n",
       "1  {'checksum': '3757b15a6fe424b2c543f07e48d87d60...  28436.0   \n",
       "\n",
       "                                      user_url  username  insta_id  \\\n",
       "0  http://www.imgrum.org/user/brahmino/1918184  brahmino   1918184   \n",
       "1  http://www.imgrum.org/user/brahmino/1918184  brahmino   1918184   \n",
       "\n",
       "  is_verified  following        full_name  followers  posts  \n",
       "0       False        341  Simone Bramante     830765   1194  \n",
       "1       False        341  Simone Bramante     830765   1194  "
      ]
     },
     "execution_count": 275,
     "metadata": {},
     "output_type": "execute_result"
    }
   ],
   "source": [
    "meta_data[\"images\"] = meta_data.images.apply(makeJson)\n",
    "print(type(meta_data.images[0]))\n",
    "meta_data.head(2)"
   ]
  },
  {
   "cell_type": "code",
   "execution_count": 280,
   "metadata": {
    "collapsed": true
   },
   "outputs": [],
   "source": [
    "meta_data.to_csv('data/meta_data.csv', index = False)"
   ]
  },
  {
   "cell_type": "code",
   "execution_count": 286,
   "metadata": {
    "collapsed": false
   },
   "outputs": [],
   "source": [
    "with open('meta_data.pkl', 'wb') as picklefile:\n",
    "    pickle.dump(meta_data, picklefile)"
   ]
  },
  {
   "cell_type": "code",
   "execution_count": 292,
   "metadata": {
    "collapsed": false
   },
   "outputs": [
    {
     "data": {
      "text/plain": [
       "'full/2299079fa299a4b2ad784ebe588243865f45791c.jpg'"
      ]
     },
     "execution_count": 292,
     "metadata": {},
     "output_type": "execute_result"
    }
   ],
   "source": [
    "meta_data.images[0]['path']"
   ]
  },
  {
   "cell_type": "code",
   "execution_count": null,
   "metadata": {
    "collapsed": true
   },
   "outputs": [],
   "source": []
  }
 ],
 "metadata": {
  "anaconda-cloud": {},
  "kernelspec": {
   "display_name": "Python [default]",
   "language": "python",
   "name": "python3"
  },
  "language_info": {
   "codemirror_mode": {
    "name": "ipython",
    "version": 3
   },
   "file_extension": ".py",
   "mimetype": "text/x-python",
   "name": "python",
   "nbconvert_exporter": "python",
   "pygments_lexer": "ipython3",
   "version": "3.5.2"
  }
 },
 "nbformat": 4,
 "nbformat_minor": 1
}
