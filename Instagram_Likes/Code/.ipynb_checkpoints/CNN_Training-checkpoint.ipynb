{
 "cells": [
  {
   "cell_type": "code",
   "execution_count": 20,
   "metadata": {
    "collapsed": false
   },
   "outputs": [],
   "source": [
    "from PIL import Image \n",
    "from PIL.ExifTags import TAGS, GPSTAGS\n",
    "import numpy as np\n",
    "import pandas as pd\n",
    "\n",
    "# keras\n",
    "np.random.seed(13)\n",
    "from keras.models import Sequential\n",
    "from keras.layers import Dense, Embedding, ZeroPadding2D, Reshape, Activation, SimpleRNN, GRU, LSTM, Convolution1D, MaxPooling1D, Merge, Dropout, Flatten\n",
    "from IPython.display import SVG\n",
    "from keras.utils import np_utils\n",
    "from keras.utils.data_utils import get_file\n",
    "from keras.preprocessing.text import Tokenizer\n",
    "from keras.utils.visualize_util import model_to_dot, plot\n",
    "from keras.datasets import imdb, reuters\n",
    "from keras.preprocessing import sequence\n",
    "from keras.optimizers import SGD, RMSprop\n",
    "\n",
    "from keras.layers import Convolution2D, Conv2D, MaxPooling2D\n",
    "from keras.preprocessing.image import ImageDataGenerator\n",
    "from keras import backend as k\n",
    "k.set_image_dim_ordering('th')"
   ]
  },
  {
   "cell_type": "code",
   "execution_count": 22,
   "metadata": {
    "collapsed": true
   },
   "outputs": [],
   "source": [
    "path = \"../../../local_files/Projects/Instagram_Likes_Local/InstaImages/testrun\""
   ]
  },
  {
   "cell_type": "code",
   "execution_count": 3,
   "metadata": {
    "collapsed": true
   },
   "outputs": [],
   "source": [
    "image = Image.open(path + \"/train/average/14283398037497286300e9a0615524e6fc95a2c2.jpg\")"
   ]
  },
  {
   "cell_type": "code",
   "execution_count": 4,
   "metadata": {
    "collapsed": false
   },
   "outputs": [
    {
     "data": {
      "text/plain": [
       "(270, 270)"
      ]
     },
     "execution_count": 4,
     "metadata": {},
     "output_type": "execute_result"
    }
   ],
   "source": [
    "# im.size\n",
    "image.size"
   ]
  },
  {
   "cell_type": "code",
   "execution_count": 17,
   "metadata": {
    "collapsed": false
   },
   "outputs": [],
   "source": [
    "# Create a Keras Sequential model \n",
    "model = Sequential()\n",
    "\n",
    "# Specify the network architecture\n",
    "# Here we add layers to our model, we'll come back to that in a bit\n",
    "\n",
    "#model.add(Dense(output_dim=64, batch_input_shape=(20, 100)))   #~ if we wanted to specify a batch size,\n",
    "model.add(Dense(output_dim=64,input_dim=100))\n",
    "model.add(Activation(\"relu\"))\n",
    "model.add(Dense(output_dim=10))\n",
    "model.add(Activation(\"softmax\"))\n"
   ]
  },
  {
   "cell_type": "code",
   "execution_count": 25,
   "metadata": {
    "collapsed": false
   },
   "outputs": [],
   "source": [
    "model = Sequential()\n",
    "model.add(ZeroPadding2D((1,1), input_shape=(3,256,256)))\n",
    "model.add(Convolution2D(32, 3, 3))\n",
    "model.add(Activation('relu'))\n",
    "model.add(MaxPooling2D(pool_size=(2, 2)))\n",
    "\n",
    "model.add(Conv2D(32, 3, 3))\n",
    "model.add(Activation('relu'))\n",
    "model.add(MaxPooling2D(pool_size=(2, 2)))\n",
    "\n",
    "model.add(Conv2D(512, 3, 3))\n",
    "model.add(Activation('relu'))\n",
    "model.add(MaxPooling2D(pool_size=(2, 2), strides=(2,2)))\n",
    "\n",
    "# the model so far outputs 3D feature maps (height, width, features)\n",
    "\n",
    "model.add(Flatten())  # this converts our 3D feature maps to 1D feature vectors\n",
    "model.add(Dense(4096))\n",
    "model.add(Activation('relu'))\n",
    "model.add(Dropout(0.5))\n",
    "model.add(Dense(3))\n",
    "model.add(Activation('softmax'))\n"
   ]
  },
  {
   "cell_type": "code",
   "execution_count": 26,
   "metadata": {
    "collapsed": false
   },
   "outputs": [],
   "source": [
    "model.compile(loss='categorical_crossentropy',\n",
    "              optimizer='rmsprop',\n",
    "              metrics=['accuracy'])"
   ]
  },
  {
   "cell_type": "code",
   "execution_count": 27,
   "metadata": {
    "collapsed": false
   },
   "outputs": [
    {
     "data": {
      "image/svg+xml": [
       "<svg height=\"1349pt\" viewBox=\"0.00 0.00 408.71 1349.00\" width=\"409pt\" xmlns=\"http://www.w3.org/2000/svg\" xmlns:xlink=\"http://www.w3.org/1999/xlink\">\n",
       "<g class=\"graph\" id=\"graph0\" transform=\"scale(1 1) rotate(0) translate(4 1345)\">\n",
       "<title>G</title>\n",
       "<polygon fill=\"white\" points=\"-4,4 -4,-1345 404.707,-1345 404.707,4 -4,4\" stroke=\"none\"/>\n",
       "<!-- 4647238792 -->\n",
       "<g class=\"node\" id=\"node1\"><title>4647238792</title>\n",
       "<polygon fill=\"none\" points=\"0.416992,-1296.5 0.416992,-1340.5 400.29,-1340.5 400.29,-1296.5 0.416992,-1296.5\" stroke=\"black\"/>\n",
       "<text font-family=\"Times,serif\" font-size=\"14.00\" text-anchor=\"middle\" x=\"109.695\" y=\"-1314.3\">zeropadding2d_input_9: InputLayer</text>\n",
       "<polyline fill=\"none\" points=\"218.973,-1296.5 218.973,-1340.5 \" stroke=\"black\"/>\n",
       "<text font-family=\"Times,serif\" font-size=\"14.00\" text-anchor=\"middle\" x=\"246.807\" y=\"-1325.3\">input:</text>\n",
       "<polyline fill=\"none\" points=\"218.973,-1318.5 274.642,-1318.5 \" stroke=\"black\"/>\n",
       "<text font-family=\"Times,serif\" font-size=\"14.00\" text-anchor=\"middle\" x=\"246.807\" y=\"-1303.3\">output:</text>\n",
       "<polyline fill=\"none\" points=\"274.642,-1296.5 274.642,-1340.5 \" stroke=\"black\"/>\n",
       "<text font-family=\"Times,serif\" font-size=\"14.00\" text-anchor=\"middle\" x=\"337.466\" y=\"-1325.3\">(None, 3, 256, 256)</text>\n",
       "<polyline fill=\"none\" points=\"274.642,-1318.5 400.29,-1318.5 \" stroke=\"black\"/>\n",
       "<text font-family=\"Times,serif\" font-size=\"14.00\" text-anchor=\"middle\" x=\"337.466\" y=\"-1303.3\">(None, 3, 256, 256)</text>\n",
       "</g>\n",
       "<!-- 4647238568 -->\n",
       "<g class=\"node\" id=\"node2\"><title>4647238568</title>\n",
       "<polygon fill=\"none\" points=\"4.68945,-1215.5 4.68945,-1259.5 396.018,-1259.5 396.018,-1215.5 4.68945,-1215.5\" stroke=\"black\"/>\n",
       "<text font-family=\"Times,serif\" font-size=\"14.00\" text-anchor=\"middle\" x=\"109.695\" y=\"-1233.3\">zeropadding2d_9: ZeroPadding2D</text>\n",
       "<polyline fill=\"none\" points=\"214.7,-1215.5 214.7,-1259.5 \" stroke=\"black\"/>\n",
       "<text font-family=\"Times,serif\" font-size=\"14.00\" text-anchor=\"middle\" x=\"242.535\" y=\"-1244.3\">input:</text>\n",
       "<polyline fill=\"none\" points=\"214.7,-1237.5 270.369,-1237.5 \" stroke=\"black\"/>\n",
       "<text font-family=\"Times,serif\" font-size=\"14.00\" text-anchor=\"middle\" x=\"242.535\" y=\"-1222.3\">output:</text>\n",
       "<polyline fill=\"none\" points=\"270.369,-1215.5 270.369,-1259.5 \" stroke=\"black\"/>\n",
       "<text font-family=\"Times,serif\" font-size=\"14.00\" text-anchor=\"middle\" x=\"333.193\" y=\"-1244.3\">(None, 3, 256, 256)</text>\n",
       "<polyline fill=\"none\" points=\"270.369,-1237.5 396.018,-1237.5 \" stroke=\"black\"/>\n",
       "<text font-family=\"Times,serif\" font-size=\"14.00\" text-anchor=\"middle\" x=\"333.193\" y=\"-1222.3\">(None, 3, 258, 258)</text>\n",
       "</g>\n",
       "<!-- 4647238792&#45;&gt;4647238568 -->\n",
       "<g class=\"edge\" id=\"edge1\"><title>4647238792-&gt;4647238568</title>\n",
       "<path d=\"M200.354,-1296.33C200.354,-1288.18 200.354,-1278.7 200.354,-1269.8\" fill=\"none\" stroke=\"black\"/>\n",
       "<polygon fill=\"black\" points=\"203.854,-1269.73 200.354,-1259.73 196.854,-1269.73 203.854,-1269.73\" stroke=\"black\"/>\n",
       "</g>\n",
       "<!-- 4647238680 -->\n",
       "<g class=\"node\" id=\"node3\"><title>4647238680</title>\n",
       "<polygon fill=\"none\" points=\"0,-1134.5 0,-1178.5 400.707,-1178.5 400.707,-1134.5 0,-1134.5\" stroke=\"black\"/>\n",
       "<text font-family=\"Times,serif\" font-size=\"14.00\" text-anchor=\"middle\" x=\"106.195\" y=\"-1152.3\">convolution2d_18: Convolution2D</text>\n",
       "<polyline fill=\"none\" points=\"212.39,-1134.5 212.39,-1178.5 \" stroke=\"black\"/>\n",
       "<text font-family=\"Times,serif\" font-size=\"14.00\" text-anchor=\"middle\" x=\"240.224\" y=\"-1163.3\">input:</text>\n",
       "<polyline fill=\"none\" points=\"212.39,-1156.5 268.059,-1156.5 \" stroke=\"black\"/>\n",
       "<text font-family=\"Times,serif\" font-size=\"14.00\" text-anchor=\"middle\" x=\"240.224\" y=\"-1141.3\">output:</text>\n",
       "<polyline fill=\"none\" points=\"268.059,-1134.5 268.059,-1178.5 \" stroke=\"black\"/>\n",
       "<text font-family=\"Times,serif\" font-size=\"14.00\" text-anchor=\"middle\" x=\"334.383\" y=\"-1163.3\">(None, 3, 258, 258)</text>\n",
       "<polyline fill=\"none\" points=\"268.059,-1156.5 400.707,-1156.5 \" stroke=\"black\"/>\n",
       "<text font-family=\"Times,serif\" font-size=\"14.00\" text-anchor=\"middle\" x=\"334.383\" y=\"-1141.3\">(None, 32, 256, 256)</text>\n",
       "</g>\n",
       "<!-- 4647238568&#45;&gt;4647238680 -->\n",
       "<g class=\"edge\" id=\"edge2\"><title>4647238568-&gt;4647238680</title>\n",
       "<path d=\"M200.354,-1215.33C200.354,-1207.18 200.354,-1197.7 200.354,-1188.8\" fill=\"none\" stroke=\"black\"/>\n",
       "<polygon fill=\"black\" points=\"203.854,-1188.73 200.354,-1178.73 196.854,-1188.73 203.854,-1188.73\" stroke=\"black\"/>\n",
       "</g>\n",
       "<!-- 4647240928 -->\n",
       "<g class=\"node\" id=\"node4\"><title>4647240928</title>\n",
       "<polygon fill=\"none\" points=\"27.2344,-1053.5 27.2344,-1097.5 373.473,-1097.5 373.473,-1053.5 27.2344,-1053.5\" stroke=\"black\"/>\n",
       "<text font-family=\"Times,serif\" font-size=\"14.00\" text-anchor=\"middle\" x=\"106.195\" y=\"-1071.3\">activation_20: Activation</text>\n",
       "<polyline fill=\"none\" points=\"185.155,-1053.5 185.155,-1097.5 \" stroke=\"black\"/>\n",
       "<text font-family=\"Times,serif\" font-size=\"14.00\" text-anchor=\"middle\" x=\"212.99\" y=\"-1082.3\">input:</text>\n",
       "<polyline fill=\"none\" points=\"185.155,-1075.5 240.824,-1075.5 \" stroke=\"black\"/>\n",
       "<text font-family=\"Times,serif\" font-size=\"14.00\" text-anchor=\"middle\" x=\"212.99\" y=\"-1060.3\">output:</text>\n",
       "<polyline fill=\"none\" points=\"240.824,-1053.5 240.824,-1097.5 \" stroke=\"black\"/>\n",
       "<text font-family=\"Times,serif\" font-size=\"14.00\" text-anchor=\"middle\" x=\"307.148\" y=\"-1082.3\">(None, 32, 256, 256)</text>\n",
       "<polyline fill=\"none\" points=\"240.824,-1075.5 373.473,-1075.5 \" stroke=\"black\"/>\n",
       "<text font-family=\"Times,serif\" font-size=\"14.00\" text-anchor=\"middle\" x=\"307.148\" y=\"-1060.3\">(None, 32, 256, 256)</text>\n",
       "</g>\n",
       "<!-- 4647238680&#45;&gt;4647240928 -->\n",
       "<g class=\"edge\" id=\"edge3\"><title>4647238680-&gt;4647240928</title>\n",
       "<path d=\"M200.354,-1134.33C200.354,-1126.18 200.354,-1116.7 200.354,-1107.8\" fill=\"none\" stroke=\"black\"/>\n",
       "<polygon fill=\"black\" points=\"203.854,-1107.73 200.354,-1097.73 196.854,-1107.73 203.854,-1107.73\" stroke=\"black\"/>\n",
       "</g>\n",
       "<!-- 4647299504 -->\n",
       "<g class=\"node\" id=\"node5\"><title>4647299504</title>\n",
       "<polygon fill=\"none\" points=\"0.389648,-972.5 0.389648,-1016.5 400.317,-1016.5 400.317,-972.5 0.389648,-972.5\" stroke=\"black\"/>\n",
       "<text font-family=\"Times,serif\" font-size=\"14.00\" text-anchor=\"middle\" x=\"106.195\" y=\"-990.3\">maxpooling2d_18: MaxPooling2D</text>\n",
       "<polyline fill=\"none\" points=\"212,-972.5 212,-1016.5 \" stroke=\"black\"/>\n",
       "<text font-family=\"Times,serif\" font-size=\"14.00\" text-anchor=\"middle\" x=\"239.834\" y=\"-1001.3\">input:</text>\n",
       "<polyline fill=\"none\" points=\"212,-994.5 267.669,-994.5 \" stroke=\"black\"/>\n",
       "<text font-family=\"Times,serif\" font-size=\"14.00\" text-anchor=\"middle\" x=\"239.834\" y=\"-979.3\">output:</text>\n",
       "<polyline fill=\"none\" points=\"267.669,-972.5 267.669,-1016.5 \" stroke=\"black\"/>\n",
       "<text font-family=\"Times,serif\" font-size=\"14.00\" text-anchor=\"middle\" x=\"333.993\" y=\"-1001.3\">(None, 32, 256, 256)</text>\n",
       "<polyline fill=\"none\" points=\"267.669,-994.5 400.317,-994.5 \" stroke=\"black\"/>\n",
       "<text font-family=\"Times,serif\" font-size=\"14.00\" text-anchor=\"middle\" x=\"333.993\" y=\"-979.3\">(None, 32, 128, 128)</text>\n",
       "</g>\n",
       "<!-- 4647240928&#45;&gt;4647299504 -->\n",
       "<g class=\"edge\" id=\"edge4\"><title>4647240928-&gt;4647299504</title>\n",
       "<path d=\"M200.354,-1053.33C200.354,-1045.18 200.354,-1035.7 200.354,-1026.8\" fill=\"none\" stroke=\"black\"/>\n",
       "<polygon fill=\"black\" points=\"203.854,-1026.73 200.354,-1016.73 196.854,-1026.73 203.854,-1026.73\" stroke=\"black\"/>\n",
       "</g>\n",
       "<!-- 4647314600 -->\n",
       "<g class=\"node\" id=\"node6\"><title>4647314600</title>\n",
       "<polygon fill=\"none\" points=\"0,-891.5 0,-935.5 400.707,-935.5 400.707,-891.5 0,-891.5\" stroke=\"black\"/>\n",
       "<text font-family=\"Times,serif\" font-size=\"14.00\" text-anchor=\"middle\" x=\"106.195\" y=\"-909.3\">convolution2d_19: Convolution2D</text>\n",
       "<polyline fill=\"none\" points=\"212.39,-891.5 212.39,-935.5 \" stroke=\"black\"/>\n",
       "<text font-family=\"Times,serif\" font-size=\"14.00\" text-anchor=\"middle\" x=\"240.224\" y=\"-920.3\">input:</text>\n",
       "<polyline fill=\"none\" points=\"212.39,-913.5 268.059,-913.5 \" stroke=\"black\"/>\n",
       "<text font-family=\"Times,serif\" font-size=\"14.00\" text-anchor=\"middle\" x=\"240.224\" y=\"-898.3\">output:</text>\n",
       "<polyline fill=\"none\" points=\"268.059,-891.5 268.059,-935.5 \" stroke=\"black\"/>\n",
       "<text font-family=\"Times,serif\" font-size=\"14.00\" text-anchor=\"middle\" x=\"334.383\" y=\"-920.3\">(None, 32, 128, 128)</text>\n",
       "<polyline fill=\"none\" points=\"268.059,-913.5 400.707,-913.5 \" stroke=\"black\"/>\n",
       "<text font-family=\"Times,serif\" font-size=\"14.00\" text-anchor=\"middle\" x=\"334.383\" y=\"-898.3\">(None, 32, 126, 126)</text>\n",
       "</g>\n",
       "<!-- 4647299504&#45;&gt;4647314600 -->\n",
       "<g class=\"edge\" id=\"edge5\"><title>4647299504-&gt;4647314600</title>\n",
       "<path d=\"M200.354,-972.329C200.354,-964.183 200.354,-954.699 200.354,-945.797\" fill=\"none\" stroke=\"black\"/>\n",
       "<polygon fill=\"black\" points=\"203.854,-945.729 200.354,-935.729 196.854,-945.729 203.854,-945.729\" stroke=\"black\"/>\n",
       "</g>\n",
       "<!-- 4647315048 -->\n",
       "<g class=\"node\" id=\"node7\"><title>4647315048</title>\n",
       "<polygon fill=\"none\" points=\"27.2344,-810.5 27.2344,-854.5 373.473,-854.5 373.473,-810.5 27.2344,-810.5\" stroke=\"black\"/>\n",
       "<text font-family=\"Times,serif\" font-size=\"14.00\" text-anchor=\"middle\" x=\"106.195\" y=\"-828.3\">activation_21: Activation</text>\n",
       "<polyline fill=\"none\" points=\"185.155,-810.5 185.155,-854.5 \" stroke=\"black\"/>\n",
       "<text font-family=\"Times,serif\" font-size=\"14.00\" text-anchor=\"middle\" x=\"212.99\" y=\"-839.3\">input:</text>\n",
       "<polyline fill=\"none\" points=\"185.155,-832.5 240.824,-832.5 \" stroke=\"black\"/>\n",
       "<text font-family=\"Times,serif\" font-size=\"14.00\" text-anchor=\"middle\" x=\"212.99\" y=\"-817.3\">output:</text>\n",
       "<polyline fill=\"none\" points=\"240.824,-810.5 240.824,-854.5 \" stroke=\"black\"/>\n",
       "<text font-family=\"Times,serif\" font-size=\"14.00\" text-anchor=\"middle\" x=\"307.148\" y=\"-839.3\">(None, 32, 126, 126)</text>\n",
       "<polyline fill=\"none\" points=\"240.824,-832.5 373.473,-832.5 \" stroke=\"black\"/>\n",
       "<text font-family=\"Times,serif\" font-size=\"14.00\" text-anchor=\"middle\" x=\"307.148\" y=\"-817.3\">(None, 32, 126, 126)</text>\n",
       "</g>\n",
       "<!-- 4647314600&#45;&gt;4647315048 -->\n",
       "<g class=\"edge\" id=\"edge6\"><title>4647314600-&gt;4647315048</title>\n",
       "<path d=\"M200.354,-891.329C200.354,-883.183 200.354,-873.699 200.354,-864.797\" fill=\"none\" stroke=\"black\"/>\n",
       "<polygon fill=\"black\" points=\"203.854,-864.729 200.354,-854.729 196.854,-864.729 203.854,-864.729\" stroke=\"black\"/>\n",
       "</g>\n",
       "<!-- 4647338112 -->\n",
       "<g class=\"node\" id=\"node8\"><title>4647338112</title>\n",
       "<polygon fill=\"none\" points=\"0.389648,-729.5 0.389648,-773.5 400.317,-773.5 400.317,-729.5 0.389648,-729.5\" stroke=\"black\"/>\n",
       "<text font-family=\"Times,serif\" font-size=\"14.00\" text-anchor=\"middle\" x=\"106.195\" y=\"-747.3\">maxpooling2d_19: MaxPooling2D</text>\n",
       "<polyline fill=\"none\" points=\"212,-729.5 212,-773.5 \" stroke=\"black\"/>\n",
       "<text font-family=\"Times,serif\" font-size=\"14.00\" text-anchor=\"middle\" x=\"239.834\" y=\"-758.3\">input:</text>\n",
       "<polyline fill=\"none\" points=\"212,-751.5 267.669,-751.5 \" stroke=\"black\"/>\n",
       "<text font-family=\"Times,serif\" font-size=\"14.00\" text-anchor=\"middle\" x=\"239.834\" y=\"-736.3\">output:</text>\n",
       "<polyline fill=\"none\" points=\"267.669,-729.5 267.669,-773.5 \" stroke=\"black\"/>\n",
       "<text font-family=\"Times,serif\" font-size=\"14.00\" text-anchor=\"middle\" x=\"333.993\" y=\"-758.3\">(None, 32, 126, 126)</text>\n",
       "<polyline fill=\"none\" points=\"267.669,-751.5 400.317,-751.5 \" stroke=\"black\"/>\n",
       "<text font-family=\"Times,serif\" font-size=\"14.00\" text-anchor=\"middle\" x=\"333.993\" y=\"-736.3\">(None, 32, 63, 63)</text>\n",
       "</g>\n",
       "<!-- 4647315048&#45;&gt;4647338112 -->\n",
       "<g class=\"edge\" id=\"edge7\"><title>4647315048-&gt;4647338112</title>\n",
       "<path d=\"M200.354,-810.329C200.354,-802.183 200.354,-792.699 200.354,-783.797\" fill=\"none\" stroke=\"black\"/>\n",
       "<polygon fill=\"black\" points=\"203.854,-783.729 200.354,-773.729 196.854,-783.729 203.854,-783.729\" stroke=\"black\"/>\n",
       "</g>\n",
       "<!-- 4647313760 -->\n",
       "<g class=\"node\" id=\"node9\"><title>4647313760</title>\n",
       "<polygon fill=\"none\" points=\"3.5,-648.5 3.5,-692.5 397.207,-692.5 397.207,-648.5 3.5,-648.5\" stroke=\"black\"/>\n",
       "<text font-family=\"Times,serif\" font-size=\"14.00\" text-anchor=\"middle\" x=\"109.695\" y=\"-666.3\">convolution2d_20: Convolution2D</text>\n",
       "<polyline fill=\"none\" points=\"215.89,-648.5 215.89,-692.5 \" stroke=\"black\"/>\n",
       "<text font-family=\"Times,serif\" font-size=\"14.00\" text-anchor=\"middle\" x=\"243.724\" y=\"-677.3\">input:</text>\n",
       "<polyline fill=\"none\" points=\"215.89,-670.5 271.559,-670.5 \" stroke=\"black\"/>\n",
       "<text font-family=\"Times,serif\" font-size=\"14.00\" text-anchor=\"middle\" x=\"243.724\" y=\"-655.3\">output:</text>\n",
       "<polyline fill=\"none\" points=\"271.559,-648.5 271.559,-692.5 \" stroke=\"black\"/>\n",
       "<text font-family=\"Times,serif\" font-size=\"14.00\" text-anchor=\"middle\" x=\"334.383\" y=\"-677.3\">(None, 32, 63, 63)</text>\n",
       "<polyline fill=\"none\" points=\"271.559,-670.5 397.207,-670.5 \" stroke=\"black\"/>\n",
       "<text font-family=\"Times,serif\" font-size=\"14.00\" text-anchor=\"middle\" x=\"334.383\" y=\"-655.3\">(None, 512, 61, 61)</text>\n",
       "</g>\n",
       "<!-- 4647338112&#45;&gt;4647313760 -->\n",
       "<g class=\"edge\" id=\"edge8\"><title>4647338112-&gt;4647313760</title>\n",
       "<path d=\"M200.354,-729.329C200.354,-721.183 200.354,-711.699 200.354,-702.797\" fill=\"none\" stroke=\"black\"/>\n",
       "<polygon fill=\"black\" points=\"203.854,-702.729 200.354,-692.729 196.854,-702.729 203.854,-702.729\" stroke=\"black\"/>\n",
       "</g>\n",
       "<!-- 4647316840 -->\n",
       "<g class=\"node\" id=\"node10\"><title>4647316840</title>\n",
       "<polygon fill=\"none\" points=\"30.7344,-567.5 30.7344,-611.5 369.973,-611.5 369.973,-567.5 30.7344,-567.5\" stroke=\"black\"/>\n",
       "<text font-family=\"Times,serif\" font-size=\"14.00\" text-anchor=\"middle\" x=\"109.695\" y=\"-585.3\">activation_22: Activation</text>\n",
       "<polyline fill=\"none\" points=\"188.655,-567.5 188.655,-611.5 \" stroke=\"black\"/>\n",
       "<text font-family=\"Times,serif\" font-size=\"14.00\" text-anchor=\"middle\" x=\"216.49\" y=\"-596.3\">input:</text>\n",
       "<polyline fill=\"none\" points=\"188.655,-589.5 244.324,-589.5 \" stroke=\"black\"/>\n",
       "<text font-family=\"Times,serif\" font-size=\"14.00\" text-anchor=\"middle\" x=\"216.49\" y=\"-574.3\">output:</text>\n",
       "<polyline fill=\"none\" points=\"244.324,-567.5 244.324,-611.5 \" stroke=\"black\"/>\n",
       "<text font-family=\"Times,serif\" font-size=\"14.00\" text-anchor=\"middle\" x=\"307.148\" y=\"-596.3\">(None, 512, 61, 61)</text>\n",
       "<polyline fill=\"none\" points=\"244.324,-589.5 369.973,-589.5 \" stroke=\"black\"/>\n",
       "<text font-family=\"Times,serif\" font-size=\"14.00\" text-anchor=\"middle\" x=\"307.148\" y=\"-574.3\">(None, 512, 61, 61)</text>\n",
       "</g>\n",
       "<!-- 4647313760&#45;&gt;4647316840 -->\n",
       "<g class=\"edge\" id=\"edge9\"><title>4647313760-&gt;4647316840</title>\n",
       "<path d=\"M200.354,-648.329C200.354,-640.183 200.354,-630.699 200.354,-621.797\" fill=\"none\" stroke=\"black\"/>\n",
       "<polygon fill=\"black\" points=\"203.854,-621.729 200.354,-611.729 196.854,-621.729 203.854,-621.729\" stroke=\"black\"/>\n",
       "</g>\n",
       "<!-- 4647338840 -->\n",
       "<g class=\"node\" id=\"node11\"><title>4647338840</title>\n",
       "<polygon fill=\"none\" points=\"3.88965,-486.5 3.88965,-530.5 396.817,-530.5 396.817,-486.5 3.88965,-486.5\" stroke=\"black\"/>\n",
       "<text font-family=\"Times,serif\" font-size=\"14.00\" text-anchor=\"middle\" x=\"109.695\" y=\"-504.3\">maxpooling2d_20: MaxPooling2D</text>\n",
       "<polyline fill=\"none\" points=\"215.5,-486.5 215.5,-530.5 \" stroke=\"black\"/>\n",
       "<text font-family=\"Times,serif\" font-size=\"14.00\" text-anchor=\"middle\" x=\"243.334\" y=\"-515.3\">input:</text>\n",
       "<polyline fill=\"none\" points=\"215.5,-508.5 271.169,-508.5 \" stroke=\"black\"/>\n",
       "<text font-family=\"Times,serif\" font-size=\"14.00\" text-anchor=\"middle\" x=\"243.334\" y=\"-493.3\">output:</text>\n",
       "<polyline fill=\"none\" points=\"271.169,-486.5 271.169,-530.5 \" stroke=\"black\"/>\n",
       "<text font-family=\"Times,serif\" font-size=\"14.00\" text-anchor=\"middle\" x=\"333.993\" y=\"-515.3\">(None, 512, 61, 61)</text>\n",
       "<polyline fill=\"none\" points=\"271.169,-508.5 396.817,-508.5 \" stroke=\"black\"/>\n",
       "<text font-family=\"Times,serif\" font-size=\"14.00\" text-anchor=\"middle\" x=\"333.993\" y=\"-493.3\">(None, 512, 30, 30)</text>\n",
       "</g>\n",
       "<!-- 4647316840&#45;&gt;4647338840 -->\n",
       "<g class=\"edge\" id=\"edge10\"><title>4647316840-&gt;4647338840</title>\n",
       "<path d=\"M200.354,-567.329C200.354,-559.183 200.354,-549.699 200.354,-540.797\" fill=\"none\" stroke=\"black\"/>\n",
       "<polygon fill=\"black\" points=\"203.854,-540.729 200.354,-530.729 196.854,-540.729 203.854,-540.729\" stroke=\"black\"/>\n",
       "</g>\n",
       "<!-- 4646843448 -->\n",
       "<g class=\"node\" id=\"node12\"><title>4646843448</title>\n",
       "<polygon fill=\"none\" points=\"54.062,-405.5 54.062,-449.5 346.645,-449.5 346.645,-405.5 54.062,-405.5\" stroke=\"black\"/>\n",
       "<text font-family=\"Times,serif\" font-size=\"14.00\" text-anchor=\"middle\" x=\"109.695\" y=\"-423.3\">flatten_7: Flatten</text>\n",
       "<polyline fill=\"none\" points=\"165.328,-405.5 165.328,-449.5 \" stroke=\"black\"/>\n",
       "<text font-family=\"Times,serif\" font-size=\"14.00\" text-anchor=\"middle\" x=\"193.162\" y=\"-434.3\">input:</text>\n",
       "<polyline fill=\"none\" points=\"165.328,-427.5 220.997,-427.5 \" stroke=\"black\"/>\n",
       "<text font-family=\"Times,serif\" font-size=\"14.00\" text-anchor=\"middle\" x=\"193.162\" y=\"-412.3\">output:</text>\n",
       "<polyline fill=\"none\" points=\"220.997,-405.5 220.997,-449.5 \" stroke=\"black\"/>\n",
       "<text font-family=\"Times,serif\" font-size=\"14.00\" text-anchor=\"middle\" x=\"283.821\" y=\"-434.3\">(None, 512, 30, 30)</text>\n",
       "<polyline fill=\"none\" points=\"220.997,-427.5 346.645,-427.5 \" stroke=\"black\"/>\n",
       "<text font-family=\"Times,serif\" font-size=\"14.00\" text-anchor=\"middle\" x=\"283.821\" y=\"-412.3\">(None, 460800)</text>\n",
       "</g>\n",
       "<!-- 4647338840&#45;&gt;4646843448 -->\n",
       "<g class=\"edge\" id=\"edge11\"><title>4647338840-&gt;4646843448</title>\n",
       "<path d=\"M200.354,-486.329C200.354,-478.183 200.354,-468.699 200.354,-459.797\" fill=\"none\" stroke=\"black\"/>\n",
       "<polygon fill=\"black\" points=\"203.854,-459.729 200.354,-449.729 196.854,-459.729 203.854,-459.729\" stroke=\"black\"/>\n",
       "</g>\n",
       "<!-- 4646843952 -->\n",
       "<g class=\"node\" id=\"node13\"><title>4646843952</title>\n",
       "<polygon fill=\"none\" points=\"68.0688,-324.5 68.0688,-368.5 332.638,-368.5 332.638,-324.5 68.0688,-324.5\" stroke=\"black\"/>\n",
       "<text font-family=\"Times,serif\" font-size=\"14.00\" text-anchor=\"middle\" x=\"120.195\" y=\"-342.3\">dense_7: Dense</text>\n",
       "<polyline fill=\"none\" points=\"172.321,-324.5 172.321,-368.5 \" stroke=\"black\"/>\n",
       "<text font-family=\"Times,serif\" font-size=\"14.00\" text-anchor=\"middle\" x=\"200.155\" y=\"-353.3\">input:</text>\n",
       "<polyline fill=\"none\" points=\"172.321,-346.5 227.99,-346.5 \" stroke=\"black\"/>\n",
       "<text font-family=\"Times,serif\" font-size=\"14.00\" text-anchor=\"middle\" x=\"200.155\" y=\"-331.3\">output:</text>\n",
       "<polyline fill=\"none\" points=\"227.99,-324.5 227.99,-368.5 \" stroke=\"black\"/>\n",
       "<text font-family=\"Times,serif\" font-size=\"14.00\" text-anchor=\"middle\" x=\"280.314\" y=\"-353.3\">(None, 460800)</text>\n",
       "<polyline fill=\"none\" points=\"227.99,-346.5 332.638,-346.5 \" stroke=\"black\"/>\n",
       "<text font-family=\"Times,serif\" font-size=\"14.00\" text-anchor=\"middle\" x=\"280.314\" y=\"-331.3\">(None, 4096)</text>\n",
       "</g>\n",
       "<!-- 4646843448&#45;&gt;4646843952 -->\n",
       "<g class=\"edge\" id=\"edge12\"><title>4646843448-&gt;4646843952</title>\n",
       "<path d=\"M200.354,-405.329C200.354,-397.183 200.354,-387.699 200.354,-378.797\" fill=\"none\" stroke=\"black\"/>\n",
       "<polygon fill=\"black\" points=\"203.854,-378.729 200.354,-368.729 196.854,-378.729 203.854,-378.729\" stroke=\"black\"/>\n",
       "</g>\n",
       "<!-- 4646842496 -->\n",
       "<g class=\"node\" id=\"node14\"><title>4646842496</title>\n",
       "<polygon fill=\"none\" points=\"48.2344,-243.5 48.2344,-287.5 352.473,-287.5 352.473,-243.5 48.2344,-243.5\" stroke=\"black\"/>\n",
       "<text font-family=\"Times,serif\" font-size=\"14.00\" text-anchor=\"middle\" x=\"127.195\" y=\"-261.3\">activation_23: Activation</text>\n",
       "<polyline fill=\"none\" points=\"206.155,-243.5 206.155,-287.5 \" stroke=\"black\"/>\n",
       "<text font-family=\"Times,serif\" font-size=\"14.00\" text-anchor=\"middle\" x=\"233.99\" y=\"-272.3\">input:</text>\n",
       "<polyline fill=\"none\" points=\"206.155,-265.5 261.824,-265.5 \" stroke=\"black\"/>\n",
       "<text font-family=\"Times,serif\" font-size=\"14.00\" text-anchor=\"middle\" x=\"233.99\" y=\"-250.3\">output:</text>\n",
       "<polyline fill=\"none\" points=\"261.824,-243.5 261.824,-287.5 \" stroke=\"black\"/>\n",
       "<text font-family=\"Times,serif\" font-size=\"14.00\" text-anchor=\"middle\" x=\"307.148\" y=\"-272.3\">(None, 4096)</text>\n",
       "<polyline fill=\"none\" points=\"261.824,-265.5 352.473,-265.5 \" stroke=\"black\"/>\n",
       "<text font-family=\"Times,serif\" font-size=\"14.00\" text-anchor=\"middle\" x=\"307.148\" y=\"-250.3\">(None, 4096)</text>\n",
       "</g>\n",
       "<!-- 4646843952&#45;&gt;4646842496 -->\n",
       "<g class=\"edge\" id=\"edge13\"><title>4646843952-&gt;4646842496</title>\n",
       "<path d=\"M200.354,-324.329C200.354,-316.183 200.354,-306.699 200.354,-297.797\" fill=\"none\" stroke=\"black\"/>\n",
       "<polygon fill=\"black\" points=\"203.854,-297.729 200.354,-287.729 196.854,-297.729 203.854,-297.729\" stroke=\"black\"/>\n",
       "</g>\n",
       "<!-- 4646872848 -->\n",
       "<g class=\"node\" id=\"node15\"><title>4646872848</title>\n",
       "<polygon fill=\"none\" points=\"63.3931,-162.5 63.3931,-206.5 337.314,-206.5 337.314,-162.5 63.3931,-162.5\" stroke=\"black\"/>\n",
       "<text font-family=\"Times,serif\" font-size=\"14.00\" text-anchor=\"middle\" x=\"127.195\" y=\"-180.3\">dropout_2: Dropout</text>\n",
       "<polyline fill=\"none\" points=\"190.997,-162.5 190.997,-206.5 \" stroke=\"black\"/>\n",
       "<text font-family=\"Times,serif\" font-size=\"14.00\" text-anchor=\"middle\" x=\"218.831\" y=\"-191.3\">input:</text>\n",
       "<polyline fill=\"none\" points=\"190.997,-184.5 246.666,-184.5 \" stroke=\"black\"/>\n",
       "<text font-family=\"Times,serif\" font-size=\"14.00\" text-anchor=\"middle\" x=\"218.831\" y=\"-169.3\">output:</text>\n",
       "<polyline fill=\"none\" points=\"246.666,-162.5 246.666,-206.5 \" stroke=\"black\"/>\n",
       "<text font-family=\"Times,serif\" font-size=\"14.00\" text-anchor=\"middle\" x=\"291.99\" y=\"-191.3\">(None, 4096)</text>\n",
       "<polyline fill=\"none\" points=\"246.666,-184.5 337.314,-184.5 \" stroke=\"black\"/>\n",
       "<text font-family=\"Times,serif\" font-size=\"14.00\" text-anchor=\"middle\" x=\"291.99\" y=\"-169.3\">(None, 4096)</text>\n",
       "</g>\n",
       "<!-- 4646842496&#45;&gt;4646872848 -->\n",
       "<g class=\"edge\" id=\"edge14\"><title>4646842496-&gt;4646872848</title>\n",
       "<path d=\"M200.354,-243.329C200.354,-235.183 200.354,-225.699 200.354,-216.797\" fill=\"none\" stroke=\"black\"/>\n",
       "<polygon fill=\"black\" points=\"203.854,-216.729 200.354,-206.729 196.854,-216.729 203.854,-216.729\" stroke=\"black\"/>\n",
       "</g>\n",
       "<!-- 4646896528 -->\n",
       "<g class=\"node\" id=\"node16\"><title>4646896528</title>\n",
       "<polygon fill=\"none\" points=\"75.0688,-81.5 75.0688,-125.5 325.638,-125.5 325.638,-81.5 75.0688,-81.5\" stroke=\"black\"/>\n",
       "<text font-family=\"Times,serif\" font-size=\"14.00\" text-anchor=\"middle\" x=\"127.195\" y=\"-99.3\">dense_8: Dense</text>\n",
       "<polyline fill=\"none\" points=\"179.321,-81.5 179.321,-125.5 \" stroke=\"black\"/>\n",
       "<text font-family=\"Times,serif\" font-size=\"14.00\" text-anchor=\"middle\" x=\"207.155\" y=\"-110.3\">input:</text>\n",
       "<polyline fill=\"none\" points=\"179.321,-103.5 234.99,-103.5 \" stroke=\"black\"/>\n",
       "<text font-family=\"Times,serif\" font-size=\"14.00\" text-anchor=\"middle\" x=\"207.155\" y=\"-88.3\">output:</text>\n",
       "<polyline fill=\"none\" points=\"234.99,-81.5 234.99,-125.5 \" stroke=\"black\"/>\n",
       "<text font-family=\"Times,serif\" font-size=\"14.00\" text-anchor=\"middle\" x=\"280.314\" y=\"-110.3\">(None, 4096)</text>\n",
       "<polyline fill=\"none\" points=\"234.99,-103.5 325.638,-103.5 \" stroke=\"black\"/>\n",
       "<text font-family=\"Times,serif\" font-size=\"14.00\" text-anchor=\"middle\" x=\"280.314\" y=\"-88.3\">(None, 3)</text>\n",
       "</g>\n",
       "<!-- 4646872848&#45;&gt;4646896528 -->\n",
       "<g class=\"edge\" id=\"edge15\"><title>4646872848-&gt;4646896528</title>\n",
       "<path d=\"M200.354,-162.329C200.354,-154.183 200.354,-144.699 200.354,-135.797\" fill=\"none\" stroke=\"black\"/>\n",
       "<polygon fill=\"black\" points=\"203.854,-135.729 200.354,-125.729 196.854,-135.729 203.854,-135.729\" stroke=\"black\"/>\n",
       "</g>\n",
       "<!-- 4646898824 -->\n",
       "<g class=\"node\" id=\"node17\"><title>4646898824</title>\n",
       "<polygon fill=\"none\" points=\"58.7344,-0.5 58.7344,-44.5 341.973,-44.5 341.973,-0.5 58.7344,-0.5\" stroke=\"black\"/>\n",
       "<text font-family=\"Times,serif\" font-size=\"14.00\" text-anchor=\"middle\" x=\"137.695\" y=\"-18.3\">activation_24: Activation</text>\n",
       "<polyline fill=\"none\" points=\"216.655,-0.5 216.655,-44.5 \" stroke=\"black\"/>\n",
       "<text font-family=\"Times,serif\" font-size=\"14.00\" text-anchor=\"middle\" x=\"244.49\" y=\"-29.3\">input:</text>\n",
       "<polyline fill=\"none\" points=\"216.655,-22.5 272.324,-22.5 \" stroke=\"black\"/>\n",
       "<text font-family=\"Times,serif\" font-size=\"14.00\" text-anchor=\"middle\" x=\"244.49\" y=\"-7.3\">output:</text>\n",
       "<polyline fill=\"none\" points=\"272.324,-0.5 272.324,-44.5 \" stroke=\"black\"/>\n",
       "<text font-family=\"Times,serif\" font-size=\"14.00\" text-anchor=\"middle\" x=\"307.148\" y=\"-29.3\">(None, 3)</text>\n",
       "<polyline fill=\"none\" points=\"272.324,-22.5 341.973,-22.5 \" stroke=\"black\"/>\n",
       "<text font-family=\"Times,serif\" font-size=\"14.00\" text-anchor=\"middle\" x=\"307.148\" y=\"-7.3\">(None, 3)</text>\n",
       "</g>\n",
       "<!-- 4646896528&#45;&gt;4646898824 -->\n",
       "<g class=\"edge\" id=\"edge16\"><title>4646896528-&gt;4646898824</title>\n",
       "<path d=\"M200.354,-81.3294C200.354,-73.1826 200.354,-63.6991 200.354,-54.7971\" fill=\"none\" stroke=\"black\"/>\n",
       "<polygon fill=\"black\" points=\"203.854,-54.729 200.354,-44.729 196.854,-54.729 203.854,-54.729\" stroke=\"black\"/>\n",
       "</g>\n",
       "</g>\n",
       "</svg>"
      ],
      "text/plain": [
       "<IPython.core.display.SVG object>"
      ]
     },
     "execution_count": 27,
     "metadata": {},
     "output_type": "execute_result"
    }
   ],
   "source": [
    "# View the network graphically\n",
    "SVG(model_to_dot(model, show_shapes=True).create(prog='dot', format='svg'))"
   ]
  },
  {
   "cell_type": "code",
   "execution_count": 28,
   "metadata": {
    "collapsed": false
   },
   "outputs": [
    {
     "name": "stdout",
     "output_type": "stream",
     "text": [
      "Found 226 images belonging to 3 classes.\n",
      "Found 227 images belonging to 3 classes.\n"
     ]
    }
   ],
   "source": [
    "batch_size = 16\n",
    "num_classes = 3\n",
    "epochs = 200\n",
    "data_augmentation = True\n",
    "\n",
    "# this is the augmentation configuration we will use for training\n",
    "train_datagen = ImageDataGenerator(\n",
    "        rescale=1./255,\n",
    "        shear_range=0.2,\n",
    "        zoom_range=0.2,\n",
    "        horizontal_flip=True)\n",
    "\n",
    "# only rescaling for testing\n",
    "test_datagen = ImageDataGenerator(rescale=1./255)\n",
    "\n",
    "\n",
    "train_generator = train_datagen.flow_from_directory(\n",
    "        path + '/train',  # this is the target directory\n",
    "#         target_size=(150, 150),  # all images will be resized to 150x150\n",
    "        batch_size=batch_size,\n",
    "        class_mode='categorical')  # since we use binary_crossentropy loss, we need binary labels\n",
    "\n",
    "# this is a similar generator, for validation data\n",
    "validation_generator = test_datagen.flow_from_directory(\n",
    "        path + '/validation',\n",
    "#         target_size=(150, 150),\n",
    "        batch_size=batch_size,\n",
    "        class_mode='categorical')\n",
    "\n",
    "# datagen.flow_from_directory('../../../local_files/Projects/Instagram_Likes_Local/InstaImages/keras_photos/train')\n",
    "# datagen.flow_from_directory(test)"
   ]
  },
  {
   "cell_type": "code",
   "execution_count": 29,
   "metadata": {
    "collapsed": false
   },
   "outputs": [
    {
     "data": {
      "text/plain": [
       "<keras.preprocessing.image.DirectoryIterator at 0x1150e2c18>"
      ]
     },
     "execution_count": 29,
     "metadata": {},
     "output_type": "execute_result"
    }
   ],
   "source": [
    "train_generator"
   ]
  },
  {
   "cell_type": "code",
   "execution_count": null,
   "metadata": {
    "collapsed": true
   },
   "outputs": [],
   "source": []
  },
  {
   "cell_type": "code",
   "execution_count": 30,
   "metadata": {
    "collapsed": false
   },
   "outputs": [
    {
     "name": "stdout",
     "output_type": "stream",
     "text": [
      "Epoch 1/50\n",
      "112/125 [=========================>....] - ETA: 113s - loss: 9.6599 - acc: 0.3214"
     ]
    },
    {
     "name": "stderr",
     "output_type": "stream",
     "text": [
      "/Users/bauer/anaconda3/lib/python3.5/site-packages/keras/engine/training.py:1573: UserWarning: Epoch comprised more than `samples_per_epoch` samples, which might affect learning results. Set `samples_per_epoch` correctly to avoid this warning.\n",
      "  warnings.warn('Epoch comprised more than '\n"
     ]
    },
    {
     "name": "stdout",
     "output_type": "stream",
     "text": [
      "128/125 [==============================] - 1122s - loss: 9.7116 - acc: 0.3281 - val_loss: 10.5775 - val_acc: 0.3438\n",
      "Epoch 2/50\n",
      "130/125 [===============================] - 1175s - loss: 10.5388 - acc: 0.3462 - val_loss: 10.4294 - val_acc: 0.3529\n",
      "Epoch 3/50\n",
      " 96/125 [======================>.......] - ETA: 212s - loss: 10.7454 - acc: 0.3333"
     ]
    },
    {
     "ename": "KeyboardInterrupt",
     "evalue": "",
     "output_type": "error",
     "traceback": [
      "\u001b[0;31m---------------------------------------------------------------------------\u001b[0m",
      "\u001b[0;31mKeyboardInterrupt\u001b[0m                         Traceback (most recent call last)",
      "\u001b[0;32m<ipython-input-30-2e6f99d070d9>\u001b[0m in \u001b[0;36m<module>\u001b[0;34m()\u001b[0m\n\u001b[1;32m      4\u001b[0m         \u001b[0mnb_epoch\u001b[0m\u001b[0;34m=\u001b[0m\u001b[0;36m50\u001b[0m\u001b[0;34m,\u001b[0m\u001b[0;34m\u001b[0m\u001b[0m\n\u001b[1;32m      5\u001b[0m         \u001b[0mvalidation_data\u001b[0m\u001b[0;34m=\u001b[0m\u001b[0mvalidation_generator\u001b[0m\u001b[0;34m,\u001b[0m\u001b[0;34m\u001b[0m\u001b[0m\n\u001b[0;32m----> 6\u001b[0;31m         nb_val_samples=800//batch_size)\n\u001b[0m\u001b[1;32m      7\u001b[0m \u001b[0mmodel\u001b[0m\u001b[0;34m.\u001b[0m\u001b[0msave_weights\u001b[0m\u001b[0;34m(\u001b[0m\u001b[0;34m'first_try.h5'\u001b[0m\u001b[0;34m)\u001b[0m  \u001b[0;31m# always save your weights after training or during training\u001b[0m\u001b[0;34m\u001b[0m\u001b[0m\n",
      "\u001b[0;32m/Users/bauer/anaconda3/lib/python3.5/site-packages/keras/models.py\u001b[0m in \u001b[0;36mfit_generator\u001b[0;34m(self, generator, samples_per_epoch, nb_epoch, verbose, callbacks, validation_data, nb_val_samples, class_weight, max_q_size, nb_worker, pickle_safe, initial_epoch, **kwargs)\u001b[0m\n\u001b[1;32m    933\u001b[0m                                         \u001b[0mnb_worker\u001b[0m\u001b[0;34m=\u001b[0m\u001b[0mnb_worker\u001b[0m\u001b[0;34m,\u001b[0m\u001b[0;34m\u001b[0m\u001b[0m\n\u001b[1;32m    934\u001b[0m                                         \u001b[0mpickle_safe\u001b[0m\u001b[0;34m=\u001b[0m\u001b[0mpickle_safe\u001b[0m\u001b[0;34m,\u001b[0m\u001b[0;34m\u001b[0m\u001b[0m\n\u001b[0;32m--> 935\u001b[0;31m                                         initial_epoch=initial_epoch)\n\u001b[0m\u001b[1;32m    936\u001b[0m \u001b[0;34m\u001b[0m\u001b[0m\n\u001b[1;32m    937\u001b[0m     def evaluate_generator(self, generator, val_samples,\n",
      "\u001b[0;32m/Users/bauer/anaconda3/lib/python3.5/site-packages/keras/engine/training.py\u001b[0m in \u001b[0;36mfit_generator\u001b[0;34m(self, generator, samples_per_epoch, nb_epoch, verbose, callbacks, validation_data, nb_val_samples, class_weight, max_q_size, nb_worker, pickle_safe, initial_epoch)\u001b[0m\n\u001b[1;32m   1555\u001b[0m                     outs = self.train_on_batch(x, y,\n\u001b[1;32m   1556\u001b[0m                                                \u001b[0msample_weight\u001b[0m\u001b[0;34m=\u001b[0m\u001b[0msample_weight\u001b[0m\u001b[0;34m,\u001b[0m\u001b[0;34m\u001b[0m\u001b[0m\n\u001b[0;32m-> 1557\u001b[0;31m                                                class_weight=class_weight)\n\u001b[0m\u001b[1;32m   1558\u001b[0m \u001b[0;34m\u001b[0m\u001b[0m\n\u001b[1;32m   1559\u001b[0m                     \u001b[0;32mif\u001b[0m \u001b[0;32mnot\u001b[0m \u001b[0misinstance\u001b[0m\u001b[0;34m(\u001b[0m\u001b[0mouts\u001b[0m\u001b[0;34m,\u001b[0m \u001b[0mlist\u001b[0m\u001b[0;34m)\u001b[0m\u001b[0;34m:\u001b[0m\u001b[0;34m\u001b[0m\u001b[0m\n",
      "\u001b[0;32m/Users/bauer/anaconda3/lib/python3.5/site-packages/keras/engine/training.py\u001b[0m in \u001b[0;36mtrain_on_batch\u001b[0;34m(self, x, y, sample_weight, class_weight)\u001b[0m\n\u001b[1;32m   1318\u001b[0m             \u001b[0mins\u001b[0m \u001b[0;34m=\u001b[0m \u001b[0mx\u001b[0m \u001b[0;34m+\u001b[0m \u001b[0my\u001b[0m \u001b[0;34m+\u001b[0m \u001b[0msample_weights\u001b[0m\u001b[0;34m\u001b[0m\u001b[0m\n\u001b[1;32m   1319\u001b[0m         \u001b[0mself\u001b[0m\u001b[0;34m.\u001b[0m\u001b[0m_make_train_function\u001b[0m\u001b[0;34m(\u001b[0m\u001b[0;34m)\u001b[0m\u001b[0;34m\u001b[0m\u001b[0m\n\u001b[0;32m-> 1320\u001b[0;31m         \u001b[0moutputs\u001b[0m \u001b[0;34m=\u001b[0m \u001b[0mself\u001b[0m\u001b[0;34m.\u001b[0m\u001b[0mtrain_function\u001b[0m\u001b[0;34m(\u001b[0m\u001b[0mins\u001b[0m\u001b[0;34m)\u001b[0m\u001b[0;34m\u001b[0m\u001b[0m\n\u001b[0m\u001b[1;32m   1321\u001b[0m         \u001b[0;32mif\u001b[0m \u001b[0mlen\u001b[0m\u001b[0;34m(\u001b[0m\u001b[0moutputs\u001b[0m\u001b[0;34m)\u001b[0m \u001b[0;34m==\u001b[0m \u001b[0;36m1\u001b[0m\u001b[0;34m:\u001b[0m\u001b[0;34m\u001b[0m\u001b[0m\n\u001b[1;32m   1322\u001b[0m             \u001b[0;32mreturn\u001b[0m \u001b[0moutputs\u001b[0m\u001b[0;34m[\u001b[0m\u001b[0;36m0\u001b[0m\u001b[0;34m]\u001b[0m\u001b[0;34m\u001b[0m\u001b[0m\n",
      "\u001b[0;32m/Users/bauer/anaconda3/lib/python3.5/site-packages/keras/backend/theano_backend.py\u001b[0m in \u001b[0;36m__call__\u001b[0;34m(self, inputs)\u001b[0m\n\u001b[1;32m    957\u001b[0m     \u001b[0;32mdef\u001b[0m \u001b[0m__call__\u001b[0m\u001b[0;34m(\u001b[0m\u001b[0mself\u001b[0m\u001b[0;34m,\u001b[0m \u001b[0minputs\u001b[0m\u001b[0;34m)\u001b[0m\u001b[0;34m:\u001b[0m\u001b[0;34m\u001b[0m\u001b[0m\n\u001b[1;32m    958\u001b[0m         \u001b[0;32massert\u001b[0m \u001b[0misinstance\u001b[0m\u001b[0;34m(\u001b[0m\u001b[0minputs\u001b[0m\u001b[0;34m,\u001b[0m \u001b[0;34m(\u001b[0m\u001b[0mlist\u001b[0m\u001b[0;34m,\u001b[0m \u001b[0mtuple\u001b[0m\u001b[0;34m)\u001b[0m\u001b[0;34m)\u001b[0m\u001b[0;34m\u001b[0m\u001b[0m\n\u001b[0;32m--> 959\u001b[0;31m         \u001b[0;32mreturn\u001b[0m \u001b[0mself\u001b[0m\u001b[0;34m.\u001b[0m\u001b[0mfunction\u001b[0m\u001b[0;34m(\u001b[0m\u001b[0;34m*\u001b[0m\u001b[0minputs\u001b[0m\u001b[0;34m)\u001b[0m\u001b[0;34m\u001b[0m\u001b[0m\n\u001b[0m\u001b[1;32m    960\u001b[0m \u001b[0;34m\u001b[0m\u001b[0m\n\u001b[1;32m    961\u001b[0m \u001b[0;34m\u001b[0m\u001b[0m\n",
      "\u001b[0;32m/Users/bauer/anaconda3/lib/python3.5/site-packages/theano/compile/function_module.py\u001b[0m in \u001b[0;36m__call__\u001b[0;34m(self, *args, **kwargs)\u001b[0m\n\u001b[1;32m    857\u001b[0m         \u001b[0mt0_fn\u001b[0m \u001b[0;34m=\u001b[0m \u001b[0mtime\u001b[0m\u001b[0;34m.\u001b[0m\u001b[0mtime\u001b[0m\u001b[0;34m(\u001b[0m\u001b[0;34m)\u001b[0m\u001b[0;34m\u001b[0m\u001b[0m\n\u001b[1;32m    858\u001b[0m         \u001b[0;32mtry\u001b[0m\u001b[0;34m:\u001b[0m\u001b[0;34m\u001b[0m\u001b[0m\n\u001b[0;32m--> 859\u001b[0;31m             \u001b[0moutputs\u001b[0m \u001b[0;34m=\u001b[0m \u001b[0mself\u001b[0m\u001b[0;34m.\u001b[0m\u001b[0mfn\u001b[0m\u001b[0;34m(\u001b[0m\u001b[0;34m)\u001b[0m\u001b[0;34m\u001b[0m\u001b[0m\n\u001b[0m\u001b[1;32m    860\u001b[0m         \u001b[0;32mexcept\u001b[0m \u001b[0mException\u001b[0m\u001b[0;34m:\u001b[0m\u001b[0;34m\u001b[0m\u001b[0m\n\u001b[1;32m    861\u001b[0m             \u001b[0;32mif\u001b[0m \u001b[0mhasattr\u001b[0m\u001b[0;34m(\u001b[0m\u001b[0mself\u001b[0m\u001b[0;34m.\u001b[0m\u001b[0mfn\u001b[0m\u001b[0;34m,\u001b[0m \u001b[0;34m'position_of_error'\u001b[0m\u001b[0;34m)\u001b[0m\u001b[0;34m:\u001b[0m\u001b[0;34m\u001b[0m\u001b[0m\n",
      "\u001b[0;32m/Users/bauer/anaconda3/lib/python3.5/site-packages/theano/gof/op.py\u001b[0m in \u001b[0;36mrval\u001b[0;34m(p, i, o, n)\u001b[0m\n\u001b[1;32m    910\u001b[0m             \u001b[0;31m# default arguments are stored in the closure of `rval`\u001b[0m\u001b[0;34m\u001b[0m\u001b[0;34m\u001b[0m\u001b[0m\n\u001b[1;32m    911\u001b[0m             \u001b[0;32mdef\u001b[0m \u001b[0mrval\u001b[0m\u001b[0;34m(\u001b[0m\u001b[0mp\u001b[0m\u001b[0;34m=\u001b[0m\u001b[0mp\u001b[0m\u001b[0;34m,\u001b[0m \u001b[0mi\u001b[0m\u001b[0;34m=\u001b[0m\u001b[0mnode_input_storage\u001b[0m\u001b[0;34m,\u001b[0m \u001b[0mo\u001b[0m\u001b[0;34m=\u001b[0m\u001b[0mnode_output_storage\u001b[0m\u001b[0;34m,\u001b[0m \u001b[0mn\u001b[0m\u001b[0;34m=\u001b[0m\u001b[0mnode\u001b[0m\u001b[0;34m)\u001b[0m\u001b[0;34m:\u001b[0m\u001b[0;34m\u001b[0m\u001b[0m\n\u001b[0;32m--> 912\u001b[0;31m                 \u001b[0mr\u001b[0m \u001b[0;34m=\u001b[0m \u001b[0mp\u001b[0m\u001b[0;34m(\u001b[0m\u001b[0mn\u001b[0m\u001b[0;34m,\u001b[0m \u001b[0;34m[\u001b[0m\u001b[0mx\u001b[0m\u001b[0;34m[\u001b[0m\u001b[0;36m0\u001b[0m\u001b[0;34m]\u001b[0m \u001b[0;32mfor\u001b[0m \u001b[0mx\u001b[0m \u001b[0;32min\u001b[0m \u001b[0mi\u001b[0m\u001b[0;34m]\u001b[0m\u001b[0;34m,\u001b[0m \u001b[0mo\u001b[0m\u001b[0;34m)\u001b[0m\u001b[0;34m\u001b[0m\u001b[0m\n\u001b[0m\u001b[1;32m    913\u001b[0m                 \u001b[0;32mfor\u001b[0m \u001b[0mo\u001b[0m \u001b[0;32min\u001b[0m \u001b[0mnode\u001b[0m\u001b[0;34m.\u001b[0m\u001b[0moutputs\u001b[0m\u001b[0;34m:\u001b[0m\u001b[0;34m\u001b[0m\u001b[0m\n\u001b[1;32m    914\u001b[0m                     \u001b[0mcompute_map\u001b[0m\u001b[0;34m[\u001b[0m\u001b[0mo\u001b[0m\u001b[0;34m]\u001b[0m\u001b[0;34m[\u001b[0m\u001b[0;36m0\u001b[0m\u001b[0;34m]\u001b[0m \u001b[0;34m=\u001b[0m \u001b[0;32mTrue\u001b[0m\u001b[0;34m\u001b[0m\u001b[0m\n",
      "\u001b[0;32m/Users/bauer/anaconda3/lib/python3.5/site-packages/theano/tensor/blas.py\u001b[0m in \u001b[0;36mperform\u001b[0;34m(self, node, inp, out)\u001b[0m\n\u001b[1;32m   1550\u001b[0m         \u001b[0mz\u001b[0m\u001b[0;34m,\u001b[0m \u001b[0;34m=\u001b[0m \u001b[0mout\u001b[0m\u001b[0;34m\u001b[0m\u001b[0m\n\u001b[1;32m   1551\u001b[0m         \u001b[0;32mtry\u001b[0m\u001b[0;34m:\u001b[0m\u001b[0;34m\u001b[0m\u001b[0m\n\u001b[0;32m-> 1552\u001b[0;31m             \u001b[0mz\u001b[0m\u001b[0;34m[\u001b[0m\u001b[0;36m0\u001b[0m\u001b[0;34m]\u001b[0m \u001b[0;34m=\u001b[0m \u001b[0mnumpy\u001b[0m\u001b[0;34m.\u001b[0m\u001b[0masarray\u001b[0m\u001b[0;34m(\u001b[0m\u001b[0mnumpy\u001b[0m\u001b[0;34m.\u001b[0m\u001b[0mdot\u001b[0m\u001b[0;34m(\u001b[0m\u001b[0mx\u001b[0m\u001b[0;34m,\u001b[0m \u001b[0my\u001b[0m\u001b[0;34m)\u001b[0m\u001b[0;34m)\u001b[0m\u001b[0;34m\u001b[0m\u001b[0m\n\u001b[0m\u001b[1;32m   1553\u001b[0m         \u001b[0;32mexcept\u001b[0m \u001b[0mValueError\u001b[0m \u001b[0;32mas\u001b[0m \u001b[0me\u001b[0m\u001b[0;34m:\u001b[0m\u001b[0;34m\u001b[0m\u001b[0m\n\u001b[1;32m   1554\u001b[0m             \u001b[0;31m# The error raised by numpy has no shape information, we mean to\u001b[0m\u001b[0;34m\u001b[0m\u001b[0;34m\u001b[0m\u001b[0m\n",
      "\u001b[0;31mKeyboardInterrupt\u001b[0m: "
     ]
    }
   ],
   "source": [
    "model.fit_generator(\n",
    "        train_generator,\n",
    "        samples_per_epoch=2000 // batch_size,\n",
    "        nb_epoch=50,\n",
    "        validation_data=validation_generator,\n",
    "        nb_val_samples=800//batch_size)\n",
    "model.save_weights('first_try.h5')  # always save your weights after training or during training"
   ]
  },
  {
   "cell_type": "code",
   "execution_count": null,
   "metadata": {
    "collapsed": true
   },
   "outputs": [],
   "source": []
  },
  {
   "cell_type": "code",
   "execution_count": null,
   "metadata": {
    "collapsed": true
   },
   "outputs": [],
   "source": []
  }
 ],
 "metadata": {
  "anaconda-cloud": {},
  "kernelspec": {
   "display_name": "Python [default]",
   "language": "python",
   "name": "python3"
  },
  "language_info": {
   "codemirror_mode": {
    "name": "ipython",
    "version": 3
   },
   "file_extension": ".py",
   "mimetype": "text/x-python",
   "name": "python",
   "nbconvert_exporter": "python",
   "pygments_lexer": "ipython3",
   "version": "3.5.2"
  }
 },
 "nbformat": 4,
 "nbformat_minor": 1
}
