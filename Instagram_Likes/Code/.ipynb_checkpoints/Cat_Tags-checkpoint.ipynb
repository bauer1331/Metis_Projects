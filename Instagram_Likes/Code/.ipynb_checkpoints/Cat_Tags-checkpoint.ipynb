{
 "cells": [
  {
   "cell_type": "code",
   "execution_count": 1,
   "metadata": {
    "collapsed": true
   },
   "outputs": [],
   "source": [
    "from clarifai.rest import ClarifaiApp\n",
    "import pandas as pd"
   ]
  },
  {
   "cell_type": "code",
   "execution_count": 6,
   "metadata": {
    "collapsed": false
   },
   "outputs": [],
   "source": [
    "api_path = '../../../local_files/Projects/Instagram_Likes_Local/Instagram_Likes/code'\n",
    "with open(api_path+\"/clarifai.txt\", \"rt\") as f:\n",
    "        clarifai = [key.strip() for key in f.readlines()]\n",
    "CLARIFAI_APP_ID = clarifai[0]\n",
    "CLARIFAI_APP_SECRET = clarifai[1]\n",
    "access_token = clarifai[2]\n",
    "\n",
    "app = ClarifaiApp(CLARIFAI_APP_ID, CLARIFAI_APP_SECRET)\n",
    "      \n",
    "      # get the general model\n",
    "model = app.models.get(\"general-v1.3\")"
   ]
  },
  {
   "cell_type": "code",
   "execution_count": 7,
   "metadata": {
    "collapsed": false
   },
   "outputs": [
    {
     "name": "stdout",
     "output_type": "stream",
     "text": [
      "/Users/bauer/ds/metis/metisgh/Metis_Projects/Instagram_Likes/Code\r\n"
     ]
    }
   ],
   "source": [
    "!pwd"
   ]
  },
  {
   "cell_type": "code",
   "execution_count": 13,
   "metadata": {
    "collapsed": true
   },
   "outputs": [],
   "source": [
    "cat_sample = pd.read_csv('../../../local_files/Projects/Instagram_Likes_Local/data/sample_cats.csv')\n",
    "cat_urls = cat_sample.image_urls"
   ]
  },
  {
   "cell_type": "code",
   "execution_count": 15,
   "metadata": {
    "collapsed": false
   },
   "outputs": [
    {
     "ename": "ApiError",
     "evalue": "POST models/aaa03c23b3724a16a56b629203edc62c/versions/aa9ca48295b37401f8af92ad1af0d91d/outputs FAILED. code: 402, reason: Payment Required, error_code: 11006, error_description: Account limits exceeded, error_details: Request exceeds \"search and predict\" limit.",
     "output_type": "error",
     "traceback": [
      "\u001b[0;31m---------------------------------------------------------------------------\u001b[0m",
      "\u001b[0;31mApiError\u001b[0m                                  Traceback (most recent call last)",
      "\u001b[0;32m<ipython-input-15-e9c6dab7d6b1>\u001b[0m in \u001b[0;36m<module>\u001b[0;34m()\u001b[0m\n\u001b[1;32m      1\u001b[0m \u001b[0mcat_jsons\u001b[0m \u001b[0;34m=\u001b[0m \u001b[0;34m[\u001b[0m\u001b[0;34m]\u001b[0m\u001b[0;34m\u001b[0m\u001b[0m\n\u001b[1;32m      2\u001b[0m \u001b[0;32mfor\u001b[0m \u001b[0mi\u001b[0m \u001b[0;32min\u001b[0m \u001b[0mcat_urls\u001b[0m\u001b[0;34m:\u001b[0m\u001b[0;34m\u001b[0m\u001b[0m\n\u001b[0;32m----> 3\u001b[0;31m     \u001b[0mcat_jsons\u001b[0m\u001b[0;34m.\u001b[0m\u001b[0mappend\u001b[0m\u001b[0;34m(\u001b[0m\u001b[0mmodel\u001b[0m\u001b[0;34m.\u001b[0m\u001b[0mpredict_by_url\u001b[0m\u001b[0;34m(\u001b[0m\u001b[0murl\u001b[0m\u001b[0;34m=\u001b[0m\u001b[0mi\u001b[0m\u001b[0;34m)\u001b[0m\u001b[0;34m)\u001b[0m\u001b[0;34m\u001b[0m\u001b[0m\n\u001b[0m",
      "\u001b[0;32m/Users/bauer/anaconda3/lib/python3.5/site-packages/clarifai/rest/client.py\u001b[0m in \u001b[0;36mpredict_by_url\u001b[0;34m(self, url, lang)\u001b[0m\n\u001b[1;32m   2062\u001b[0m     \u001b[0mimage\u001b[0m \u001b[0;34m=\u001b[0m \u001b[0mImage\u001b[0m\u001b[0;34m(\u001b[0m\u001b[0murl\u001b[0m\u001b[0;34m=\u001b[0m\u001b[0murl\u001b[0m\u001b[0;34m)\u001b[0m\u001b[0;34m\u001b[0m\u001b[0m\n\u001b[1;32m   2063\u001b[0m     \u001b[0mmodel_output_info\u001b[0m \u001b[0;34m=\u001b[0m \u001b[0mModelOutputInfo\u001b[0m\u001b[0;34m(\u001b[0m\u001b[0moutput_config\u001b[0m\u001b[0;34m=\u001b[0m\u001b[0mModelOutputConfig\u001b[0m\u001b[0;34m(\u001b[0m\u001b[0mlanguage\u001b[0m\u001b[0;34m=\u001b[0m\u001b[0mlang\u001b[0m\u001b[0;34m)\u001b[0m\u001b[0;34m)\u001b[0m\u001b[0;34m\u001b[0m\u001b[0m\n\u001b[0;32m-> 2064\u001b[0;31m     \u001b[0mres\u001b[0m \u001b[0;34m=\u001b[0m \u001b[0mself\u001b[0m\u001b[0;34m.\u001b[0m\u001b[0mpredict\u001b[0m\u001b[0;34m(\u001b[0m\u001b[0;34m[\u001b[0m\u001b[0mimage\u001b[0m\u001b[0;34m]\u001b[0m\u001b[0;34m,\u001b[0m \u001b[0mmodel_output_info\u001b[0m\u001b[0;34m)\u001b[0m\u001b[0;34m\u001b[0m\u001b[0m\n\u001b[0m\u001b[1;32m   2065\u001b[0m     \u001b[0;32mreturn\u001b[0m \u001b[0mres\u001b[0m\u001b[0;34m\u001b[0m\u001b[0m\n\u001b[1;32m   2066\u001b[0m \u001b[0;34m\u001b[0m\u001b[0m\n",
      "\u001b[0;32m/Users/bauer/anaconda3/lib/python3.5/site-packages/clarifai/rest/client.py\u001b[0m in \u001b[0;36mpredict\u001b[0;34m(self, inputs, model_output_info)\u001b[0m\n\u001b[1;32m   2126\u001b[0m     '''\n\u001b[1;32m   2127\u001b[0m \u001b[0;34m\u001b[0m\u001b[0m\n\u001b[0;32m-> 2128\u001b[0;31m     \u001b[0mres\u001b[0m \u001b[0;34m=\u001b[0m \u001b[0mself\u001b[0m\u001b[0;34m.\u001b[0m\u001b[0mapi\u001b[0m\u001b[0;34m.\u001b[0m\u001b[0mpredict_model\u001b[0m\u001b[0;34m(\u001b[0m\u001b[0mself\u001b[0m\u001b[0;34m.\u001b[0m\u001b[0mmodel_id\u001b[0m\u001b[0;34m,\u001b[0m \u001b[0minputs\u001b[0m\u001b[0;34m,\u001b[0m \u001b[0mself\u001b[0m\u001b[0;34m.\u001b[0m\u001b[0mmodel_version\u001b[0m\u001b[0;34m,\u001b[0m \u001b[0mmodel_output_info\u001b[0m\u001b[0;34m)\u001b[0m\u001b[0;34m\u001b[0m\u001b[0m\n\u001b[0m\u001b[1;32m   2129\u001b[0m     \u001b[0;32mreturn\u001b[0m \u001b[0mres\u001b[0m\u001b[0;34m\u001b[0m\u001b[0m\n\u001b[1;32m   2130\u001b[0m \u001b[0;34m\u001b[0m\u001b[0m\n",
      "\u001b[0;32m/Users/bauer/anaconda3/lib/python3.5/site-packages/clarifai/rest/client.py\u001b[0m in \u001b[0;36mpredict_model\u001b[0;34m(self, model_id, objs, version_id, model_output_info)\u001b[0m\n\u001b[1;32m   3139\u001b[0m       \u001b[0mdata\u001b[0m\u001b[0;34m.\u001b[0m\u001b[0mupdate\u001b[0m\u001b[0;34m(\u001b[0m\u001b[0;34m{\u001b[0m\u001b[0;34m'model'\u001b[0m\u001b[0;34m:\u001b[0m\u001b[0mmodel_output_info\u001b[0m\u001b[0;34m.\u001b[0m\u001b[0mdict\u001b[0m\u001b[0;34m(\u001b[0m\u001b[0;34m)\u001b[0m\u001b[0;34m}\u001b[0m\u001b[0;34m)\u001b[0m\u001b[0;34m\u001b[0m\u001b[0m\n\u001b[1;32m   3140\u001b[0m \u001b[0;34m\u001b[0m\u001b[0m\n\u001b[0;32m-> 3141\u001b[0;31m     \u001b[0mres\u001b[0m \u001b[0;34m=\u001b[0m \u001b[0mself\u001b[0m\u001b[0;34m.\u001b[0m\u001b[0mpost\u001b[0m\u001b[0;34m(\u001b[0m\u001b[0mresource\u001b[0m\u001b[0;34m,\u001b[0m \u001b[0mdata\u001b[0m\u001b[0;34m)\u001b[0m\u001b[0;34m\u001b[0m\u001b[0m\n\u001b[0m\u001b[1;32m   3142\u001b[0m     \u001b[0;32mreturn\u001b[0m \u001b[0mres\u001b[0m\u001b[0;34m\u001b[0m\u001b[0m\n\u001b[1;32m   3143\u001b[0m \u001b[0;34m\u001b[0m\u001b[0m\n",
      "\u001b[0;32m/Users/bauer/anaconda3/lib/python3.5/site-packages/clarifai/rest/client.py\u001b[0m in \u001b[0;36mpost\u001b[0;34m(self, resource, params, version)\u001b[0m\n\u001b[1;32m   2598\u001b[0m   \u001b[0;32mdef\u001b[0m \u001b[0mpost\u001b[0m\u001b[0;34m(\u001b[0m\u001b[0mself\u001b[0m\u001b[0;34m,\u001b[0m \u001b[0mresource\u001b[0m\u001b[0;34m,\u001b[0m \u001b[0mparams\u001b[0m\u001b[0;34m=\u001b[0m\u001b[0;32mNone\u001b[0m\u001b[0;34m,\u001b[0m \u001b[0mversion\u001b[0m\u001b[0;34m=\u001b[0m\u001b[0;34m\"v2\"\u001b[0m\u001b[0;34m)\u001b[0m\u001b[0;34m:\u001b[0m\u001b[0;34m\u001b[0m\u001b[0m\n\u001b[1;32m   2599\u001b[0m     \u001b[0;34m''' Authorized post to Clarifai's API. '''\u001b[0m\u001b[0;34m\u001b[0m\u001b[0m\n\u001b[0;32m-> 2600\u001b[0;31m     \u001b[0;32mreturn\u001b[0m \u001b[0mself\u001b[0m\u001b[0;34m.\u001b[0m\u001b[0m_requester\u001b[0m\u001b[0;34m(\u001b[0m\u001b[0mresource\u001b[0m\u001b[0;34m,\u001b[0m \u001b[0mparams\u001b[0m\u001b[0;34m,\u001b[0m \u001b[0;34m'POST'\u001b[0m\u001b[0;34m,\u001b[0m \u001b[0mversion\u001b[0m\u001b[0;34m)\u001b[0m\u001b[0;34m\u001b[0m\u001b[0m\n\u001b[0m\u001b[1;32m   2601\u001b[0m \u001b[0;34m\u001b[0m\u001b[0m\n\u001b[1;32m   2602\u001b[0m   \u001b[0;32mdef\u001b[0m \u001b[0mdelete\u001b[0m\u001b[0;34m(\u001b[0m\u001b[0mself\u001b[0m\u001b[0;34m,\u001b[0m \u001b[0mresource\u001b[0m\u001b[0;34m,\u001b[0m \u001b[0mparams\u001b[0m\u001b[0;34m=\u001b[0m\u001b[0;32mNone\u001b[0m\u001b[0;34m,\u001b[0m \u001b[0mversion\u001b[0m\u001b[0;34m=\u001b[0m\u001b[0;34m\"v2\"\u001b[0m\u001b[0;34m)\u001b[0m\u001b[0;34m:\u001b[0m\u001b[0;34m\u001b[0m\u001b[0m\n",
      "\u001b[0;32m/Users/bauer/anaconda3/lib/python3.5/site-packages/clarifai/rest/client.py\u001b[0m in \u001b[0;36m_requester\u001b[0;34m(self, resource, params, method, version)\u001b[0m\n\u001b[1;32m   2588\u001b[0m     \u001b[0;32mif\u001b[0m \u001b[0mres\u001b[0m\u001b[0;34m.\u001b[0m\u001b[0mstatus_code\u001b[0m \u001b[0;34m!=\u001b[0m \u001b[0;36m200\u001b[0m\u001b[0;34m:\u001b[0m\u001b[0;34m\u001b[0m\u001b[0m\n\u001b[1;32m   2589\u001b[0m       \u001b[0mlogger\u001b[0m\u001b[0;34m.\u001b[0m\u001b[0mdebug\u001b[0m\u001b[0;34m(\u001b[0m\u001b[0;34m\"\\nRESULT:\\n%s\"\u001b[0m\u001b[0;34m,\u001b[0m \u001b[0mpformat\u001b[0m\u001b[0;34m(\u001b[0m\u001b[0mjson\u001b[0m\u001b[0;34m.\u001b[0m\u001b[0mloads\u001b[0m\u001b[0;34m(\u001b[0m\u001b[0mres\u001b[0m\u001b[0;34m.\u001b[0m\u001b[0mcontent\u001b[0m\u001b[0;34m.\u001b[0m\u001b[0mdecode\u001b[0m\u001b[0;34m(\u001b[0m\u001b[0;34m'utf-8'\u001b[0m\u001b[0;34m)\u001b[0m\u001b[0;34m)\u001b[0m\u001b[0;34m)\u001b[0m\u001b[0;34m)\u001b[0m\u001b[0;34m\u001b[0m\u001b[0m\n\u001b[0;32m-> 2590\u001b[0;31m       \u001b[0;32mraise\u001b[0m \u001b[0mApiError\u001b[0m\u001b[0;34m(\u001b[0m\u001b[0mresource\u001b[0m\u001b[0;34m,\u001b[0m \u001b[0mparams\u001b[0m\u001b[0;34m,\u001b[0m \u001b[0mmethod\u001b[0m\u001b[0;34m,\u001b[0m \u001b[0mres\u001b[0m\u001b[0;34m)\u001b[0m\u001b[0;34m\u001b[0m\u001b[0m\n\u001b[0m\u001b[1;32m   2591\u001b[0m \u001b[0;34m\u001b[0m\u001b[0m\n\u001b[1;32m   2592\u001b[0m     \u001b[0;32mreturn\u001b[0m \u001b[0mres\u001b[0m\u001b[0;34m.\u001b[0m\u001b[0mjson\u001b[0m\u001b[0;34m(\u001b[0m\u001b[0;34m)\u001b[0m\u001b[0;34m\u001b[0m\u001b[0m\n",
      "\u001b[0;31mApiError\u001b[0m: POST models/aaa03c23b3724a16a56b629203edc62c/versions/aa9ca48295b37401f8af92ad1af0d91d/outputs FAILED. code: 402, reason: Payment Required, error_code: 11006, error_description: Account limits exceeded, error_details: Request exceeds \"search and predict\" limit."
     ]
    }
   ],
   "source": [
    "# cat_jsons = []\n",
    "# for i in cat_urls:\n",
    "#     cat_jsons.append(model.predict_by_url(url=i))"
   ]
  },
  {
   "cell_type": "code",
   "execution_count": 16,
   "metadata": {
    "collapsed": true
   },
   "outputs": [],
   "source": [
    "def getClarifai(photos):\n",
    "    photo_data = []\n",
    "    for photo in photos:\n",
    "        photo1= []\n",
    "        photo1.append(photo['outputs'][0]['input']['data']['image']['url'])\n",
    "        labels = len(photo['outputs'][0]['data']['concepts'])\n",
    "\n",
    "        test_image = []\n",
    "        test_probs = []\n",
    "        for i in range(labels):\n",
    "            test_image.append(photo['outputs'][0]['data']['concepts'][i]['name'])\n",
    "            test_probs.append(photo['outputs'][0]['data']['concepts'][i]['value'])\n",
    "        # photo1 = photo1.append(url)\n",
    "        photo1.append(test_image)\n",
    "        photo1.append(test_probs)\n",
    "        photo_data.append(photo1)\n",
    "    return photo_data"
   ]
  },
  {
   "cell_type": "code",
   "execution_count": 17,
   "metadata": {
    "collapsed": true
   },
   "outputs": [],
   "source": [
    "cat_tags = getClarifai(cat_jsons)"
   ]
  },
  {
   "cell_type": "code",
   "execution_count": 22,
   "metadata": {
    "collapsed": false
   },
   "outputs": [
    {
     "data": {
      "text/html": [
       "<div>\n",
       "<table border=\"1\" class=\"dataframe\">\n",
       "  <thead>\n",
       "    <tr style=\"text-align: right;\">\n",
       "      <th></th>\n",
       "      <th>image_urls</th>\n",
       "      <th>labels</th>\n",
       "      <th>label_probs</th>\n",
       "    </tr>\n",
       "  </thead>\n",
       "  <tbody>\n",
       "    <tr>\n",
       "      <th>4987</th>\n",
       "      <td>http://scontent.cdninstagram.com/t51.2885-15/s...</td>\n",
       "      <td>[flower, no person, nature, flora, garden, flo...</td>\n",
       "      <td>[0.99859667, 0.9876559, 0.98555636, 0.9819627,...</td>\n",
       "    </tr>\n",
       "    <tr>\n",
       "      <th>4988</th>\n",
       "      <td>http://scontent.cdninstagram.com/t51.2885-15/s...</td>\n",
       "      <td>[cat, pet, kitten, cute, domestic, animal, fur...</td>\n",
       "      <td>[0.9996329, 0.99788046, 0.99739933, 0.99710447...</td>\n",
       "    </tr>\n",
       "    <tr>\n",
       "      <th>4989</th>\n",
       "      <td>http://scontent.cdninstagram.com/t51.2885-15/s...</td>\n",
       "      <td>[cat, mammal, pet, domestic, kitten, cute, dow...</td>\n",
       "      <td>[0.99756676, 0.9928858, 0.9923767, 0.99152315,...</td>\n",
       "    </tr>\n",
       "    <tr>\n",
       "      <th>4990</th>\n",
       "      <td>http://scontent.cdninstagram.com/t51.2885-15/s...</td>\n",
       "      <td>[cat, pet, mammal, animal, cute, kitten, portr...</td>\n",
       "      <td>[0.9980209, 0.99797964, 0.99542785, 0.9921284,...</td>\n",
       "    </tr>\n",
       "    <tr>\n",
       "      <th>4991</th>\n",
       "      <td>http://scontent.cdninstagram.com/t51.2885-15/s...</td>\n",
       "      <td>[cat, cute, kitten, fur, animal, mammal, grey,...</td>\n",
       "      <td>[0.99874055, 0.9954513, 0.9944388, 0.99206257,...</td>\n",
       "    </tr>\n",
       "  </tbody>\n",
       "</table>\n",
       "</div>"
      ],
      "text/plain": [
       "                                             image_urls  \\\n",
       "4987  http://scontent.cdninstagram.com/t51.2885-15/s...   \n",
       "4988  http://scontent.cdninstagram.com/t51.2885-15/s...   \n",
       "4989  http://scontent.cdninstagram.com/t51.2885-15/s...   \n",
       "4990  http://scontent.cdninstagram.com/t51.2885-15/s...   \n",
       "4991  http://scontent.cdninstagram.com/t51.2885-15/s...   \n",
       "\n",
       "                                                 labels  \\\n",
       "4987  [flower, no person, nature, flora, garden, flo...   \n",
       "4988  [cat, pet, kitten, cute, domestic, animal, fur...   \n",
       "4989  [cat, mammal, pet, domestic, kitten, cute, dow...   \n",
       "4990  [cat, pet, mammal, animal, cute, kitten, portr...   \n",
       "4991  [cat, cute, kitten, fur, animal, mammal, grey,...   \n",
       "\n",
       "                                            label_probs  \n",
       "4987  [0.99859667, 0.9876559, 0.98555636, 0.9819627,...  \n",
       "4988  [0.9996329, 0.99788046, 0.99739933, 0.99710447...  \n",
       "4989  [0.99756676, 0.9928858, 0.9923767, 0.99152315,...  \n",
       "4990  [0.9980209, 0.99797964, 0.99542785, 0.9921284,...  \n",
       "4991  [0.99874055, 0.9954513, 0.9944388, 0.99206257,...  "
      ]
     },
     "execution_count": 22,
     "metadata": {},
     "output_type": "execute_result"
    }
   ],
   "source": [
    "df_cat_tags = pd.DataFrame(cat_tags)\n",
    "df_cat_tags.columns = ['image_urls', 'labels', 'label_probs']\n",
    "df_cat_tags.tail()"
   ]
  },
  {
   "cell_type": "code",
   "execution_count": 23,
   "metadata": {
    "collapsed": false
   },
   "outputs": [
    {
     "data": {
      "text/plain": [
       "'http://scontent.cdninstagram.com/t51.2885-15/s480x480/e15/11023214_813845485353392_105087057_n.jpg?ig_cache_key=OTQ0ODE4MjIyMjkyNDI3ODc5.2'"
      ]
     },
     "execution_count": 23,
     "metadata": {},
     "output_type": "execute_result"
    }
   ],
   "source": [
    "df_cat_tags.ix[4991,0]"
   ]
  },
  {
   "cell_type": "code",
   "execution_count": 24,
   "metadata": {
    "collapsed": false
   },
   "outputs": [
    {
     "data": {
      "text/plain": [
       "4991    http://scontent.cdninstagram.com/t51.2885-15/s...\n",
       "Name: image_urls, dtype: object"
      ]
     },
     "execution_count": 24,
     "metadata": {},
     "output_type": "execute_result"
    }
   ],
   "source": [
    "cat_urls[cat_urls==df_cat_tags.ix[4991,0]]"
   ]
  },
  {
   "cell_type": "code",
   "execution_count": null,
   "metadata": {
    "collapsed": true
   },
   "outputs": [],
   "source": [
    "for i in cat_urls[4992:]:\n",
    "    cat_jsons.append(model.predict_by_url(url=i))"
   ]
  },
  {
   "cell_type": "code",
   "execution_count": null,
   "metadata": {
    "collapsed": true
   },
   "outputs": [],
   "source": [
    "cat_tags = getClarifai(cat_jsons)"
   ]
  },
  {
   "cell_type": "code",
   "execution_count": null,
   "metadata": {
    "collapsed": true
   },
   "outputs": [],
   "source": [
    "df_cat_tags = pd.DataFrame(cat_tags)\n",
    "df_cat_tags.columns = ['image_urls', 'labels', 'label_probs']\n",
    "df_cat_tags.tail()"
   ]
  },
  {
   "cell_type": "code",
   "execution_count": null,
   "metadata": {
    "collapsed": true
   },
   "outputs": [],
   "source": []
  }
 ],
 "metadata": {
  "kernelspec": {
   "display_name": "Python [default]",
   "language": "python",
   "name": "python3"
  },
  "language_info": {
   "codemirror_mode": {
    "name": "ipython",
    "version": 3
   },
   "file_extension": ".py",
   "mimetype": "text/x-python",
   "name": "python",
   "nbconvert_exporter": "python",
   "pygments_lexer": "ipython3",
   "version": "3.5.2"
  }
 },
 "nbformat": 4,
 "nbformat_minor": 1
}
