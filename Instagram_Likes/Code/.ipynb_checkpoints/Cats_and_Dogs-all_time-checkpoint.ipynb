{
 "cells": [
  {
   "cell_type": "code",
   "execution_count": 2,
   "metadata": {
    "collapsed": true
   },
   "outputs": [],
   "source": [
    "import pandas as pd\n",
    "import numpy as np\n",
    "from matplotlib import pyplot as plt\n",
    "%matplotlib inline\n",
    "from seaborn import plt\n",
    "\n",
    "from sklearn import preprocessing\n",
    "from sklearn.linear_model import LinearRegression\n",
    "from sklearn.model_selection import cross_val_predict\n",
    "import sklearn\n",
    "\n",
    "from scipy import ndimage\n",
    "\n",
    "from time import time\n",
    "import re\n",
    "import json \n",
    "import pickle\n",
    "\n",
    "from glob import glob\n",
    "import random\n",
    "from PIL import Image "
   ]
  },
  {
   "cell_type": "code",
   "execution_count": 3,
   "metadata": {
    "collapsed": false
   },
   "outputs": [
    {
     "data": {
      "text/html": [
       "<div>\n",
       "<table border=\"1\" class=\"dataframe\">\n",
       "  <thead>\n",
       "    <tr style=\"text-align: right;\">\n",
       "      <th></th>\n",
       "      <th>images</th>\n",
       "      <th>image_urls</th>\n",
       "      <th>user_url</th>\n",
       "      <th>comments</th>\n",
       "      <th>likes</th>\n",
       "      <th>username</th>\n",
       "      <th>caption</th>\n",
       "    </tr>\n",
       "  </thead>\n",
       "  <tbody>\n",
       "    <tr>\n",
       "      <th>109489</th>\n",
       "      <td>[{'path': 'full/1ac2329d1222f77d552c246c0a55f5...</td>\n",
       "      <td>http://scontent.cdninstagram.com/t51.2885-15/s...</td>\n",
       "      <td>http://www.imgrum.org/user/marutaro/124317</td>\n",
       "      <td>5.0</td>\n",
       "      <td>157.0</td>\n",
       "      <td>Shinjiro Ono (@marutaro)</td>\n",
       "      <td>神輿</td>\n",
       "    </tr>\n",
       "    <tr>\n",
       "      <th>109490</th>\n",
       "      <td>[{'path': 'full/1180b1265d190b517d78fc1208c533...</td>\n",
       "      <td>http://scontent.cdninstagram.com/t51.2885-15/s...</td>\n",
       "      <td>http://www.imgrum.org/user/marutaro/124317</td>\n",
       "      <td>313.0</td>\n",
       "      <td>766.0</td>\n",
       "      <td>Shinjiro Ono (@marutaro)</td>\n",
       "      <td>秋桜</td>\n",
       "    </tr>\n",
       "  </tbody>\n",
       "</table>\n",
       "</div>"
      ],
      "text/plain": [
       "                                                   images  \\\n",
       "109489  [{'path': 'full/1ac2329d1222f77d552c246c0a55f5...   \n",
       "109490  [{'path': 'full/1180b1265d190b517d78fc1208c533...   \n",
       "\n",
       "                                               image_urls  \\\n",
       "109489  http://scontent.cdninstagram.com/t51.2885-15/s...   \n",
       "109490  http://scontent.cdninstagram.com/t51.2885-15/s...   \n",
       "\n",
       "                                          user_url  comments  likes  \\\n",
       "109489  http://www.imgrum.org/user/marutaro/124317       5.0  157.0   \n",
       "109490  http://www.imgrum.org/user/marutaro/124317     313.0  766.0   \n",
       "\n",
       "                        username caption  \n",
       "109489  Shinjiro Ono (@marutaro)      神輿  \n",
       "109490  Shinjiro Ono (@marutaro)      秋桜  "
      ]
     },
     "execution_count": 3,
     "metadata": {},
     "output_type": "execute_result"
    }
   ],
   "source": [
    "dogs = pd.read_csv('../insta/dogs.csv') #4586021 #1303\n",
    "dogs.tail(2)"
   ]
  },
  {
   "cell_type": "code",
   "execution_count": 4,
   "metadata": {
    "collapsed": false
   },
   "outputs": [
    {
     "data": {
      "text/html": [
       "<div>\n",
       "<table border=\"1\" class=\"dataframe\">\n",
       "  <thead>\n",
       "    <tr style=\"text-align: right;\">\n",
       "      <th></th>\n",
       "      <th>caption</th>\n",
       "      <th>user_url</th>\n",
       "      <th>images</th>\n",
       "      <th>username</th>\n",
       "      <th>comments</th>\n",
       "      <th>likes</th>\n",
       "      <th>image_urls</th>\n",
       "    </tr>\n",
       "  </thead>\n",
       "  <tbody>\n",
       "    <tr>\n",
       "      <th>52776</th>\n",
       "      <td>When I was young :)</td>\n",
       "      <td>http://www.imgrum.org/user/nala_cat/27467826</td>\n",
       "      <td>[{'path': 'full/db11a3375c2deb1ccf9ecc8ec51bd1...</td>\n",
       "      <td>nala_cat™ (@nala_cat)</td>\n",
       "      <td>949.0</td>\n",
       "      <td>4698.0</td>\n",
       "      <td>http://scontent.cdninstagram.com/t51.2885-15/s...</td>\n",
       "    </tr>\n",
       "    <tr>\n",
       "      <th>52777</th>\n",
       "      <td>#small#nala</td>\n",
       "      <td>http://www.imgrum.org/user/nala_cat/27467826</td>\n",
       "      <td>[{'path': 'full/15c2db24b8750dadf413724ca92d22...</td>\n",
       "      <td>nala_cat™ (@nala_cat)</td>\n",
       "      <td>57.0</td>\n",
       "      <td>2168.0</td>\n",
       "      <td>http://scontent.cdninstagram.com/t51.2885-15/s...</td>\n",
       "    </tr>\n",
       "  </tbody>\n",
       "</table>\n",
       "</div>"
      ],
      "text/plain": [
       "                   caption                                      user_url  \\\n",
       "52776  When I was young :)  http://www.imgrum.org/user/nala_cat/27467826   \n",
       "52777          #small#nala  http://www.imgrum.org/user/nala_cat/27467826   \n",
       "\n",
       "                                                  images  \\\n",
       "52776  [{'path': 'full/db11a3375c2deb1ccf9ecc8ec51bd1...   \n",
       "52777  [{'path': 'full/15c2db24b8750dadf413724ca92d22...   \n",
       "\n",
       "                    username  comments   likes  \\\n",
       "52776  nala_cat™ (@nala_cat)     949.0  4698.0   \n",
       "52777  nala_cat™ (@nala_cat)      57.0  2168.0   \n",
       "\n",
       "                                              image_urls  \n",
       "52776  http://scontent.cdninstagram.com/t51.2885-15/s...  \n",
       "52777  http://scontent.cdninstagram.com/t51.2885-15/s...  "
      ]
     },
     "execution_count": 4,
     "metadata": {},
     "output_type": "execute_result"
    }
   ],
   "source": [
    "cats = pd.read_csv('../insta/cats.csv')\n",
    "cats.tail(2)\n",
    "# cats.columns"
   ]
  },
  {
   "cell_type": "code",
   "execution_count": 5,
   "metadata": {
    "collapsed": false
   },
   "outputs": [
    {
     "data": {
      "text/html": [
       "<div>\n",
       "<table border=\"1\" class=\"dataframe\">\n",
       "  <thead>\n",
       "    <tr style=\"text-align: right;\">\n",
       "      <th></th>\n",
       "      <th>caption</th>\n",
       "      <th>user_url</th>\n",
       "      <th>images</th>\n",
       "      <th>username</th>\n",
       "      <th>comments</th>\n",
       "      <th>likes</th>\n",
       "      <th>image_urls</th>\n",
       "    </tr>\n",
       "  </thead>\n",
       "  <tbody>\n",
       "    <tr>\n",
       "      <th>50951</th>\n",
       "      <td>Submitted by @bedifferent #catsofinstagram #ca...</td>\n",
       "      <td>http://www.imgrum.org/user/cats_of_instagram/7...</td>\n",
       "      <td>[{'checksum': 'c7f4d58984e7e4e39e2a91aff68d513...</td>\n",
       "      <td>Cats of Instagram (@cats_of_instagram)</td>\n",
       "      <td>12.0</td>\n",
       "      <td>309.0</td>\n",
       "      <td>http://scontent.cdninstagram.com/t51.2885-15/s...</td>\n",
       "    </tr>\n",
       "    <tr>\n",
       "      <th>50952</th>\n",
       "      <td>Submitted by @BrandonPeters #catsofinstagram #...</td>\n",
       "      <td>http://www.imgrum.org/user/cats_of_instagram/7...</td>\n",
       "      <td>[{'checksum': '479dc292c4bfb143819630e207e3830...</td>\n",
       "      <td>Cats of Instagram (@cats_of_instagram)</td>\n",
       "      <td>177.0</td>\n",
       "      <td>777.0</td>\n",
       "      <td>http://scontent.cdninstagram.com/t51.2885-15/s...</td>\n",
       "    </tr>\n",
       "  </tbody>\n",
       "</table>\n",
       "</div>"
      ],
      "text/plain": [
       "                                                 caption  \\\n",
       "50951  Submitted by @bedifferent #catsofinstagram #ca...   \n",
       "50952  Submitted by @BrandonPeters #catsofinstagram #...   \n",
       "\n",
       "                                                user_url  \\\n",
       "50951  http://www.imgrum.org/user/cats_of_instagram/7...   \n",
       "50952  http://www.imgrum.org/user/cats_of_instagram/7...   \n",
       "\n",
       "                                                  images  \\\n",
       "50951  [{'checksum': 'c7f4d58984e7e4e39e2a91aff68d513...   \n",
       "50952  [{'checksum': '479dc292c4bfb143819630e207e3830...   \n",
       "\n",
       "                                     username  comments  likes  \\\n",
       "50951  Cats of Instagram (@cats_of_instagram)      12.0  309.0   \n",
       "50952  Cats of Instagram (@cats_of_instagram)     177.0  777.0   \n",
       "\n",
       "                                              image_urls  \n",
       "50951  http://scontent.cdninstagram.com/t51.2885-15/s...  \n",
       "50952  http://scontent.cdninstagram.com/t51.2885-15/s...  "
      ]
     },
     "execution_count": 5,
     "metadata": {},
     "output_type": "execute_result"
    }
   ],
   "source": [
    "cats2 = pd.read_csv('../insta/cats2.csv')\n",
    "cats2 = cats2[['caption', 'user_url', 'images', 'username', 'comments', 'likes',\n",
    "       'image_urls']]\n",
    "cats2.tail(2)"
   ]
  },
  {
   "cell_type": "code",
   "execution_count": 6,
   "metadata": {
    "collapsed": false
   },
   "outputs": [
    {
     "data": {
      "text/html": [
       "<div>\n",
       "<table border=\"1\" class=\"dataframe\">\n",
       "  <thead>\n",
       "    <tr style=\"text-align: right;\">\n",
       "      <th></th>\n",
       "      <th>caption</th>\n",
       "      <th>user_url</th>\n",
       "      <th>images</th>\n",
       "      <th>username</th>\n",
       "      <th>comments</th>\n",
       "      <th>likes</th>\n",
       "      <th>image_urls</th>\n",
       "    </tr>\n",
       "  </thead>\n",
       "  <tbody>\n",
       "    <tr>\n",
       "      <th>50951</th>\n",
       "      <td>Submitted by @bedifferent #catsofinstagram #ca...</td>\n",
       "      <td>http://www.imgrum.org/user/cats_of_instagram/7...</td>\n",
       "      <td>[{'checksum': 'c7f4d58984e7e4e39e2a91aff68d513...</td>\n",
       "      <td>Cats of Instagram (@cats_of_instagram)</td>\n",
       "      <td>12.0</td>\n",
       "      <td>309.0</td>\n",
       "      <td>http://scontent.cdninstagram.com/t51.2885-15/s...</td>\n",
       "    </tr>\n",
       "    <tr>\n",
       "      <th>50952</th>\n",
       "      <td>Submitted by @BrandonPeters #catsofinstagram #...</td>\n",
       "      <td>http://www.imgrum.org/user/cats_of_instagram/7...</td>\n",
       "      <td>[{'checksum': '479dc292c4bfb143819630e207e3830...</td>\n",
       "      <td>Cats of Instagram (@cats_of_instagram)</td>\n",
       "      <td>177.0</td>\n",
       "      <td>777.0</td>\n",
       "      <td>http://scontent.cdninstagram.com/t51.2885-15/s...</td>\n",
       "    </tr>\n",
       "  </tbody>\n",
       "</table>\n",
       "</div>"
      ],
      "text/plain": [
       "                                                 caption  \\\n",
       "50951  Submitted by @bedifferent #catsofinstagram #ca...   \n",
       "50952  Submitted by @BrandonPeters #catsofinstagram #...   \n",
       "\n",
       "                                                user_url  \\\n",
       "50951  http://www.imgrum.org/user/cats_of_instagram/7...   \n",
       "50952  http://www.imgrum.org/user/cats_of_instagram/7...   \n",
       "\n",
       "                                                  images  \\\n",
       "50951  [{'checksum': 'c7f4d58984e7e4e39e2a91aff68d513...   \n",
       "50952  [{'checksum': '479dc292c4bfb143819630e207e3830...   \n",
       "\n",
       "                                     username  comments  likes  \\\n",
       "50951  Cats of Instagram (@cats_of_instagram)      12.0  309.0   \n",
       "50952  Cats of Instagram (@cats_of_instagram)     177.0  777.0   \n",
       "\n",
       "                                              image_urls  \n",
       "50951  http://scontent.cdninstagram.com/t51.2885-15/s...  \n",
       "50952  http://scontent.cdninstagram.com/t51.2885-15/s...  "
      ]
     },
     "execution_count": 6,
     "metadata": {},
     "output_type": "execute_result"
    }
   ],
   "source": [
    "cats = cats.append(cats2)\n",
    "cats.tail(2)"
   ]
  },
  {
   "cell_type": "code",
   "execution_count": 7,
   "metadata": {
    "collapsed": false
   },
   "outputs": [
    {
     "data": {
      "text/plain": [
       "'Shinjiro Ono ('"
      ]
     },
     "execution_count": 7,
     "metadata": {},
     "output_type": "execute_result"
    }
   ],
   "source": [
    "test = dogs.username\n",
    "b = re.search(r\"^([^\\(]*)\\(*\", test[0])\n",
    "a = re.search(r'\\(@[^)]*\\)', test[0])\n",
    "b.group(0)\n",
    "# test[0]"
   ]
  },
  {
   "cell_type": "code",
   "execution_count": 8,
   "metadata": {
    "collapsed": true
   },
   "outputs": [],
   "source": [
    "dogs['rating']=0\n",
    "cats['rating']=0"
   ]
  },
  {
   "cell_type": "code",
   "execution_count": 9,
   "metadata": {
    "collapsed": true
   },
   "outputs": [],
   "source": [
    "def getName(row):\n",
    "    a = re.search(r\"^([^\\(]*)\\(*\", row.username)\n",
    "    return a.group(0)[:-1]\n",
    "\n",
    "def getUsername(row):\n",
    "    a = re.search(r'\\(@[^)]*\\)', row.username)\n",
    "    return a.group(0)[2:-1]"
   ]
  },
  {
   "cell_type": "code",
   "execution_count": 10,
   "metadata": {
    "collapsed": false
   },
   "outputs": [],
   "source": [
    "def notNull(df):\n",
    "    df = df[(df['username'].notnull())]\n",
    "    df = df[(df['images'].notnull())]\n",
    "    df = df[(df['likes'].notnull())].reset_index()\n",
    "    df[\"name\"] = df.apply(getName,axis=1)\n",
    "    df[\"username\"] = df.apply(getUsername,axis=1)\n",
    "    return df"
   ]
  },
  {
   "cell_type": "code",
   "execution_count": 11,
   "metadata": {
    "collapsed": false
   },
   "outputs": [],
   "source": [
    "dogs = notNull(dogs)\n",
    "cats = notNull(cats)"
   ]
  },
  {
   "cell_type": "code",
   "execution_count": 12,
   "metadata": {
    "collapsed": false
   },
   "outputs": [
    {
     "data": {
      "text/html": [
       "<div>\n",
       "<table border=\"1\" class=\"dataframe\">\n",
       "  <thead>\n",
       "    <tr style=\"text-align: right;\">\n",
       "      <th></th>\n",
       "      <th>index</th>\n",
       "      <th>images</th>\n",
       "      <th>image_urls</th>\n",
       "      <th>user_url</th>\n",
       "      <th>comments</th>\n",
       "      <th>likes</th>\n",
       "      <th>username</th>\n",
       "      <th>caption</th>\n",
       "      <th>rating</th>\n",
       "      <th>name</th>\n",
       "    </tr>\n",
       "  </thead>\n",
       "  <tbody>\n",
       "    <tr>\n",
       "      <th>0</th>\n",
       "      <td>39</td>\n",
       "      <td>[{'path': 'full/f1d03d5c125ff5aed6f424e5101b69...</td>\n",
       "      <td>http://scontent.cdninstagram.com/t51.2885-15/s...</td>\n",
       "      <td>http://www.imgrum.org/user/marutaro/124317</td>\n",
       "      <td>403.0</td>\n",
       "      <td>79232.0</td>\n",
       "      <td>marutaro</td>\n",
       "      <td>I wish this rain would go away🙄🐶おはまる〜*\\(^o^)/*...</td>\n",
       "      <td>0</td>\n",
       "      <td>Shinjiro Ono</td>\n",
       "    </tr>\n",
       "    <tr>\n",
       "      <th>1</th>\n",
       "      <td>40</td>\n",
       "      <td>[{'path': 'full/d715b03d65488c2b52ecc506c0101c...</td>\n",
       "      <td>http://scontent.cdninstagram.com/t51.2885-15/s...</td>\n",
       "      <td>http://www.imgrum.org/user/smileytheblindthera...</td>\n",
       "      <td>94.0</td>\n",
       "      <td>6705.0</td>\n",
       "      <td>smileytheblindtherapydog</td>\n",
       "      <td>I love when friends stop by!!!</td>\n",
       "      <td>0</td>\n",
       "      <td>Joanne George</td>\n",
       "    </tr>\n",
       "    <tr>\n",
       "      <th>2</th>\n",
       "      <td>41</td>\n",
       "      <td>[{'path': 'full/a51591aa1e1f719955611da044f344...</td>\n",
       "      <td>http://scontent.cdninstagram.com/t51.2885-15/s...</td>\n",
       "      <td>http://www.imgrum.org/user/tobypuff/1695009566</td>\n",
       "      <td>43.0</td>\n",
       "      <td>2162.0</td>\n",
       "      <td>tobypuff</td>\n",
       "      <td>How belle's friends look like in 2017</td>\n",
       "      <td>0</td>\n",
       "      <td></td>\n",
       "    </tr>\n",
       "  </tbody>\n",
       "</table>\n",
       "</div>"
      ],
      "text/plain": [
       "   index                                             images  \\\n",
       "0     39  [{'path': 'full/f1d03d5c125ff5aed6f424e5101b69...   \n",
       "1     40  [{'path': 'full/d715b03d65488c2b52ecc506c0101c...   \n",
       "2     41  [{'path': 'full/a51591aa1e1f719955611da044f344...   \n",
       "\n",
       "                                          image_urls  \\\n",
       "0  http://scontent.cdninstagram.com/t51.2885-15/s...   \n",
       "1  http://scontent.cdninstagram.com/t51.2885-15/s...   \n",
       "2  http://scontent.cdninstagram.com/t51.2885-15/s...   \n",
       "\n",
       "                                            user_url  comments    likes  \\\n",
       "0         http://www.imgrum.org/user/marutaro/124317     403.0  79232.0   \n",
       "1  http://www.imgrum.org/user/smileytheblindthera...      94.0   6705.0   \n",
       "2     http://www.imgrum.org/user/tobypuff/1695009566      43.0   2162.0   \n",
       "\n",
       "                   username  \\\n",
       "0                  marutaro   \n",
       "1  smileytheblindtherapydog   \n",
       "2                  tobypuff   \n",
       "\n",
       "                                             caption  rating            name  \n",
       "0  I wish this rain would go away🙄🐶おはまる〜*\\(^o^)/*...       0   Shinjiro Ono   \n",
       "1                     I love when friends stop by!!!       0  Joanne George   \n",
       "2              How belle's friends look like in 2017       0                  "
      ]
     },
     "execution_count": 12,
     "metadata": {},
     "output_type": "execute_result"
    }
   ],
   "source": [
    "dogs.head(3)"
   ]
  },
  {
   "cell_type": "code",
   "execution_count": 13,
   "metadata": {
    "collapsed": false
   },
   "outputs": [
    {
     "data": {
      "text/html": [
       "<div>\n",
       "<table border=\"1\" class=\"dataframe\">\n",
       "  <thead>\n",
       "    <tr style=\"text-align: right;\">\n",
       "      <th></th>\n",
       "      <th>index</th>\n",
       "      <th>caption</th>\n",
       "      <th>user_url</th>\n",
       "      <th>images</th>\n",
       "      <th>username</th>\n",
       "      <th>comments</th>\n",
       "      <th>likes</th>\n",
       "      <th>image_urls</th>\n",
       "      <th>rating</th>\n",
       "      <th>name</th>\n",
       "    </tr>\n",
       "  </thead>\n",
       "  <tbody>\n",
       "    <tr>\n",
       "      <th>0</th>\n",
       "      <td>17</td>\n",
       "      <td>/\\m/\\ONSTERs in closets are real 🚪😈 @algonquin...</td>\n",
       "      <td>http://www.imgrum.org/user/princessmonstertruc...</td>\n",
       "      <td>[{'path': 'full/0cc6b49841d86de62f7f75742328eb...</td>\n",
       "      <td>princessmonstertruck</td>\n",
       "      <td>23.0</td>\n",
       "      <td>4661.0</td>\n",
       "      <td>http://scontent.cdninstagram.com/t51.2885-15/s...</td>\n",
       "      <td>0</td>\n",
       "      <td>PrincessMonsterTruck ©</td>\n",
       "    </tr>\n",
       "    <tr>\n",
       "      <th>1</th>\n",
       "      <td>18</td>\n",
       "      <td>Thanks again to our awesome friends @littergen...</td>\n",
       "      <td>http://www.imgrum.org/user/princessmonstertruc...</td>\n",
       "      <td>[{'path': 'full/d7517fa9d348e9802ecc2140d35f25...</td>\n",
       "      <td>princessmonstertruck</td>\n",
       "      <td>10.0</td>\n",
       "      <td>2172.0</td>\n",
       "      <td>http://scontent.cdninstagram.com/t51.2885-15/s...</td>\n",
       "      <td>0</td>\n",
       "      <td>PrincessMonsterTruck ©</td>\n",
       "    </tr>\n",
       "  </tbody>\n",
       "</table>\n",
       "</div>"
      ],
      "text/plain": [
       "   index                                            caption  \\\n",
       "0     17  /\\m/\\ONSTERs in closets are real 🚪😈 @algonquin...   \n",
       "1     18  Thanks again to our awesome friends @littergen...   \n",
       "\n",
       "                                            user_url  \\\n",
       "0  http://www.imgrum.org/user/princessmonstertruc...   \n",
       "1  http://www.imgrum.org/user/princessmonstertruc...   \n",
       "\n",
       "                                              images              username  \\\n",
       "0  [{'path': 'full/0cc6b49841d86de62f7f75742328eb...  princessmonstertruck   \n",
       "1  [{'path': 'full/d7517fa9d348e9802ecc2140d35f25...  princessmonstertruck   \n",
       "\n",
       "   comments   likes                                         image_urls  \\\n",
       "0      23.0  4661.0  http://scontent.cdninstagram.com/t51.2885-15/s...   \n",
       "1      10.0  2172.0  http://scontent.cdninstagram.com/t51.2885-15/s...   \n",
       "\n",
       "   rating                     name  \n",
       "0       0  PrincessMonsterTruck ©   \n",
       "1       0  PrincessMonsterTruck ©   "
      ]
     },
     "execution_count": 13,
     "metadata": {},
     "output_type": "execute_result"
    }
   ],
   "source": [
    "cats.head(2)"
   ]
  },
  {
   "cell_type": "code",
   "execution_count": 105,
   "metadata": {
    "collapsed": true
   },
   "outputs": [],
   "source": [
    "def makeJson(row):\n",
    "    row = row[1:-1]\n",
    "    json_acceptable_string = row.replace(\"'\", \"\\\"\")\n",
    "    return json.loads(json_acceptable_string)"
   ]
  },
  {
   "cell_type": "code",
   "execution_count": 106,
   "metadata": {
    "collapsed": false
   },
   "outputs": [],
   "source": [
    "def getPaths(meta_data):\n",
    "    meta_data[\"images\"] = meta_data.images.apply(makeJson)\n",
    "    pic_path = []\n",
    "    for i in range(len(meta_data)):\n",
    "        pic_path.append(meta_data['images'][i]['path'][5:])\n",
    "    meta_data['pic_path'] = pic_path\n",
    "\n",
    "    checksum = []\n",
    "    for i in range(len(meta_data)):\n",
    "        checksum.append(meta_data['images'][i]['checksum'])\n",
    "    meta_data['checksum'] = checksum \n",
    "\n",
    "    return meta_data.drop(['images','index'],1)"
   ]
  },
  {
   "cell_type": "code",
   "execution_count": 107,
   "metadata": {
    "collapsed": false
   },
   "outputs": [
    {
     "data": {
      "text/html": [
       "<div>\n",
       "<table border=\"1\" class=\"dataframe\">\n",
       "  <thead>\n",
       "    <tr style=\"text-align: right;\">\n",
       "      <th></th>\n",
       "      <th>image_urls</th>\n",
       "      <th>user_url</th>\n",
       "      <th>comments</th>\n",
       "      <th>likes</th>\n",
       "      <th>username</th>\n",
       "      <th>caption</th>\n",
       "      <th>rating</th>\n",
       "      <th>name</th>\n",
       "      <th>pic_path</th>\n",
       "      <th>checksum</th>\n",
       "    </tr>\n",
       "  </thead>\n",
       "  <tbody>\n",
       "    <tr>\n",
       "      <th>0</th>\n",
       "      <td>http://scontent.cdninstagram.com/t51.2885-15/s...</td>\n",
       "      <td>http://www.imgrum.org/user/marutaro/124317</td>\n",
       "      <td>403.0</td>\n",
       "      <td>79232.0</td>\n",
       "      <td>marutaro</td>\n",
       "      <td>I wish this rain would go away🙄🐶おはまる〜*\\(^o^)/*...</td>\n",
       "      <td>0</td>\n",
       "      <td>Shinjiro Ono</td>\n",
       "      <td>f1d03d5c125ff5aed6f424e5101b692ec178d171.jpg</td>\n",
       "      <td>3a7005c12e4d0f0ef19613b6d9663b0c</td>\n",
       "    </tr>\n",
       "    <tr>\n",
       "      <th>1</th>\n",
       "      <td>http://scontent.cdninstagram.com/t51.2885-15/s...</td>\n",
       "      <td>http://www.imgrum.org/user/smileytheblindthera...</td>\n",
       "      <td>94.0</td>\n",
       "      <td>6705.0</td>\n",
       "      <td>smileytheblindtherapydog</td>\n",
       "      <td>I love when friends stop by!!!</td>\n",
       "      <td>0</td>\n",
       "      <td>Joanne George</td>\n",
       "      <td>d715b03d65488c2b52ecc506c0101c7a35f7d627.jpg</td>\n",
       "      <td>ad4b22c9ca4563c2d6fc477dcb9f4051</td>\n",
       "    </tr>\n",
       "  </tbody>\n",
       "</table>\n",
       "</div>"
      ],
      "text/plain": [
       "                                          image_urls  \\\n",
       "0  http://scontent.cdninstagram.com/t51.2885-15/s...   \n",
       "1  http://scontent.cdninstagram.com/t51.2885-15/s...   \n",
       "\n",
       "                                            user_url  comments    likes  \\\n",
       "0         http://www.imgrum.org/user/marutaro/124317     403.0  79232.0   \n",
       "1  http://www.imgrum.org/user/smileytheblindthera...      94.0   6705.0   \n",
       "\n",
       "                   username  \\\n",
       "0                  marutaro   \n",
       "1  smileytheblindtherapydog   \n",
       "\n",
       "                                             caption  rating            name  \\\n",
       "0  I wish this rain would go away🙄🐶おはまる〜*\\(^o^)/*...       0   Shinjiro Ono    \n",
       "1                     I love when friends stop by!!!       0  Joanne George    \n",
       "\n",
       "                                       pic_path  \\\n",
       "0  f1d03d5c125ff5aed6f424e5101b692ec178d171.jpg   \n",
       "1  d715b03d65488c2b52ecc506c0101c7a35f7d627.jpg   \n",
       "\n",
       "                           checksum  \n",
       "0  3a7005c12e4d0f0ef19613b6d9663b0c  \n",
       "1  ad4b22c9ca4563c2d6fc477dcb9f4051  "
      ]
     },
     "execution_count": 107,
     "metadata": {},
     "output_type": "execute_result"
    }
   ],
   "source": [
    "dogs = getPaths(dogs)\n",
    "dogs.head(2)"
   ]
  },
  {
   "cell_type": "code",
   "execution_count": 108,
   "metadata": {
    "collapsed": false
   },
   "outputs": [
    {
     "data": {
      "text/html": [
       "<div>\n",
       "<table border=\"1\" class=\"dataframe\">\n",
       "  <thead>\n",
       "    <tr style=\"text-align: right;\">\n",
       "      <th></th>\n",
       "      <th>caption</th>\n",
       "      <th>user_url</th>\n",
       "      <th>username</th>\n",
       "      <th>comments</th>\n",
       "      <th>likes</th>\n",
       "      <th>image_urls</th>\n",
       "      <th>rating</th>\n",
       "      <th>name</th>\n",
       "      <th>pic_path</th>\n",
       "      <th>checksum</th>\n",
       "    </tr>\n",
       "  </thead>\n",
       "  <tbody>\n",
       "    <tr>\n",
       "      <th>0</th>\n",
       "      <td>/\\m/\\ONSTERs in closets are real 🚪😈 @algonquin...</td>\n",
       "      <td>http://www.imgrum.org/user/princessmonstertruc...</td>\n",
       "      <td>princessmonstertruck</td>\n",
       "      <td>23.0</td>\n",
       "      <td>4661.0</td>\n",
       "      <td>http://scontent.cdninstagram.com/t51.2885-15/s...</td>\n",
       "      <td>0</td>\n",
       "      <td>PrincessMonsterTruck ©</td>\n",
       "      <td>0cc6b49841d86de62f7f75742328ebcfa2ec04ef.jpg</td>\n",
       "      <td>6ec7173ba299c5471fd6c16920b0efbf</td>\n",
       "    </tr>\n",
       "    <tr>\n",
       "      <th>1</th>\n",
       "      <td>Thanks again to our awesome friends @littergen...</td>\n",
       "      <td>http://www.imgrum.org/user/princessmonstertruc...</td>\n",
       "      <td>princessmonstertruck</td>\n",
       "      <td>10.0</td>\n",
       "      <td>2172.0</td>\n",
       "      <td>http://scontent.cdninstagram.com/t51.2885-15/s...</td>\n",
       "      <td>0</td>\n",
       "      <td>PrincessMonsterTruck ©</td>\n",
       "      <td>d7517fa9d348e9802ecc2140d35f25f43ba3769e.jpg</td>\n",
       "      <td>313ddc6627520e45c0821e1c058bedb4</td>\n",
       "    </tr>\n",
       "  </tbody>\n",
       "</table>\n",
       "</div>"
      ],
      "text/plain": [
       "                                             caption  \\\n",
       "0  /\\m/\\ONSTERs in closets are real 🚪😈 @algonquin...   \n",
       "1  Thanks again to our awesome friends @littergen...   \n",
       "\n",
       "                                            user_url              username  \\\n",
       "0  http://www.imgrum.org/user/princessmonstertruc...  princessmonstertruck   \n",
       "1  http://www.imgrum.org/user/princessmonstertruc...  princessmonstertruck   \n",
       "\n",
       "   comments   likes                                         image_urls  \\\n",
       "0      23.0  4661.0  http://scontent.cdninstagram.com/t51.2885-15/s...   \n",
       "1      10.0  2172.0  http://scontent.cdninstagram.com/t51.2885-15/s...   \n",
       "\n",
       "   rating                     name  \\\n",
       "0       0  PrincessMonsterTruck ©    \n",
       "1       0  PrincessMonsterTruck ©    \n",
       "\n",
       "                                       pic_path  \\\n",
       "0  0cc6b49841d86de62f7f75742328ebcfa2ec04ef.jpg   \n",
       "1  d7517fa9d348e9802ecc2140d35f25f43ba3769e.jpg   \n",
       "\n",
       "                           checksum  \n",
       "0  6ec7173ba299c5471fd6c16920b0efbf  \n",
       "1  313ddc6627520e45c0821e1c058bedb4  "
      ]
     },
     "execution_count": 108,
     "metadata": {},
     "output_type": "execute_result"
    }
   ],
   "source": [
    "cats = getPaths(cats)\n",
    "cats.head(2)"
   ]
  },
  {
   "cell_type": "code",
   "execution_count": 109,
   "metadata": {
    "collapsed": false
   },
   "outputs": [
    {
     "data": {
      "text/plain": [
       "17139.553797426062"
      ]
     },
     "execution_count": 109,
     "metadata": {},
     "output_type": "execute_result"
    }
   ],
   "source": [
    "cats.likes.mean()"
   ]
  },
  {
   "cell_type": "code",
   "execution_count": 154,
   "metadata": {
    "collapsed": true
   },
   "outputs": [],
   "source": [
    "def getRating(df):\n",
    "    ratings = []\n",
    "    ind = df.index.values\n",
    "    mean = df.likes.mean()\n",
    "    std = np.std(df.likes)\n",
    "#     print(mean,mean/2)\n",
    "    for i in range(len(df)): \n",
    "        if df.likes[i]>=(mean):\n",
    "            ratings.append(1)\n",
    "        elif df.likes[i]<=(mean - std*.5):\n",
    "            ratings.append(0)\n",
    "        else:\n",
    "            ratings.append(-1)\n",
    "    zipped = list(zip(ind,ratings))\n",
    "    rate = pd.DataFrame(zipped,columns=['ind', 'updated_rating'])\n",
    "    rate.set_index(['ind'], inplace=True)\n",
    "    df.rating.update(rate.updated_rating)\n",
    "    return df"
   ]
  },
  {
   "cell_type": "code",
   "execution_count": 204,
   "metadata": {
    "collapsed": true
   },
   "outputs": [],
   "source": [
    "def getCatRating(df):\n",
    "    ratings = []\n",
    "    ind = df.index.values\n",
    "    mean = df.likes.mean()\n",
    "    std = np.std(df.likes)\n",
    "#     print(mean,mean/2)\n",
    "    for i in range(len(df)): \n",
    "        if df.likes[i]>=(mean*.6):\n",
    "            ratings.append(1)\n",
    "        elif df.likes[i]<=(mean - std*.4):\n",
    "            ratings.append(0)\n",
    "        else:\n",
    "            ratings.append(-1)\n",
    "    zipped = list(zip(ind,ratings))\n",
    "    rate = pd.DataFrame(zipped,columns=['ind', 'updated_rating'])\n",
    "    rate.set_index(['ind'], inplace=True)\n",
    "    df.rating.update(rate.updated_rating)\n",
    "    return df"
   ]
  },
  {
   "cell_type": "code",
   "execution_count": 190,
   "metadata": {
    "collapsed": false
   },
   "outputs": [],
   "source": [
    "cat_usernames = cats.username.unique()\n",
    "dog_usernames = dogs.username.unique()"
   ]
  },
  {
   "cell_type": "code",
   "execution_count": 205,
   "metadata": {
    "collapsed": false
   },
   "outputs": [
    {
     "name": "stdout",
     "output_type": "stream",
     "text": [
      "dogs:\n",
      "  0    36664\n",
      " 1    20504\n",
      "-1    19662\n",
      "Name: rating, dtype: int64\n",
      "cats:\n",
      "  0    34694\n",
      "-1    24192\n",
      " 1    15941\n",
      "Name: rating, dtype: int64\n"
     ]
    }
   ],
   "source": [
    "print('dogs:'\"\\n\",dogs.rating.value_counts())\n",
    "print('cats:'\"\\n\",cats.rating.value_counts())"
   ]
  },
  {
   "cell_type": "code",
   "execution_count": 178,
   "metadata": {
    "collapsed": false
   },
   "outputs": [],
   "source": [
    "dogs = getRating(dogs)"
   ]
  },
  {
   "cell_type": "code",
   "execution_count": 206,
   "metadata": {
    "collapsed": false
   },
   "outputs": [],
   "source": [
    "cats = getCatRating(cats)"
   ]
  },
  {
   "cell_type": "code",
   "execution_count": 207,
   "metadata": {
    "collapsed": false,
    "scrolled": true
   },
   "outputs": [
    {
     "name": "stdout",
     "output_type": "stream",
     "text": [
      "dogs:\n",
      "  0    36664\n",
      " 1    20504\n",
      "-1    19662\n",
      "Name: rating, dtype: int64\n",
      "cats:\n",
      "  0    34694\n",
      "-1    21834\n",
      " 1    18299\n",
      "Name: rating, dtype: int64\n"
     ]
    }
   ],
   "source": [
    "print('dogs:'\"\\n\",dogs.rating.value_counts())\n",
    "print('cats:'\"\\n\",cats.rating.value_counts())"
   ]
  },
  {
   "cell_type": "code",
   "execution_count": 208,
   "metadata": {
    "collapsed": false
   },
   "outputs": [],
   "source": [
    "data_path = '../../../local_files/Projects/Instagram_Likes_Local/data/'\n",
    "# sample_cats.to_csv(data_path+'sample_cats.csv', index = False)"
   ]
  },
  {
   "cell_type": "code",
   "execution_count": 211,
   "metadata": {
    "collapsed": false
   },
   "outputs": [
    {
     "data": {
      "text/html": [
       "<div>\n",
       "<table border=\"1\" class=\"dataframe\">\n",
       "  <thead>\n",
       "    <tr style=\"text-align: right;\">\n",
       "      <th></th>\n",
       "      <th>image_urls</th>\n",
       "      <th>user_url</th>\n",
       "      <th>comments</th>\n",
       "      <th>likes</th>\n",
       "      <th>username</th>\n",
       "      <th>caption</th>\n",
       "      <th>rating</th>\n",
       "      <th>name</th>\n",
       "      <th>pic_path</th>\n",
       "      <th>checksum</th>\n",
       "    </tr>\n",
       "  </thead>\n",
       "  <tbody>\n",
       "    <tr>\n",
       "      <th>7</th>\n",
       "      <td>http://scontent.cdninstagram.com/t51.2885-15/s...</td>\n",
       "      <td>http://www.imgrum.org/user/tobypuff/1695009566</td>\n",
       "      <td>24.0</td>\n",
       "      <td>2044.0</td>\n",
       "      <td>tobypuff</td>\n",
       "      <td>Happy St Patrick's day!! Toby was wondering wh...</td>\n",
       "      <td>0</td>\n",
       "      <td></td>\n",
       "      <td>147c1dbb0e2937c51881d3b392fbf11defdbd9a5.jpg</td>\n",
       "      <td>083c07ece41258a2ebc9e31704f4b04e</td>\n",
       "    </tr>\n",
       "    <tr>\n",
       "      <th>14</th>\n",
       "      <td>http://scontent.cdninstagram.com/t51.2885-15/s...</td>\n",
       "      <td>http://www.imgrum.org/user/mollythenewfie/1446...</td>\n",
       "      <td>10.0</td>\n",
       "      <td>998.0</td>\n",
       "      <td>mollythenewfie</td>\n",
       "      <td>Broke out the water rescue box today for some ...</td>\n",
       "      <td>0</td>\n",
       "      <td>》MOLLY // LADY // &amp; BOOMER《</td>\n",
       "      <td>a1708bf1cadb15c3fd54cef1ec2c0502309c2b01.jpg</td>\n",
       "      <td>891b7e355e40ca2ac93373a28b737ccf</td>\n",
       "    </tr>\n",
       "    <tr>\n",
       "      <th>15</th>\n",
       "      <td>http://scontent.cdninstagram.com/t51.2885-15/s...</td>\n",
       "      <td>http://www.imgrum.org/user/mollythenewfie/1446...</td>\n",
       "      <td>17.0</td>\n",
       "      <td>1773.0</td>\n",
       "      <td>mollythenewfie</td>\n",
       "      <td>85 degrees... Momma it's time for some water t...</td>\n",
       "      <td>0</td>\n",
       "      <td>》MOLLY // LADY // &amp; BOOMER《</td>\n",
       "      <td>ef9277028f1537b6af701eb1ca7f1389b81fc245.jpg</td>\n",
       "      <td>99d0b93e986c35fe02a925859d64e50c</td>\n",
       "    </tr>\n",
       "    <tr>\n",
       "      <th>18</th>\n",
       "      <td>http://scontent.cdninstagram.com/t51.2885-15/s...</td>\n",
       "      <td>http://www.imgrum.org/user/mollythenewfie/1446...</td>\n",
       "      <td>15.0</td>\n",
       "      <td>1998.0</td>\n",
       "      <td>mollythenewfie</td>\n",
       "      <td>Staying in bed today 😌</td>\n",
       "      <td>0</td>\n",
       "      <td>》MOLLY // LADY // &amp; BOOMER《</td>\n",
       "      <td>244a07eeb9103463dd3dba39dc8e48099b4191c5.jpg</td>\n",
       "      <td>4095d03de7e13093ad4379481d15de48</td>\n",
       "    </tr>\n",
       "    <tr>\n",
       "      <th>22</th>\n",
       "      <td>http://scontent.cdninstagram.com/t51.2885-15/s...</td>\n",
       "      <td>http://www.imgrum.org/user/mollythenewfie/1446...</td>\n",
       "      <td>15.0</td>\n",
       "      <td>1787.0</td>\n",
       "      <td>mollythenewfie</td>\n",
       "      <td>Top Golf day 👌🏻</td>\n",
       "      <td>0</td>\n",
       "      <td>》MOLLY // LADY // &amp; BOOMER《</td>\n",
       "      <td>6483f2e202be9d5eab74f5f988aa5a529f1a5e9c.jpg</td>\n",
       "      <td>b5ecedb03cdbda8c8cd716021ecc6643</td>\n",
       "    </tr>\n",
       "  </tbody>\n",
       "</table>\n",
       "</div>"
      ],
      "text/plain": [
       "                                           image_urls  \\\n",
       "7   http://scontent.cdninstagram.com/t51.2885-15/s...   \n",
       "14  http://scontent.cdninstagram.com/t51.2885-15/s...   \n",
       "15  http://scontent.cdninstagram.com/t51.2885-15/s...   \n",
       "18  http://scontent.cdninstagram.com/t51.2885-15/s...   \n",
       "22  http://scontent.cdninstagram.com/t51.2885-15/s...   \n",
       "\n",
       "                                             user_url  comments   likes  \\\n",
       "7      http://www.imgrum.org/user/tobypuff/1695009566      24.0  2044.0   \n",
       "14  http://www.imgrum.org/user/mollythenewfie/1446...      10.0   998.0   \n",
       "15  http://www.imgrum.org/user/mollythenewfie/1446...      17.0  1773.0   \n",
       "18  http://www.imgrum.org/user/mollythenewfie/1446...      15.0  1998.0   \n",
       "22  http://www.imgrum.org/user/mollythenewfie/1446...      15.0  1787.0   \n",
       "\n",
       "          username                                            caption  rating  \\\n",
       "7         tobypuff  Happy St Patrick's day!! Toby was wondering wh...       0   \n",
       "14  mollythenewfie  Broke out the water rescue box today for some ...       0   \n",
       "15  mollythenewfie  85 degrees... Momma it's time for some water t...       0   \n",
       "18  mollythenewfie                             Staying in bed today 😌       0   \n",
       "22  mollythenewfie                                    Top Golf day 👌🏻       0   \n",
       "\n",
       "                            name  \\\n",
       "7                                  \n",
       "14  》MOLLY // LADY // & BOOMER《    \n",
       "15  》MOLLY // LADY // & BOOMER《    \n",
       "18  》MOLLY // LADY // & BOOMER《    \n",
       "22  》MOLLY // LADY // & BOOMER《    \n",
       "\n",
       "                                        pic_path  \\\n",
       "7   147c1dbb0e2937c51881d3b392fbf11defdbd9a5.jpg   \n",
       "14  a1708bf1cadb15c3fd54cef1ec2c0502309c2b01.jpg   \n",
       "15  ef9277028f1537b6af701eb1ca7f1389b81fc245.jpg   \n",
       "18  244a07eeb9103463dd3dba39dc8e48099b4191c5.jpg   \n",
       "22  6483f2e202be9d5eab74f5f988aa5a529f1a5e9c.jpg   \n",
       "\n",
       "                            checksum  \n",
       "7   083c07ece41258a2ebc9e31704f4b04e  \n",
       "14  891b7e355e40ca2ac93373a28b737ccf  \n",
       "15  99d0b93e986c35fe02a925859d64e50c  \n",
       "18  4095d03de7e13093ad4379481d15de48  \n",
       "22  b5ecedb03cdbda8c8cd716021ecc6643  "
      ]
     },
     "execution_count": 211,
     "metadata": {},
     "output_type": "execute_result"
    }
   ],
   "source": [
    "dogs[dogs['rating']==0].head()"
   ]
  },
  {
   "cell_type": "code",
   "execution_count": 212,
   "metadata": {
    "collapsed": true
   },
   "outputs": [],
   "source": [
    "cats.to_csv('../../../local_files/Projects/Instagram_Likes_Local/data/cat_alltime.csv', index = False)\n",
    "dogs.to_csv('../../../local_files/Projects/Instagram_Likes_Local/data/dogs_alltime.csv', index = False)"
   ]
  },
  {
   "cell_type": "code",
   "execution_count": 213,
   "metadata": {
    "collapsed": false
   },
   "outputs": [],
   "source": [
    "cats_in = glob(\"../../../local_files/Projects/Instagram_Likes_Local/InstaImages/Cats_Original/thumbs/big/*.jpg\")\n",
    "cats_out = '../../../local_files/Projects/Instagram_Likes_Local/InstaImages/Cats_alltime/'\n",
    "dogs_in = glob(\"../../../local_files/Projects/Instagram_Likes_Local/InstaImages/Dogs_Original/thumbs/big/*.jpg\")\n",
    "dogs_out = '../../../local_files/Projects/Instagram_Likes_Local/InstaImages/Dogs_alltime/'"
   ]
  },
  {
   "cell_type": "code",
   "execution_count": 214,
   "metadata": {
    "collapsed": false
   },
   "outputs": [],
   "source": [
    "# cats.pic_path"
   ]
  },
  {
   "cell_type": "code",
   "execution_count": 216,
   "metadata": {
    "collapsed": false
   },
   "outputs": [],
   "source": [
    "size = 224, 224\n",
    "\n",
    "def sortPhotos(df, input_path, output_path):\n",
    "    for c in input_path:\n",
    "        img = Image.open(c)\n",
    "        img.thumbnail(size, Image.ANTIALIAS)\n",
    "    #     img = Image.fromarray(img)\n",
    "        rating = df.loc[df['pic_path']==c[-44:]]['rating']\n",
    "        if (rating == 1).any():\n",
    "            if random.random() > .3:\n",
    "                img.save(output_path+'train/good'+c[-45:])\n",
    "            else: \n",
    "                img.save(output_path+'validation/good'+c[-45:])\n",
    "        elif (rating == 0).any():\n",
    "            if random.random() > .3:\n",
    "                img.save(output_path+'train/bad'+c[-45:])\n",
    "            else:\n",
    "                img.save(output_path+'validation/bad'+c[-45:])"
   ]
  },
  {
   "cell_type": "code",
   "execution_count": 217,
   "metadata": {
    "collapsed": false
   },
   "outputs": [],
   "source": [
    "sortPhotos(cats, cats_in, cats_out)"
   ]
  },
  {
   "cell_type": "code",
   "execution_count": 218,
   "metadata": {
    "collapsed": false
   },
   "outputs": [],
   "source": [
    "sortPhotos(dogs, dogs_in, dogs_out)"
   ]
  },
  {
   "cell_type": "code",
   "execution_count": null,
   "metadata": {
    "collapsed": true
   },
   "outputs": [],
   "source": []
  }
 ],
 "metadata": {
  "anaconda-cloud": {},
  "kernelspec": {
   "display_name": "Python [default]",
   "language": "python",
   "name": "python3"
  },
  "language_info": {
   "codemirror_mode": {
    "name": "ipython",
    "version": 3
   },
   "file_extension": ".py",
   "mimetype": "text/x-python",
   "name": "python",
   "nbconvert_exporter": "python",
   "pygments_lexer": "ipython3",
   "version": "3.5.2"
  }
 },
 "nbformat": 4,
 "nbformat_minor": 1
}
