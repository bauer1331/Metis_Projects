{
 "cells": [
  {
   "cell_type": "code",
   "execution_count": 2,
   "metadata": {
    "collapsed": true
   },
   "outputs": [],
   "source": [
    "CLARIFAI_APP_ID = 'WccjqUqnZbYVyu-ELrIAh_L2Q0C-pLJANBgqPX6F'\n",
    "CLARIFAI_APP_SECRET = 'pugwSTobCeS19O1y6YSfabeH35e5dEHjs2_kA0uH'\n",
    "access_token = 'HzodZ0vUXXwECwoIgLy8JlXi4WFH2x'"
   ]
  },
  {
   "cell_type": "code",
   "execution_count": 3,
   "metadata": {
    "collapsed": true
   },
   "outputs": [],
   "source": [
    "from clarifai.rest import ClarifaiApp\n",
    "      "
   ]
  },
  {
   "cell_type": "code",
   "execution_count": 5,
   "metadata": {
    "collapsed": false
   },
   "outputs": [
    {
     "data": {
      "text/plain": [
       "{'outputs': [{'created_at': '2017-03-19T14:30:13.420587Z',\n",
       "   'data': {'concepts': [{'app_id': None,\n",
       "      'id': 'ai_0ZcNtwPP',\n",
       "      'name': 'sunglasses',\n",
       "      'value': 0.99825627},\n",
       "     {'app_id': None,\n",
       "      'id': 'ai_J5tkrb20',\n",
       "      'name': 'eyewear',\n",
       "      'value': 0.99450433},\n",
       "     {'app_id': None, 'id': 'ai_dxSG2s86', 'name': 'man', 'value': 0.98246664},\n",
       "     {'app_id': None,\n",
       "      'id': 'ai_l8TKp2h5',\n",
       "      'name': 'people',\n",
       "      'value': 0.97771955},\n",
       "     {'app_id': None, 'id': 'ai_SVshtN54', 'name': 'one', 'value': 0.96596646},\n",
       "     {'app_id': None,\n",
       "      'id': 'ai_VPmHr5bm',\n",
       "      'name': 'adult',\n",
       "      'value': 0.96095973},\n",
       "     {'app_id': None, 'id': 'ai_86sS08Pw', 'name': 'wear', 'value': 0.9595041},\n",
       "     {'app_id': None,\n",
       "      'id': 'ai_TJ9wFfK5',\n",
       "      'name': 'portrait',\n",
       "      'value': 0.9518392},\n",
       "     {'app_id': None,\n",
       "      'id': 'ai_dngMN46t',\n",
       "      'name': 'fashion',\n",
       "      'value': 0.9504579},\n",
       "     {'app_id': None, 'id': 'ai_wWpchsp4', 'name': 'rap', 'value': 0.9438192},\n",
       "     {'app_id': None, 'id': 'ai_k76BrtPJ', 'name': 'music', 'value': 0.939695},\n",
       "     {'app_id': None,\n",
       "      'id': 'ai_wWRzHGtK',\n",
       "      'name': 'eyeglasses',\n",
       "      'value': 0.92108434},\n",
       "     {'app_id': None,\n",
       "      'id': 'ai_7WNVdPhm',\n",
       "      'name': 'competition',\n",
       "      'value': 0.9156838},\n",
       "     {'app_id': None,\n",
       "      'id': 'ai_fhqpCCSD',\n",
       "      'name': 'athlete',\n",
       "      'value': 0.90515983},\n",
       "     {'app_id': None,\n",
       "      'id': 'ai_S81BZrtF',\n",
       "      'name': 'musician',\n",
       "      'value': 0.9039308},\n",
       "     {'app_id': None,\n",
       "      'id': 'ai_13NdwKqz',\n",
       "      'name': 'festival',\n",
       "      'value': 0.89561415},\n",
       "     {'app_id': None,\n",
       "      'id': 'ai_32STZ9b3',\n",
       "      'name': 'singer',\n",
       "      'value': 0.8918288},\n",
       "     {'app_id': None,\n",
       "      'id': 'ai_8Qw6PFLZ',\n",
       "      'name': 'recreation',\n",
       "      'value': 0.8634209},\n",
       "     {'app_id': None,\n",
       "      'id': 'ai_325FlCBf',\n",
       "      'name': 'performance',\n",
       "      'value': 0.842073},\n",
       "     {'app_id': None,\n",
       "      'id': 'ai_sMbNHMwW',\n",
       "      'name': 'concert',\n",
       "      'value': 0.8347922}]},\n",
       "   'id': 'ebcd7e46c32448a4b8856a5114025689',\n",
       "   'input': {'data': {'image': {'url': 'http://scontent.cdninstagram.com/t51.2885-15/s480x480/e35/17333449_1263981713687446_4909822100992163840_n.jpg?ig_cache_key=MTQ3MzQwMDI4MDUxNDkwMjA1Mw%3D%3D.2'}},\n",
       "    'id': 'a544b4bede824debae9f44a281c0b59c'},\n",
       "   'model': {'app_id': None,\n",
       "    'created_at': '2016-03-09T17:11:39.608845Z',\n",
       "    'id': 'aaa03c23b3724a16a56b629203edc62c',\n",
       "    'model_version': {'created_at': '2016-07-13T01:19:12.147644Z',\n",
       "     'id': 'aa9ca48295b37401f8af92ad1af0d91d',\n",
       "     'status': {'code': 21100, 'description': 'Model trained successfully'}},\n",
       "    'name': 'general-v1.3',\n",
       "    'output_info': {'message': 'Show output_info with: GET /models/{model_id}/output_info',\n",
       "     'type': 'concept',\n",
       "     'type_ext': 'concept'}},\n",
       "   'status': {'code': 10000, 'description': 'Ok'}}],\n",
       " 'status': {'code': 10000, 'description': 'Ok'}}"
      ]
     },
     "execution_count": 5,
     "metadata": {},
     "output_type": "execute_result"
    }
   ],
   "source": [
    "app = ClarifaiApp(CLARIFAI_APP_ID, CLARIFAI_APP_SECRET)\n",
    "      \n",
    "      # get the general model\n",
    "model = app.models.get(\"general-v1.3\")\n",
    "  \n",
    "      # predict with the model\n",
    "model.predict_by_url(url='http://scontent.cdninstagram.com/t51.2885-15/s480x480/e35/17333449_1263981713687446_4909822100992163840_n.jpg?ig_cache_key=MTQ3MzQwMDI4MDUxNDkwMjA1Mw%3D%3D.2')"
   ]
  },
  {
   "cell_type": "code",
   "execution_count": null,
   "metadata": {
    "collapsed": false
   },
   "outputs": [],
   "source": [
    "from keras.models import Sequential\n",
    "from keras.layers import Convolution2D, Conv2D, MaxPooling2D, Dense, Flatten, Activation, Dropout, ZeroPadding2D\n",
    "from keras.preprocessing.image import ImageDataGenerator\n",
    "from keras import backend as k\n",
    "k.set_image_dim_ordering('th')"
   ]
  },
  {
   "cell_type": "code",
   "execution_count": null,
   "metadata": {
    "collapsed": false
   },
   "outputs": [],
   "source": [
    "model = Sequential()\n",
    "model.add(ZeroPadding2D((1,1), input_shape=(3,256,256)))\n",
    "model.add(Convolution2D(32, (3, 3)))\n",
    "model.add(Activation('relu'))\n",
    "model.add(MaxPooling2D(pool_size=(2, 2)))\n",
    "\n",
    "model.add(Conv2D(32, (3, 3)))\n",
    "model.add(Activation('relu'))\n",
    "model.add(MaxPooling2D(pool_size=(2, 2)))\n",
    "\n",
    "model.add(Conv2D(512, (3, 3)))\n",
    "model.add(Activation('relu'))\n",
    "model.add(MaxPooling2D(pool_size=(2, 2), strides=(2,2)))\n",
    "\n",
    "# the model so far outputs 3D feature maps (height, width, features)\n",
    "\n",
    "model.add(Flatten())  # this converts our 3D feature maps to 1D feature vectors\n",
    "model.add(Dense(4096))\n",
    "model.add(Activation('relu'))\n",
    "model.add(Dropout(0.5))\n",
    "model.add(Dense(3))\n",
    "model.add(Activation('softmax'))"
   ]
  },
  {
   "cell_type": "code",
   "execution_count": null,
   "metadata": {
    "collapsed": true
   },
   "outputs": [],
   "source": [
    "model.compile(loss='categorical_crossentropy',\n",
    "              optimizer='rmsprop',\n",
    "              metrics=['accuracy'])"
   ]
  },
  {
   "cell_type": "code",
   "execution_count": null,
   "metadata": {
    "collapsed": true
   },
   "outputs": [],
   "source": [
    "batch_size = 17\n",
    "num_classes = 3\n",
    "epochs = 200\n",
    "data_augmentation = True\n",
    "\n",
    "# this is the augmentation configuration we will use for training\n",
    "train_datagen = ImageDataGenerator(\n",
    "        rescale=1./255,\n",
    "        shear_range=0.2,\n",
    "        zoom_range=0.2,\n",
    "        horizontal_flip=True)\n",
    "\n",
    "# only rescaling for testing\n",
    "test_datagen = ImageDataGenerator(rescale=1./255)\n",
    "\n",
    "\n",
    "train_generator = train_datagen.flow_from_directory(\n",
    "        '../NoraDanish/train',  # this is the target directory\n",
    "#         target_size=(150, 150),  # all images will be resized to 150x150\n",
    "        batch_size=batch_size,\n",
    "        class_mode='categorical')  # since we use binary_crossentropy loss, we need binary labels\n",
    "\n",
    "# this is a similar generator, for validation data\n",
    "validation_generator = test_datagen.flow_from_directory(\n",
    "        '../NoraDanish/validation',\n",
    "#         target_size=(150, 150),\n",
    "        batch_size=batch_size,\n",
    "        class_mode='categorical')\n"
   ]
  },
  {
   "cell_type": "code",
   "execution_count": null,
   "metadata": {
    "collapsed": true
   },
   "outputs": [],
   "source": [
    "model.fit_generator(\n",
    "        train_generator,\n",
    "        samples_per_epoch=2000 // batch_size,\n",
    "        nb_epoch=50,\n",
    "        validation_data=validation_generator,\n",
    "        nb_val_samples=800//batch_size)\n",
    "model.save_weights('nora_weights.h5')  # always save your weights after training or during training"
   ]
  }
 ],
 "metadata": {
  "kernelspec": {
   "display_name": "Python [default]",
   "language": "python",
   "name": "python3"
  },
  "language_info": {
   "codemirror_mode": {
    "name": "ipython",
    "version": 3
   },
   "file_extension": ".py",
   "mimetype": "text/x-python",
   "name": "python",
   "nbconvert_exporter": "python",
   "pygments_lexer": "ipython3",
   "version": "3.5.2"
  }
 },
 "nbformat": 4,
 "nbformat_minor": 1
}
