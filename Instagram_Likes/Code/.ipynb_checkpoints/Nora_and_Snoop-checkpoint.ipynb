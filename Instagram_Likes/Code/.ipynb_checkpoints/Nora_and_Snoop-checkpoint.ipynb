{
 "cells": [
  {
   "cell_type": "code",
   "execution_count": 33,
   "metadata": {
    "collapsed": true
   },
   "outputs": [],
   "source": [
    "import pandas as pd\n",
    "import numpy as np\n",
    "from matplotlib import pyplot as plt\n",
    "%matplotlib inline\n",
    "\n",
    "from sklearn import preprocessing\n",
    "from sklearn.linear_model import LinearRegression\n",
    "from sklearn.model_selection import cross_val_predict\n",
    "import sklearn\n",
    "\n",
    "from scipy import ndimage\n",
    "\n",
    "from time import time\n",
    "import re\n",
    "import json \n",
    "import pickle\n",
    "\n",
    "from glob import glob\n",
    "import random\n",
    "from PIL import Image "
   ]
  },
  {
   "cell_type": "code",
   "execution_count": 2,
   "metadata": {
    "collapsed": false
   },
   "outputs": [
    {
     "data": {
      "text/html": [
       "<div>\n",
       "<table border=\"1\" class=\"dataframe\">\n",
       "  <thead>\n",
       "    <tr style=\"text-align: right;\">\n",
       "      <th></th>\n",
       "      <th>user_url</th>\n",
       "      <th>image_urls</th>\n",
       "      <th>images</th>\n",
       "      <th>username</th>\n",
       "      <th>likes</th>\n",
       "      <th>caption</th>\n",
       "      <th>comments</th>\n",
       "    </tr>\n",
       "  </thead>\n",
       "  <tbody>\n",
       "    <tr>\n",
       "      <th>21386</th>\n",
       "      <td>http://www.imgrum.org/user/noradanish/11893321</td>\n",
       "      <td>http://scontent.cdninstagram.com/t51.2885-15/s...</td>\n",
       "      <td>[{'path': 'full/82ac4e0bc9a4ebab0bf2529dd120cf...</td>\n",
       "      <td>Nora Danish (@noradanish)</td>\n",
       "      <td>105.0</td>\n",
       "      <td>NaN</td>\n",
       "      <td>1.0</td>\n",
       "    </tr>\n",
       "    <tr>\n",
       "      <th>21387</th>\n",
       "      <td>http://www.imgrum.org/user/noradanish/11893321</td>\n",
       "      <td>http://scontent.cdninstagram.com/t51.2885-15/s...</td>\n",
       "      <td>[{'path': 'full/9f0b4d82f1f68775092bef8ce4dc56...</td>\n",
       "      <td>Nora Danish (@noradanish)</td>\n",
       "      <td>296.0</td>\n",
       "      <td>NaN</td>\n",
       "      <td>26.0</td>\n",
       "    </tr>\n",
       "  </tbody>\n",
       "</table>\n",
       "</div>"
      ],
      "text/plain": [
       "                                             user_url  \\\n",
       "21386  http://www.imgrum.org/user/noradanish/11893321   \n",
       "21387  http://www.imgrum.org/user/noradanish/11893321   \n",
       "\n",
       "                                              image_urls  \\\n",
       "21386  http://scontent.cdninstagram.com/t51.2885-15/s...   \n",
       "21387  http://scontent.cdninstagram.com/t51.2885-15/s...   \n",
       "\n",
       "                                                  images  \\\n",
       "21386  [{'path': 'full/82ac4e0bc9a4ebab0bf2529dd120cf...   \n",
       "21387  [{'path': 'full/9f0b4d82f1f68775092bef8ce4dc56...   \n",
       "\n",
       "                        username  likes caption  comments  \n",
       "21386  Nora Danish (@noradanish)  105.0     NaN       1.0  \n",
       "21387  Nora Danish (@noradanish)  296.0     NaN      26.0  "
      ]
     },
     "execution_count": 2,
     "metadata": {},
     "output_type": "execute_result"
    }
   ],
   "source": [
    "nora = pd.read_csv('../insta/noradanish.csv') #4586021 #1303\n",
    "nora.tail(2)"
   ]
  },
  {
   "cell_type": "code",
   "execution_count": 3,
   "metadata": {
    "collapsed": false
   },
   "outputs": [],
   "source": [
    "# nora.likes.value_counts()"
   ]
  },
  {
   "cell_type": "code",
   "execution_count": 4,
   "metadata": {
    "collapsed": false
   },
   "outputs": [
    {
     "data": {
      "text/html": [
       "<div>\n",
       "<table border=\"1\" class=\"dataframe\">\n",
       "  <thead>\n",
       "    <tr style=\"text-align: right;\">\n",
       "      <th></th>\n",
       "      <th>user_url</th>\n",
       "      <th>image_urls</th>\n",
       "      <th>caption</th>\n",
       "      <th>comments</th>\n",
       "      <th>username</th>\n",
       "      <th>images</th>\n",
       "      <th>likes</th>\n",
       "    </tr>\n",
       "  </thead>\n",
       "  <tbody>\n",
       "    <tr>\n",
       "      <th>35340</th>\n",
       "      <td>http://www.imgrum.org/user/snoopdogg/1574083</td>\n",
       "      <td>http://scontent.cdninstagram.com/t51.2885-15/s...</td>\n",
       "      <td>Originator</td>\n",
       "      <td>72.0</td>\n",
       "      <td>snoopdogg (@snoopdogg)</td>\n",
       "      <td>[{'url': 'http://scontent.cdninstagram.com/t51...</td>\n",
       "      <td>921.0</td>\n",
       "    </tr>\n",
       "    <tr>\n",
       "      <th>35341</th>\n",
       "      <td>http://www.imgrum.org/user/snoopdogg/1574083</td>\n",
       "      <td>http://scontent.cdninstagram.com/t51.2885-15/s...</td>\n",
       "      <td>Bossin up wit dat Blast</td>\n",
       "      <td>668.0</td>\n",
       "      <td>snoopdogg (@snoopdogg)</td>\n",
       "      <td>[{'url': 'http://scontent.cdninstagram.com/t51...</td>\n",
       "      <td>2128.0</td>\n",
       "    </tr>\n",
       "  </tbody>\n",
       "</table>\n",
       "</div>"
      ],
      "text/plain": [
       "                                           user_url  \\\n",
       "35340  http://www.imgrum.org/user/snoopdogg/1574083   \n",
       "35341  http://www.imgrum.org/user/snoopdogg/1574083   \n",
       "\n",
       "                                              image_urls  \\\n",
       "35340  http://scontent.cdninstagram.com/t51.2885-15/s...   \n",
       "35341  http://scontent.cdninstagram.com/t51.2885-15/s...   \n",
       "\n",
       "                       caption  comments                username  \\\n",
       "35340               Originator      72.0  snoopdogg (@snoopdogg)   \n",
       "35341  Bossin up wit dat Blast     668.0  snoopdogg (@snoopdogg)   \n",
       "\n",
       "                                                  images   likes  \n",
       "35340  [{'url': 'http://scontent.cdninstagram.com/t51...   921.0  \n",
       "35341  [{'url': 'http://scontent.cdninstagram.com/t51...  2128.0  "
      ]
     },
     "execution_count": 4,
     "metadata": {},
     "output_type": "execute_result"
    }
   ],
   "source": [
    "snoop = pd.read_csv('../insta/snoopdogg.csv')\n",
    "snoop.tail(2)"
   ]
  },
  {
   "cell_type": "code",
   "execution_count": 5,
   "metadata": {
    "collapsed": true
   },
   "outputs": [],
   "source": [
    "nora['rating']=0\n",
    "snoop['rating']=0"
   ]
  },
  {
   "cell_type": "code",
   "execution_count": 6,
   "metadata": {
    "collapsed": true
   },
   "outputs": [],
   "source": [
    "def getUsername(row):\n",
    "    a = re.search(r'\\(@[^)]*\\)', row.username)\n",
    "    return a.group(0)[2:-1]"
   ]
  },
  {
   "cell_type": "code",
   "execution_count": 7,
   "metadata": {
    "collapsed": false
   },
   "outputs": [],
   "source": [
    "def notNull(df):\n",
    "    df = df[(df['username'].notnull())]\n",
    "    df = df[(df['images'].notnull())]\n",
    "    df = df[(df['likes'].notnull())].reset_index()\n",
    "    df[\"username\"] = df.apply(getUsername,axis=1)\n",
    "    return df"
   ]
  },
  {
   "cell_type": "code",
   "execution_count": 8,
   "metadata": {
    "collapsed": false
   },
   "outputs": [],
   "source": [
    "nora = notNull(nora)\n",
    "snoop = notNull(snoop)"
   ]
  },
  {
   "cell_type": "code",
   "execution_count": 9,
   "metadata": {
    "collapsed": false
   },
   "outputs": [
    {
     "data": {
      "text/html": [
       "<div>\n",
       "<table border=\"1\" class=\"dataframe\">\n",
       "  <thead>\n",
       "    <tr style=\"text-align: right;\">\n",
       "      <th></th>\n",
       "      <th>index</th>\n",
       "      <th>user_url</th>\n",
       "      <th>image_urls</th>\n",
       "      <th>images</th>\n",
       "      <th>username</th>\n",
       "      <th>likes</th>\n",
       "      <th>caption</th>\n",
       "      <th>comments</th>\n",
       "      <th>rating</th>\n",
       "    </tr>\n",
       "  </thead>\n",
       "  <tbody>\n",
       "    <tr>\n",
       "      <th>0</th>\n",
       "      <td>2</td>\n",
       "      <td>http://www.imgrum.org/user/noradanish/11893321</td>\n",
       "      <td>http://scontent.cdninstagram.com/t51.2885-15/s...</td>\n",
       "      <td>[{'path': 'full/a421eef25602af41fbc3a51bd7152b...</td>\n",
       "      <td>noradanish</td>\n",
       "      <td>17951.0</td>\n",
       "      <td>@bukitmerahlaketownresort \\n#bukitmerah \\n#bye...</td>\n",
       "      <td>72.0</td>\n",
       "      <td>0</td>\n",
       "    </tr>\n",
       "    <tr>\n",
       "      <th>1</th>\n",
       "      <td>3</td>\n",
       "      <td>http://www.imgrum.org/user/noradanish/11893321</td>\n",
       "      <td>http://scontent.cdninstagram.com/t51.2885-15/s...</td>\n",
       "      <td>[{'path': 'full/ebb86d8979ecfb4043fdcf3329ffd6...</td>\n",
       "      <td>noradanish</td>\n",
       "      <td>11645.0</td>\n",
       "      <td>C for Comfy 😍\\n\\n@bukitmerahlaketownresort</td>\n",
       "      <td>87.0</td>\n",
       "      <td>0</td>\n",
       "    </tr>\n",
       "  </tbody>\n",
       "</table>\n",
       "</div>"
      ],
      "text/plain": [
       "   index                                        user_url  \\\n",
       "0      2  http://www.imgrum.org/user/noradanish/11893321   \n",
       "1      3  http://www.imgrum.org/user/noradanish/11893321   \n",
       "\n",
       "                                          image_urls  \\\n",
       "0  http://scontent.cdninstagram.com/t51.2885-15/s...   \n",
       "1  http://scontent.cdninstagram.com/t51.2885-15/s...   \n",
       "\n",
       "                                              images    username    likes  \\\n",
       "0  [{'path': 'full/a421eef25602af41fbc3a51bd7152b...  noradanish  17951.0   \n",
       "1  [{'path': 'full/ebb86d8979ecfb4043fdcf3329ffd6...  noradanish  11645.0   \n",
       "\n",
       "                                             caption  comments  rating  \n",
       "0  @bukitmerahlaketownresort \\n#bukitmerah \\n#bye...      72.0       0  \n",
       "1         C for Comfy 😍\\n\\n@bukitmerahlaketownresort      87.0       0  "
      ]
     },
     "execution_count": 9,
     "metadata": {},
     "output_type": "execute_result"
    }
   ],
   "source": [
    "nora.head(2)"
   ]
  },
  {
   "cell_type": "code",
   "execution_count": 10,
   "metadata": {
    "collapsed": false
   },
   "outputs": [
    {
     "data": {
      "text/html": [
       "<div>\n",
       "<table border=\"1\" class=\"dataframe\">\n",
       "  <thead>\n",
       "    <tr style=\"text-align: right;\">\n",
       "      <th></th>\n",
       "      <th>index</th>\n",
       "      <th>user_url</th>\n",
       "      <th>image_urls</th>\n",
       "      <th>caption</th>\n",
       "      <th>comments</th>\n",
       "      <th>username</th>\n",
       "      <th>images</th>\n",
       "      <th>likes</th>\n",
       "      <th>rating</th>\n",
       "    </tr>\n",
       "  </thead>\n",
       "  <tbody>\n",
       "    <tr>\n",
       "      <th>0</th>\n",
       "      <td>7</td>\n",
       "      <td>http://www.imgrum.org/user/snoopdogg/1574083</td>\n",
       "      <td>http://scontent.cdninstagram.com/t51.2885-15/s...</td>\n",
       "      <td>NaN</td>\n",
       "      <td>254.0</td>\n",
       "      <td>snoopdogg</td>\n",
       "      <td>[{'url': 'http://scontent.cdninstagram.com/t51...</td>\n",
       "      <td>32287.0</td>\n",
       "      <td>0</td>\n",
       "    </tr>\n",
       "    <tr>\n",
       "      <th>1</th>\n",
       "      <td>8</td>\n",
       "      <td>http://www.imgrum.org/user/snoopdogg/1574083</td>\n",
       "      <td>http://scontent.cdninstagram.com/t51.2885-15/s...</td>\n",
       "      <td>NaN</td>\n",
       "      <td>247.0</td>\n",
       "      <td>snoopdogg</td>\n",
       "      <td>[{'url': 'http://scontent.cdninstagram.com/t51...</td>\n",
       "      <td>21910.0</td>\n",
       "      <td>0</td>\n",
       "    </tr>\n",
       "  </tbody>\n",
       "</table>\n",
       "</div>"
      ],
      "text/plain": [
       "   index                                      user_url  \\\n",
       "0      7  http://www.imgrum.org/user/snoopdogg/1574083   \n",
       "1      8  http://www.imgrum.org/user/snoopdogg/1574083   \n",
       "\n",
       "                                          image_urls caption  comments  \\\n",
       "0  http://scontent.cdninstagram.com/t51.2885-15/s...     NaN     254.0   \n",
       "1  http://scontent.cdninstagram.com/t51.2885-15/s...     NaN     247.0   \n",
       "\n",
       "    username                                             images    likes  \\\n",
       "0  snoopdogg  [{'url': 'http://scontent.cdninstagram.com/t51...  32287.0   \n",
       "1  snoopdogg  [{'url': 'http://scontent.cdninstagram.com/t51...  21910.0   \n",
       "\n",
       "   rating  \n",
       "0       0  \n",
       "1       0  "
      ]
     },
     "execution_count": 10,
     "metadata": {},
     "output_type": "execute_result"
    }
   ],
   "source": [
    "snoop.head(2)"
   ]
  },
  {
   "cell_type": "code",
   "execution_count": 11,
   "metadata": {
    "collapsed": true
   },
   "outputs": [],
   "source": [
    "def makeJson(row):\n",
    "    row = row[1:-1]\n",
    "    json_acceptable_string = row.replace(\"'\", \"\\\"\")\n",
    "    return json.loads(json_acceptable_string)"
   ]
  },
  {
   "cell_type": "code",
   "execution_count": 12,
   "metadata": {
    "collapsed": false
   },
   "outputs": [],
   "source": [
    "def getPaths(meta_data):\n",
    "    meta_data[\"images\"] = meta_data.images.apply(makeJson)\n",
    "    pic_path = []\n",
    "    for i in range(len(meta_data)):\n",
    "        pic_path.append(meta_data['images'][i]['path'][5:])\n",
    "    meta_data['pic_path'] = pic_path\n",
    "\n",
    "    checksum = []\n",
    "    for i in range(len(meta_data)):\n",
    "        checksum.append(meta_data['images'][i]['checksum'])\n",
    "    meta_data['checksum'] = checksum \n",
    "\n",
    "    return meta_data.drop(['images','index'],1)"
   ]
  },
  {
   "cell_type": "code",
   "execution_count": 13,
   "metadata": {
    "collapsed": false
   },
   "outputs": [
    {
     "data": {
      "text/html": [
       "<div>\n",
       "<table border=\"1\" class=\"dataframe\">\n",
       "  <thead>\n",
       "    <tr style=\"text-align: right;\">\n",
       "      <th></th>\n",
       "      <th>user_url</th>\n",
       "      <th>image_urls</th>\n",
       "      <th>username</th>\n",
       "      <th>likes</th>\n",
       "      <th>caption</th>\n",
       "      <th>comments</th>\n",
       "      <th>rating</th>\n",
       "      <th>pic_path</th>\n",
       "      <th>checksum</th>\n",
       "    </tr>\n",
       "  </thead>\n",
       "  <tbody>\n",
       "    <tr>\n",
       "      <th>0</th>\n",
       "      <td>http://www.imgrum.org/user/noradanish/11893321</td>\n",
       "      <td>http://scontent.cdninstagram.com/t51.2885-15/s...</td>\n",
       "      <td>noradanish</td>\n",
       "      <td>17951.0</td>\n",
       "      <td>@bukitmerahlaketownresort \\n#bukitmerah \\n#bye...</td>\n",
       "      <td>72.0</td>\n",
       "      <td>0</td>\n",
       "      <td>a421eef25602af41fbc3a51bd7152bcba4684a56.jpg</td>\n",
       "      <td>76c35646bd43ff8f4b5ed3f1fa239b8b</td>\n",
       "    </tr>\n",
       "    <tr>\n",
       "      <th>1</th>\n",
       "      <td>http://www.imgrum.org/user/noradanish/11893321</td>\n",
       "      <td>http://scontent.cdninstagram.com/t51.2885-15/s...</td>\n",
       "      <td>noradanish</td>\n",
       "      <td>11645.0</td>\n",
       "      <td>C for Comfy 😍\\n\\n@bukitmerahlaketownresort</td>\n",
       "      <td>87.0</td>\n",
       "      <td>0</td>\n",
       "      <td>ebb86d8979ecfb4043fdcf3329ffd6df2b2390e8.jpg</td>\n",
       "      <td>5134ae3c31e581de42de5429bc8f028e</td>\n",
       "    </tr>\n",
       "  </tbody>\n",
       "</table>\n",
       "</div>"
      ],
      "text/plain": [
       "                                         user_url  \\\n",
       "0  http://www.imgrum.org/user/noradanish/11893321   \n",
       "1  http://www.imgrum.org/user/noradanish/11893321   \n",
       "\n",
       "                                          image_urls    username    likes  \\\n",
       "0  http://scontent.cdninstagram.com/t51.2885-15/s...  noradanish  17951.0   \n",
       "1  http://scontent.cdninstagram.com/t51.2885-15/s...  noradanish  11645.0   \n",
       "\n",
       "                                             caption  comments  rating  \\\n",
       "0  @bukitmerahlaketownresort \\n#bukitmerah \\n#bye...      72.0       0   \n",
       "1         C for Comfy 😍\\n\\n@bukitmerahlaketownresort      87.0       0   \n",
       "\n",
       "                                       pic_path  \\\n",
       "0  a421eef25602af41fbc3a51bd7152bcba4684a56.jpg   \n",
       "1  ebb86d8979ecfb4043fdcf3329ffd6df2b2390e8.jpg   \n",
       "\n",
       "                           checksum  \n",
       "0  76c35646bd43ff8f4b5ed3f1fa239b8b  \n",
       "1  5134ae3c31e581de42de5429bc8f028e  "
      ]
     },
     "execution_count": 13,
     "metadata": {},
     "output_type": "execute_result"
    }
   ],
   "source": [
    "nora = getPaths(nora)\n",
    "nora.head(2)"
   ]
  },
  {
   "cell_type": "code",
   "execution_count": 38,
   "metadata": {
    "collapsed": false
   },
   "outputs": [
    {
     "data": {
      "text/plain": [
       "'http://scontent.cdninstagram.com/t51.2885-15/s480x480/e35/17333633_611799665680990_7119990448784932864_n.jpg?ig_cache_key=MTQ3MjI2NDgyNDcwNzk0NDg3Ng%3D%3D.2'"
      ]
     },
     "execution_count": 38,
     "metadata": {},
     "output_type": "execute_result"
    }
   ],
   "source": [
    "nora.image_urls[0]"
   ]
  },
  {
   "cell_type": "code",
   "execution_count": 14,
   "metadata": {
    "collapsed": false
   },
   "outputs": [
    {
     "data": {
      "text/html": [
       "<div>\n",
       "<table border=\"1\" class=\"dataframe\">\n",
       "  <thead>\n",
       "    <tr style=\"text-align: right;\">\n",
       "      <th></th>\n",
       "      <th>user_url</th>\n",
       "      <th>image_urls</th>\n",
       "      <th>caption</th>\n",
       "      <th>comments</th>\n",
       "      <th>username</th>\n",
       "      <th>likes</th>\n",
       "      <th>rating</th>\n",
       "      <th>pic_path</th>\n",
       "      <th>checksum</th>\n",
       "    </tr>\n",
       "  </thead>\n",
       "  <tbody>\n",
       "    <tr>\n",
       "      <th>0</th>\n",
       "      <td>http://www.imgrum.org/user/snoopdogg/1574083</td>\n",
       "      <td>http://scontent.cdninstagram.com/t51.2885-15/s...</td>\n",
       "      <td>NaN</td>\n",
       "      <td>254.0</td>\n",
       "      <td>snoopdogg</td>\n",
       "      <td>32287.0</td>\n",
       "      <td>0</td>\n",
       "      <td>6aa5801257abb8d17c94c2ede378a28c411167e3.jpg</td>\n",
       "      <td>f5d564fddb8e11d9795da2209a160e4a</td>\n",
       "    </tr>\n",
       "    <tr>\n",
       "      <th>1</th>\n",
       "      <td>http://www.imgrum.org/user/snoopdogg/1574083</td>\n",
       "      <td>http://scontent.cdninstagram.com/t51.2885-15/s...</td>\n",
       "      <td>NaN</td>\n",
       "      <td>247.0</td>\n",
       "      <td>snoopdogg</td>\n",
       "      <td>21910.0</td>\n",
       "      <td>0</td>\n",
       "      <td>fb3efbfe22cc53ba49ddb551166dbead6dc3a23f.jpg</td>\n",
       "      <td>9536ca7bfdb7f4579482d9cd4bf2d2f0</td>\n",
       "    </tr>\n",
       "  </tbody>\n",
       "</table>\n",
       "</div>"
      ],
      "text/plain": [
       "                                       user_url  \\\n",
       "0  http://www.imgrum.org/user/snoopdogg/1574083   \n",
       "1  http://www.imgrum.org/user/snoopdogg/1574083   \n",
       "\n",
       "                                          image_urls caption  comments  \\\n",
       "0  http://scontent.cdninstagram.com/t51.2885-15/s...     NaN     254.0   \n",
       "1  http://scontent.cdninstagram.com/t51.2885-15/s...     NaN     247.0   \n",
       "\n",
       "    username    likes  rating                                      pic_path  \\\n",
       "0  snoopdogg  32287.0       0  6aa5801257abb8d17c94c2ede378a28c411167e3.jpg   \n",
       "1  snoopdogg  21910.0       0  fb3efbfe22cc53ba49ddb551166dbead6dc3a23f.jpg   \n",
       "\n",
       "                           checksum  \n",
       "0  f5d564fddb8e11d9795da2209a160e4a  \n",
       "1  9536ca7bfdb7f4579482d9cd4bf2d2f0  "
      ]
     },
     "execution_count": 14,
     "metadata": {},
     "output_type": "execute_result"
    }
   ],
   "source": [
    "snoop = getPaths(snoop)\n",
    "snoop.head(2)"
   ]
  },
  {
   "cell_type": "code",
   "execution_count": 37,
   "metadata": {
    "collapsed": false
   },
   "outputs": [
    {
     "data": {
      "text/plain": [
       "'http://scontent.cdninstagram.com/t51.2885-15/s480x480/e35/17333449_1263981713687446_4909822100992163840_n.jpg?ig_cache_key=MTQ3MzQwMDI4MDUxNDkwMjA1Mw%3D%3D.2'"
      ]
     },
     "execution_count": 37,
     "metadata": {},
     "output_type": "execute_result"
    }
   ],
   "source": [
    "snoop.image_urls[0]"
   ]
  },
  {
   "cell_type": "code",
   "execution_count": 15,
   "metadata": {
    "collapsed": true
   },
   "outputs": [],
   "source": [
    "def getRating(username, df):\n",
    "    ind = df.index.values\n",
    "    df = df[df['username']==username].likes.values\n",
    "    increments = int(len(df)*.025)\n",
    "    ratings = []\n",
    "    for i in range(len(df)):    \n",
    "        start = max(0, i-increments)\n",
    "        end = min(len(df)-1, i+increments)\n",
    "        mean = np.mean(df[start:end])\n",
    "        std = np.std(df[start:end])\n",
    "        if df[i]>=(mean + std*.3):\n",
    "            ratings.append(3)\n",
    "        elif df[i]<=(mean - std*.5):\n",
    "            ratings.append(1)\n",
    "        else:\n",
    "            ratings.append(2)\n",
    "        zipped = list(zip(ind,ratings))\n",
    "        rate = pd.DataFrame(zipped,columns=['ind', 'updated_rating'])\n",
    "        rate.set_index(['ind'], inplace=True)\n",
    "    return rate"
   ]
  },
  {
   "cell_type": "code",
   "execution_count": 16,
   "metadata": {
    "collapsed": false
   },
   "outputs": [
    {
     "data": {
      "text/plain": [
       "0    15486\n",
       "Name: rating, dtype: int64"
      ]
     },
     "execution_count": 16,
     "metadata": {},
     "output_type": "execute_result"
    }
   ],
   "source": [
    "nora.rating.value_counts()"
   ]
  },
  {
   "cell_type": "code",
   "execution_count": 17,
   "metadata": {
    "collapsed": false
   },
   "outputs": [
    {
     "name": "stdout",
     "output_type": "stream",
     "text": [
      "done in 71.566s.\n"
     ]
    }
   ],
   "source": [
    "t0 = time()\n",
    "new_rated = getRating('noradanish', nora)\n",
    "nora.rating.update(new_rated.updated_rating)\n",
    "print(\"done in %0.3fs.\" % (time() - t0))"
   ]
  },
  {
   "cell_type": "code",
   "execution_count": 18,
   "metadata": {
    "collapsed": false
   },
   "outputs": [
    {
     "data": {
      "text/plain": [
       "1    5275\n",
       "2    5124\n",
       "3    5087\n",
       "Name: rating, dtype: int64"
      ]
     },
     "execution_count": 18,
     "metadata": {},
     "output_type": "execute_result"
    }
   ],
   "source": [
    "nora.rating.value_counts()"
   ]
  },
  {
   "cell_type": "code",
   "execution_count": 19,
   "metadata": {
    "collapsed": false
   },
   "outputs": [
    {
     "data": {
      "text/plain": [
       "0    21532\n",
       "Name: rating, dtype: int64"
      ]
     },
     "execution_count": 19,
     "metadata": {},
     "output_type": "execute_result"
    }
   ],
   "source": [
    "snoop.rating.value_counts()"
   ]
  },
  {
   "cell_type": "code",
   "execution_count": 22,
   "metadata": {
    "collapsed": false
   },
   "outputs": [
    {
     "name": "stdout",
     "output_type": "stream",
     "text": [
      "done in 135.128s.\n"
     ]
    }
   ],
   "source": [
    "t0 = time()\n",
    "new_rated = getRating('snoopdogg', snoop)\n",
    "snoop.rating.update(new_rated.updated_rating)\n",
    "print(\"done in %0.3fs.\" % (time() - t0))"
   ]
  },
  {
   "cell_type": "code",
   "execution_count": 23,
   "metadata": {
    "collapsed": false
   },
   "outputs": [
    {
     "data": {
      "text/plain": [
       "1    7895\n",
       "2    7458\n",
       "3    6179\n",
       "Name: rating, dtype: int64"
      ]
     },
     "execution_count": 23,
     "metadata": {},
     "output_type": "execute_result"
    }
   ],
   "source": [
    "snoop.rating.value_counts()"
   ]
  },
  {
   "cell_type": "code",
   "execution_count": 45,
   "metadata": {
    "collapsed": false
   },
   "outputs": [],
   "source": [
    "nora_in = glob(\"../../../local_files/Projects/Instagram_Likes_Local/InstaImages/NoraDanish/full/*.jpg\")\n",
    "nora_out = '../../../local_files/Projects/Instagram_Likes_Local/InstaImages/NoraDanish/'\n",
    "snoop_in = glob(\"../../../local_files/Projects/Instagram_Likes_Local/InstaImages/SnoopDogg/full/*.jpg\")\n",
    "snoop_out = '../../../local_files/Projects/Instagram_Likes_Local/InstaImages/SnoopDogg/'"
   ]
  },
  {
   "cell_type": "code",
   "execution_count": 29,
   "metadata": {
    "collapsed": false
   },
   "outputs": [
    {
     "data": {
      "text/plain": [
       "0.1496134138972689"
      ]
     },
     "execution_count": 29,
     "metadata": {},
     "output_type": "execute_result"
    }
   ],
   "source": []
  },
  {
   "cell_type": "code",
   "execution_count": 46,
   "metadata": {
    "collapsed": true
   },
   "outputs": [],
   "source": [
    "size = 224, 224\n",
    "\n",
    "def sortPhotos(df, input_path, output_path):\n",
    "    for c in input_path:\n",
    "        img = Image.open(c)\n",
    "        img.thumbnail(size, Image.ANTIALIAS)\n",
    "    #     img = Image.fromarray(img)\n",
    "        rating = df.loc[df['pic_path']==c[-44:]]['rating']\n",
    "        if (rating == 2).any():\n",
    "            if random.random() > .3:\n",
    "                img.save(output_path+'train224/average'+c[-45:])\n",
    "            else: \n",
    "                img.save(output_path+'validation224/average'+c[-45:])\n",
    "        elif (rating == 3).any():\n",
    "            if random.random() > .3:\n",
    "                img.save(output_path+'train224/good'+c[-45:])\n",
    "            else:\n",
    "                img.save(output_path+'validation224/good'+c[-45:])\n",
    "        elif (rating ==1).any():\n",
    "            if random.random() > .3:\n",
    "                img.save(output_path+'train224/bad'+c[-45:])\n",
    "            else:\n",
    "                img.save(output_path+'validation224/bad'+c[-45:])"
   ]
  },
  {
   "cell_type": "code",
   "execution_count": null,
   "metadata": {
    "collapsed": false
   },
   "outputs": [],
   "source": [
    "sortPhotos(nora, nora_in, nora_out)"
   ]
  },
  {
   "cell_type": "code",
   "execution_count": 36,
   "metadata": {
    "collapsed": false
   },
   "outputs": [],
   "source": [
    "sortPhotos(snoop, snoop_in, snoop_out)"
   ]
  },
  {
   "cell_type": "code",
   "execution_count": 41,
   "metadata": {
    "collapsed": false
   },
   "outputs": [
    {
     "data": {
      "text/plain": [
       "user_url         http://www.imgrum.org/user/noradanish/11893321\n",
       "image_urls    http://scontent.cdninstagram.com/t51.2885-15/s...\n",
       "username                                             noradanish\n",
       "likes                                                     17951\n",
       "caption       @bukitmerahlaketownresort \\n#bukitmerah \\n#bye...\n",
       "comments                                                     72\n",
       "rating                                                        3\n",
       "pic_path           a421eef25602af41fbc3a51bd7152bcba4684a56.jpg\n",
       "checksum                       76c35646bd43ff8f4b5ed3f1fa239b8b\n",
       "Name: 0, dtype: object"
      ]
     },
     "execution_count": 41,
     "metadata": {},
     "output_type": "execute_result"
    }
   ],
   "source": [
    "nora.ix[0,:]"
   ]
  },
  {
   "cell_type": "code",
   "execution_count": null,
   "metadata": {
    "collapsed": true
   },
   "outputs": [],
   "source": []
  }
 ],
 "metadata": {
  "kernelspec": {
   "display_name": "Python [default]",
   "language": "python",
   "name": "python3"
  },
  "language_info": {
   "codemirror_mode": {
    "name": "ipython",
    "version": 3
   },
   "file_extension": ".py",
   "mimetype": "text/x-python",
   "name": "python",
   "nbconvert_exporter": "python",
   "pygments_lexer": "ipython3",
   "version": "3.5.2"
  }
 },
 "nbformat": 4,
 "nbformat_minor": 1
}
