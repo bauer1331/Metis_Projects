{
 "cells": [
  {
   "cell_type": "code",
   "execution_count": 3,
   "metadata": {
    "collapsed": false
   },
   "outputs": [],
   "source": [
    "from glob import glob\n",
    "import cv2\n",
    "from PIL import Image \n",
    "\n",
    "import numpy as np\n",
    "import pandas as pd"
   ]
  },
  {
   "cell_type": "code",
   "execution_count": 42,
   "metadata": {
    "collapsed": false
   },
   "outputs": [],
   "source": [
    "picture_path = '../../../local_files/Projects/Instagram_Likes_Local/InstaImages/keras_photos'\n",
    "\n",
    "clusters = pd.read_csv('../../../local_files/Projects/Instagram_Likes_Local/data/clusters.csv')"
   ]
  },
  {
   "cell_type": "code",
   "execution_count": 32,
   "metadata": {
    "collapsed": false
   },
   "outputs": [
    {
     "data": {
      "text/plain": [
       "Index(['pic_path', 'rating'], dtype='object')"
      ]
     },
     "execution_count": 32,
     "metadata": {},
     "output_type": "execute_result"
    }
   ],
   "source": [
    "clusters.columns"
   ]
  },
  {
   "cell_type": "code",
   "execution_count": 53,
   "metadata": {
    "collapsed": false
   },
   "outputs": [],
   "source": [
    "# clus_test = clusters.ix[:15,]"
   ]
  },
  {
   "cell_type": "code",
   "execution_count": 51,
   "metadata": {
    "collapsed": false
   },
   "outputs": [],
   "source": [
    "# clus_test"
   ]
  },
  {
   "cell_type": "code",
   "execution_count": 55,
   "metadata": {
    "collapsed": false
   },
   "outputs": [],
   "source": [
    "image_path = glob(\"../../../local_files/Projects/Instagram_Likes_Local/InstaImages/thumbs/big/*.jpg\")"
   ]
  },
  {
   "cell_type": "code",
   "execution_count": 54,
   "metadata": {
    "collapsed": false
   },
   "outputs": [],
   "source": [
    "# clusters.loc[clusters['pic_path']=='14283398037497286300e9a0615524e6fc95a2c2.jpg', 'rating']"
   ]
  },
  {
   "cell_type": "code",
   "execution_count": 61,
   "metadata": {
    "collapsed": false
   },
   "outputs": [],
   "source": [
    "for c in image_path:\n",
    "    img = Image.open(c)\n",
    "#     img = Image.fromarray(img)\n",
    "    rating = clusters.loc[clusters['pic_path']==c[-44:]][ 'rating']\n",
    "    if (rating == 2).any():\n",
    "        img.save(picture_path+'/average'+c[-45:])\n",
    "    elif (rating == 3).any():\n",
    "        img.save(picture_path+'/good'+c[-45:])\n",
    "    elif (rating ==1).any():\n",
    "        img.save(picture_path+'/bad'+c[-45:])\n"
   ]
  },
  {
   "cell_type": "code",
   "execution_count": 60,
   "metadata": {
    "collapsed": false
   },
   "outputs": [],
   "source": [
    "# for c in image_path[]:\n",
    "#     img = cv2.imread(c)\n",
    "#     img = Image.fromarray(img)\n",
    "#     rating = clusters.loc[clusters['pic_path']==c[-44:]][ 'rating']\n",
    "#     if (rating == 2).any():\n",
    "#         img.save(picture_path+'/average'+c[-45:])\n",
    "#     elif (rating == 3).any():\n",
    "#         img.save(picture_path+'/good'+c[-45:])\n",
    "#     elif (rating ==1).any():\n",
    "#         img.save(picture_path+'/bad'+c[-45:])\n"
   ]
  },
  {
   "cell_type": "code",
   "execution_count": 37,
   "metadata": {
    "collapsed": false
   },
   "outputs": [
    {
     "name": "stdout",
     "output_type": "stream",
     "text": [
      "/Users/bauer/ds/metis/metisgh/Metis_Projects/Instagram_Likes/Code\r\n"
     ]
    }
   ],
   "source": [
    "!pwd"
   ]
  },
  {
   "cell_type": "code",
   "execution_count": 19,
   "metadata": {
    "collapsed": false
   },
   "outputs": [],
   "source": [
    "img_rgb = cv2.imread(\"../../../local_files/Projects/Instagram_Likes_Local/InstaImages/testrun/9215338891283536201176d52117d4bfcc6c6ed0.jpg\")"
   ]
  },
  {
   "cell_type": "code",
   "execution_count": 38,
   "metadata": {
    "collapsed": false
   },
   "outputs": [],
   "source": [
    "img = Image.fromarray(img_rgb)\n",
    "img.save('../../../local_files/Projects/Instagram_Likes_Local/InstaImages/testrun/average'+c[-45:])"
   ]
  },
  {
   "cell_type": "code",
   "execution_count": null,
   "metadata": {
    "collapsed": true
   },
   "outputs": [],
   "source": [
    "image_path = glob.glob(\"./crop/*.jpg\")\n",
    "for c in image_path:\n",
    "    img_rgb = cv2.imread(c)\n",
    "    img_gray = cv2.cvtColor(img_rgb, cv2.COLOR_BGR2GRAY)\n",
    "   \n",
    "    img_gray_inv = 255 - img_gray\n",
    "    img_blur = cv2.GaussianBlur(img_gray_inv, ksize=(21, 21),\n",
    "                               sigmaX=20, sigmaY=20)\n",
    "   \n",
    "    img_blend = dodgeV2(img_gray, img_blur)\n",
    "    img = Image.fromarray(img_blend)\n",
    "    img.save('./ps/'+c[7:])"
   ]
  }
 ],
 "metadata": {
  "anaconda-cloud": {},
  "kernelspec": {
   "display_name": "Python [default]",
   "language": "python",
   "name": "python3"
  },
  "language_info": {
   "codemirror_mode": {
    "name": "ipython",
    "version": 3
   },
   "file_extension": ".py",
   "mimetype": "text/x-python",
   "name": "python",
   "nbconvert_exporter": "python",
   "pygments_lexer": "ipython3",
   "version": "3.5.2"
  }
 },
 "nbformat": 4,
 "nbformat_minor": 1
}
