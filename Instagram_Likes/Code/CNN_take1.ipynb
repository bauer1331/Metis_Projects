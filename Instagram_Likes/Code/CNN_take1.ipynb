{
 "cells": [
  {
   "cell_type": "code",
   "execution_count": 1,
   "metadata": {
    "collapsed": false
   },
   "outputs": [
    {
     "name": "stderr",
     "output_type": "stream",
     "text": [
      "Using Theano backend.\n"
     ]
    }
   ],
   "source": [
    "import pandas as pd\n",
    "import numpy as np\n",
    "from matplotlib import pyplot as plt\n",
    "%matplotlib inline\n",
    "\n",
    "# keras\n",
    "np.random.seed(13)\n",
    "from keras.models import Sequential\n",
    "from keras.layers import Dense, Embedding, Reshape, Activation, SimpleRNN, GRU, LSTM, Convolution1D, MaxPooling1D, Merge, Dropout\n",
    "from IPython.display import SVG\n",
    "from keras.utils import np_utils\n",
    "from keras.utils.data_utils import get_file\n",
    "from keras.preprocessing.text import Tokenizer\n",
    "from keras.utils.visualize_util import model_to_dot, plot\n",
    "from keras.datasets import imdb, reuters\n",
    "from keras.preprocessing import sequence\n",
    "from keras.optimizers import SGD, RMSprop"
   ]
  },
  {
   "cell_type": "code",
   "execution_count": 2,
   "metadata": {
    "collapsed": false
   },
   "outputs": [
    {
     "name": "stdout",
     "output_type": "stream",
     "text": [
      "CNN_take1.ipynb    followers_data.csv meta_data.csv\r\n"
     ]
    }
   ],
   "source": [
    "!ls"
   ]
  },
  {
   "cell_type": "code",
   "execution_count": 3,
   "metadata": {
    "collapsed": true
   },
   "outputs": [],
   "source": [
    "meta_data = pd.read_csv('meta_data.csv')"
   ]
  },
  {
   "cell_type": "code",
   "execution_count": 4,
   "metadata": {
    "collapsed": false
   },
   "outputs": [
    {
     "data": {
      "text/html": [
       "<div>\n",
       "<table border=\"1\" class=\"dataframe\">\n",
       "  <thead>\n",
       "    <tr style=\"text-align: right;\">\n",
       "      <th></th>\n",
       "      <th>caption</th>\n",
       "      <th>comments</th>\n",
       "      <th>image_urls</th>\n",
       "      <th>images</th>\n",
       "      <th>likes</th>\n",
       "      <th>user_url</th>\n",
       "      <th>username</th>\n",
       "      <th>insta_id</th>\n",
       "      <th>is_verified</th>\n",
       "      <th>following</th>\n",
       "      <th>full_name</th>\n",
       "      <th>followers</th>\n",
       "      <th>posts</th>\n",
       "    </tr>\n",
       "  </thead>\n",
       "  <tbody>\n",
       "    <tr>\n",
       "      <th>166286</th>\n",
       "      <td>NaN</td>\n",
       "      <td>3.0</td>\n",
       "      <td>http://scontent.cdninstagram.com/t51.2885-15/s...</td>\n",
       "      <td>{'checksum': '9d6d43f32ea2b49097726cc2763f714a...</td>\n",
       "      <td>43.0</td>\n",
       "      <td>http://www.imgrum.org/user/ofer7684/52646956</td>\n",
       "      <td>ofer7684</td>\n",
       "      <td>52646956.0</td>\n",
       "      <td>False</td>\n",
       "      <td>1273.0</td>\n",
       "      <td>Ofer Osherovitz</td>\n",
       "      <td>473.0</td>\n",
       "      <td>456.0</td>\n",
       "    </tr>\n",
       "    <tr>\n",
       "      <th>166287</th>\n",
       "      <td>#health #fitness #fit #TagsForLikes #TFLers #f...</td>\n",
       "      <td>0.0</td>\n",
       "      <td>http://scontent.cdninstagram.com/t51.2885-15/s...</td>\n",
       "      <td>{'checksum': '400e97645e0cf08c15b8f2fcbb8909eb...</td>\n",
       "      <td>27.0</td>\n",
       "      <td>http://www.imgrum.org/user/ofer7684/52646956</td>\n",
       "      <td>ofer7684</td>\n",
       "      <td>52646956.0</td>\n",
       "      <td>False</td>\n",
       "      <td>1273.0</td>\n",
       "      <td>Ofer Osherovitz</td>\n",
       "      <td>473.0</td>\n",
       "      <td>456.0</td>\n",
       "    </tr>\n",
       "  </tbody>\n",
       "</table>\n",
       "</div>"
      ],
      "text/plain": [
       "                                                  caption  comments  \\\n",
       "166286                                                NaN       3.0   \n",
       "166287  #health #fitness #fit #TagsForLikes #TFLers #f...       0.0   \n",
       "\n",
       "                                               image_urls  \\\n",
       "166286  http://scontent.cdninstagram.com/t51.2885-15/s...   \n",
       "166287  http://scontent.cdninstagram.com/t51.2885-15/s...   \n",
       "\n",
       "                                                   images  likes  \\\n",
       "166286  {'checksum': '9d6d43f32ea2b49097726cc2763f714a...   43.0   \n",
       "166287  {'checksum': '400e97645e0cf08c15b8f2fcbb8909eb...   27.0   \n",
       "\n",
       "                                            user_url  username    insta_id  \\\n",
       "166286  http://www.imgrum.org/user/ofer7684/52646956  ofer7684  52646956.0   \n",
       "166287  http://www.imgrum.org/user/ofer7684/52646956  ofer7684  52646956.0   \n",
       "\n",
       "       is_verified  following        full_name  followers  posts  \n",
       "166286       False     1273.0  Ofer Osherovitz      473.0  456.0  \n",
       "166287       False     1273.0  Ofer Osherovitz      473.0  456.0  "
      ]
     },
     "execution_count": 4,
     "metadata": {},
     "output_type": "execute_result"
    }
   ],
   "source": [
    "meta_data.tail(2)"
   ]
  },
  {
   "cell_type": "code",
   "execution_count": 5,
   "metadata": {
    "collapsed": false
   },
   "outputs": [
    {
     "data": {
      "text/plain": [
       "\"{'checksum': '6d382a79e19ef8eef973b715d63180aa', 'url': 'http://scontent.cdninstagram.com/t51.2885-15/s480x480/e35/c0.134.1080.1080/17125902_1260649764012807_8695089225495740416_n.jpg?ig_cache_key=MTQ2NTI5MDU2OTYzMDAxMTg1OQ%3D%3D.2.c', 'path': 'full/2299079fa299a4b2ad784ebe588243865f45791c.jpg'}\""
      ]
     },
     "execution_count": 5,
     "metadata": {},
     "output_type": "execute_result"
    }
   ],
   "source": [
    "meta_data.images[0]"
   ]
  },
  {
   "cell_type": "code",
   "execution_count": 6,
   "metadata": {
    "collapsed": true
   },
   "outputs": [],
   "source": [
    "meta_data['like_p_followers'] = meta_data.likes/meta_data.followers"
   ]
  },
  {
   "cell_type": "code",
   "execution_count": 8,
   "metadata": {
    "collapsed": false
   },
   "outputs": [
    {
     "data": {
      "text/plain": [
       "0.03273929131181353"
      ]
     },
     "execution_count": 8,
     "metadata": {},
     "output_type": "execute_result"
    }
   ],
   "source": [
    "np.mean(meta_data.like_p_followers)"
   ]
  },
  {
   "cell_type": "code",
   "execution_count": 9,
   "metadata": {
    "collapsed": false
   },
   "outputs": [
    {
     "data": {
      "text/html": [
       "<div>\n",
       "<table border=\"1\" class=\"dataframe\">\n",
       "  <thead>\n",
       "    <tr style=\"text-align: right;\">\n",
       "      <th></th>\n",
       "      <th>caption</th>\n",
       "      <th>comments</th>\n",
       "      <th>image_urls</th>\n",
       "      <th>images</th>\n",
       "      <th>likes</th>\n",
       "      <th>user_url</th>\n",
       "      <th>username</th>\n",
       "      <th>insta_id</th>\n",
       "      <th>is_verified</th>\n",
       "      <th>following</th>\n",
       "      <th>full_name</th>\n",
       "      <th>followers</th>\n",
       "      <th>posts</th>\n",
       "      <th>like_p_followers</th>\n",
       "    </tr>\n",
       "  </thead>\n",
       "  <tbody>\n",
       "    <tr>\n",
       "      <th>0</th>\n",
       "      <td>{ Timeless Beauty } • Breathtaking place to fe...</td>\n",
       "      <td>196.0</td>\n",
       "      <td>http://scontent.cdninstagram.com/t51.2885-15/s...</td>\n",
       "      <td>{'checksum': '6d382a79e19ef8eef973b715d63180aa...</td>\n",
       "      <td>25518.0</td>\n",
       "      <td>http://www.imgrum.org/user/brahmino/1918184</td>\n",
       "      <td>brahmino</td>\n",
       "      <td>1918184.0</td>\n",
       "      <td>False</td>\n",
       "      <td>341.0</td>\n",
       "      <td>Simone Bramante</td>\n",
       "      <td>830765.0</td>\n",
       "      <td>1194.0</td>\n",
       "      <td>0.030716</td>\n",
       "    </tr>\n",
       "    <tr>\n",
       "      <th>1</th>\n",
       "      <td>{ Golden Morning } • Happy to wake up early an...</td>\n",
       "      <td>298.0</td>\n",
       "      <td>http://scontent.cdninstagram.com/t51.2885-15/s...</td>\n",
       "      <td>{'checksum': '3757b15a6fe424b2c543f07e48d87d60...</td>\n",
       "      <td>28436.0</td>\n",
       "      <td>http://www.imgrum.org/user/brahmino/1918184</td>\n",
       "      <td>brahmino</td>\n",
       "      <td>1918184.0</td>\n",
       "      <td>False</td>\n",
       "      <td>341.0</td>\n",
       "      <td>Simone Bramante</td>\n",
       "      <td>830765.0</td>\n",
       "      <td>1194.0</td>\n",
       "      <td>0.034229</td>\n",
       "    </tr>\n",
       "    <tr>\n",
       "      <th>2</th>\n",
       "      <td>{ Today's Colors Palette } • My fast explorati...</td>\n",
       "      <td>170.0</td>\n",
       "      <td>http://scontent.cdninstagram.com/t51.2885-15/s...</td>\n",
       "      <td>{'checksum': '8e9495f9f2e3eb984bbfa9494f1f985d...</td>\n",
       "      <td>27550.0</td>\n",
       "      <td>http://www.imgrum.org/user/brahmino/1918184</td>\n",
       "      <td>brahmino</td>\n",
       "      <td>1918184.0</td>\n",
       "      <td>False</td>\n",
       "      <td>341.0</td>\n",
       "      <td>Simone Bramante</td>\n",
       "      <td>830765.0</td>\n",
       "      <td>1194.0</td>\n",
       "      <td>0.033162</td>\n",
       "    </tr>\n",
       "    <tr>\n",
       "      <th>3</th>\n",
       "      <td>{ Velvet Hills } 2/2 Almost Sunset • Hours spe...</td>\n",
       "      <td>304.0</td>\n",
       "      <td>http://scontent.cdninstagram.com/t51.2885-15/s...</td>\n",
       "      <td>{'checksum': 'd8ca1c850bea4d8799b1d2d6a26bda7a...</td>\n",
       "      <td>23706.0</td>\n",
       "      <td>http://www.imgrum.org/user/brahmino/1918184</td>\n",
       "      <td>brahmino</td>\n",
       "      <td>1918184.0</td>\n",
       "      <td>False</td>\n",
       "      <td>341.0</td>\n",
       "      <td>Simone Bramante</td>\n",
       "      <td>830765.0</td>\n",
       "      <td>1194.0</td>\n",
       "      <td>0.028535</td>\n",
       "    </tr>\n",
       "    <tr>\n",
       "      <th>4</th>\n",
       "      <td>{ Velvet Hills } 1/2 The Dawn • The place wher...</td>\n",
       "      <td>345.0</td>\n",
       "      <td>http://scontent.cdninstagram.com/t51.2885-15/s...</td>\n",
       "      <td>{'checksum': '595078193696a056200497f261aada47...</td>\n",
       "      <td>25755.0</td>\n",
       "      <td>http://www.imgrum.org/user/brahmino/1918184</td>\n",
       "      <td>brahmino</td>\n",
       "      <td>1918184.0</td>\n",
       "      <td>False</td>\n",
       "      <td>341.0</td>\n",
       "      <td>Simone Bramante</td>\n",
       "      <td>830765.0</td>\n",
       "      <td>1194.0</td>\n",
       "      <td>0.031002</td>\n",
       "    </tr>\n",
       "  </tbody>\n",
       "</table>\n",
       "</div>"
      ],
      "text/plain": [
       "                                             caption  comments  \\\n",
       "0  { Timeless Beauty } • Breathtaking place to fe...     196.0   \n",
       "1  { Golden Morning } • Happy to wake up early an...     298.0   \n",
       "2  { Today's Colors Palette } • My fast explorati...     170.0   \n",
       "3  { Velvet Hills } 2/2 Almost Sunset • Hours spe...     304.0   \n",
       "4  { Velvet Hills } 1/2 The Dawn • The place wher...     345.0   \n",
       "\n",
       "                                          image_urls  \\\n",
       "0  http://scontent.cdninstagram.com/t51.2885-15/s...   \n",
       "1  http://scontent.cdninstagram.com/t51.2885-15/s...   \n",
       "2  http://scontent.cdninstagram.com/t51.2885-15/s...   \n",
       "3  http://scontent.cdninstagram.com/t51.2885-15/s...   \n",
       "4  http://scontent.cdninstagram.com/t51.2885-15/s...   \n",
       "\n",
       "                                              images    likes  \\\n",
       "0  {'checksum': '6d382a79e19ef8eef973b715d63180aa...  25518.0   \n",
       "1  {'checksum': '3757b15a6fe424b2c543f07e48d87d60...  28436.0   \n",
       "2  {'checksum': '8e9495f9f2e3eb984bbfa9494f1f985d...  27550.0   \n",
       "3  {'checksum': 'd8ca1c850bea4d8799b1d2d6a26bda7a...  23706.0   \n",
       "4  {'checksum': '595078193696a056200497f261aada47...  25755.0   \n",
       "\n",
       "                                      user_url  username   insta_id  \\\n",
       "0  http://www.imgrum.org/user/brahmino/1918184  brahmino  1918184.0   \n",
       "1  http://www.imgrum.org/user/brahmino/1918184  brahmino  1918184.0   \n",
       "2  http://www.imgrum.org/user/brahmino/1918184  brahmino  1918184.0   \n",
       "3  http://www.imgrum.org/user/brahmino/1918184  brahmino  1918184.0   \n",
       "4  http://www.imgrum.org/user/brahmino/1918184  brahmino  1918184.0   \n",
       "\n",
       "  is_verified  following        full_name  followers   posts  like_p_followers  \n",
       "0       False      341.0  Simone Bramante   830765.0  1194.0          0.030716  \n",
       "1       False      341.0  Simone Bramante   830765.0  1194.0          0.034229  \n",
       "2       False      341.0  Simone Bramante   830765.0  1194.0          0.033162  \n",
       "3       False      341.0  Simone Bramante   830765.0  1194.0          0.028535  \n",
       "4       False      341.0  Simone Bramante   830765.0  1194.0          0.031002  "
      ]
     },
     "execution_count": 9,
     "metadata": {},
     "output_type": "execute_result"
    }
   ],
   "source": [
    "meta_data.head()"
   ]
  },
  {
   "cell_type": "code",
   "execution_count": null,
   "metadata": {
    "collapsed": true
   },
   "outputs": [],
   "source": [
    "# Create a Keras Sequential model \n",
    "model = Sequential()\n",
    "\n",
    "# Specify the network architecture\n",
    "# Here we add layers to our model, we'll come back to that in a bit\n",
    "\n",
    "#model.add(Dense(output_dim=64, batch_input_shape=(20, 100)))   #~ if we wanted to specify a batch size,\n",
    "model.add(Dense(output_dim=64,input_dim=100))\n",
    "model.add(Activation(\"relu\"))\n",
    "model.add(Dense(output_dim=10))\n",
    "model.add(Activation(\"softmax\"))\n"
   ]
  }
 ],
 "metadata": {
  "anaconda-cloud": {},
  "kernelspec": {
   "display_name": "Python [default]",
   "language": "python",
   "name": "python3"
  },
  "language_info": {
   "codemirror_mode": {
    "name": "ipython",
    "version": 3
   },
   "file_extension": ".py",
   "mimetype": "text/x-python",
   "name": "python",
   "nbconvert_exporter": "python",
   "pygments_lexer": "ipython3",
   "version": "3.5.2"
  }
 },
 "nbformat": 4,
 "nbformat_minor": 1
}
