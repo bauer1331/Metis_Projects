{
 "cells": [
  {
   "cell_type": "code",
   "execution_count": 33,
   "metadata": {
    "collapsed": true
   },
   "outputs": [],
   "source": [
    "import pandas as pd\n",
    "import numpy as np\n",
    "from matplotlib import pyplot as plt\n",
    "%matplotlib inline\n",
    "\n",
    "from sklearn import preprocessing\n",
    "from sklearn.linear_model import LinearRegression\n",
    "from sklearn.model_selection import cross_val_predict\n",
    "import sklearn\n",
    "\n",
    "from scipy import ndimage\n",
    "\n",
    "from time import time\n",
    "import re\n",
    "import numpy as np\n",
    "import json \n",
    "import pickle\n",
    "\n",
    "from glob import glob\n",
    "import random\n",
    "from PIL import Image "
   ]
  },
  {
   "cell_type": "code",
   "execution_count": 9,
   "metadata": {
    "collapsed": false
   },
   "outputs": [],
   "source": [
    "cats = pd.read_csv('../../../local_files/Projects/Instagram_Likes_Local/data/cat_hard_mean.csv')\n",
    "dogs = pd.read_csv('../../../local_files/Projects/Instagram_Likes_Local/data/dogs_hard_mean.csv')"
   ]
  },
  {
   "cell_type": "code",
   "execution_count": 56,
   "metadata": {
    "collapsed": false
   },
   "outputs": [],
   "source": [
    "cat_usernames = cats.username.unique()\n",
    "dog_usernames = dogs.username.unique()"
   ]
  },
  {
   "cell_type": "code",
   "execution_count": 45,
   "metadata": {
    "collapsed": true
   },
   "outputs": [],
   "source": [
    "def isNaN(num):\n",
    "    return num != num"
   ]
  },
  {
   "cell_type": "code",
   "execution_count": 57,
   "metadata": {
    "collapsed": false
   },
   "outputs": [],
   "source": [
    "cat_usernames = list(filter(lambda x: not isNaN(x), cat_usernames))"
   ]
  },
  {
   "cell_type": "code",
   "execution_count": 74,
   "metadata": {
    "collapsed": true
   },
   "outputs": [],
   "source": [
    "def getRating(username, df):\n",
    "    df = df[df['username']==username]\n",
    "    ind = df.index.values\n",
    "    df = df.likes.values\n",
    "    increments = int(len(df)*.025)\n",
    "    ratings = []\n",
    "    for i in range(len(df)): \n",
    "        start = max(0, i-increments)\n",
    "        end = min(len(df)-1, i+increments)\n",
    "        mean = np.mean(df[start:end])\n",
    "        std = np.std(df[start:end])\n",
    "        if df[i]>=(mean + std*.3):\n",
    "            ratings.append(1)\n",
    "        elif df[i]<=(mean - std*.5):\n",
    "            ratings.append(0)\n",
    "        else:\n",
    "            ratings.append(-1)\n",
    "        zipped = list(zip(ind,ratings))\n",
    "        rate = pd.DataFrame(zipped,columns=['ind', 'updated_rating'])\n",
    "        rate.set_index(['ind'], inplace=True)\n",
    "    return rate"
   ]
  },
  {
   "cell_type": "code",
   "execution_count": 67,
   "metadata": {
    "collapsed": true
   },
   "outputs": [],
   "source": [
    "cats['rating_outlier'] = 0\n",
    "dogs['rating_outlier'] = 0"
   ]
  },
  {
   "cell_type": "code",
   "execution_count": 68,
   "metadata": {
    "collapsed": false
   },
   "outputs": [
    {
     "data": {
      "text/plain": [
       "0    74828\n",
       "Name: rating_outlier, dtype: int64"
      ]
     },
     "execution_count": 68,
     "metadata": {},
     "output_type": "execute_result"
    }
   ],
   "source": [
    "cats.rating_outlier.value_counts()"
   ]
  },
  {
   "cell_type": "code",
   "execution_count": 69,
   "metadata": {
    "collapsed": true
   },
   "outputs": [],
   "source": [
    "def ratePhotos(usernames, df):\n",
    "    t0 = time()\n",
    "    for i in usernames:\n",
    "#         print(i)\n",
    "        new_rated = getRating(i, df)\n",
    "        df.rating_outlier.update(new_rated.updated_rating)\n",
    "    print(\"done in %0.3fs.\" % (time() - t0))\n",
    "    return df"
   ]
  },
  {
   "cell_type": "code",
   "execution_count": 70,
   "metadata": {
    "collapsed": false
   },
   "outputs": [
    {
     "name": "stderr",
     "output_type": "stream",
     "text": [
      "/Users/bauer/anaconda3/lib/python3.5/site-packages/numpy/core/fromnumeric.py:2889: RuntimeWarning: Mean of empty slice.\n",
      "  out=out, **kwargs)\n",
      "/Users/bauer/anaconda3/lib/python3.5/site-packages/numpy/core/_methods.py:80: RuntimeWarning: invalid value encountered in double_scalars\n",
      "  ret = ret.dtype.type(ret / rcount)\n",
      "/Users/bauer/anaconda3/lib/python3.5/site-packages/numpy/core/_methods.py:135: RuntimeWarning: Degrees of freedom <= 0 for slice\n",
      "  keepdims=keepdims)\n",
      "/Users/bauer/anaconda3/lib/python3.5/site-packages/numpy/core/_methods.py:105: RuntimeWarning: invalid value encountered in true_divide\n",
      "  arrmean, rcount, out=arrmean, casting='unsafe', subok=False)\n",
      "/Users/bauer/anaconda3/lib/python3.5/site-packages/numpy/core/_methods.py:127: RuntimeWarning: invalid value encountered in double_scalars\n",
      "  ret = ret.dtype.type(ret / rcount)\n"
     ]
    },
    {
     "name": "stdout",
     "output_type": "stream",
     "text": [
      "done in 97.111s.\n"
     ]
    }
   ],
   "source": [
    "cats = ratePhotos(cat_usernames, cats)"
   ]
  },
  {
   "cell_type": "code",
   "execution_count": 71,
   "metadata": {
    "collapsed": false
   },
   "outputs": [
    {
     "data": {
      "text/plain": [
       "-1    29299\n",
       " 1    23857\n",
       " 0    21672\n",
       "Name: rating_outlier, dtype: int64"
      ]
     },
     "execution_count": 71,
     "metadata": {},
     "output_type": "execute_result"
    }
   ],
   "source": [
    "cats.rating_outlier.value_counts()"
   ]
  },
  {
   "cell_type": "code",
   "execution_count": 72,
   "metadata": {
    "collapsed": false
   },
   "outputs": [
    {
     "name": "stderr",
     "output_type": "stream",
     "text": [
      "/Users/bauer/anaconda3/lib/python3.5/site-packages/numpy/core/fromnumeric.py:2889: RuntimeWarning: Mean of empty slice.\n",
      "  out=out, **kwargs)\n",
      "/Users/bauer/anaconda3/lib/python3.5/site-packages/numpy/core/_methods.py:80: RuntimeWarning: invalid value encountered in double_scalars\n",
      "  ret = ret.dtype.type(ret / rcount)\n",
      "/Users/bauer/anaconda3/lib/python3.5/site-packages/numpy/core/_methods.py:135: RuntimeWarning: Degrees of freedom <= 0 for slice\n",
      "  keepdims=keepdims)\n",
      "/Users/bauer/anaconda3/lib/python3.5/site-packages/numpy/core/_methods.py:105: RuntimeWarning: invalid value encountered in true_divide\n",
      "  arrmean, rcount, out=arrmean, casting='unsafe', subok=False)\n",
      "/Users/bauer/anaconda3/lib/python3.5/site-packages/numpy/core/_methods.py:127: RuntimeWarning: invalid value encountered in double_scalars\n",
      "  ret = ret.dtype.type(ret / rcount)\n"
     ]
    },
    {
     "name": "stdout",
     "output_type": "stream",
     "text": [
      "done in 101.694s.\n"
     ]
    }
   ],
   "source": [
    "dogs = ratePhotos(dog_usernames, dogs)"
   ]
  },
  {
   "cell_type": "code",
   "execution_count": 75,
   "metadata": {
    "collapsed": false
   },
   "outputs": [
    {
     "data": {
      "text/plain": [
       "-1    28549\n",
       " 1    24290\n",
       " 0    23991\n",
       "Name: rating_outlier, dtype: int64"
      ]
     },
     "execution_count": 75,
     "metadata": {},
     "output_type": "execute_result"
    }
   ],
   "source": [
    "dogs.rating_outlier.value_counts()"
   ]
  },
  {
   "cell_type": "code",
   "execution_count": 79,
   "metadata": {
    "collapsed": false
   },
   "outputs": [
    {
     "name": "stdout",
     "output_type": "stream",
     "text": [
      "/Users/bauer/ds/metis/metisgh/Metis_Projects/Instagram_Likes/Code\r\n"
     ]
    }
   ],
   "source": [
    "!pwd"
   ]
  },
  {
   "cell_type": "code",
   "execution_count": 93,
   "metadata": {
    "collapsed": true
   },
   "outputs": [],
   "source": [
    "cats_in = glob(\"../../../local_files/Projects/Instagram_Likes_Local/InstaImages/Cats_Original/full/*.jpg\")\n",
    "dogs_in = glob(\"../../../local_files/Projects/Instagram_Likes_Local/InstaImages/Dogs_Original/full/*.jpg\")\n",
    "\n",
    "cats_out = '../../../local_files/Projects/Instagram_Likes_Local/InstaImages/Cats_3/'\n",
    "dogs_out = '../../../local_files/Projects/Instagram_Likes_Local/InstaImages/Dogs_3/'"
   ]
  },
  {
   "cell_type": "code",
   "execution_count": 96,
   "metadata": {
    "collapsed": true
   },
   "outputs": [],
   "source": [
    "size = 224, 224\n",
    "\n",
    "def sortPhotos(df, input_path, output_path):\n",
    "    for c in input_path:\n",
    "        img = Image.open(c)\n",
    "        img.thumbnail(size, Image.ANTIALIAS)\n",
    "    #     img = Image.fromarray(img)\n",
    "        rating = df.loc[df['pic_path']==c[-44:]]['rating']\n",
    "        if (rating == 1).any():\n",
    "            if random.random() > .25:\n",
    "                if random.random() > .25:\n",
    "                    img.save(output_path+'train/good'+c[-45:])\n",
    "                else: \n",
    "                    img.save(output_path+'validation/good'+c[-45:])\n",
    "            else:\n",
    "                img.save(output_path+'test/good'+c[-45:])\n",
    "        elif (rating ==0).any():\n",
    "            if random.random() > .25:\n",
    "                if random.random() > .3:\n",
    "                    img.save(output_path+'train/bad'+c[-45:])\n",
    "                else:\n",
    "                    img.save(output_path+'validation/bad'+c[-45:])\n",
    "            else: \n",
    "                img.save(output_path+'test/bad'+c[-45:])"
   ]
  },
  {
   "cell_type": "code",
   "execution_count": 97,
   "metadata": {
    "collapsed": false
   },
   "outputs": [],
   "source": [
    "sortPhotos(cats, cats_in, cats_out)"
   ]
  },
  {
   "cell_type": "code",
   "execution_count": 98,
   "metadata": {
    "collapsed": true
   },
   "outputs": [],
   "source": [
    "sortPhotos(dogs, dogs_in, dogs_out)"
   ]
  },
  {
   "cell_type": "code",
   "execution_count": null,
   "metadata": {
    "collapsed": true
   },
   "outputs": [],
   "source": []
  }
 ],
 "metadata": {
  "anaconda-cloud": {},
  "kernelspec": {
   "display_name": "Python [default]",
   "language": "python",
   "name": "python3"
  },
  "language_info": {
   "codemirror_mode": {
    "name": "ipython",
    "version": 3
   },
   "file_extension": ".py",
   "mimetype": "text/x-python",
   "name": "python",
   "nbconvert_exporter": "python",
   "pygments_lexer": "ipython3",
   "version": "3.5.2"
  }
 },
 "nbformat": 4,
 "nbformat_minor": 1
}
