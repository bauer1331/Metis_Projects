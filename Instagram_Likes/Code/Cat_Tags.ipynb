{
 "cells": [
  {
   "cell_type": "code",
   "execution_count": 1,
   "metadata": {
    "collapsed": true
   },
   "outputs": [],
   "source": [
    "from clarifai.rest import ClarifaiApp\n",
    "import pandas as pd"
   ]
  },
  {
   "cell_type": "code",
   "execution_count": 6,
   "metadata": {
    "collapsed": false
   },
   "outputs": [],
   "source": [
    "api_path = '../../../local_files/Projects/Instagram_Likes_Local/Instagram_Likes/code'\n",
    "with open(api_path+\"/clarifai.txt\", \"rt\") as f:\n",
    "        clarifai = [key.strip() for key in f.readlines()]\n",
    "CLARIFAI_APP_ID = clarifai[0]\n",
    "CLARIFAI_APP_SECRET = clarifai[1]\n",
    "access_token = clarifai[2]\n",
    "\n",
    "app = ClarifaiApp(CLARIFAI_APP_ID, CLARIFAI_APP_SECRET)\n",
    "      \n",
    "      # get the general model\n",
    "model = app.models.get(\"general-v1.3\")"
   ]
  },
  {
   "cell_type": "code",
   "execution_count": 7,
   "metadata": {
    "collapsed": false
   },
   "outputs": [
    {
     "name": "stdout",
     "output_type": "stream",
     "text": [
      "/Users/bauer/ds/metis/metisgh/Metis_Projects/Instagram_Likes/Code\r\n"
     ]
    }
   ],
   "source": [
    "!pwd"
   ]
  },
  {
   "cell_type": "code",
   "execution_count": 13,
   "metadata": {
    "collapsed": true
   },
   "outputs": [],
   "source": [
    "cat_sample = pd.read_csv('../../../local_files/Projects/Instagram_Likes_Local/data/sample_cats.csv')\n",
    "cat_urls = cat_sample.image_urls"
   ]
  },
  {
   "cell_type": "code",
   "execution_count": 28,
   "metadata": {
    "collapsed": false
   },
   "outputs": [],
   "source": [
    "# cat_jsons = []\n",
    "# for i in cat_urls:\n",
    "#     cat_jsons.append(model.predict_by_url(url=i))"
   ]
  },
  {
   "cell_type": "code",
   "execution_count": 16,
   "metadata": {
    "collapsed": true
   },
   "outputs": [],
   "source": [
    "def getClarifai(photos):\n",
    "    photo_data = []\n",
    "    for photo in photos:\n",
    "        photo1= []\n",
    "        photo1.append(photo['outputs'][0]['input']['data']['image']['url'])\n",
    "        labels = len(photo['outputs'][0]['data']['concepts'])\n",
    "\n",
    "        test_image = []\n",
    "        test_probs = []\n",
    "        for i in range(labels):\n",
    "            test_image.append(photo['outputs'][0]['data']['concepts'][i]['name'])\n",
    "            test_probs.append(photo['outputs'][0]['data']['concepts'][i]['value'])\n",
    "        # photo1 = photo1.append(url)\n",
    "        photo1.append(test_image)\n",
    "        photo1.append(test_probs)\n",
    "        photo_data.append(photo1)\n",
    "    return photo_data"
   ]
  },
  {
   "cell_type": "code",
   "execution_count": 17,
   "metadata": {
    "collapsed": true
   },
   "outputs": [],
   "source": [
    "cat_tags = getClarifai(cat_jsons)"
   ]
  },
  {
   "cell_type": "code",
   "execution_count": 22,
   "metadata": {
    "collapsed": false
   },
   "outputs": [
    {
     "data": {
      "text/html": [
       "<div>\n",
       "<table border=\"1\" class=\"dataframe\">\n",
       "  <thead>\n",
       "    <tr style=\"text-align: right;\">\n",
       "      <th></th>\n",
       "      <th>image_urls</th>\n",
       "      <th>labels</th>\n",
       "      <th>label_probs</th>\n",
       "    </tr>\n",
       "  </thead>\n",
       "  <tbody>\n",
       "    <tr>\n",
       "      <th>4987</th>\n",
       "      <td>http://scontent.cdninstagram.com/t51.2885-15/s...</td>\n",
       "      <td>[flower, no person, nature, flora, garden, flo...</td>\n",
       "      <td>[0.99859667, 0.9876559, 0.98555636, 0.9819627,...</td>\n",
       "    </tr>\n",
       "    <tr>\n",
       "      <th>4988</th>\n",
       "      <td>http://scontent.cdninstagram.com/t51.2885-15/s...</td>\n",
       "      <td>[cat, pet, kitten, cute, domestic, animal, fur...</td>\n",
       "      <td>[0.9996329, 0.99788046, 0.99739933, 0.99710447...</td>\n",
       "    </tr>\n",
       "    <tr>\n",
       "      <th>4989</th>\n",
       "      <td>http://scontent.cdninstagram.com/t51.2885-15/s...</td>\n",
       "      <td>[cat, mammal, pet, domestic, kitten, cute, dow...</td>\n",
       "      <td>[0.99756676, 0.9928858, 0.9923767, 0.99152315,...</td>\n",
       "    </tr>\n",
       "    <tr>\n",
       "      <th>4990</th>\n",
       "      <td>http://scontent.cdninstagram.com/t51.2885-15/s...</td>\n",
       "      <td>[cat, pet, mammal, animal, cute, kitten, portr...</td>\n",
       "      <td>[0.9980209, 0.99797964, 0.99542785, 0.9921284,...</td>\n",
       "    </tr>\n",
       "    <tr>\n",
       "      <th>4991</th>\n",
       "      <td>http://scontent.cdninstagram.com/t51.2885-15/s...</td>\n",
       "      <td>[cat, cute, kitten, fur, animal, mammal, grey,...</td>\n",
       "      <td>[0.99874055, 0.9954513, 0.9944388, 0.99206257,...</td>\n",
       "    </tr>\n",
       "  </tbody>\n",
       "</table>\n",
       "</div>"
      ],
      "text/plain": [
       "                                             image_urls  \\\n",
       "4987  http://scontent.cdninstagram.com/t51.2885-15/s...   \n",
       "4988  http://scontent.cdninstagram.com/t51.2885-15/s...   \n",
       "4989  http://scontent.cdninstagram.com/t51.2885-15/s...   \n",
       "4990  http://scontent.cdninstagram.com/t51.2885-15/s...   \n",
       "4991  http://scontent.cdninstagram.com/t51.2885-15/s...   \n",
       "\n",
       "                                                 labels  \\\n",
       "4987  [flower, no person, nature, flora, garden, flo...   \n",
       "4988  [cat, pet, kitten, cute, domestic, animal, fur...   \n",
       "4989  [cat, mammal, pet, domestic, kitten, cute, dow...   \n",
       "4990  [cat, pet, mammal, animal, cute, kitten, portr...   \n",
       "4991  [cat, cute, kitten, fur, animal, mammal, grey,...   \n",
       "\n",
       "                                            label_probs  \n",
       "4987  [0.99859667, 0.9876559, 0.98555636, 0.9819627,...  \n",
       "4988  [0.9996329, 0.99788046, 0.99739933, 0.99710447...  \n",
       "4989  [0.99756676, 0.9928858, 0.9923767, 0.99152315,...  \n",
       "4990  [0.9980209, 0.99797964, 0.99542785, 0.9921284,...  \n",
       "4991  [0.99874055, 0.9954513, 0.9944388, 0.99206257,...  "
      ]
     },
     "execution_count": 22,
     "metadata": {},
     "output_type": "execute_result"
    }
   ],
   "source": [
    "df_cat_tags = pd.DataFrame(cat_tags)\n",
    "df_cat_tags.columns = ['image_urls', 'labels', 'label_probs']\n",
    "df_cat_tags.tail()"
   ]
  },
  {
   "cell_type": "code",
   "execution_count": 23,
   "metadata": {
    "collapsed": false
   },
   "outputs": [
    {
     "data": {
      "text/plain": [
       "'http://scontent.cdninstagram.com/t51.2885-15/s480x480/e15/11023214_813845485353392_105087057_n.jpg?ig_cache_key=OTQ0ODE4MjIyMjkyNDI3ODc5.2'"
      ]
     },
     "execution_count": 23,
     "metadata": {},
     "output_type": "execute_result"
    }
   ],
   "source": [
    "df_cat_tags.ix[4991,0]"
   ]
  },
  {
   "cell_type": "code",
   "execution_count": 24,
   "metadata": {
    "collapsed": false
   },
   "outputs": [
    {
     "data": {
      "text/plain": [
       "4991    http://scontent.cdninstagram.com/t51.2885-15/s...\n",
       "Name: image_urls, dtype: object"
      ]
     },
     "execution_count": 24,
     "metadata": {},
     "output_type": "execute_result"
    }
   ],
   "source": [
    "cat_urls[cat_urls==df_cat_tags.ix[4991,0]]"
   ]
  },
  {
   "cell_type": "code",
   "execution_count": 25,
   "metadata": {
    "collapsed": true
   },
   "outputs": [],
   "source": [
    "# for i in cat_urls[4992:]:\n",
    "#     cat_jsons.append(model.predict_by_url(url=i))"
   ]
  },
  {
   "cell_type": "code",
   "execution_count": 26,
   "metadata": {
    "collapsed": true
   },
   "outputs": [],
   "source": [
    "cat_tags = getClarifai(cat_jsons)"
   ]
  },
  {
   "cell_type": "code",
   "execution_count": 27,
   "metadata": {
    "collapsed": false
   },
   "outputs": [
    {
     "data": {
      "text/html": [
       "<div>\n",
       "<table border=\"1\" class=\"dataframe\">\n",
       "  <thead>\n",
       "    <tr style=\"text-align: right;\">\n",
       "      <th></th>\n",
       "      <th>image_urls</th>\n",
       "      <th>labels</th>\n",
       "      <th>label_probs</th>\n",
       "    </tr>\n",
       "  </thead>\n",
       "  <tbody>\n",
       "    <tr>\n",
       "      <th>9985</th>\n",
       "      <td>http://scontent.cdninstagram.com/t51.2885-15/s...</td>\n",
       "      <td>[no person, Christmas, cute, Easter, funny, fu...</td>\n",
       "      <td>[0.99134505, 0.9661639, 0.95967925, 0.95638037...</td>\n",
       "    </tr>\n",
       "    <tr>\n",
       "      <th>9986</th>\n",
       "      <td>http://scontent.cdninstagram.com/t51.2885-15/s...</td>\n",
       "      <td>[cat, kitten, pet, cute, animal, domestic, mam...</td>\n",
       "      <td>[0.99989873, 0.99855626, 0.9974352, 0.995649, ...</td>\n",
       "    </tr>\n",
       "    <tr>\n",
       "      <th>9987</th>\n",
       "      <td>http://scontent.cdninstagram.com/t51.2885-15/s...</td>\n",
       "      <td>[cat, mammal, pet, one, no person, kitten, cut...</td>\n",
       "      <td>[0.9988644, 0.9964559, 0.99161494, 0.98871094,...</td>\n",
       "    </tr>\n",
       "    <tr>\n",
       "      <th>9988</th>\n",
       "      <td>http://scontent.cdninstagram.com/t51.2885-15/s...</td>\n",
       "      <td>[one, no person, portrait, television, indoors...</td>\n",
       "      <td>[0.9877957, 0.98009884, 0.96198964, 0.9563401,...</td>\n",
       "    </tr>\n",
       "    <tr>\n",
       "      <th>9989</th>\n",
       "      <td>http://scontent.cdninstagram.com/t51.2885-15/s...</td>\n",
       "      <td>[cat, cute, domestic, kitten, pet, animal, fur...</td>\n",
       "      <td>[0.9982335, 0.99794304, 0.9972414, 0.99597716,...</td>\n",
       "    </tr>\n",
       "  </tbody>\n",
       "</table>\n",
       "</div>"
      ],
      "text/plain": [
       "                                             image_urls  \\\n",
       "9985  http://scontent.cdninstagram.com/t51.2885-15/s...   \n",
       "9986  http://scontent.cdninstagram.com/t51.2885-15/s...   \n",
       "9987  http://scontent.cdninstagram.com/t51.2885-15/s...   \n",
       "9988  http://scontent.cdninstagram.com/t51.2885-15/s...   \n",
       "9989  http://scontent.cdninstagram.com/t51.2885-15/s...   \n",
       "\n",
       "                                                 labels  \\\n",
       "9985  [no person, Christmas, cute, Easter, funny, fu...   \n",
       "9986  [cat, kitten, pet, cute, animal, domestic, mam...   \n",
       "9987  [cat, mammal, pet, one, no person, kitten, cut...   \n",
       "9988  [one, no person, portrait, television, indoors...   \n",
       "9989  [cat, cute, domestic, kitten, pet, animal, fur...   \n",
       "\n",
       "                                            label_probs  \n",
       "9985  [0.99134505, 0.9661639, 0.95967925, 0.95638037...  \n",
       "9986  [0.99989873, 0.99855626, 0.9974352, 0.995649, ...  \n",
       "9987  [0.9988644, 0.9964559, 0.99161494, 0.98871094,...  \n",
       "9988  [0.9877957, 0.98009884, 0.96198964, 0.9563401,...  \n",
       "9989  [0.9982335, 0.99794304, 0.9972414, 0.99597716,...  "
      ]
     },
     "execution_count": 27,
     "metadata": {},
     "output_type": "execute_result"
    }
   ],
   "source": [
    "df_cat_tags = pd.DataFrame(cat_tags)\n",
    "df_cat_tags.columns = ['image_urls', 'labels', 'label_probs']\n",
    "df_cat_tags.tail()"
   ]
  },
  {
   "cell_type": "code",
   "execution_count": 29,
   "metadata": {
    "collapsed": true
   },
   "outputs": [],
   "source": [
    "df_cat_tags.to_csv('../../../local_files/Projects/Instagram_Likes_Local/data/cat_tags.csv', index = False)"
   ]
  },
  {
   "cell_type": "code",
   "execution_count": null,
   "metadata": {
    "collapsed": true
   },
   "outputs": [],
   "source": []
  }
 ],
 "metadata": {
  "kernelspec": {
   "display_name": "Python [default]",
   "language": "python",
   "name": "python3"
  },
  "language_info": {
   "codemirror_mode": {
    "name": "ipython",
    "version": 3
   },
   "file_extension": ".py",
   "mimetype": "text/x-python",
   "name": "python",
   "nbconvert_exporter": "python",
   "pygments_lexer": "ipython3",
   "version": "3.5.2"
  }
 },
 "nbformat": 4,
 "nbformat_minor": 1
}
