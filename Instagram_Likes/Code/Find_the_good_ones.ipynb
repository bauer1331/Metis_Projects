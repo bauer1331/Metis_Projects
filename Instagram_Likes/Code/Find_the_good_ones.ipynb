{
 "cells": [
  {
   "cell_type": "code",
   "execution_count": 1,
   "metadata": {
    "collapsed": false
   },
   "outputs": [],
   "source": [
    "import pandas as pd\n",
    "import numpy as np\n",
    "from matplotlib import pyplot as plt\n",
    "%matplotlib inline\n",
    "\n",
    "from sklearn import preprocessing\n",
    "from sklearn.linear_model import LinearRegression\n",
    "from sklearn.model_selection import cross_val_predict\n",
    "import sklearn\n",
    "\n",
    "from scipy import ndimage\n",
    "\n",
    "from time import time"
   ]
  },
  {
   "cell_type": "code",
   "execution_count": 2,
   "metadata": {
    "collapsed": false
   },
   "outputs": [],
   "source": [
    "meta_data = pd.read_csv('../../../local_files/Projects/Instagram_Likes_Local/data/meta_data.csv')"
   ]
  },
  {
   "cell_type": "code",
   "execution_count": 3,
   "metadata": {
    "collapsed": false
   },
   "outputs": [
    {
     "data": {
      "text/html": [
       "<div>\n",
       "<table border=\"1\" class=\"dataframe\">\n",
       "  <thead>\n",
       "    <tr style=\"text-align: right;\">\n",
       "      <th></th>\n",
       "      <th>caption</th>\n",
       "      <th>comments</th>\n",
       "      <th>image_urls</th>\n",
       "      <th>likes</th>\n",
       "      <th>pro</th>\n",
       "      <th>user_url</th>\n",
       "      <th>username</th>\n",
       "      <th>insta_id</th>\n",
       "      <th>is_verified</th>\n",
       "      <th>following</th>\n",
       "      <th>full_name</th>\n",
       "      <th>followers</th>\n",
       "      <th>posts</th>\n",
       "      <th>pic_path</th>\n",
       "      <th>checksum</th>\n",
       "    </tr>\n",
       "  </thead>\n",
       "  <tbody>\n",
       "    <tr>\n",
       "      <th>166286</th>\n",
       "      <td>NaN</td>\n",
       "      <td>3.0</td>\n",
       "      <td>http://scontent.cdninstagram.com/t51.2885-15/s...</td>\n",
       "      <td>43.0</td>\n",
       "      <td>0.0</td>\n",
       "      <td>http://www.imgrum.org/user/ofer7684/52646956</td>\n",
       "      <td>ofer7684</td>\n",
       "      <td>52646956.0</td>\n",
       "      <td>False</td>\n",
       "      <td>1273.0</td>\n",
       "      <td>Ofer Osherovitz</td>\n",
       "      <td>473.0</td>\n",
       "      <td>456.0</td>\n",
       "      <td>f76eef11891e4b184a48a2c4f508230f4b4c05e4.jpg</td>\n",
       "      <td>9d6d43f32ea2b49097726cc2763f714a</td>\n",
       "    </tr>\n",
       "    <tr>\n",
       "      <th>166287</th>\n",
       "      <td>#health #fitness #fit #TagsForLikes #TFLers #f...</td>\n",
       "      <td>0.0</td>\n",
       "      <td>http://scontent.cdninstagram.com/t51.2885-15/s...</td>\n",
       "      <td>27.0</td>\n",
       "      <td>0.0</td>\n",
       "      <td>http://www.imgrum.org/user/ofer7684/52646956</td>\n",
       "      <td>ofer7684</td>\n",
       "      <td>52646956.0</td>\n",
       "      <td>False</td>\n",
       "      <td>1273.0</td>\n",
       "      <td>Ofer Osherovitz</td>\n",
       "      <td>473.0</td>\n",
       "      <td>456.0</td>\n",
       "      <td>d2236c7d987e66ae718bf54ec2061df4f197cd7e.jpg</td>\n",
       "      <td>400e97645e0cf08c15b8f2fcbb8909eb</td>\n",
       "    </tr>\n",
       "  </tbody>\n",
       "</table>\n",
       "</div>"
      ],
      "text/plain": [
       "                                                  caption  comments  \\\n",
       "166286                                                NaN       3.0   \n",
       "166287  #health #fitness #fit #TagsForLikes #TFLers #f...       0.0   \n",
       "\n",
       "                                               image_urls  likes  pro  \\\n",
       "166286  http://scontent.cdninstagram.com/t51.2885-15/s...   43.0  0.0   \n",
       "166287  http://scontent.cdninstagram.com/t51.2885-15/s...   27.0  0.0   \n",
       "\n",
       "                                            user_url  username    insta_id  \\\n",
       "166286  http://www.imgrum.org/user/ofer7684/52646956  ofer7684  52646956.0   \n",
       "166287  http://www.imgrum.org/user/ofer7684/52646956  ofer7684  52646956.0   \n",
       "\n",
       "       is_verified  following        full_name  followers  posts  \\\n",
       "166286       False     1273.0  Ofer Osherovitz      473.0  456.0   \n",
       "166287       False     1273.0  Ofer Osherovitz      473.0  456.0   \n",
       "\n",
       "                                            pic_path  \\\n",
       "166286  f76eef11891e4b184a48a2c4f508230f4b4c05e4.jpg   \n",
       "166287  d2236c7d987e66ae718bf54ec2061df4f197cd7e.jpg   \n",
       "\n",
       "                                checksum  \n",
       "166286  9d6d43f32ea2b49097726cc2763f714a  \n",
       "166287  400e97645e0cf08c15b8f2fcbb8909eb  "
      ]
     },
     "execution_count": 3,
     "metadata": {},
     "output_type": "execute_result"
    }
   ],
   "source": [
    "meta_data.tail(2)"
   ]
  },
  {
   "cell_type": "code",
   "execution_count": 4,
   "metadata": {
    "collapsed": false
   },
   "outputs": [],
   "source": [
    "# meta_data.images[0]"
   ]
  },
  {
   "cell_type": "code",
   "execution_count": 5,
   "metadata": {
    "collapsed": false
   },
   "outputs": [],
   "source": [
    "meta_data['rating']=0\n",
    "meta_data['f_over_f'] = meta_data.followers/meta_data.following"
   ]
  },
  {
   "cell_type": "code",
   "execution_count": 6,
   "metadata": {
    "collapsed": false
   },
   "outputs": [],
   "source": [
    "ff_mean = meta_data['f_over_f'].mean()"
   ]
  },
  {
   "cell_type": "code",
   "execution_count": 7,
   "metadata": {
    "collapsed": false
   },
   "outputs": [
    {
     "data": {
      "text/plain": [
       "array([  7.73333333e-02,   4.62209302e-01,   1.25659824e+00,\n",
       "         2.15544472e+00,   3.90607735e+00,   8.65277778e+00,\n",
       "         1.51181200e+01,   4.34337349e+01,   1.10288809e+02,\n",
       "         6.65251429e+02])"
      ]
     },
     "execution_count": 7,
     "metadata": {},
     "output_type": "execute_result"
    }
   ],
   "source": [
    "np.percentile(meta_data['f_over_f'].dropna(), np.arange(0, 100, 10))"
   ]
  },
  {
   "cell_type": "code",
   "execution_count": 8,
   "metadata": {
    "collapsed": false
   },
   "outputs": [],
   "source": [
    "super_users = meta_data[meta_data['f_over_f']>=43]['username'].unique()\n",
    "reg_meta = meta_data[~meta_data['username'].isin(super_users)]\n",
    "ver_reg = reg_meta[reg_meta['is_verified']==True].username.unique()\n",
    "super_users = np.concatenate((super_users, ver_reg))\n",
    "\n",
    "super_meta = meta_data[meta_data['username'].isin(super_users)]\n",
    "reg_meta = meta_data[~meta_data['username'].isin(super_users)]\n",
    "\n",
    "reg_users = reg_meta.username.unique()\n",
    "reg_users = [x for x in reg_users if str(x) != 'nan']"
   ]
  },
  {
   "cell_type": "code",
   "execution_count": 9,
   "metadata": {
    "collapsed": false
   },
   "outputs": [
    {
     "data": {
      "text/plain": [
       "array([ 25518.,  28436.,  27550., ...,    137.,    154.,     62.])"
      ]
     },
     "execution_count": 9,
     "metadata": {},
     "output_type": "execute_result"
    }
   ],
   "source": [
    "super_meta[super_meta['username']=='brahmino'].likes.values"
   ]
  },
  {
   "cell_type": "code",
   "execution_count": 10,
   "metadata": {
    "collapsed": false
   },
   "outputs": [],
   "source": [
    "def getSuperRating(username):\n",
    "    df = super_meta[super_meta['username']==username].likes.values\n",
    "    ind = super_meta[super_meta['username']==username].index.values\n",
    "    increments = int(len(df)*.025)\n",
    "    ratings = []\n",
    "    for i in range(len(df)):    \n",
    "        start = max(0, i-increments)\n",
    "        end = min(len(df)-1, i+increments)\n",
    "        mean = np.mean(df[start:end])\n",
    "        std = np.std(df[start:end])\n",
    "        if df[i]>=(mean + std*.3):\n",
    "            ratings.append(3)\n",
    "        elif df[i]<=(mean - std*.8):\n",
    "            ratings.append(1)\n",
    "        else:\n",
    "            ratings.append(2)\n",
    "        zipped = list(zip(ind,ratings))\n",
    "        rate = pd.DataFrame(zipped,columns=['ind', 'updated_rating'])\n",
    "        rate.set_index(['ind'], inplace=True)\n",
    "    return rate"
   ]
  },
  {
   "cell_type": "code",
   "execution_count": 11,
   "metadata": {
    "collapsed": false
   },
   "outputs": [
    {
     "data": {
      "text/plain": [
       "0    50353\n",
       "Name: rating, dtype: int64"
      ]
     },
     "execution_count": 11,
     "metadata": {},
     "output_type": "execute_result"
    }
   ],
   "source": [
    "super_meta.rating.value_counts()"
   ]
  },
  {
   "cell_type": "code",
   "execution_count": 12,
   "metadata": {
    "collapsed": false
   },
   "outputs": [
    {
     "name": "stderr",
     "output_type": "stream",
     "text": [
      "/Users/bauer/anaconda3/lib/python3.5/site-packages/IPython/core/interactiveshell.py:2881: SettingWithCopyWarning: \n",
      "A value is trying to be set on a copy of a slice from a DataFrame\n",
      "\n",
      "See the caveats in the documentation: http://pandas.pydata.org/pandas-docs/stable/indexing.html#indexing-view-versus-copy\n",
      "  exec(code_obj, self.user_global_ns, self.user_ns)\n",
      "/Users/bauer/anaconda3/lib/python3.5/site-packages/numpy/core/fromnumeric.py:2889: RuntimeWarning: Mean of empty slice.\n",
      "  out=out, **kwargs)\n",
      "/Users/bauer/anaconda3/lib/python3.5/site-packages/numpy/core/_methods.py:80: RuntimeWarning: invalid value encountered in double_scalars\n",
      "  ret = ret.dtype.type(ret / rcount)\n",
      "/Users/bauer/anaconda3/lib/python3.5/site-packages/numpy/core/_methods.py:135: RuntimeWarning: Degrees of freedom <= 0 for slice\n",
      "  keepdims=keepdims)\n",
      "/Users/bauer/anaconda3/lib/python3.5/site-packages/numpy/core/_methods.py:105: RuntimeWarning: invalid value encountered in true_divide\n",
      "  arrmean, rcount, out=arrmean, casting='unsafe', subok=False)\n",
      "/Users/bauer/anaconda3/lib/python3.5/site-packages/numpy/core/_methods.py:127: RuntimeWarning: invalid value encountered in double_scalars\n",
      "  ret = ret.dtype.type(ret / rcount)\n"
     ]
    },
    {
     "name": "stdout",
     "output_type": "stream",
     "text": [
      "done in 69.224s.\n"
     ]
    }
   ],
   "source": [
    "t0 = time()\n",
    "for i in super_users:\n",
    "    new_rated = getSuperRating(i)\n",
    "    super_meta.rating.update(new_rated.updated_rating)\n",
    "print(\"done in %0.3fs.\" % (time() - t0))"
   ]
  },
  {
   "cell_type": "code",
   "execution_count": 13,
   "metadata": {
    "collapsed": false
   },
   "outputs": [
    {
     "data": {
      "text/plain": [
       "2    25806\n",
       "3    15224\n",
       "1     9323\n",
       "Name: rating, dtype: int64"
      ]
     },
     "execution_count": 13,
     "metadata": {},
     "output_type": "execute_result"
    }
   ],
   "source": [
    "super_meta.rating.value_counts()"
   ]
  },
  {
   "cell_type": "code",
   "execution_count": 14,
   "metadata": {
    "collapsed": true
   },
   "outputs": [],
   "source": [
    "def getRegRating(username):\n",
    "    df = reg_meta[reg_meta['username']==username].likes.values\n",
    "    ind = reg_meta[reg_meta['username']==username].index.values\n",
    "    increments = int(len(df)*.025)\n",
    "    ratings = []\n",
    "    for i in range(len(df)):    \n",
    "        start = max(0, i-increments)\n",
    "        end = min(len(df)-1, i+increments)\n",
    "        mean = np.mean(df[start:end])\n",
    "        std = np.std(df[start:end])\n",
    "        if df[i]>=(mean + std*.6):\n",
    "            ratings.append(3)\n",
    "        elif df[i]<=(mean - std*.4):\n",
    "            ratings.append(1)\n",
    "        else:\n",
    "            ratings.append(2)\n",
    "        zipped = list(zip(ind,ratings))\n",
    "        rate = pd.DataFrame(zipped,columns=['ind', 'updated_rating'])\n",
    "        rate.set_index(['ind'], inplace=True)\n",
    "    return rate"
   ]
  },
  {
   "cell_type": "code",
   "execution_count": 15,
   "metadata": {
    "collapsed": false
   },
   "outputs": [
    {
     "data": {
      "text/plain": [
       "0    115935\n",
       "Name: rating, dtype: int64"
      ]
     },
     "execution_count": 15,
     "metadata": {},
     "output_type": "execute_result"
    }
   ],
   "source": [
    "reg_meta.rating.value_counts()"
   ]
  },
  {
   "cell_type": "code",
   "execution_count": 16,
   "metadata": {
    "collapsed": false
   },
   "outputs": [
    {
     "name": "stderr",
     "output_type": "stream",
     "text": [
      "/Users/bauer/anaconda3/lib/python3.5/site-packages/IPython/core/interactiveshell.py:2881: SettingWithCopyWarning: \n",
      "A value is trying to be set on a copy of a slice from a DataFrame\n",
      "\n",
      "See the caveats in the documentation: http://pandas.pydata.org/pandas-docs/stable/indexing.html#indexing-view-versus-copy\n",
      "  exec(code_obj, self.user_global_ns, self.user_ns)\n",
      "/Users/bauer/anaconda3/lib/python3.5/site-packages/numpy/core/fromnumeric.py:2889: RuntimeWarning: Mean of empty slice.\n",
      "  out=out, **kwargs)\n",
      "/Users/bauer/anaconda3/lib/python3.5/site-packages/numpy/core/_methods.py:80: RuntimeWarning: invalid value encountered in double_scalars\n",
      "  ret = ret.dtype.type(ret / rcount)\n",
      "/Users/bauer/anaconda3/lib/python3.5/site-packages/numpy/core/_methods.py:135: RuntimeWarning: Degrees of freedom <= 0 for slice\n",
      "  keepdims=keepdims)\n",
      "/Users/bauer/anaconda3/lib/python3.5/site-packages/numpy/core/_methods.py:105: RuntimeWarning: invalid value encountered in true_divide\n",
      "  arrmean, rcount, out=arrmean, casting='unsafe', subok=False)\n",
      "/Users/bauer/anaconda3/lib/python3.5/site-packages/numpy/core/_methods.py:127: RuntimeWarning: invalid value encountered in double_scalars\n",
      "  ret = ret.dtype.type(ret / rcount)\n"
     ]
    },
    {
     "name": "stdout",
     "output_type": "stream",
     "text": [
      "done in 119.770s.\n"
     ]
    }
   ],
   "source": [
    "t0 = time()\n",
    "for i in reg_users:\n",
    "    new_reg_rated = getRegRating(i)\n",
    "    reg_meta.rating.update(new_reg_rated.updated_rating)\n",
    "print(\"done in %0.3fs.\" % (time() - t0))"
   ]
  },
  {
   "cell_type": "code",
   "execution_count": 17,
   "metadata": {
    "collapsed": false
   },
   "outputs": [
    {
     "data": {
      "text/plain": [
       "1    42392\n",
       "2    41816\n",
       "3    25820\n",
       "0     5907\n",
       "Name: rating, dtype: int64"
      ]
     },
     "execution_count": 17,
     "metadata": {},
     "output_type": "execute_result"
    }
   ],
   "source": [
    "reg_meta.rating.value_counts()"
   ]
  },
  {
   "cell_type": "code",
   "execution_count": 18,
   "metadata": {
    "collapsed": false
   },
   "outputs": [],
   "source": [
    "reg_meta = reg_meta[reg_meta['rating']>0]"
   ]
  },
  {
   "cell_type": "code",
   "execution_count": 19,
   "metadata": {
    "collapsed": false
   },
   "outputs": [
    {
     "data": {
      "text/plain": [
       "2    67622\n",
       "1    51715\n",
       "3    41044\n",
       "Name: rating, dtype: int64"
      ]
     },
     "execution_count": 19,
     "metadata": {},
     "output_type": "execute_result"
    }
   ],
   "source": [
    "meta_data = super_meta.append(reg_meta)\n",
    "meta_data.rating.value_counts()"
   ]
  },
  {
   "cell_type": "code",
   "execution_count": 20,
   "metadata": {
    "collapsed": false
   },
   "outputs": [],
   "source": [
    "clusters = meta_data[['pic_path', 'rating']]"
   ]
  },
  {
   "cell_type": "code",
   "execution_count": 21,
   "metadata": {
    "collapsed": true
   },
   "outputs": [],
   "source": [
    "data_path = '../../../local_files/Projects/Instagram_Likes_Local/data/'\n",
    "clusters.to_csv(data_path+'clusters.csv', index = False)\n"
   ]
  },
  {
   "cell_type": "code",
   "execution_count": null,
   "metadata": {
    "collapsed": false
   },
   "outputs": [],
   "source": []
  }
 ],
 "metadata": {
  "anaconda-cloud": {},
  "kernelspec": {
   "display_name": "Python [default]",
   "language": "python",
   "name": "python3"
  },
  "language_info": {
   "codemirror_mode": {
    "name": "ipython",
    "version": 3
   },
   "file_extension": ".py",
   "mimetype": "text/x-python",
   "name": "python",
   "nbconvert_exporter": "python",
   "pygments_lexer": "ipython3",
   "version": "3.5.2"
  }
 },
 "nbformat": 4,
 "nbformat_minor": 1
}
