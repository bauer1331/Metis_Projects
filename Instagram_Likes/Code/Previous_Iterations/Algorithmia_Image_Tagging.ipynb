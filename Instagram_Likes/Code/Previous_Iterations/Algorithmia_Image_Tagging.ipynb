{
 "cells": [
  {
   "cell_type": "code",
   "execution_count": 80,
   "metadata": {
    "collapsed": true
   },
   "outputs": [],
   "source": [
    "import Algorithmia\n",
    "from clarifai.rest import ClarifaiApp\n",
    "import pandas as pd"
   ]
  },
  {
   "cell_type": "code",
   "execution_count": 13,
   "metadata": {
    "collapsed": false
   },
   "outputs": [],
   "source": [
    "path = '../../../local_files/Projects/Instagram_Likes_Local/Instagram_Likes/code'"
   ]
  },
  {
   "cell_type": "code",
   "execution_count": 20,
   "metadata": {
    "collapsed": false
   },
   "outputs": [],
   "source": [
    "with open(path+\"/clarifai.txt\", \"rt\") as f:\n",
    "        clarifai = [key.strip() for key in f.readlines()]"
   ]
  },
  {
   "cell_type": "code",
   "execution_count": 21,
   "metadata": {
    "collapsed": true
   },
   "outputs": [],
   "source": [
    "CLARIFAI_APP_ID = clarifai[0]\n",
    "CLARIFAI_APP_SECRET = clarifai[1]\n",
    "access_token = clarifai[2]\n",
    "algo_key = clarifai[3]"
   ]
  },
  {
   "cell_type": "code",
   "execution_count": 26,
   "metadata": {
    "collapsed": false
   },
   "outputs": [],
   "source": [
    "app = ClarifaiApp(CLARIFAI_APP_ID, CLARIFAI_APP_SECRET)\n",
    "      \n",
    "      # get the general model\n",
    "model = app.models.get(\"general-v1.3\")"
   ]
  },
  {
   "cell_type": "code",
   "execution_count": 27,
   "metadata": {
    "collapsed": true
   },
   "outputs": [],
   "source": [
    "input = \"http://i.imgur.com/YKDmneL.jpg\"\n",
    "client = Algorithmia.client(algo_key)\n",
    "algo = client.algo('deeplearning/InceptionNet/1.0.3')\n",
    "Max_algo = algo.pipe(input)"
   ]
  },
  {
   "cell_type": "code",
   "execution_count": 56,
   "metadata": {
    "collapsed": true
   },
   "outputs": [],
   "source": [
    "def getAlgo(url):\n",
    "    input = url\n",
    "    client = Algorithmia.client(algo_key)\n",
    "    algo = client.algo('deeplearning/InceptionNet/1.0.3')\n",
    "    return algo.pipe(input)"
   ]
  },
  {
   "cell_type": "code",
   "execution_count": 28,
   "metadata": {
    "collapsed": false
   },
   "outputs": [
    {
     "name": "stdout",
     "output_type": "stream",
     "text": [
      "AlgoResponse(result={'tags': [{'class': 'Samoyed, Samoyede', 'confidence': 0.8956906795501711}, {'class': 'keeshond', 'confidence': 0.004031287971884012}, {'class': 'Pomeranian', 'confidence': 0.002382125006988644}, {'class': 'Eskimo dog, husky', 'confidence': 0.001681338995695114}, {'class': 'white wolf, Arctic wolf, Canis lupus tundrarum', 'confidence': 0.001190228504128754}]},metadata=Metadata(content_type='json',duration=2.507198331,stdout=None))\n"
     ]
    }
   ],
   "source": [
    "print(Max_algo)"
   ]
  },
  {
   "cell_type": "code",
   "execution_count": 58,
   "metadata": {
    "collapsed": true
   },
   "outputs": [],
   "source": [
    "monster_cat = ['http://scontent.cdninstagram.com/t51.2885-15/s480x480/e35/c0.30.1080.1080/17127161_387746678258578_8246530451783548928_n.jpg?ig_cache_key=MTQ2OTY1OTYxNDQyNDQ2ODI5NQ%3D%3D.2.c',\n",
    "                'http://scontent.cdninstagram.com/t51.2885-15/s480x480/e35/c0.12.1080.1080/17333120_1303318153109410_3732173473229832192_n.jpg?ig_cache_key=MTQ3MTE5NTQ0MTk5ODgzMTk4NQ%3D%3D.2.c']"
   ]
  },
  {
   "cell_type": "code",
   "execution_count": 59,
   "metadata": {
    "collapsed": true
   },
   "outputs": [],
   "source": [
    "monster_jsons = []\n",
    "for i in monster_cat:\n",
    "    monster_jsons.append(model.predict_by_url(url=i))"
   ]
  },
  {
   "cell_type": "code",
   "execution_count": 72,
   "metadata": {
    "collapsed": false
   },
   "outputs": [
    {
     "data": {
      "text/plain": [
       "[{'outputs': [{'created_at': '2017-03-23T22:02:45.852306Z',\n",
       "    'data': {'concepts': [{'app_id': None,\n",
       "       'id': 'ai_mFqxrph2',\n",
       "       'name': 'cat',\n",
       "       'value': 0.98392177},\n",
       "      {'app_id': None,\n",
       "       'id': 'ai_TJ9wFfK5',\n",
       "       'name': 'portrait',\n",
       "       'value': 0.9667102},\n",
       "      {'app_id': None,\n",
       "       'id': 'ai_GjVpxXrs',\n",
       "       'name': 'street',\n",
       "       'value': 0.9587493},\n",
       "      {'app_id': None,\n",
       "       'id': 'ai_786Zr311',\n",
       "       'name': 'no person',\n",
       "       'value': 0.95274514},\n",
       "      {'app_id': None,\n",
       "       'id': 'ai_VTlCx2f2',\n",
       "       'name': 'window',\n",
       "       'value': 0.95249534},\n",
       "      {'app_id': None, 'id': 'ai_SVshtN54', 'name': 'one', 'value': 0.9271656},\n",
       "      {'app_id': None,\n",
       "       'id': 'ai_rsX6XWc2',\n",
       "       'name': 'building',\n",
       "       'value': 0.92665726},\n",
       "      {'app_id': None,\n",
       "       'id': 'ai_SzsXMB1w',\n",
       "       'name': 'animal',\n",
       "       'value': 0.9245895},\n",
       "      {'app_id': None,\n",
       "       'id': 'ai_N6BnC4br',\n",
       "       'name': 'mammal',\n",
       "       'value': 0.8986845},\n",
       "      {'app_id': None,\n",
       "       'id': 'ai_9Dcdh0PK',\n",
       "       'name': 'house',\n",
       "       'value': 0.896566},\n",
       "      {'app_id': None,\n",
       "       'id': 'ai_WBQfVV0p',\n",
       "       'name': 'city',\n",
       "       'value': 0.89329207},\n",
       "      {'app_id': None,\n",
       "       'id': 'ai_gPNNX7LT',\n",
       "       'name': 'pet',\n",
       "       'value': 0.87167424},\n",
       "      {'app_id': None,\n",
       "       'id': 'ai_CpFBRWzD',\n",
       "       'name': 'urban',\n",
       "       'value': 0.86048543},\n",
       "      {'app_id': None,\n",
       "       'id': 'ai_j09mzT6j',\n",
       "       'name': 'family',\n",
       "       'value': 0.85845184},\n",
       "      {'app_id': None,\n",
       "       'id': 'ai_FWCjC8jZ',\n",
       "       'name': 'architecture',\n",
       "       'value': 0.8452985},\n",
       "      {'app_id': None,\n",
       "       'id': 'ai_Zmhsv0Ch',\n",
       "       'name': 'outdoors',\n",
       "       'value': 0.8426424},\n",
       "      {'app_id': None,\n",
       "       'id': 'ai_l8TKp2h5',\n",
       "       'name': 'people',\n",
       "       'value': 0.83380806},\n",
       "      {'app_id': None,\n",
       "       'id': 'ai_2FHPKk9B',\n",
       "       'name': 'winter',\n",
       "       'value': 0.8175122},\n",
       "      {'app_id': None,\n",
       "       'id': 'ai_n9vjC1jB',\n",
       "       'name': 'light',\n",
       "       'value': 0.79074514},\n",
       "      {'app_id': None,\n",
       "       'id': 'ai_HpvT5hjp',\n",
       "       'name': 'door',\n",
       "       'value': 0.784997}]},\n",
       "    'id': 'b89f9f9ddc3e4f0ea56880c6b3ccb884',\n",
       "    'input': {'data': {'image': {'url': 'http://scontent.cdninstagram.com/t51.2885-15/s480x480/e35/c0.30.1080.1080/17127161_387746678258578_8246530451783548928_n.jpg?ig_cache_key=MTQ2OTY1OTYxNDQyNDQ2ODI5NQ%3D%3D.2.c'}},\n",
       "     'id': 'ee2179f7d1bf45da81cda419ca89a5a5'},\n",
       "    'model': {'app_id': None,\n",
       "     'created_at': '2016-03-09T17:11:39.608845Z',\n",
       "     'id': 'aaa03c23b3724a16a56b629203edc62c',\n",
       "     'model_version': {'created_at': '2016-07-13T01:19:12.147644Z',\n",
       "      'id': 'aa9ca48295b37401f8af92ad1af0d91d',\n",
       "      'status': {'code': 21100, 'description': 'Model trained successfully'}},\n",
       "     'name': 'general-v1.3',\n",
       "     'output_info': {'message': 'Show output_info with: GET /models/{model_id}/output_info',\n",
       "      'type': 'concept',\n",
       "      'type_ext': 'concept'}},\n",
       "    'status': {'code': 10000, 'description': 'Ok'}}],\n",
       "  'status': {'code': 10000, 'description': 'Ok'}},\n",
       " {'outputs': [{'created_at': '2017-03-23T22:02:46.144811Z',\n",
       "    'data': {'concepts': [{'app_id': None,\n",
       "       'id': 'ai_Pf2b7clG',\n",
       "       'name': 'indoors',\n",
       "       'value': 0.99514896},\n",
       "      {'app_id': None,\n",
       "       'id': 'ai_HNm8zX85',\n",
       "       'name': 'wardrobe',\n",
       "       'value': 0.99216014},\n",
       "      {'app_id': None,\n",
       "       'id': 'ai_pPxqdnP5',\n",
       "       'name': 'room',\n",
       "       'value': 0.99188215},\n",
       "      {'app_id': None,\n",
       "       'id': 'ai_lWJnj5XV',\n",
       "       'name': 'interior design',\n",
       "       'value': 0.98960054},\n",
       "      {'app_id': None,\n",
       "       'id': 'ai_c9n7SB25',\n",
       "       'name': 'furniture',\n",
       "       'value': 0.987658},\n",
       "      {'app_id': None,\n",
       "       'id': 'ai_j09mzT6j',\n",
       "       'name': 'family',\n",
       "       'value': 0.98384976},\n",
       "      {'app_id': None,\n",
       "       'id': 'ai_pCnxWJZh',\n",
       "       'name': 'contemporary',\n",
       "       'value': 0.98302436},\n",
       "      {'app_id': None,\n",
       "       'id': 'ai_D5KjgBR3',\n",
       "       'name': 'mirror',\n",
       "       'value': 0.98062706},\n",
       "      {'app_id': None,\n",
       "       'id': 'ai_FXxZs1wp',\n",
       "       'name': 'shelf',\n",
       "       'value': 0.9706558},\n",
       "      {'app_id': None,\n",
       "       'id': 'ai_9Dcdh0PK',\n",
       "       'name': 'house',\n",
       "       'value': 0.96856964},\n",
       "      {'app_id': None,\n",
       "       'id': 'ai_VTlCx2f2',\n",
       "       'name': 'window',\n",
       "       'value': 0.96421385},\n",
       "      {'app_id': None,\n",
       "       'id': 'ai_x3vjxJsW',\n",
       "       'name': 'home',\n",
       "       'value': 0.94697726},\n",
       "      {'app_id': None,\n",
       "       'id': 'ai_NjxMQzm9',\n",
       "       'name': 'cabinet',\n",
       "       'value': 0.94463027},\n",
       "      {'app_id': None,\n",
       "       'id': 'ai_786Zr311',\n",
       "       'name': 'no person',\n",
       "       'value': 0.942125},\n",
       "      {'app_id': None,\n",
       "       'id': 'ai_TXJ61ckM',\n",
       "       'name': 'lamp',\n",
       "       'value': 0.9400066},\n",
       "      {'app_id': None,\n",
       "       'id': 'ai_HpvT5hjp',\n",
       "       'name': 'door',\n",
       "       'value': 0.9396636},\n",
       "      {'app_id': None,\n",
       "       'id': 'ai_dVLMDgsX',\n",
       "       'name': 'cupboard',\n",
       "       'value': 0.92062783},\n",
       "      {'app_id': None,\n",
       "       'id': 'ai_bJt1PfQ5',\n",
       "       'name': 'bedroom',\n",
       "       'value': 0.91824114},\n",
       "      {'app_id': None,\n",
       "       'id': 'ai_zFnPQdgB',\n",
       "       'name': 'wood',\n",
       "       'value': 0.9034716},\n",
       "      {'app_id': None,\n",
       "       'id': 'ai_7Xg5SQRW',\n",
       "       'name': 'luxury',\n",
       "       'value': 0.88926244}]},\n",
       "    'id': 'eac71c185e6c457da407d0cc9f689c32',\n",
       "    'input': {'data': {'image': {'url': 'http://scontent.cdninstagram.com/t51.2885-15/s480x480/e35/c0.12.1080.1080/17333120_1303318153109410_3732173473229832192_n.jpg?ig_cache_key=MTQ3MTE5NTQ0MTk5ODgzMTk4NQ%3D%3D.2.c'}},\n",
       "     'id': 'd7f072532e0644cfb2dc94e2318df09f'},\n",
       "    'model': {'app_id': None,\n",
       "     'created_at': '2016-03-09T17:11:39.608845Z',\n",
       "     'id': 'aaa03c23b3724a16a56b629203edc62c',\n",
       "     'model_version': {'created_at': '2016-07-13T01:19:12.147644Z',\n",
       "      'id': 'aa9ca48295b37401f8af92ad1af0d91d',\n",
       "      'status': {'code': 21100, 'description': 'Model trained successfully'}},\n",
       "     'name': 'general-v1.3',\n",
       "     'output_info': {'message': 'Show output_info with: GET /models/{model_id}/output_info',\n",
       "      'type': 'concept',\n",
       "      'type_ext': 'concept'}},\n",
       "    'status': {'code': 10000, 'description': 'Ok'}}],\n",
       "  'status': {'code': 10000, 'description': 'Ok'}}]"
      ]
     },
     "execution_count": 72,
     "metadata": {},
     "output_type": "execute_result"
    }
   ],
   "source": [
    "monster_jsons"
   ]
  },
  {
   "cell_type": "code",
   "execution_count": 76,
   "metadata": {
    "collapsed": false
   },
   "outputs": [],
   "source": [
    "# print(Max_clar)\n",
    "def getClarifai(photos):\n",
    "    photo_data = []\n",
    "    for photo in photos:\n",
    "        photo1= []\n",
    "        photo1.append(photo['outputs'][0]['input']['data']['image']['url'])\n",
    "        labels = len(photo['outputs'][0]['data']['concepts'])\n",
    "\n",
    "        test_image = []\n",
    "        test_probs = []\n",
    "        for i in range(labels):\n",
    "            test_image.append(photo['outputs'][0]['data']['concepts'][i]['name'])\n",
    "            test_probs.append(photo['outputs'][0]['data']['concepts'][i]['value'])\n",
    "        # photo1 = photo1.append(url)\n",
    "        photo1.append(test_image)\n",
    "        photo1.append(test_probs)\n",
    "        photo_data.append(photo1)\n",
    "    return photo_data"
   ]
  },
  {
   "cell_type": "code",
   "execution_count": 77,
   "metadata": {
    "collapsed": false
   },
   "outputs": [],
   "source": [
    "monster_tags = getClarifai(monster_jsons)"
   ]
  },
  {
   "cell_type": "code",
   "execution_count": 81,
   "metadata": {
    "collapsed": false
   },
   "outputs": [
    {
     "data": {
      "text/html": [
       "<div>\n",
       "<table border=\"1\" class=\"dataframe\">\n",
       "  <thead>\n",
       "    <tr style=\"text-align: right;\">\n",
       "      <th></th>\n",
       "      <th>0</th>\n",
       "      <th>1</th>\n",
       "      <th>2</th>\n",
       "    </tr>\n",
       "  </thead>\n",
       "  <tbody>\n",
       "    <tr>\n",
       "      <th>0</th>\n",
       "      <td>http://scontent.cdninstagram.com/t51.2885-15/s...</td>\n",
       "      <td>[cat, portrait, street, no person, window, one...</td>\n",
       "      <td>[0.98392177, 0.9667102, 0.9587493, 0.95274514,...</td>\n",
       "    </tr>\n",
       "    <tr>\n",
       "      <th>1</th>\n",
       "      <td>http://scontent.cdninstagram.com/t51.2885-15/s...</td>\n",
       "      <td>[indoors, wardrobe, room, interior design, fur...</td>\n",
       "      <td>[0.99514896, 0.99216014, 0.99188215, 0.9896005...</td>\n",
       "    </tr>\n",
       "  </tbody>\n",
       "</table>\n",
       "</div>"
      ],
      "text/plain": [
       "                                                   0  \\\n",
       "0  http://scontent.cdninstagram.com/t51.2885-15/s...   \n",
       "1  http://scontent.cdninstagram.com/t51.2885-15/s...   \n",
       "\n",
       "                                                   1  \\\n",
       "0  [cat, portrait, street, no person, window, one...   \n",
       "1  [indoors, wardrobe, room, interior design, fur...   \n",
       "\n",
       "                                                   2  \n",
       "0  [0.98392177, 0.9667102, 0.9587493, 0.95274514,...  \n",
       "1  [0.99514896, 0.99216014, 0.99188215, 0.9896005...  "
      ]
     },
     "execution_count": 81,
     "metadata": {},
     "output_type": "execute_result"
    }
   ],
   "source": [
    "pd.DataFrame(monster_tags)"
   ]
  },
  {
   "cell_type": "code",
   "execution_count": 29,
   "metadata": {
    "collapsed": true
   },
   "outputs": [],
   "source": [
    "Max_clar = model.predict_by_url(url='http://i.imgur.com/YKDmneL.jpg')"
   ]
  },
  {
   "cell_type": "code",
   "execution_count": 50,
   "metadata": {
    "collapsed": true
   },
   "outputs": [],
   "source": [
    "Max_clar2 = Max_clar\n",
    "Max_clar3 = Max_clar\n",
    "Max_clar4 = Max_clar\n",
    "photos = [Max_clar,Max_clar2,Max_clar3,Max_clar4]"
   ]
  },
  {
   "cell_type": "code",
   "execution_count": null,
   "metadata": {
    "collapsed": true
   },
   "outputs": [],
   "source": []
  },
  {
   "cell_type": "code",
   "execution_count": 55,
   "metadata": {
    "collapsed": false
   },
   "outputs": [
    {
     "data": {
      "text/plain": [
       "['http://i.imgur.com/YKDmneL.jpg',\n",
       " ['dog',\n",
       "  'canine',\n",
       "  'mammal',\n",
       "  'portrait',\n",
       "  'cute',\n",
       "  'spitz',\n",
       "  'pet',\n",
       "  'no person',\n",
       "  'animal',\n",
       "  'domestic',\n",
       "  'fur',\n",
       "  'wolf',\n",
       "  'downy',\n",
       "  'puppy',\n",
       "  'eye',\n",
       "  'looking',\n",
       "  'Eskimo',\n",
       "  'one',\n",
       "  'winter',\n",
       "  'nature'],\n",
       " [0.9964138,\n",
       "  0.98913544,\n",
       "  0.9860722,\n",
       "  0.9856523,\n",
       "  0.9689415,\n",
       "  0.96882594,\n",
       "  0.96867037,\n",
       "  0.9658064,\n",
       "  0.95164734,\n",
       "  0.94849914,\n",
       "  0.94168454,\n",
       "  0.92969847,\n",
       "  0.91736054,\n",
       "  0.91123843,\n",
       "  0.90225863,\n",
       "  0.9012482,\n",
       "  0.8966108,\n",
       "  0.88182306,\n",
       "  0.8798182,\n",
       "  0.86868906]]"
      ]
     },
     "execution_count": 55,
     "metadata": {},
     "output_type": "execute_result"
    }
   ],
   "source": [
    "photo_data[3]"
   ]
  },
  {
   "cell_type": "code",
   "execution_count": null,
   "metadata": {
    "collapsed": true
   },
   "outputs": [],
   "source": [
    "def getConcepts(row, df):\n",
    "    names = []\n",
    "    \n",
    "    df['outputs'][0]['data']['concepts'][row]['name']\n",
    "    df['outputs'][0]['data']['concepts'][row]['value']"
   ]
  }
 ],
 "metadata": {
  "anaconda-cloud": {},
  "kernelspec": {
   "display_name": "Python [default]",
   "language": "python",
   "name": "python3"
  },
  "language_info": {
   "codemirror_mode": {
    "name": "ipython",
    "version": 3
   },
   "file_extension": ".py",
   "mimetype": "text/x-python",
   "name": "python",
   "nbconvert_exporter": "python",
   "pygments_lexer": "ipython3",
   "version": "3.5.2"
  }
 },
 "nbformat": 4,
 "nbformat_minor": 1
}
