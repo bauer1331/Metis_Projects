{
 "cells": [
  {
   "cell_type": "code",
   "execution_count": 2,
   "metadata": {
    "collapsed": true
   },
   "outputs": [],
   "source": [
    "CLARIFAI_APP_ID = 'WccjqUqnZbYVyu-ELrIAh_L2Q0C-pLJANBgqPX6F'\n",
    "CLARIFAI_APP_SECRET = 'pugwSTobCeS19O1y6YSfabeH35e5dEHjs2_kA0uH'\n",
    "access_token = 'HzodZ0vUXXwECwoIgLy8JlXi4WFH2x'"
   ]
  },
  {
   "cell_type": "code",
   "execution_count": 3,
   "metadata": {
    "collapsed": true
   },
   "outputs": [],
   "source": [
    "from clarifai.rest import ClarifaiApp\n",
    "      "
   ]
  },
  {
   "cell_type": "code",
   "execution_count": null,
   "metadata": {
    "collapsed": true
   },
   "outputs": [],
   "source": [
    "app = ClarifaiApp(CLARIFAI_APP_ID, CLARIFAI_APP_SECRET)\n",
    "      \n",
    "      # get the general model\n",
    "model = app.models.get(\"general-v1.3\")"
   ]
  },
  {
   "cell_type": "code",
   "execution_count": 6,
   "metadata": {
    "collapsed": false
   },
   "outputs": [],
   "source": [
    "# predict with the model\n",
    "snoop1 = model.predict_by_url(url='http://scontent.cdninstagram.com/t51.2885-15/s480x480/e35/17333449_1263981713687446_4909822100992163840_n.jpg?ig_cache_key=MTQ3MzQwMDI4MDUxNDkwMjA1Mw%3D%3D.2')"
   ]
  },
  {
   "cell_type": "code",
   "execution_count": 7,
   "metadata": {
    "collapsed": false
   },
   "outputs": [
    {
     "name": "stdout",
     "output_type": "stream",
     "text": [
      "{'outputs': [{'data': {'concepts': [{'name': 'no person', 'id': 'ai_786Zr311', 'app_id': None, 'value': 0.98470926}, {'name': 'sea', 'id': 'ai_7bRKqWjp', 'app_id': None, 'value': 0.9824984}, {'name': 'water', 'id': 'ai_BlL0wSQh', 'app_id': None, 'value': 0.98079145}, {'name': 'travel', 'id': 'ai_VRmbGVWh', 'app_id': None, 'value': 0.9801388}, {'name': 'window', 'id': 'ai_VTlCx2f2', 'app_id': None, 'value': 0.97443926}, {'name': 'architecture', 'id': 'ai_FWCjC8jZ', 'app_id': None, 'value': 0.9650763}, {'name': 'house', 'id': 'ai_9Dcdh0PK', 'app_id': None, 'value': 0.9634593}, {'name': 'beach', 'id': 'ai_J1hw9SFJ', 'app_id': None, 'value': 0.9633857}, {'name': 'ocean', 'id': 'ai_xZgtf58b', 'app_id': None, 'value': 0.9594252}, {'name': 'sky', 'id': 'ai_lNsKfmXb', 'app_id': None, 'value': 0.9453717}, {'name': 'seashore', 'id': 'ai_jWFxtpH1', 'app_id': None, 'value': 0.9445181}, {'name': 'building', 'id': 'ai_rsX6XWc2', 'app_id': None, 'value': 0.9439657}, {'name': 'landscape', 'id': 'ai_MTvKbKJv', 'app_id': None, 'value': 0.9380209}, {'name': 'daylight', 'id': 'ai_ZrPNDjxN', 'app_id': None, 'value': 0.9329268}, {'name': 'light', 'id': 'ai_n9vjC1jB', 'app_id': None, 'value': 0.93158925}, {'name': 'wood', 'id': 'ai_zFnPQdgB', 'app_id': None, 'value': 0.9299711}, {'name': 'reflection', 'id': 'ai_mlrv94tv', 'app_id': None, 'value': 0.9297147}, {'name': 'outdoors', 'id': 'ai_Zmhsv0Ch', 'app_id': None, 'value': 0.9291836}, {'name': 'vacation', 'id': 'ai_1W3Gfjzg', 'app_id': None, 'value': 0.89454436}, {'name': 'family', 'id': 'ai_j09mzT6j', 'app_id': None, 'value': 0.89172375}]}, 'created_at': '2017-03-19T14:40:29.377237Z', 'status': {'code': 10000, 'description': 'Ok'}, 'id': 'ee2c932cb1bf4c8eb0c0f10456e3f885', 'model': {'name': 'general-v1.3', 'model_version': {'created_at': '2016-07-13T01:19:12.147644Z', 'id': 'aa9ca48295b37401f8af92ad1af0d91d', 'status': {'code': 21100, 'description': 'Model trained successfully'}}, 'app_id': None, 'created_at': '2016-03-09T17:11:39.608845Z', 'output_info': {'message': 'Show output_info with: GET /models/{model_id}/output_info', 'type_ext': 'concept', 'type': 'concept'}, 'id': 'aaa03c23b3724a16a56b629203edc62c'}, 'input': {'id': 'dfac224798d24f2e9817a08beb44b723', 'data': {'image': {'url': 'http://scontent.cdninstagram.com/t51.2885-15/s480x480/e35/17333633_611799665680990_7119990448784932864_n.jpg?ig_cache_key=MTQ3MjI2NDgyNDcwNzk0NDg3Ng%3D%3D.2'}}}}], 'status': {'code': 10000, 'description': 'Ok'}}\n"
     ]
    }
   ],
   "source": [
    "nora1 = model.predict_by_url(url='http://scontent.cdninstagram.com/t51.2885-15/s480x480/e35/17333633_611799665680990_7119990448784932864_n.jpg?ig_cache_key=MTQ3MjI2NDgyNDcwNzk0NDg3Ng%3D%3D.2')\n",
    "print(nora1)"
   ]
  },
  {
   "cell_type": "code",
   "execution_count": 38,
   "metadata": {
    "collapsed": false
   },
   "outputs": [
    {
     "name": "stdout",
     "output_type": "stream",
     "text": [
      "sea\n",
      "0.9824984\n",
      "http://scontent.cdninstagram.com/t51.2885-15/s480x480/e35/17333633_611799665680990_7119990448784932864_n.jpg?ig_cache_key=MTQ3MjI2NDgyNDcwNzk0NDg3Ng%3D%3D.2\n"
     ]
    }
   ],
   "source": [
    "# print(nora1['outputs'][0]['created_at'])\n",
    "print(nora1['outputs'][0]['data']['concepts'][1]['name'])\n",
    "print(nora1['outputs'][0]['data']['concepts'][1]['value'])\n",
    "print(nora1['outputs'][0]['input']['data']['image']['url'])"
   ]
  },
  {
   "cell_type": "code",
   "execution_count": null,
   "metadata": {
    "collapsed": true
   },
   "outputs": [],
   "source": [
    "\n",
    "def getConcepts(row, df):\n",
    "    names = []\n",
    "    \n",
    "    df['outputs'][0]['data']['concepts'][row]['name']\n",
    "    df['outputs'][0]['data']['concepts'][row]['value']\n",
    "    "
   ]
  },
  {
   "cell_type": "code",
   "execution_count": 8,
   "metadata": {
    "collapsed": false
   },
   "outputs": [
    {
     "data": {
      "text/plain": [
       "{'outputs': [{'created_at': '2017-03-19T14:42:24.688695Z',\n",
       "   'data': {'concepts': [{'app_id': None,\n",
       "      'id': 'ai_786Zr311',\n",
       "      'name': 'no person',\n",
       "      'value': 0.98470926},\n",
       "     {'app_id': None, 'id': 'ai_7bRKqWjp', 'name': 'sea', 'value': 0.9824984},\n",
       "     {'app_id': None,\n",
       "      'id': 'ai_BlL0wSQh',\n",
       "      'name': 'water',\n",
       "      'value': 0.98079145},\n",
       "     {'app_id': None,\n",
       "      'id': 'ai_VRmbGVWh',\n",
       "      'name': 'travel',\n",
       "      'value': 0.9801388},\n",
       "     {'app_id': None,\n",
       "      'id': 'ai_VTlCx2f2',\n",
       "      'name': 'window',\n",
       "      'value': 0.97443926},\n",
       "     {'app_id': None,\n",
       "      'id': 'ai_FWCjC8jZ',\n",
       "      'name': 'architecture',\n",
       "      'value': 0.9650763},\n",
       "     {'app_id': None,\n",
       "      'id': 'ai_9Dcdh0PK',\n",
       "      'name': 'house',\n",
       "      'value': 0.9634593},\n",
       "     {'app_id': None,\n",
       "      'id': 'ai_J1hw9SFJ',\n",
       "      'name': 'beach',\n",
       "      'value': 0.9633857},\n",
       "     {'app_id': None,\n",
       "      'id': 'ai_xZgtf58b',\n",
       "      'name': 'ocean',\n",
       "      'value': 0.9594252},\n",
       "     {'app_id': None, 'id': 'ai_lNsKfmXb', 'name': 'sky', 'value': 0.9453717},\n",
       "     {'app_id': None,\n",
       "      'id': 'ai_jWFxtpH1',\n",
       "      'name': 'seashore',\n",
       "      'value': 0.9445181},\n",
       "     {'app_id': None,\n",
       "      'id': 'ai_rsX6XWc2',\n",
       "      'name': 'building',\n",
       "      'value': 0.9439657},\n",
       "     {'app_id': None,\n",
       "      'id': 'ai_MTvKbKJv',\n",
       "      'name': 'landscape',\n",
       "      'value': 0.9380209},\n",
       "     {'app_id': None,\n",
       "      'id': 'ai_ZrPNDjxN',\n",
       "      'name': 'daylight',\n",
       "      'value': 0.9329268},\n",
       "     {'app_id': None,\n",
       "      'id': 'ai_n9vjC1jB',\n",
       "      'name': 'light',\n",
       "      'value': 0.93158925},\n",
       "     {'app_id': None, 'id': 'ai_zFnPQdgB', 'name': 'wood', 'value': 0.9299711},\n",
       "     {'app_id': None,\n",
       "      'id': 'ai_mlrv94tv',\n",
       "      'name': 'reflection',\n",
       "      'value': 0.9297147},\n",
       "     {'app_id': None,\n",
       "      'id': 'ai_Zmhsv0Ch',\n",
       "      'name': 'outdoors',\n",
       "      'value': 0.9291836},\n",
       "     {'app_id': None,\n",
       "      'id': 'ai_1W3Gfjzg',\n",
       "      'name': 'vacation',\n",
       "      'value': 0.89454436},\n",
       "     {'app_id': None,\n",
       "      'id': 'ai_j09mzT6j',\n",
       "      'name': 'family',\n",
       "      'value': 0.89172375}]},\n",
       "   'id': 'd254427b95684d1194e69f5675b9f731',\n",
       "   'input': {'data': {'image': {'url': 'http://scontent.cdninstagram.com/t51.2885-15/s480x480/e35/17333633_611799665680990_7119990448784932864_n.jpg?ig_cache_key=MTQ3MjI2NDgyNDcwNzk0NDg3Ng%3D%3D.2'}},\n",
       "    'id': 'c5d6600411b040a9985e67fbdf16c5fe'},\n",
       "   'model': {'app_id': None,\n",
       "    'created_at': '2016-03-09T17:11:39.608845Z',\n",
       "    'id': 'aaa03c23b3724a16a56b629203edc62c',\n",
       "    'model_version': {'created_at': '2016-07-13T01:19:12.147644Z',\n",
       "     'id': 'aa9ca48295b37401f8af92ad1af0d91d',\n",
       "     'status': {'code': 21100, 'description': 'Model trained successfully'}},\n",
       "    'name': 'general-v1.3',\n",
       "    'output_info': {'message': 'Show output_info with: GET /models/{model_id}/output_info',\n",
       "     'type': 'concept',\n",
       "     'type_ext': 'concept'}},\n",
       "   'status': {'code': 10000, 'description': 'Ok'}}],\n",
       " 'status': {'code': 10000, 'description': 'Ok'}}"
      ]
     },
     "execution_count": 8,
     "metadata": {},
     "output_type": "execute_result"
    }
   ],
   "source": [
    "model.predict_by_url(url='http://scontent.cdninstagram.com/t51.2885-15/s480x480/e35/17333633_611799665680990_7119990448784932864_n.jpg?ig_cache_key=MTQ3MjI2NDgyNDcwNzk0NDg3Ng%3D%3D.2')"
   ]
  },
  {
   "cell_type": "code",
   "execution_count": null,
   "metadata": {
    "collapsed": false
   },
   "outputs": [],
   "source": [
    "from keras.models import Sequential\n",
    "from keras.layers import Convolution2D, Conv2D, MaxPooling2D, Dense, Flatten, Activation, Dropout, ZeroPadding2D\n",
    "from keras.preprocessing.image import ImageDataGenerator\n",
    "from keras import backend as k\n",
    "k.set_image_dim_ordering('th')"
   ]
  },
  {
   "cell_type": "code",
   "execution_count": null,
   "metadata": {
    "collapsed": false
   },
   "outputs": [],
   "source": [
    "model = Sequential()\n",
    "model.add(ZeroPadding2D((1,1), input_shape=(3,256,256)))\n",
    "model.add(Convolution2D(32, (3, 3)))\n",
    "model.add(Activation('relu'))\n",
    "model.add(MaxPooling2D(pool_size=(2, 2)))\n",
    "\n",
    "model.add(Conv2D(32, (3, 3)))\n",
    "model.add(Activation('relu'))\n",
    "model.add(MaxPooling2D(pool_size=(2, 2)))\n",
    "\n",
    "model.add(Conv2D(512, (3, 3)))\n",
    "model.add(Activation('relu'))\n",
    "model.add(MaxPooling2D(pool_size=(2, 2), strides=(2,2)))\n",
    "\n",
    "# the model so far outputs 3D feature maps (height, width, features)\n",
    "\n",
    "model.add(Flatten())  # this converts our 3D feature maps to 1D feature vectors\n",
    "model.add(Dense(4096))\n",
    "model.add(Activation('relu'))\n",
    "model.add(Dropout(0.5))\n",
    "model.add(Dense(3))\n",
    "model.add(Activation('softmax'))"
   ]
  },
  {
   "cell_type": "code",
   "execution_count": null,
   "metadata": {
    "collapsed": true
   },
   "outputs": [],
   "source": [
    "model.compile(loss='categorical_crossentropy',\n",
    "              optimizer='rmsprop',\n",
    "              metrics=['accuracy'])"
   ]
  },
  {
   "cell_type": "code",
   "execution_count": null,
   "metadata": {
    "collapsed": true
   },
   "outputs": [],
   "source": [
    "batch_size = 17\n",
    "num_classes = 3\n",
    "epochs = 200\n",
    "data_augmentation = True\n",
    "\n",
    "# this is the augmentation configuration we will use for training\n",
    "train_datagen = ImageDataGenerator(\n",
    "        rescale=1./255,\n",
    "        shear_range=0.2,\n",
    "        zoom_range=0.2,\n",
    "        horizontal_flip=True)\n",
    "\n",
    "# only rescaling for testing\n",
    "test_datagen = ImageDataGenerator(rescale=1./255)\n",
    "\n",
    "\n",
    "train_generator = train_datagen.flow_from_directory(\n",
    "        '../NoraDanish/train',  # this is the target directory\n",
    "#         target_size=(150, 150),  # all images will be resized to 150x150\n",
    "        batch_size=batch_size,\n",
    "        class_mode='categorical')  # since we use binary_crossentropy loss, we need binary labels\n",
    "\n",
    "# this is a similar generator, for validation data\n",
    "validation_generator = test_datagen.flow_from_directory(\n",
    "        '../NoraDanish/validation',\n",
    "#         target_size=(150, 150),\n",
    "        batch_size=batch_size,\n",
    "        class_mode='categorical')\n"
   ]
  },
  {
   "cell_type": "code",
   "execution_count": null,
   "metadata": {
    "collapsed": true
   },
   "outputs": [],
   "source": [
    "model.fit_generator(\n",
    "        train_generator,\n",
    "        samples_per_epoch=2000 // batch_size,\n",
    "        nb_epoch=50,\n",
    "        validation_data=validation_generator,\n",
    "        nb_val_samples=800//batch_size)\n",
    "model.save_weights('nora_weights.h5')  # always save your weights after training or during training"
   ]
  }
 ],
 "metadata": {
  "kernelspec": {
   "display_name": "Python [default]",
   "language": "python",
   "name": "python3"
  },
  "language_info": {
   "codemirror_mode": {
    "name": "ipython",
    "version": 3
   },
   "file_extension": ".py",
   "mimetype": "text/x-python",
   "name": "python",
   "nbconvert_exporter": "python",
   "pygments_lexer": "ipython3",
   "version": "3.5.2"
  }
 },
 "nbformat": 4,
 "nbformat_minor": 1
}
