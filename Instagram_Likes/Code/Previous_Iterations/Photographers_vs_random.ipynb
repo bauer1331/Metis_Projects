{
 "cells": [
  {
   "cell_type": "code",
   "execution_count": 43,
   "metadata": {
    "collapsed": true
   },
   "outputs": [],
   "source": [
    "import pandas as pd\n",
    "import numpy as np\n",
    "from glob import glob\n",
    "import random\n",
    "from PIL import Image \n",
    "from time import time"
   ]
  },
  {
   "cell_type": "code",
   "execution_count": 32,
   "metadata": {
    "collapsed": true
   },
   "outputs": [],
   "source": [
    "meta_data = pd.read_csv('../../../local_files/Projects/Instagram_Likes_Local/data/meta_data.csv')"
   ]
  },
  {
   "cell_type": "code",
   "execution_count": 38,
   "metadata": {
    "collapsed": false
   },
   "outputs": [
    {
     "data": {
      "text/html": [
       "<div>\n",
       "<table border=\"1\" class=\"dataframe\">\n",
       "  <thead>\n",
       "    <tr style=\"text-align: right;\">\n",
       "      <th></th>\n",
       "      <th>caption</th>\n",
       "      <th>comments</th>\n",
       "      <th>image_urls</th>\n",
       "      <th>likes</th>\n",
       "      <th>pro</th>\n",
       "      <th>user_url</th>\n",
       "      <th>username</th>\n",
       "      <th>insta_id</th>\n",
       "      <th>is_verified</th>\n",
       "      <th>following</th>\n",
       "      <th>full_name</th>\n",
       "      <th>followers</th>\n",
       "      <th>posts</th>\n",
       "      <th>pic_path</th>\n",
       "      <th>checksum</th>\n",
       "      <th>rating</th>\n",
       "    </tr>\n",
       "  </thead>\n",
       "  <tbody>\n",
       "    <tr>\n",
       "      <th>0</th>\n",
       "      <td>{ Timeless Beauty } • Breathtaking place to fe...</td>\n",
       "      <td>196.0</td>\n",
       "      <td>http://scontent.cdninstagram.com/t51.2885-15/s...</td>\n",
       "      <td>25518.0</td>\n",
       "      <td>1.0</td>\n",
       "      <td>http://www.imgrum.org/user/brahmino/1918184</td>\n",
       "      <td>brahmino</td>\n",
       "      <td>1918184.0</td>\n",
       "      <td>False</td>\n",
       "      <td>341.0</td>\n",
       "      <td>Simone Bramante</td>\n",
       "      <td>830765.0</td>\n",
       "      <td>1194.0</td>\n",
       "      <td>2299079fa299a4b2ad784ebe588243865f45791c.jpg</td>\n",
       "      <td>6d382a79e19ef8eef973b715d63180aa</td>\n",
       "      <td>0</td>\n",
       "    </tr>\n",
       "    <tr>\n",
       "      <th>1</th>\n",
       "      <td>{ Golden Morning } • Happy to wake up early an...</td>\n",
       "      <td>298.0</td>\n",
       "      <td>http://scontent.cdninstagram.com/t51.2885-15/s...</td>\n",
       "      <td>28436.0</td>\n",
       "      <td>1.0</td>\n",
       "      <td>http://www.imgrum.org/user/brahmino/1918184</td>\n",
       "      <td>brahmino</td>\n",
       "      <td>1918184.0</td>\n",
       "      <td>False</td>\n",
       "      <td>341.0</td>\n",
       "      <td>Simone Bramante</td>\n",
       "      <td>830765.0</td>\n",
       "      <td>1194.0</td>\n",
       "      <td>d92fc8d70b8e71fa9ea53ced58dcd2db3cbe95db.jpg</td>\n",
       "      <td>3757b15a6fe424b2c543f07e48d87d60</td>\n",
       "      <td>0</td>\n",
       "    </tr>\n",
       "  </tbody>\n",
       "</table>\n",
       "</div>"
      ],
      "text/plain": [
       "                                             caption  comments  \\\n",
       "0  { Timeless Beauty } • Breathtaking place to fe...     196.0   \n",
       "1  { Golden Morning } • Happy to wake up early an...     298.0   \n",
       "\n",
       "                                          image_urls    likes  pro  \\\n",
       "0  http://scontent.cdninstagram.com/t51.2885-15/s...  25518.0  1.0   \n",
       "1  http://scontent.cdninstagram.com/t51.2885-15/s...  28436.0  1.0   \n",
       "\n",
       "                                      user_url  username   insta_id  \\\n",
       "0  http://www.imgrum.org/user/brahmino/1918184  brahmino  1918184.0   \n",
       "1  http://www.imgrum.org/user/brahmino/1918184  brahmino  1918184.0   \n",
       "\n",
       "  is_verified  following        full_name  followers   posts  \\\n",
       "0       False      341.0  Simone Bramante   830765.0  1194.0   \n",
       "1       False      341.0  Simone Bramante   830765.0  1194.0   \n",
       "\n",
       "                                       pic_path  \\\n",
       "0  2299079fa299a4b2ad784ebe588243865f45791c.jpg   \n",
       "1  d92fc8d70b8e71fa9ea53ced58dcd2db3cbe95db.jpg   \n",
       "\n",
       "                           checksum  rating  \n",
       "0  6d382a79e19ef8eef973b715d63180aa       0  \n",
       "1  3757b15a6fe424b2c543f07e48d87d60       0  "
      ]
     },
     "execution_count": 38,
     "metadata": {},
     "output_type": "execute_result"
    }
   ],
   "source": [
    "meta_data = meta_data[meta_data['username'].notnull()]\n",
    "usernames = meta_data.username.unique()\n",
    "meta_data['rating'] = 0\n",
    "meta_data.head(2)"
   ]
  },
  {
   "cell_type": "code",
   "execution_count": 39,
   "metadata": {
    "collapsed": true
   },
   "outputs": [],
   "source": [
    "def getRating(username, df):\n",
    "    df = df[df['username']==username]\n",
    "    ind = df.index.values\n",
    "    df = df.likes.values\n",
    "    increments = int(len(df)*.025)\n",
    "    ratings = []\n",
    "    for i in range(len(df)): \n",
    "        start = max(0, i-increments)\n",
    "        end = min(len(df)-1, i+increments)\n",
    "        mean = np.mean(df[start:end])\n",
    "        std = np.std(df[start:end])\n",
    "        if df[i]>=(mean + std*.3):\n",
    "            ratings.append(1)\n",
    "        elif df[i]<=(mean - std*.5):\n",
    "            ratings.append(0)\n",
    "        else:\n",
    "            ratings.append(-1)\n",
    "        zipped = list(zip(ind,ratings))\n",
    "        rate = pd.DataFrame(zipped,columns=['ind', 'updated_rating'])\n",
    "        rate.set_index(['ind'], inplace=True)\n",
    "    return rate"
   ]
  },
  {
   "cell_type": "code",
   "execution_count": 45,
   "metadata": {
    "collapsed": true
   },
   "outputs": [],
   "source": [
    "def ratePhotos(usernames, df):\n",
    "    t0 = time()\n",
    "    for i in usernames:\n",
    "        new_rated = getRating(i, df)\n",
    "        df.rating.update(new_rated.updated_rating)\n",
    "    print(\"done in %0.3fs.\" % (time() - t0))\n",
    "    return df"
   ]
  },
  {
   "cell_type": "code",
   "execution_count": 46,
   "metadata": {
    "collapsed": false
   },
   "outputs": [
    {
     "data": {
      "text/plain": [
       "0    160381\n",
       "Name: rating, dtype: int64"
      ]
     },
     "execution_count": 46,
     "metadata": {},
     "output_type": "execute_result"
    }
   ],
   "source": [
    "meta_data.rating.value_counts()"
   ]
  },
  {
   "cell_type": "code",
   "execution_count": 47,
   "metadata": {
    "collapsed": false
   },
   "outputs": [
    {
     "name": "stderr",
     "output_type": "stream",
     "text": [
      "/Users/bauer/anaconda3/lib/python3.5/site-packages/numpy/core/fromnumeric.py:2889: RuntimeWarning: Mean of empty slice.\n",
      "  out=out, **kwargs)\n",
      "/Users/bauer/anaconda3/lib/python3.5/site-packages/numpy/core/_methods.py:80: RuntimeWarning: invalid value encountered in double_scalars\n",
      "  ret = ret.dtype.type(ret / rcount)\n",
      "/Users/bauer/anaconda3/lib/python3.5/site-packages/numpy/core/_methods.py:135: RuntimeWarning: Degrees of freedom <= 0 for slice\n",
      "  keepdims=keepdims)\n",
      "/Users/bauer/anaconda3/lib/python3.5/site-packages/numpy/core/_methods.py:105: RuntimeWarning: invalid value encountered in true_divide\n",
      "  arrmean, rcount, out=arrmean, casting='unsafe', subok=False)\n",
      "/Users/bauer/anaconda3/lib/python3.5/site-packages/numpy/core/_methods.py:127: RuntimeWarning: invalid value encountered in double_scalars\n",
      "  ret = ret.dtype.type(ret / rcount)\n"
     ]
    },
    {
     "name": "stdout",
     "output_type": "stream",
     "text": [
      "done in 186.180s.\n"
     ]
    }
   ],
   "source": [
    "meta_data = ratePhotos(usernames, meta_data)"
   ]
  },
  {
   "cell_type": "code",
   "execution_count": 48,
   "metadata": {
    "collapsed": false
   },
   "outputs": [
    {
     "data": {
      "text/plain": [
       "-1    55325\n",
       " 0    54437\n",
       " 1    50619\n",
       "Name: rating, dtype: int64"
      ]
     },
     "execution_count": 48,
     "metadata": {},
     "output_type": "execute_result"
    }
   ],
   "source": [
    "meta_data.rating.value_counts()"
   ]
  },
  {
   "cell_type": "code",
   "execution_count": 55,
   "metadata": {
    "collapsed": false
   },
   "outputs": [],
   "source": [
    "meta_in = glob(\"../../../local_files/Projects/Instagram_Likes_Local/InstaImages/photographers_random/thumbs/big/*.jpg\")\n",
    "meta_out = '../../../local_files/Projects/Instagram_Likes_Local/InstaImages/photographers_random/photo_rand/'"
   ]
  },
  {
   "cell_type": "code",
   "execution_count": 56,
   "metadata": {
    "collapsed": true
   },
   "outputs": [],
   "source": [
    "size = 224, 224\n",
    "\n",
    "def sortPhotos(df, input_path, output_path):\n",
    "    for c in input_path:\n",
    "        img = Image.open(c)\n",
    "        img.thumbnail(size, Image.ANTIALIAS)\n",
    "    #     img = Image.fromarray(img)\n",
    "        rating = df.loc[df['pic_path']==c[-44:]]['rating']\n",
    "        pro = df.loc[df['pic_path']==c[-44:]]['pro']\n",
    "        if (rating+pro == 2).any():\n",
    "            if random.random() > .25:\n",
    "                if random.random() > .25:\n",
    "                    img.save(output_path+'train/photo'+c[-45:])\n",
    "                else: \n",
    "                    img.save(output_path+'validation/rand'+c[-45:])\n",
    "            else:\n",
    "                img.save(output_path+'test/photo'+c[-45:])\n",
    "        elif (rating+pro ==0).any():\n",
    "            if random.random() > .25:\n",
    "                if random.random() > .3:\n",
    "                    img.save(output_path+'train/rand'+c[-45:])\n",
    "                else:\n",
    "                    img.save(output_path+'validation/rand'+c[-45:])\n",
    "            else: \n",
    "                img.save(output_path+'test/rand'+c[-45:])"
   ]
  },
  {
   "cell_type": "code",
   "execution_count": 57,
   "metadata": {
    "collapsed": false
   },
   "outputs": [],
   "source": [
    "sortPhotos(meta_data, meta_in, meta_out)"
   ]
  },
  {
   "cell_type": "code",
   "execution_count": null,
   "metadata": {
    "collapsed": true
   },
   "outputs": [],
   "source": []
  }
 ],
 "metadata": {
  "anaconda-cloud": {},
  "kernelspec": {
   "display_name": "Python [default]",
   "language": "python",
   "name": "python3"
  },
  "language_info": {
   "codemirror_mode": {
    "name": "ipython",
    "version": 3
   },
   "file_extension": ".py",
   "mimetype": "text/x-python",
   "name": "python",
   "nbconvert_exporter": "python",
   "pygments_lexer": "ipython3",
   "version": "3.5.2"
  }
 },
 "nbformat": 4,
 "nbformat_minor": 1
}
