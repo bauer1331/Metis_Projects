{
 "cells": [
  {
   "cell_type": "code",
   "execution_count": 1,
   "metadata": {
    "collapsed": false
   },
   "outputs": [],
   "source": [
    "import pandas as pd\n",
    "import re\n",
    "import json \n",
    "import pickle"
   ]
  },
  {
   "cell_type": "code",
   "execution_count": 2,
   "metadata": {
    "collapsed": false
   },
   "outputs": [],
   "source": [
    "scraping_path = '../../../local_files/Projects/Instagram_Likes_Local/Scraping_Data_files/'\n",
    "data_path = '../../../local_files/Projects/Instagram_Likes_Local/data/'"
   ]
  },
  {
   "cell_type": "code",
   "execution_count": 3,
   "metadata": {
    "collapsed": false
   },
   "outputs": [],
   "source": [
    "with open(scraping_path+\"randomUsers.txt\", \"rt\") as f:\n",
    "    start_urls = [url.strip() for url in f.readlines()]\n",
    "#     print(start_urls)"
   ]
  },
  {
   "cell_type": "code",
   "execution_count": 4,
   "metadata": {
    "collapsed": false
   },
   "outputs": [],
   "source": [
    "df_urls = pd.DataFrame(start_urls)"
   ]
  },
  {
   "cell_type": "code",
   "execution_count": 5,
   "metadata": {
    "collapsed": false
   },
   "outputs": [],
   "source": [
    "df_urls = df_urls.drop_duplicates()"
   ]
  },
  {
   "cell_type": "code",
   "execution_count": 6,
   "metadata": {
    "collapsed": false
   },
   "outputs": [],
   "source": [
    "df_urls.to_csv(r'randUsernames.txt', header=None, index=None, sep=' ', mode='a')"
   ]
  },
  {
   "cell_type": "markdown",
   "metadata": {},
   "source": [
    "## Get Usernames"
   ]
  },
  {
   "cell_type": "code",
   "execution_count": 7,
   "metadata": {
    "collapsed": false
   },
   "outputs": [
    {
     "data": {
      "text/html": [
       "<div>\n",
       "<table border=\"1\" class=\"dataframe\">\n",
       "  <thead>\n",
       "    <tr style=\"text-align: right;\">\n",
       "      <th></th>\n",
       "      <th>caption</th>\n",
       "      <th>comments</th>\n",
       "      <th>image_urls</th>\n",
       "      <th>images</th>\n",
       "      <th>likes</th>\n",
       "      <th>pro</th>\n",
       "      <th>user_url</th>\n",
       "      <th>username</th>\n",
       "    </tr>\n",
       "  </thead>\n",
       "  <tbody>\n",
       "    <tr>\n",
       "      <th>121426</th>\n",
       "      <td>#bonplan #soldes #pimkie @pimkie  ____________...</td>\n",
       "      <td>10.0</td>\n",
       "      <td>http://scontent.cdninstagram.com/t51.2885-15/s...</td>\n",
       "      <td>[{'path': 'full/4432f9d9d6e90ab1147789a67a6694...</td>\n",
       "      <td>192.0</td>\n",
       "      <td>0</td>\n",
       "      <td>http://www.imgrum.org/user/idee2look/300983387</td>\n",
       "      <td>Stephanie (@idee2look)</td>\n",
       "    </tr>\n",
       "    <tr>\n",
       "      <th>121427</th>\n",
       "      <td>Look du jour #idee2look avec manteau #promod 2...</td>\n",
       "      <td>13.0</td>\n",
       "      <td>http://scontent.cdninstagram.com/t51.2885-15/s...</td>\n",
       "      <td>[{'path': 'full/259d398f595d5e19e5f291333b850c...</td>\n",
       "      <td>145.0</td>\n",
       "      <td>0</td>\n",
       "      <td>http://www.imgrum.org/user/idee2look/300983387</td>\n",
       "      <td>Stephanie (@idee2look)</td>\n",
       "    </tr>\n",
       "  </tbody>\n",
       "</table>\n",
       "</div>"
      ],
      "text/plain": [
       "                                                  caption  comments  \\\n",
       "121426  #bonplan #soldes #pimkie @pimkie  ____________...      10.0   \n",
       "121427  Look du jour #idee2look avec manteau #promod 2...      13.0   \n",
       "\n",
       "                                               image_urls  \\\n",
       "121426  http://scontent.cdninstagram.com/t51.2885-15/s...   \n",
       "121427  http://scontent.cdninstagram.com/t51.2885-15/s...   \n",
       "\n",
       "                                                   images  likes  pro  \\\n",
       "121426  [{'path': 'full/4432f9d9d6e90ab1147789a67a6694...  192.0    0   \n",
       "121427  [{'path': 'full/259d398f595d5e19e5f291333b850c...  145.0    0   \n",
       "\n",
       "                                              user_url                username  \n",
       "121426  http://www.imgrum.org/user/idee2look/300983387  Stephanie (@idee2look)  \n",
       "121427  http://www.imgrum.org/user/idee2look/300983387  Stephanie (@idee2look)  "
      ]
     },
     "execution_count": 7,
     "metadata": {},
     "output_type": "execute_result"
    }
   ],
   "source": [
    "goodPhotos = pd.read_csv(scraping_path+'goodPhotos.csv')\n",
    "randPhotos = pd.read_csv(scraping_path+'randUsers1Data.csv')\n",
    "goodPhotos['pro'] = 1\n",
    "randPhotos['pro'] = 0\n",
    "meta_data = goodPhotos.append(randPhotos)\n",
    "meta_data.tail(2)"
   ]
  },
  {
   "cell_type": "code",
   "execution_count": 8,
   "metadata": {
    "collapsed": false
   },
   "outputs": [],
   "source": [
    "meta_data = meta_data[(meta_data['username'].notnull())]"
   ]
  },
  {
   "cell_type": "code",
   "execution_count": 9,
   "metadata": {
    "collapsed": false
   },
   "outputs": [],
   "source": [
    "def getUsername(row):\n",
    "    a = re.search(r'\\(@[^)]*\\)', row.username)\n",
    "    return a.group(0)[2:-1]"
   ]
  },
  {
   "cell_type": "code",
   "execution_count": 10,
   "metadata": {
    "collapsed": false
   },
   "outputs": [],
   "source": [
    "meta_data[\"username\"] = meta_data.apply(getUsername,axis=1)"
   ]
  },
  {
   "cell_type": "code",
   "execution_count": 11,
   "metadata": {
    "collapsed": false,
    "scrolled": true
   },
   "outputs": [
    {
     "data": {
      "text/html": [
       "<div>\n",
       "<table border=\"1\" class=\"dataframe\">\n",
       "  <thead>\n",
       "    <tr style=\"text-align: right;\">\n",
       "      <th></th>\n",
       "      <th>caption</th>\n",
       "      <th>comments</th>\n",
       "      <th>image_urls</th>\n",
       "      <th>images</th>\n",
       "      <th>likes</th>\n",
       "      <th>pro</th>\n",
       "      <th>user_url</th>\n",
       "      <th>username</th>\n",
       "    </tr>\n",
       "  </thead>\n",
       "  <tbody>\n",
       "    <tr>\n",
       "      <th>24</th>\n",
       "      <td>{ Timeless Beauty } • Breathtaking place to fe...</td>\n",
       "      <td>196.0</td>\n",
       "      <td>http://scontent.cdninstagram.com/t51.2885-15/s...</td>\n",
       "      <td>[{'url': 'http://scontent.cdninstagram.com/t51...</td>\n",
       "      <td>25518.0</td>\n",
       "      <td>1</td>\n",
       "      <td>http://www.imgrum.org/user/brahmino/1918184</td>\n",
       "      <td>brahmino</td>\n",
       "    </tr>\n",
       "    <tr>\n",
       "      <th>25</th>\n",
       "      <td>{ Golden Morning } • Happy to wake up early an...</td>\n",
       "      <td>298.0</td>\n",
       "      <td>http://scontent.cdninstagram.com/t51.2885-15/s...</td>\n",
       "      <td>[{'url': 'http://scontent.cdninstagram.com/t51...</td>\n",
       "      <td>28436.0</td>\n",
       "      <td>1</td>\n",
       "      <td>http://www.imgrum.org/user/brahmino/1918184</td>\n",
       "      <td>brahmino</td>\n",
       "    </tr>\n",
       "  </tbody>\n",
       "</table>\n",
       "</div>"
      ],
      "text/plain": [
       "                                              caption  comments  \\\n",
       "24  { Timeless Beauty } • Breathtaking place to fe...     196.0   \n",
       "25  { Golden Morning } • Happy to wake up early an...     298.0   \n",
       "\n",
       "                                           image_urls  \\\n",
       "24  http://scontent.cdninstagram.com/t51.2885-15/s...   \n",
       "25  http://scontent.cdninstagram.com/t51.2885-15/s...   \n",
       "\n",
       "                                               images    likes  pro  \\\n",
       "24  [{'url': 'http://scontent.cdninstagram.com/t51...  25518.0    1   \n",
       "25  [{'url': 'http://scontent.cdninstagram.com/t51...  28436.0    1   \n",
       "\n",
       "                                       user_url  username  \n",
       "24  http://www.imgrum.org/user/brahmino/1918184  brahmino  \n",
       "25  http://www.imgrum.org/user/brahmino/1918184  brahmino  "
      ]
     },
     "execution_count": 11,
     "metadata": {},
     "output_type": "execute_result"
    }
   ],
   "source": [
    "meta_data = meta_data[(meta_data['images'].notnull())]\n",
    "meta_data.head(2)"
   ]
  },
  {
   "cell_type": "markdown",
   "metadata": {},
   "source": [
    "### Print URLS to get follower data"
   ]
  },
  {
   "cell_type": "code",
   "execution_count": 12,
   "metadata": {
    "collapsed": false
   },
   "outputs": [],
   "source": [
    "unames = list(set(meta_data['username']))"
   ]
  },
  {
   "cell_type": "code",
   "execution_count": 13,
   "metadata": {
    "collapsed": false
   },
   "outputs": [],
   "source": [
    "urls = []\n",
    "for i in range(len(unames)):\n",
    "    urls.append('https://www.instagram.com/'+unames[i]+'/?__a=1')\n",
    "urls = pd.DataFrame(urls)"
   ]
  },
  {
   "cell_type": "code",
   "execution_count": 14,
   "metadata": {
    "collapsed": false
   },
   "outputs": [],
   "source": [
    "urls.to_csv(scraping_path+'user_urls.txt', index=False)"
   ]
  },
  {
   "cell_type": "code",
   "execution_count": 15,
   "metadata": {
    "collapsed": false
   },
   "outputs": [
    {
     "data": {
      "text/plain": [
       "160418"
      ]
     },
     "execution_count": 15,
     "metadata": {},
     "output_type": "execute_result"
    }
   ],
   "source": [
    "len(meta_data)"
   ]
  },
  {
   "cell_type": "code",
   "execution_count": 16,
   "metadata": {
    "collapsed": true
   },
   "outputs": [],
   "source": [
    "followers = pd.read_csv(data_path+'followers_data.csv')\n",
    "followers = followers.drop(['images'],1)"
   ]
  },
  {
   "cell_type": "code",
   "execution_count": 17,
   "metadata": {
    "collapsed": false
   },
   "outputs": [
    {
     "data": {
      "text/html": [
       "<div>\n",
       "<table border=\"1\" class=\"dataframe\">\n",
       "  <thead>\n",
       "    <tr style=\"text-align: right;\">\n",
       "      <th></th>\n",
       "      <th>insta_id</th>\n",
       "      <th>is_verified</th>\n",
       "      <th>following</th>\n",
       "      <th>full_name</th>\n",
       "      <th>followers</th>\n",
       "      <th>posts</th>\n",
       "      <th>username</th>\n",
       "    </tr>\n",
       "  </thead>\n",
       "  <tbody>\n",
       "    <tr>\n",
       "      <th>0</th>\n",
       "      <td>208131708</td>\n",
       "      <td>False</td>\n",
       "      <td>356</td>\n",
       "      <td>▪️5ft. dad ▪️</td>\n",
       "      <td>4056</td>\n",
       "      <td>69</td>\n",
       "      <td>airinyung</td>\n",
       "    </tr>\n",
       "    <tr>\n",
       "      <th>1</th>\n",
       "      <td>1579219460</td>\n",
       "      <td>False</td>\n",
       "      <td>232</td>\n",
       "      <td>Comedy Ahmed</td>\n",
       "      <td>1012</td>\n",
       "      <td>1357</td>\n",
       "      <td>comedyahmed</td>\n",
       "    </tr>\n",
       "    <tr>\n",
       "      <th>2</th>\n",
       "      <td>264364242</td>\n",
       "      <td>False</td>\n",
       "      <td>483</td>\n",
       "      <td>Jesse Herzog</td>\n",
       "      <td>228722</td>\n",
       "      <td>1782</td>\n",
       "      <td>jesseherzog</td>\n",
       "    </tr>\n",
       "    <tr>\n",
       "      <th>3</th>\n",
       "      <td>454515755</td>\n",
       "      <td>False</td>\n",
       "      <td>561</td>\n",
       "      <td>pipinya_zizi</td>\n",
       "      <td>1187</td>\n",
       "      <td>565</td>\n",
       "      <td>pipinya_zizi</td>\n",
       "    </tr>\n",
       "    <tr>\n",
       "      <th>4</th>\n",
       "      <td>1462059659</td>\n",
       "      <td>False</td>\n",
       "      <td>2602</td>\n",
       "      <td>MO 👼🏾</td>\n",
       "      <td>20351</td>\n",
       "      <td>807</td>\n",
       "      <td>phobymo</td>\n",
       "    </tr>\n",
       "  </tbody>\n",
       "</table>\n",
       "</div>"
      ],
      "text/plain": [
       "     insta_id is_verified  following      full_name  followers  posts  \\\n",
       "0   208131708       False        356  ▪️5ft. dad ▪️       4056     69   \n",
       "1  1579219460       False        232   Comedy Ahmed       1012   1357   \n",
       "2   264364242       False        483   Jesse Herzog     228722   1782   \n",
       "3   454515755       False        561   pipinya_zizi       1187    565   \n",
       "4  1462059659       False       2602          MO 👼🏾      20351    807   \n",
       "\n",
       "       username  \n",
       "0     airinyung  \n",
       "1   comedyahmed  \n",
       "2   jesseherzog  \n",
       "3  pipinya_zizi  \n",
       "4       phobymo  "
      ]
     },
     "execution_count": 17,
     "metadata": {},
     "output_type": "execute_result"
    }
   ],
   "source": [
    "followers.head()"
   ]
  },
  {
   "cell_type": "code",
   "execution_count": 18,
   "metadata": {
    "collapsed": false
   },
   "outputs": [],
   "source": [
    "meta_data = pd.merge(meta_data,followers, on = 'username').reset_index()"
   ]
  },
  {
   "cell_type": "code",
   "execution_count": 19,
   "metadata": {
    "collapsed": false
   },
   "outputs": [
    {
     "data": {
      "text/html": [
       "<div>\n",
       "<table border=\"1\" class=\"dataframe\">\n",
       "  <thead>\n",
       "    <tr style=\"text-align: right;\">\n",
       "      <th></th>\n",
       "      <th>index</th>\n",
       "      <th>caption</th>\n",
       "      <th>comments</th>\n",
       "      <th>image_urls</th>\n",
       "      <th>images</th>\n",
       "      <th>likes</th>\n",
       "      <th>pro</th>\n",
       "      <th>user_url</th>\n",
       "      <th>username</th>\n",
       "      <th>insta_id</th>\n",
       "      <th>is_verified</th>\n",
       "      <th>following</th>\n",
       "      <th>full_name</th>\n",
       "      <th>followers</th>\n",
       "      <th>posts</th>\n",
       "    </tr>\n",
       "  </thead>\n",
       "  <tbody>\n",
       "    <tr>\n",
       "      <th>0</th>\n",
       "      <td>0</td>\n",
       "      <td>{ Timeless Beauty } • Breathtaking place to fe...</td>\n",
       "      <td>196.0</td>\n",
       "      <td>http://scontent.cdninstagram.com/t51.2885-15/s...</td>\n",
       "      <td>[{'url': 'http://scontent.cdninstagram.com/t51...</td>\n",
       "      <td>25518.0</td>\n",
       "      <td>1</td>\n",
       "      <td>http://www.imgrum.org/user/brahmino/1918184</td>\n",
       "      <td>brahmino</td>\n",
       "      <td>1918184</td>\n",
       "      <td>False</td>\n",
       "      <td>341</td>\n",
       "      <td>Simone Bramante</td>\n",
       "      <td>830765</td>\n",
       "      <td>1194</td>\n",
       "    </tr>\n",
       "    <tr>\n",
       "      <th>1</th>\n",
       "      <td>1</td>\n",
       "      <td>{ Golden Morning } • Happy to wake up early an...</td>\n",
       "      <td>298.0</td>\n",
       "      <td>http://scontent.cdninstagram.com/t51.2885-15/s...</td>\n",
       "      <td>[{'url': 'http://scontent.cdninstagram.com/t51...</td>\n",
       "      <td>28436.0</td>\n",
       "      <td>1</td>\n",
       "      <td>http://www.imgrum.org/user/brahmino/1918184</td>\n",
       "      <td>brahmino</td>\n",
       "      <td>1918184</td>\n",
       "      <td>False</td>\n",
       "      <td>341</td>\n",
       "      <td>Simone Bramante</td>\n",
       "      <td>830765</td>\n",
       "      <td>1194</td>\n",
       "    </tr>\n",
       "  </tbody>\n",
       "</table>\n",
       "</div>"
      ],
      "text/plain": [
       "   index                                            caption  comments  \\\n",
       "0      0  { Timeless Beauty } • Breathtaking place to fe...     196.0   \n",
       "1      1  { Golden Morning } • Happy to wake up early an...     298.0   \n",
       "\n",
       "                                          image_urls  \\\n",
       "0  http://scontent.cdninstagram.com/t51.2885-15/s...   \n",
       "1  http://scontent.cdninstagram.com/t51.2885-15/s...   \n",
       "\n",
       "                                              images    likes  pro  \\\n",
       "0  [{'url': 'http://scontent.cdninstagram.com/t51...  25518.0    1   \n",
       "1  [{'url': 'http://scontent.cdninstagram.com/t51...  28436.0    1   \n",
       "\n",
       "                                      user_url  username  insta_id  \\\n",
       "0  http://www.imgrum.org/user/brahmino/1918184  brahmino   1918184   \n",
       "1  http://www.imgrum.org/user/brahmino/1918184  brahmino   1918184   \n",
       "\n",
       "  is_verified  following        full_name  followers  posts  \n",
       "0       False        341  Simone Bramante     830765   1194  \n",
       "1       False        341  Simone Bramante     830765   1194  "
      ]
     },
     "execution_count": 19,
     "metadata": {},
     "output_type": "execute_result"
    }
   ],
   "source": [
    "meta_data.head(2)"
   ]
  },
  {
   "cell_type": "code",
   "execution_count": 20,
   "metadata": {
    "collapsed": false
   },
   "outputs": [
    {
     "name": "stdout",
     "output_type": "stream",
     "text": [
      "<class 'str'>\n",
      "[{'url': 'http://scontent.cdninstagram.com/t51.2885-15/s480x480/e35/c0.134.1080.1080/17125902_1260649764012807_8695089225495740416_n.jpg?ig_cache_key=MTQ2NTI5MDU2OTYzMDAxMTg1OQ%3D%3D.2.c', 'path': 'full/2299079fa299a4b2ad784ebe588243865f45791c.jpg', 'checksum': '6d382a79e19ef8eef973b715d63180aa'}]\n"
     ]
    }
   ],
   "source": [
    "print(type(meta_data.images[0][1:-1]))\n",
    "print((meta_data.images[0]))"
   ]
  },
  {
   "cell_type": "code",
   "execution_count": 21,
   "metadata": {
    "collapsed": false
   },
   "outputs": [],
   "source": [
    "def makeJson(row):\n",
    "    row = row[1:-1]\n",
    "    json_acceptable_string = row.replace(\"'\", \"\\\"\")\n",
    "    return json.loads(json_acceptable_string)"
   ]
  },
  {
   "cell_type": "code",
   "execution_count": 22,
   "metadata": {
    "collapsed": false
   },
   "outputs": [
    {
     "name": "stdout",
     "output_type": "stream",
     "text": [
      "<class 'dict'>\n"
     ]
    },
    {
     "data": {
      "text/html": [
       "<div>\n",
       "<table border=\"1\" class=\"dataframe\">\n",
       "  <thead>\n",
       "    <tr style=\"text-align: right;\">\n",
       "      <th></th>\n",
       "      <th>index</th>\n",
       "      <th>caption</th>\n",
       "      <th>comments</th>\n",
       "      <th>image_urls</th>\n",
       "      <th>images</th>\n",
       "      <th>likes</th>\n",
       "      <th>pro</th>\n",
       "      <th>user_url</th>\n",
       "      <th>username</th>\n",
       "      <th>insta_id</th>\n",
       "      <th>is_verified</th>\n",
       "      <th>following</th>\n",
       "      <th>full_name</th>\n",
       "      <th>followers</th>\n",
       "      <th>posts</th>\n",
       "    </tr>\n",
       "  </thead>\n",
       "  <tbody>\n",
       "    <tr>\n",
       "      <th>0</th>\n",
       "      <td>0</td>\n",
       "      <td>{ Timeless Beauty } • Breathtaking place to fe...</td>\n",
       "      <td>196.0</td>\n",
       "      <td>http://scontent.cdninstagram.com/t51.2885-15/s...</td>\n",
       "      <td>{'path': 'full/2299079fa299a4b2ad784ebe5882438...</td>\n",
       "      <td>25518.0</td>\n",
       "      <td>1</td>\n",
       "      <td>http://www.imgrum.org/user/brahmino/1918184</td>\n",
       "      <td>brahmino</td>\n",
       "      <td>1918184</td>\n",
       "      <td>False</td>\n",
       "      <td>341</td>\n",
       "      <td>Simone Bramante</td>\n",
       "      <td>830765</td>\n",
       "      <td>1194</td>\n",
       "    </tr>\n",
       "    <tr>\n",
       "      <th>1</th>\n",
       "      <td>1</td>\n",
       "      <td>{ Golden Morning } • Happy to wake up early an...</td>\n",
       "      <td>298.0</td>\n",
       "      <td>http://scontent.cdninstagram.com/t51.2885-15/s...</td>\n",
       "      <td>{'path': 'full/d92fc8d70b8e71fa9ea53ced58dcd2d...</td>\n",
       "      <td>28436.0</td>\n",
       "      <td>1</td>\n",
       "      <td>http://www.imgrum.org/user/brahmino/1918184</td>\n",
       "      <td>brahmino</td>\n",
       "      <td>1918184</td>\n",
       "      <td>False</td>\n",
       "      <td>341</td>\n",
       "      <td>Simone Bramante</td>\n",
       "      <td>830765</td>\n",
       "      <td>1194</td>\n",
       "    </tr>\n",
       "  </tbody>\n",
       "</table>\n",
       "</div>"
      ],
      "text/plain": [
       "   index                                            caption  comments  \\\n",
       "0      0  { Timeless Beauty } • Breathtaking place to fe...     196.0   \n",
       "1      1  { Golden Morning } • Happy to wake up early an...     298.0   \n",
       "\n",
       "                                          image_urls  \\\n",
       "0  http://scontent.cdninstagram.com/t51.2885-15/s...   \n",
       "1  http://scontent.cdninstagram.com/t51.2885-15/s...   \n",
       "\n",
       "                                              images    likes  pro  \\\n",
       "0  {'path': 'full/2299079fa299a4b2ad784ebe5882438...  25518.0    1   \n",
       "1  {'path': 'full/d92fc8d70b8e71fa9ea53ced58dcd2d...  28436.0    1   \n",
       "\n",
       "                                      user_url  username  insta_id  \\\n",
       "0  http://www.imgrum.org/user/brahmino/1918184  brahmino   1918184   \n",
       "1  http://www.imgrum.org/user/brahmino/1918184  brahmino   1918184   \n",
       "\n",
       "  is_verified  following        full_name  followers  posts  \n",
       "0       False        341  Simone Bramante     830765   1194  \n",
       "1       False        341  Simone Bramante     830765   1194  "
      ]
     },
     "execution_count": 22,
     "metadata": {},
     "output_type": "execute_result"
    }
   ],
   "source": [
    "meta_data[\"images\"] = meta_data.images.apply(makeJson)\n",
    "print(type(meta_data.images[0]))\n",
    "meta_data.head(2)"
   ]
  },
  {
   "cell_type": "code",
   "execution_count": 23,
   "metadata": {
    "collapsed": false
   },
   "outputs": [],
   "source": [
    "pic_path = []\n",
    "for i in range(len(meta_data)):\n",
    "    pic_path.append(meta_data['images'][i]['path'][5:])\n",
    "meta_data['pic_path'] = pic_path\n",
    "\n",
    "checksum = []\n",
    "for i in range(len(meta_data)):\n",
    "    checksum.append(meta_data['images'][i]['checksum'])\n",
    "meta_data['checksum'] = checksum "
   ]
  },
  {
   "cell_type": "code",
   "execution_count": 24,
   "metadata": {
    "collapsed": false
   },
   "outputs": [
    {
     "data": {
      "text/html": [
       "<div>\n",
       "<table border=\"1\" class=\"dataframe\">\n",
       "  <thead>\n",
       "    <tr style=\"text-align: right;\">\n",
       "      <th></th>\n",
       "      <th>caption</th>\n",
       "      <th>comments</th>\n",
       "      <th>image_urls</th>\n",
       "      <th>likes</th>\n",
       "      <th>pro</th>\n",
       "      <th>user_url</th>\n",
       "      <th>username</th>\n",
       "      <th>insta_id</th>\n",
       "      <th>is_verified</th>\n",
       "      <th>following</th>\n",
       "      <th>full_name</th>\n",
       "      <th>followers</th>\n",
       "      <th>posts</th>\n",
       "      <th>pic_path</th>\n",
       "      <th>checksum</th>\n",
       "    </tr>\n",
       "  </thead>\n",
       "  <tbody>\n",
       "    <tr>\n",
       "      <th>0</th>\n",
       "      <td>{ Timeless Beauty } • Breathtaking place to fe...</td>\n",
       "      <td>196.0</td>\n",
       "      <td>http://scontent.cdninstagram.com/t51.2885-15/s...</td>\n",
       "      <td>25518.0</td>\n",
       "      <td>1</td>\n",
       "      <td>http://www.imgrum.org/user/brahmino/1918184</td>\n",
       "      <td>brahmino</td>\n",
       "      <td>1918184</td>\n",
       "      <td>False</td>\n",
       "      <td>341</td>\n",
       "      <td>Simone Bramante</td>\n",
       "      <td>830765</td>\n",
       "      <td>1194</td>\n",
       "      <td>2299079fa299a4b2ad784ebe588243865f45791c.jpg</td>\n",
       "      <td>6d382a79e19ef8eef973b715d63180aa</td>\n",
       "    </tr>\n",
       "    <tr>\n",
       "      <th>1</th>\n",
       "      <td>{ Golden Morning } • Happy to wake up early an...</td>\n",
       "      <td>298.0</td>\n",
       "      <td>http://scontent.cdninstagram.com/t51.2885-15/s...</td>\n",
       "      <td>28436.0</td>\n",
       "      <td>1</td>\n",
       "      <td>http://www.imgrum.org/user/brahmino/1918184</td>\n",
       "      <td>brahmino</td>\n",
       "      <td>1918184</td>\n",
       "      <td>False</td>\n",
       "      <td>341</td>\n",
       "      <td>Simone Bramante</td>\n",
       "      <td>830765</td>\n",
       "      <td>1194</td>\n",
       "      <td>d92fc8d70b8e71fa9ea53ced58dcd2db3cbe95db.jpg</td>\n",
       "      <td>3757b15a6fe424b2c543f07e48d87d60</td>\n",
       "    </tr>\n",
       "  </tbody>\n",
       "</table>\n",
       "</div>"
      ],
      "text/plain": [
       "                                             caption  comments  \\\n",
       "0  { Timeless Beauty } • Breathtaking place to fe...     196.0   \n",
       "1  { Golden Morning } • Happy to wake up early an...     298.0   \n",
       "\n",
       "                                          image_urls    likes  pro  \\\n",
       "0  http://scontent.cdninstagram.com/t51.2885-15/s...  25518.0    1   \n",
       "1  http://scontent.cdninstagram.com/t51.2885-15/s...  28436.0    1   \n",
       "\n",
       "                                      user_url  username  insta_id  \\\n",
       "0  http://www.imgrum.org/user/brahmino/1918184  brahmino   1918184   \n",
       "1  http://www.imgrum.org/user/brahmino/1918184  brahmino   1918184   \n",
       "\n",
       "  is_verified  following        full_name  followers  posts  \\\n",
       "0       False        341  Simone Bramante     830765   1194   \n",
       "1       False        341  Simone Bramante     830765   1194   \n",
       "\n",
       "                                       pic_path  \\\n",
       "0  2299079fa299a4b2ad784ebe588243865f45791c.jpg   \n",
       "1  d92fc8d70b8e71fa9ea53ced58dcd2db3cbe95db.jpg   \n",
       "\n",
       "                           checksum  \n",
       "0  6d382a79e19ef8eef973b715d63180aa  \n",
       "1  3757b15a6fe424b2c543f07e48d87d60  "
      ]
     },
     "execution_count": 24,
     "metadata": {},
     "output_type": "execute_result"
    }
   ],
   "source": [
    "meta_data = meta_data.drop(['images','index'],1)\n",
    "meta_data.head(2)"
   ]
  },
  {
   "cell_type": "code",
   "execution_count": 25,
   "metadata": {
    "collapsed": false
   },
   "outputs": [],
   "source": [
    "meta_data.to_csv(data_path+'meta_data.csv', index = False)"
   ]
  },
  {
   "cell_type": "code",
   "execution_count": 26,
   "metadata": {
    "collapsed": false
   },
   "outputs": [],
   "source": [
    "with open(data_path+'meta_data.pkl', 'wb') as picklefile:\n",
    "    pickle.dump(meta_data, picklefile)"
   ]
  }
 ],
 "metadata": {
  "anaconda-cloud": {},
  "kernelspec": {
   "display_name": "Python [default]",
   "language": "python",
   "name": "python3"
  },
  "language_info": {
   "codemirror_mode": {
    "name": "ipython",
    "version": 3
   },
   "file_extension": ".py",
   "mimetype": "text/x-python",
   "name": "python",
   "nbconvert_exporter": "python",
   "pygments_lexer": "ipython3",
   "version": "3.5.2"
  }
 },
 "nbformat": 4,
 "nbformat_minor": 1
}
