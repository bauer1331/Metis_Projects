{
 "cells": [
  {
   "cell_type": "code",
   "execution_count": null,
   "metadata": {
    "collapsed": true
   },
   "outputs": [],
   "source": [
    "import scrapy\n",
    "\n",
    "\n",
    "class AalistSpider(scrapy.Spider):\n",
    "    name = \"aalist\" #must be unique within a project\n",
    "\n",
    "    start_urls = [\n",
    "        'http://www.imdb.com/search/keyword?keywords=african-american-woman&sort=moviemeter,asc&mode=detail&page=1&title_type=movie&ref_=kw_ref_typ',]\n",
    "\n",
    "    def parse(self, response): \n",
    "        for i in response.xpath('//div[@class=\"lister-list\"]/div[contains(@class, \"lister-item mode-detail\")]/div[@class=\"lister-item-content\"]'):\n",
    "            yield {\n",
    "            'title' : i.xpath('./h3/a/text()').extract_first(),\n",
    "            'popularity' : i.xpath('./h3/span/text()').extract_first(),\n",
    "            'year' : i.xpath('./h3/span[@class=\"lister-item-year text-muted unbold\"]/text()').extract_first(),\n",
    "            'user_score': i.xpath('./div[@class=\"ratings-bar\"]/div[@class=\"inline-block ratings-imdb-rating\"]/strong/text()').extract_first(),\n",
    "            'meta_score': i.xpath('./div[@class=\"ratings-bar\"]/div[@class=\"inline-block ratings-metascore\"]/span/text()').extract_first(),\n",
    "            'rating': i.xpath('./p/span[@class=\"certificate\"]/text()').extract_first(),\n",
    "            'runtime': i.xpath('./p/span[@class=\"runtime\"]/text()').extract_first(),\n",
    "            'genre': i.xpath('./p/span[@class=\"genre\"]/text()').extract_first(),\n",
    "            'description': i.xpath('./p[@class=\"\"]/text()').extract_first(),\n",
    "            'director': i.xpath('./p[@class=\"text-muted text-small\"]/a/text()').extract_first(),\n",
    "            'votes': i.xpath('.//p[@class=\"text-muted text-small\"]/span[@name=\"nv\"]/text()').extract_first(),\n",
    "            'gross': i.xpath('.//p[@class=\"text-muted text-small\"]/span[@name=\"nv\"][2]/@data-value').extract_first(),\n",
    "            'actor1': i.xpath('./p[@class=\"text-muted text-small\"]/a[2]/text()').extract_first(),\n",
    "            'actor2': i.xpath('./p[@class=\"text-muted text-small\"]/a[3]/text()').extract_first(),\n",
    "            'actor3': i.xpath('./p[@class=\"text-muted text-small\"]/a[4]/text()').extract_first(),\n",
    "            'actor4': i.xpath('./p[@class=\"text-muted text-small\"]/a[5]/text()').extract_first(),\n",
    "            }\n",
    "\n",
    "        url = response.xpath('//div[@class=\"footer filmosearch\"]/div[@class=\"nav\"]/div[@class=\"desc\"]/a[contains(text(),\"Next\")]/@href').extract_first()\n",
    "        next_page = \"http://www.imdb.com/search/keyword\" + url\n",
    "\n",
    "        if next_page is not None:\n",
    "            next_page = response.urljoin(next_page)\n",
    "            yield scrapy.Request(next_page, callback=self.parse)\n",
    " "
   ]
  }
 ],
 "metadata": {
  "anaconda-cloud": {},
  "kernelspec": {
   "display_name": "Python [default]",
   "language": "python",
   "name": "python3"
  },
  "language_info": {
   "codemirror_mode": {
    "name": "ipython",
    "version": 3
   },
   "file_extension": ".py",
   "mimetype": "text/x-python",
   "name": "python",
   "nbconvert_exporter": "python",
   "pygments_lexer": "ipython3",
   "version": "3.5.2"
  }
 },
 "nbformat": 4,
 "nbformat_minor": 1
}
