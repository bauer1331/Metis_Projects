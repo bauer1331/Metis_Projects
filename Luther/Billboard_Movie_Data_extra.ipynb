{
 "cells": [
  {
   "cell_type": "code",
   "execution_count": 1,
   "metadata": {
    "collapsed": false
   },
   "outputs": [
    {
     "name": "stderr",
     "output_type": "stream",
     "text": [
      "/Users/bauer/anaconda3/lib/python3.5/site-packages/sklearn/cross_validation.py:44: DeprecationWarning: This module was deprecated in version 0.18 in favor of the model_selection module into which all the refactored classes and functions are moved. Also note that the interface of the new CV iterators are different from that of this module. This module will be removed in 0.20.\n",
      "  \"This module will be removed in 0.20.\", DeprecationWarning)\n"
     ]
    }
   ],
   "source": [
    "import pandas as pd\n",
    "import glob\n",
    "import re\n",
    "import datetime as dt\n",
    "\n",
    "import numpy as np\n",
    "import statsmodels.api as sm\n",
    "import statsmodels.formula.api as smf\n",
    "import patsy\n",
    "import seaborn as sns\n",
    "from seaborn import plt\n",
    "\n",
    "import pickle\n",
    "\n",
    "from sklearn import preprocessing\n",
    "from sklearn.model_selection import train_test_split\n",
    "from sklearn.linear_model import Lasso\n",
    "from sklearn.linear_model import RidgeCV\n",
    "from sklearn.pipeline import make_pipeline\n",
    "from sklearn.preprocessing import PolynomialFeatures\n",
    "from sklearn.cross_validation import KFold\n",
    "from sklearn.linear_model import Ridge\n",
    "from sklearn.linear_model import LinearRegression\n",
    "from sklearn import feature_selection as f_select\n",
    "from sklearn.cross_validation import cross_val_score\n",
    "from sklearn.feature_selection import RFECV\n",
    "\n",
    "%matplotlib inline"
   ]
  },
  {
   "cell_type": "code",
   "execution_count": 2,
   "metadata": {
    "collapsed": true
   },
   "outputs": [],
   "source": [
    "path = '../../local_files/scrapy_project/tutorial'\n",
    "allFiles = glob.glob(path + \"/*.csv\")"
   ]
  },
  {
   "cell_type": "code",
   "execution_count": 3,
   "metadata": {
    "collapsed": true
   },
   "outputs": [],
   "source": [
    "def getFiles(filename):\n",
    "    df = pd.read_csv(filename, thousands=\",\")\n",
    "    col = str(filename.split('/')[-1].replace('_movie.csv',\"\"))\n",
    "    df[col] = 1\n",
    "    return df"
   ]
  },
  {
   "cell_type": "code",
   "execution_count": 4,
   "metadata": {
    "collapsed": false
   },
   "outputs": [
    {
     "name": "stderr",
     "output_type": "stream",
     "text": [
      "/Users/bauer/anaconda3/lib/python3.5/site-packages/ipykernel/__main__.py:10: FutureWarning: convert_objects is deprecated.  Use the data-type specific converters pd.to_datetime, pd.to_timedelta and pd.to_numeric.\n"
     ]
    }
   ],
   "source": [
    "df_all = getFiles(allFiles[0])\n",
    "for file in allFiles[1:]:\n",
    "    current_df = getFiles(file)\n",
    "    df_all = pd.merge(df_all,current_df,how=\"outer\", on=['title','user_score','meta_score','gross','runtime','genre','year','rating','director','votes','popularity','actor1','actor2','actor3','actor4','description'])\n",
    "\n",
    "df_all['year']=df_all.year.str.replace(r'[^0-9]', '')\n",
    "df_all['runtime']=df_all.runtime.str.replace(r'[^0-9]', '')\n",
    "df_all['genre']=df_all.genre.str.replace(r'[\\n]', '')\n",
    "df_all['description']=df_all.description.str.replace(r'[\\n]', '')\n",
    "df_all['runtime']=df_all['runtime'].convert_objects(convert_numeric=True)\n",
    "df_all['user_score']=df_all['user_score']*10"
   ]
  },
  {
   "cell_type": "code",
   "execution_count": null,
   "metadata": {
    "collapsed": true
   },
   "outputs": [],
   "source": []
  },
  {
   "cell_type": "code",
   "execution_count": 5,
   "metadata": {
    "collapsed": false
   },
   "outputs": [],
   "source": [
    "#df_all['title'].sort_values(ascending=False)\n",
    "#len(df_all[df_all.duplicated('title')==False])"
   ]
  },
  {
   "cell_type": "code",
   "execution_count": 6,
   "metadata": {
    "collapsed": true
   },
   "outputs": [],
   "source": [
    "bi_vars = ['african_american','african_american_woman', 'bisexual', 'cat', 'crying', 'cult', 'dog',\\\n",
    "           'female_nudity', 'gay', 'independent', 'lesbian', 'male_nudity','police', 'racism',\\\n",
    "           'sequel', 'transgender']\n",
    "\n",
    "for i in bi_vars:\n",
    "    df_all[i].fillna(0, inplace=True)\n",
    "df_all.iloc[:2,:18]\n",
    "\n",
    "df_all['lgbt']= np.where((df_all['gay']+df_all['lesbian']+df_all['bisexual']+df_all['transgender'])>0,1,0)"
   ]
  },
  {
   "cell_type": "code",
   "execution_count": 7,
   "metadata": {
    "collapsed": false
   },
   "outputs": [
    {
     "name": "stderr",
     "output_type": "stream",
     "text": [
      "/Users/bauer/anaconda3/lib/python3.5/site-packages/ipykernel/__main__.py:2: SettingWithCopyWarning: \n",
      "A value is trying to be set on a copy of a slice from a DataFrame.\n",
      "Try using .loc[row_indexer,col_indexer] = value instead\n",
      "\n",
      "See the caveats in the documentation: http://pandas.pydata.org/pandas-docs/stable/indexing.html#indexing-view-versus-copy\n",
      "  from ipykernel import kernelapp as app\n"
     ]
    },
    {
     "data": {
      "text/html": [
       "<div>\n",
       "<table border=\"1\" class=\"dataframe\">\n",
       "  <thead>\n",
       "    <tr style=\"text-align: right;\">\n",
       "      <th></th>\n",
       "      <th>title</th>\n",
       "      <th>votes</th>\n",
       "      <th>director</th>\n",
       "      <th>year</th>\n",
       "      <th>popularity</th>\n",
       "      <th>actor2</th>\n",
       "      <th>actor3</th>\n",
       "      <th>meta_score</th>\n",
       "      <th>actor1</th>\n",
       "      <th>description</th>\n",
       "      <th>user_score</th>\n",
       "      <th>rating</th>\n",
       "      <th>runtime</th>\n",
       "      <th>actor4</th>\n",
       "      <th>gross</th>\n",
       "      <th>genre</th>\n",
       "      <th>african_american</th>\n",
       "      <th>african_american_woman</th>\n",
       "    </tr>\n",
       "  </thead>\n",
       "  <tbody>\n",
       "    <tr>\n",
       "      <th>0</th>\n",
       "      <td>La La Land</td>\n",
       "      <td>92976.0</td>\n",
       "      <td>Damien Chazelle</td>\n",
       "      <td>2016</td>\n",
       "      <td>1.0</td>\n",
       "      <td>Emma Stone</td>\n",
       "      <td>Rosemarie DeWitt</td>\n",
       "      <td>93.0</td>\n",
       "      <td>Ryan Gosling</td>\n",
       "      <td>A jazz pianist falls for an aspiring actress i...</td>\n",
       "      <td>87.0</td>\n",
       "      <td>PG-13</td>\n",
       "      <td>128.0</td>\n",
       "      <td>J.K. Simmons</td>\n",
       "      <td>89680497.0</td>\n",
       "      <td>Comedy, Drama, Musical</td>\n",
       "      <td>1.0</td>\n",
       "      <td>0.0</td>\n",
       "    </tr>\n",
       "    <tr>\n",
       "      <th>1</th>\n",
       "      <td>Hidden Figures</td>\n",
       "      <td>12581.0</td>\n",
       "      <td>Theodore Melfi</td>\n",
       "      <td>2016</td>\n",
       "      <td>2.0</td>\n",
       "      <td>Octavia Spencer</td>\n",
       "      <td>Janelle Monáe</td>\n",
       "      <td>74.0</td>\n",
       "      <td>Taraji P. Henson</td>\n",
       "      <td>Based on a true story. A team of African-Ameri...</td>\n",
       "      <td>80.0</td>\n",
       "      <td>PG</td>\n",
       "      <td>127.0</td>\n",
       "      <td>Kevin Costner</td>\n",
       "      <td>84238751.0</td>\n",
       "      <td>Biography, Drama, History</td>\n",
       "      <td>1.0</td>\n",
       "      <td>0.0</td>\n",
       "    </tr>\n",
       "  </tbody>\n",
       "</table>\n",
       "</div>"
      ],
      "text/plain": [
       "            title    votes         director  year  popularity  \\\n",
       "0      La La Land  92976.0  Damien Chazelle  2016         1.0   \n",
       "1  Hidden Figures  12581.0   Theodore Melfi  2016         2.0   \n",
       "\n",
       "            actor2            actor3  meta_score            actor1  \\\n",
       "0       Emma Stone  Rosemarie DeWitt        93.0      Ryan Gosling   \n",
       "1  Octavia Spencer     Janelle Monáe        74.0  Taraji P. Henson   \n",
       "\n",
       "                                         description  user_score rating  \\\n",
       "0  A jazz pianist falls for an aspiring actress i...        87.0  PG-13   \n",
       "1  Based on a true story. A team of African-Ameri...        80.0     PG   \n",
       "\n",
       "   runtime         actor4       gross                                  genre  \\\n",
       "0    128.0   J.K. Simmons  89680497.0     Comedy, Drama, Musical               \n",
       "1    127.0  Kevin Costner  84238751.0  Biography, Drama, History               \n",
       "\n",
       "   african_american  african_american_woman  \n",
       "0               1.0                     0.0  \n",
       "1               1.0                     0.0  "
      ]
     },
     "execution_count": 7,
     "metadata": {},
     "output_type": "execute_result"
    }
   ],
   "source": [
    "df_full = df_all.dropna()\n",
    "df_full['year']=list(df_full['year'].apply(lambda x: int(x)))\n",
    "df_full.iloc[:2,:18]"
   ]
  },
  {
   "cell_type": "markdown",
   "metadata": {},
   "source": [
    "**Import Billboard Data**"
   ]
  },
  {
   "cell_type": "code",
   "execution_count": 8,
   "metadata": {
    "collapsed": false
   },
   "outputs": [
    {
     "data": {
      "text/html": [
       "<div>\n",
       "<table border=\"1\" class=\"dataframe\">\n",
       "  <thead>\n",
       "    <tr style=\"text-align: right;\">\n",
       "      <th></th>\n",
       "      <th>peak_bb</th>\n",
       "      <th>date_bb</th>\n",
       "      <th>weeks_bb</th>\n",
       "      <th>last_bb</th>\n",
       "      <th>title</th>\n",
       "    </tr>\n",
       "  </thead>\n",
       "  <tbody>\n",
       "    <tr>\n",
       "      <th>0</th>\n",
       "      <td>1</td>\n",
       "      <td>2016-08-27</td>\n",
       "      <td>24</td>\n",
       "      <td>15</td>\n",
       "      <td>Suicide Squad</td>\n",
       "    </tr>\n",
       "    <tr>\n",
       "      <th>1</th>\n",
       "      <td>1</td>\n",
       "      <td>2014-08-23</td>\n",
       "      <td>87</td>\n",
       "      <td>120</td>\n",
       "      <td>Guardians Of The Galaxy</td>\n",
       "    </tr>\n",
       "    <tr>\n",
       "      <th>2</th>\n",
       "      <td>1</td>\n",
       "      <td>2015-04-25</td>\n",
       "      <td>46</td>\n",
       "      <td></td>\n",
       "      <td>Furious 7</td>\n",
       "    </tr>\n",
       "    <tr>\n",
       "      <th>3</th>\n",
       "      <td>1</td>\n",
       "      <td>2014-01-18</td>\n",
       "      <td>116</td>\n",
       "      <td>181</td>\n",
       "      <td>Frozen</td>\n",
       "    </tr>\n",
       "    <tr>\n",
       "      <th>4</th>\n",
       "      <td>1</td>\n",
       "      <td>2015-05-30</td>\n",
       "      <td>31</td>\n",
       "      <td>183</td>\n",
       "      <td>Pitch Perfect 2</td>\n",
       "    </tr>\n",
       "  </tbody>\n",
       "</table>\n",
       "</div>"
      ],
      "text/plain": [
       "   peak_bb    date_bb  weeks_bb last_bb                    title\n",
       "0        1 2016-08-27        24      15            Suicide Squad\n",
       "1        1 2014-08-23        87     120  Guardians Of The Galaxy\n",
       "2        1 2015-04-25        46                        Furious 7\n",
       "3        1 2014-01-18       116     181                   Frozen\n",
       "4        1 2015-05-30        31     183          Pitch Perfect 2"
      ]
     },
     "execution_count": 8,
     "metadata": {},
     "output_type": "execute_result"
    }
   ],
   "source": [
    "bbpath = path = '../../local_files/scrapy_project/tutorial/music'\n",
    "bbdata = pd.read_csv(bbpath+'/billboard.csv')\n",
    "bbdata[\"date_bb\"] = pd.to_datetime(bbdata.date_bb , format=\"%B %d, %Y\")\n",
    "bbdata['last_bb']=bbdata.last_bb.str.replace(r'[\\–]', '')\n",
    "bbdata['title_bb']= bbdata['title_bb'].apply(lambda x: x.split(':')[0])\n",
    "bbdata[\"title\"]=bbdata[\"title_bb\"]\n",
    "bbdata = bbdata.drop([\"title_bb\"], axis=1, errors=\"ignore\")\n",
    "bbdata.head()"
   ]
  },
  {
   "cell_type": "code",
   "execution_count": 9,
   "metadata": {
    "collapsed": false
   },
   "outputs": [
    {
     "data": {
      "text/plain": [
       "(650, 10319)"
      ]
     },
     "execution_count": 9,
     "metadata": {},
     "output_type": "execute_result"
    }
   ],
   "source": [
    "len(bbdata),len(df_full)"
   ]
  },
  {
   "cell_type": "code",
   "execution_count": 10,
   "metadata": {
    "collapsed": true
   },
   "outputs": [],
   "source": [
    "bb_df = pd.merge(bbdata,df_full,on='title',how='left')\n",
    "bb_df_full = bb_df.dropna()"
   ]
  },
  {
   "cell_type": "code",
   "execution_count": 11,
   "metadata": {
    "collapsed": false
   },
   "outputs": [
    {
     "data": {
      "text/plain": [
       "531"
      ]
     },
     "execution_count": 11,
     "metadata": {},
     "output_type": "execute_result"
    }
   ],
   "source": [
    "len(bb_df_full)"
   ]
  },
  {
   "cell_type": "code",
   "execution_count": 12,
   "metadata": {
    "collapsed": false
   },
   "outputs": [
    {
     "data": {
      "text/plain": [
       "pandas.core.frame.DataFrame"
      ]
     },
     "execution_count": 12,
     "metadata": {},
     "output_type": "execute_result"
    }
   ],
   "source": [
    "type(bb_df)"
   ]
  },
  {
   "cell_type": "code",
   "execution_count": 13,
   "metadata": {
    "collapsed": false
   },
   "outputs": [
    {
     "name": "stderr",
     "output_type": "stream",
     "text": [
      "/Users/bauer/anaconda3/lib/python3.5/site-packages/ipykernel/__main__.py:1: SettingWithCopyWarning: \n",
      "A value is trying to be set on a copy of a slice from a DataFrame.\n",
      "Try using .loc[row_indexer,col_indexer] = value instead\n",
      "\n",
      "See the caveats in the documentation: http://pandas.pydata.org/pandas-docs/stable/indexing.html#indexing-view-versus-copy\n",
      "  if __name__ == '__main__':\n",
      "/Users/bauer/anaconda3/lib/python3.5/site-packages/ipykernel/__main__.py:2: SettingWithCopyWarning: \n",
      "A value is trying to be set on a copy of a slice from a DataFrame.\n",
      "Try using .loc[row_indexer,col_indexer] = value instead\n",
      "\n",
      "See the caveats in the documentation: http://pandas.pydata.org/pandas-docs/stable/indexing.html#indexing-view-versus-copy\n",
      "  from ipykernel import kernelapp as app\n",
      "/Users/bauer/anaconda3/lib/python3.5/site-packages/ipykernel/__main__.py:3: SettingWithCopyWarning: \n",
      "A value is trying to be set on a copy of a slice from a DataFrame.\n",
      "Try using .loc[row_indexer,col_indexer] = value instead\n",
      "\n",
      "See the caveats in the documentation: http://pandas.pydata.org/pandas-docs/stable/indexing.html#indexing-view-versus-copy\n",
      "  app.launch_new_instance()\n",
      "/Users/bauer/anaconda3/lib/python3.5/site-packages/ipykernel/__main__.py:4: SettingWithCopyWarning: \n",
      "A value is trying to be set on a copy of a slice from a DataFrame.\n",
      "Try using .loc[row_indexer,col_indexer] = value instead\n",
      "\n",
      "See the caveats in the documentation: http://pandas.pydata.org/pandas-docs/stable/indexing.html#indexing-view-versus-copy\n"
     ]
    }
   ],
   "source": [
    "bb_df_full['actor'] = bb_df_full['actor1']+','+bb_df_full['actor2']+','+bb_df_full['actor3']+','+bb_df_full['actor4']\n",
    "bb_df_full['actor'] = [str.lower(i).strip() for i in bb_df_full['actor']]\n",
    "bb_df_full['genre'] = [str.lower(i).strip() for i in bb_df_full['genre']]\n",
    "bb_df_full['director'] = [str.lower(i).strip() for i in bb_df_full['director']]"
   ]
  },
  {
   "cell_type": "code",
   "execution_count": 14,
   "metadata": {
    "collapsed": false
   },
   "outputs": [],
   "source": [
    "#make_dummies \n",
    "actors = bb_df_full['actor'].str.get_dummies(sep=',') #srt\n",
    "genres = bb_df_full['genre'].str.get_dummies(sep=',')\n",
    "directors =bb_df_full['director'].str.get_dummies(sep=',')"
   ]
  },
  {
   "cell_type": "code",
   "execution_count": 15,
   "metadata": {
    "collapsed": false
   },
   "outputs": [
    {
     "data": {
      "text/plain": [
       "145    2 Fast 2 Furious\n",
       "144    2 Fast 2 Furious\n",
       "146    2 Fast 2 Furious\n",
       "605     A Knight's Tale\n",
       "827    About Last Night\n",
       "828    About Last Night\n",
       "829    About Last Night\n",
       "830    About Last Night\n",
       "750                 Ali\n",
       "751                 Ali\n",
       "752                 Ali\n",
       "609       Almost Famous\n",
       "608       Almost Famous\n",
       "672        American Pie\n",
       "671        American Pie\n",
       "673        American Pie\n",
       "174      American Pie 2\n",
       "177      American Pie 2\n",
       "176      American Pie 2\n",
       "175      American Pie 2\n",
       "395    American Wedding\n",
       "396    American Wedding\n",
       "397    American Wedding\n",
       "393    American Wedding\n",
       "394    American Wedding\n",
       "819        Animal House\n",
       "821        Animal House\n",
       "820        Animal House\n",
       "257               Annie\n",
       "256               Annie\n",
       "             ...       \n",
       "371        Transformers\n",
       "655        Transformers\n",
       "370        Transformers\n",
       "168        Transformers\n",
       "169        Transformers\n",
       "773            Twilight\n",
       "17             Twilight\n",
       "457             Twister\n",
       "714          Underworld\n",
       "348     Valentine's Day\n",
       "350     Valentine's Day\n",
       "349     Valentine's Day\n",
       "340       Varsity Blues\n",
       "337       Varsity Blues\n",
       "336       Varsity Blues\n",
       "339       Varsity Blues\n",
       "338       Varsity Blues\n",
       "472            Watchmen\n",
       "471            Watchmen\n",
       "470            Watchmen\n",
       "469            Watchmen\n",
       "468            Watchmen\n",
       "479     What Women Want\n",
       "122      Wild Wild West\n",
       "123      Wild Wild West\n",
       "120      Wild Wild West\n",
       "121      Wild Wild West\n",
       "633        Working Girl\n",
       "900           Zoolander\n",
       "901           Zoolander\n",
       "Name: title, dtype: object"
      ]
     },
     "execution_count": 15,
     "metadata": {},
     "output_type": "execute_result"
    }
   ],
   "source": [
    "bb_df_full['title'].sort_values(ascending=True)"
   ]
  },
  {
   "cell_type": "code",
   "execution_count": 16,
   "metadata": {
    "collapsed": false
   },
   "outputs": [
    {
     "data": {
      "text/plain": [
       "nancy meyers                 1.0\n",
       "shawn ashmore                1.0\n",
       "shannyn sossamon             1.0\n",
       "redman                       1.0\n",
       "reginald hudlin              1.0\n",
       "shane brolly                 1.0\n",
       "renee jewell                 1.0\n",
       "seth macfarlane              1.0\n",
       "john marley                  1.0\n",
       "sean nelson                  1.0\n",
       "dj pooh                      1.0\n",
       "sean mcnamara                1.0\n",
       "rhys ifans                   1.0\n",
       "john lasseter                1.0\n",
       "doug mchenry                 1.0\n",
       "dr. dre                      1.0\n",
       "scott speedman               1.0\n",
       "ed ackerman                  1.0\n",
       "joel schumacher              1.0\n",
       "sandro dori                  1.0\n",
       "sanaa lathan                 1.0\n",
       "edward james olmos           1.0\n",
       "richard hunt                 1.0\n",
       "elayn j. taylor              1.0\n",
       "samantha mathis              1.0\n",
       "joe ranft                    1.0\n",
       "joe manganiello              1.0\n",
       "emma bell                    1.0\n",
       "emma stone                   1.0\n",
       "eric dane                    1.0\n",
       "                           ...  \n",
       "denise richards             15.0\n",
       "vincent laresca             15.0\n",
       "jamie foxx                  16.0\n",
       "chris columbus              16.0\n",
       "wilson jermaine heredia     16.0\n",
       "anthony rapp                16.0\n",
       "john singleton              16.0\n",
       "john leguizamo              17.0\n",
       "john travolta               17.0\n",
       "rosario dawson              17.0\n",
       "animation                   19.0\n",
       "eddie murphy                20.0\n",
       "peter sarsgaard             21.0\n",
       "taye diggs                  25.0\n",
       "adventure                   27.0\n",
       " musical                    30.0\n",
       " sci-fi                     34.0\n",
       " fantasy                    35.0\n",
       " family                     37.0\n",
       "crime                       54.0\n",
       " music                      56.0\n",
       " comedy                     57.0\n",
       " thriller                   60.0\n",
       " crime                      65.0\n",
       " adventure                  65.0\n",
       "drama                      116.0\n",
       " romance                   128.0\n",
       "action                     130.0\n",
       "comedy                     155.0\n",
       " drama                     195.0\n",
       "dtype: float64"
      ]
     },
     "execution_count": 16,
     "metadata": {},
     "output_type": "execute_result"
    }
   ],
   "source": [
    "all_bi = pd.DataFrame(pd.concat([actors,genres,directors]))\n",
    "#all_bi.columns = [str.lower(column).strip() for column in all_bi.columns]\n",
    "test = pd.DataFrame.sum(all_bi)\n",
    "test.sort_values(ascending=True)\n",
    "\n",
    "#df_to_process = pd.concat([metrics.reset_index(drop=True), genres], axis=1)#actors, directors\n",
    "#df_to_process = df_to_process.dropna()\n",
    "#[list1[i] for i in range(len(list1)) if list2[i]>5.0)]"
   ]
  },
  {
   "cell_type": "markdown",
   "metadata": {},
   "source": [
    "**Inflation Data**"
   ]
  },
  {
   "cell_type": "code",
   "execution_count": 17,
   "metadata": {
    "collapsed": false
   },
   "outputs": [
    {
     "data": {
      "text/plain": [
       "Index(['year', 'Avg', 'twentysixteen'], dtype='object')"
      ]
     },
     "execution_count": 17,
     "metadata": {},
     "output_type": "execute_result"
    }
   ],
   "source": [
    "inflation_raw = pd.read_csv('inflation1.csv')\n",
    "twentysixteen = inflation_raw[inflation_raw['Year']==2016]\n",
    "twentysixteen = float(twentysixteen['Avg'])\n",
    "inflation_raw['twentysixteen'] = twentysixteen\n",
    "inflation_raw.columns = ['year', 'Avg','twentysixteen']\n",
    "inflation_raw.columns"
   ]
  },
  {
   "cell_type": "code",
   "execution_count": 18,
   "metadata": {
    "collapsed": false
   },
   "outputs": [
    {
     "data": {
      "text/plain": [
       "104"
      ]
     },
     "execution_count": 18,
     "metadata": {},
     "output_type": "execute_result"
    }
   ],
   "source": [
    "len(inflation_raw)"
   ]
  },
  {
   "cell_type": "code",
   "execution_count": 19,
   "metadata": {
    "collapsed": false
   },
   "outputs": [
    {
     "data": {
      "text/plain": [
       "531"
      ]
     },
     "execution_count": 19,
     "metadata": {},
     "output_type": "execute_result"
    }
   ],
   "source": [
    "bb_df_full = pd.merge(bb_df_full,inflation_raw,on='year',how='left')\n",
    "bb_df_full['adj_gross'] = bb_df_full['gross']*bb_df_full['twentysixteen']/bb_df_full['Avg']\n",
    "len(bb_df_full)"
   ]
  },
  {
   "cell_type": "code",
   "execution_count": null,
   "metadata": {
    "collapsed": false
   },
   "outputs": [],
   "source": []
  },
  {
   "cell_type": "code",
   "execution_count": 20,
   "metadata": {
    "collapsed": false,
    "scrolled": false
   },
   "outputs": [
    {
     "data": {
      "text/html": [
       "<div>\n",
       "<table border=\"1\" class=\"dataframe\">\n",
       "  <thead>\n",
       "    <tr style=\"text-align: right;\">\n",
       "      <th></th>\n",
       "      <th>meta_score</th>\n",
       "      <th>user_score</th>\n",
       "      <th>runtime</th>\n",
       "      <th>gross</th>\n",
       "      <th>votes</th>\n",
       "      <th>peak_bb</th>\n",
       "      <th>weeks_bb</th>\n",
       "      <th>african_american</th>\n",
       "      <th>african_american_woman</th>\n",
       "      <th>bisexual</th>\n",
       "      <th>...</th>\n",
       "      <th>animation</th>\n",
       "      <th>biography</th>\n",
       "      <th>comedy</th>\n",
       "      <th>crime</th>\n",
       "      <th>drama</th>\n",
       "      <th>horror</th>\n",
       "      <th>musical</th>\n",
       "      <th>mystery</th>\n",
       "      <th>romance</th>\n",
       "      <th>thriller</th>\n",
       "    </tr>\n",
       "  </thead>\n",
       "  <tbody>\n",
       "    <tr>\n",
       "      <th>0</th>\n",
       "      <td>0.40</td>\n",
       "      <td>0.695652</td>\n",
       "      <td>0.634021</td>\n",
       "      <td>0.49345</td>\n",
       "      <td>0.244806</td>\n",
       "      <td>0.011111</td>\n",
       "      <td>0.149068</td>\n",
       "      <td>1.0</td>\n",
       "      <td>0.0</td>\n",
       "      <td>0.0</td>\n",
       "      <td>...</td>\n",
       "      <td>0.0</td>\n",
       "      <td>0.0</td>\n",
       "      <td>0.0</td>\n",
       "      <td>0.0</td>\n",
       "      <td>0.0</td>\n",
       "      <td>0.0</td>\n",
       "      <td>0.0</td>\n",
       "      <td>0.0</td>\n",
       "      <td>0.0</td>\n",
       "      <td>0.0</td>\n",
       "    </tr>\n",
       "    <tr>\n",
       "      <th>1</th>\n",
       "      <td>0.43</td>\n",
       "      <td>0.673913</td>\n",
       "      <td>0.479381</td>\n",
       "      <td>0.00037</td>\n",
       "      <td>0.039606</td>\n",
       "      <td>0.011111</td>\n",
       "      <td>0.720497</td>\n",
       "      <td>0.0</td>\n",
       "      <td>0.0</td>\n",
       "      <td>0.0</td>\n",
       "      <td>...</td>\n",
       "      <td>0.0</td>\n",
       "      <td>0.0</td>\n",
       "      <td>0.0</td>\n",
       "      <td>0.0</td>\n",
       "      <td>0.0</td>\n",
       "      <td>0.0</td>\n",
       "      <td>0.0</td>\n",
       "      <td>0.0</td>\n",
       "      <td>0.0</td>\n",
       "      <td>0.0</td>\n",
       "    </tr>\n",
       "  </tbody>\n",
       "</table>\n",
       "<p>2 rows × 52 columns</p>\n",
       "</div>"
      ],
      "text/plain": [
       "   meta_score  user_score   runtime    gross     votes   peak_bb  weeks_bb  \\\n",
       "0        0.40    0.695652  0.634021  0.49345  0.244806  0.011111  0.149068   \n",
       "1        0.43    0.673913  0.479381  0.00037  0.039606  0.011111  0.720497   \n",
       "\n",
       "   african_american  african_american_woman  bisexual    ...     animation  \\\n",
       "0               1.0                     0.0       0.0    ...           0.0   \n",
       "1               0.0                     0.0       0.0    ...           0.0   \n",
       "\n",
       "   biography  comedy  crime  drama  horror  musical  mystery  romance  \\\n",
       "0        0.0     0.0    0.0    0.0     0.0      0.0      0.0      0.0   \n",
       "1        0.0     0.0    0.0    0.0     0.0      0.0      0.0      0.0   \n",
       "\n",
       "   thriller  \n",
       "0       0.0  \n",
       "1       0.0  \n",
       "\n",
       "[2 rows x 52 columns]"
      ]
     },
     "execution_count": 20,
     "metadata": {},
     "output_type": "execute_result"
    }
   ],
   "source": [
    "metrics = bb_df_full[['meta_score','user_score','runtime','gross','votes','peak_bb','weeks_bb','african_american',\\\n",
    "                      'african_american_woman', 'bisexual', 'cat', 'crying', 'cult', 'dog','female_nudity', 'gay',\\\n",
    "                      'independent', 'lesbian', 'male_nudity','police', 'racism','sequel', 'transgender','lgbt']]\n",
    "\n",
    "df_to_process = pd.concat([metrics.reset_index(drop=True), genres], axis=1)#actors, directors\n",
    "df_to_process = df_to_process.dropna()\n",
    "\n",
    "normed = pd.DataFrame(preprocessing.normalize(df_to_process, axis=0, norm='max'))\n",
    "normed.columns = df_to_process.columns\n",
    "normed.head(2)"
   ]
  },
  {
   "cell_type": "markdown",
   "metadata": {},
   "source": []
  },
  {
   "cell_type": "code",
   "execution_count": null,
   "metadata": {
    "collapsed": false
   },
   "outputs": [],
   "source": []
  },
  {
   "cell_type": "code",
   "execution_count": null,
   "metadata": {
    "collapsed": true
   },
   "outputs": [],
   "source": []
  },
  {
   "cell_type": "markdown",
   "metadata": {},
   "source": [
    "**Check Normalization**"
   ]
  },
  {
   "cell_type": "code",
   "execution_count": 21,
   "metadata": {
    "collapsed": false
   },
   "outputs": [
    {
     "name": "stdout",
     "output_type": "stream",
     "text": [
      "0.100748301142\n"
     ]
    },
    {
     "data": {
      "text/plain": [
       "0.74620659468923323"
      ]
     },
     "execution_count": 21,
     "metadata": {},
     "output_type": "execute_result"
    }
   ],
   "source": [
    "X = normed.drop([\"gross\"], axis=1, errors=\"ignore\")\n",
    "y = normed['gross']\n",
    "\n",
    "print(X.std()[1])\n",
    "X.mean()[1]"
   ]
  },
  {
   "cell_type": "code",
   "execution_count": 22,
   "metadata": {
    "collapsed": true
   },
   "outputs": [],
   "source": [
    "with open('normalized_bb_imdb.pkl', 'wb') as picklefile:\n",
    "    pickle.dump(normed, picklefile)"
   ]
  },
  {
   "cell_type": "code",
   "execution_count": 23,
   "metadata": {
    "collapsed": false
   },
   "outputs": [
    {
     "data": {
      "text/plain": [
       "<seaborn.axisgrid.PairGrid at 0x11248b9e8>"
      ]
     },
     "execution_count": 23,
     "metadata": {},
     "output_type": "execute_result"
    },
    {
     "data": {
      "image/png": "[encoded data removed]",
      "text/plain": [
       "<matplotlib.figure.Figure at 0x11248b630>"
      ]
     },
     "metadata": {},
     "output_type": "display_data"
    }
   ],
   "source": [
    "pair_normed = normed[['meta_score','user_score','runtime','gross','votes','peak_bb','weeks_bb']]\n",
    "sns.pairplot(pair_normed, size = 1.2, aspect=1.5)"
   ]
  },
  {
   "cell_type": "code",
   "execution_count": 24,
   "metadata": {
    "collapsed": false,
    "scrolled": true
   },
   "outputs": [
    {
     "data": {
      "text/plain": [
       "user_score                222.369565\n",
       "runtime                   175.917526\n",
       "meta_score                175.670000\n",
       " drama                    123.000000\n",
       "peak_bb                   118.155556\n",
       "action                    103.000000\n",
       "comedy                     74.000000\n",
       " romance                   57.000000\n",
       "weeks_bb                   52.453416\n",
       "drama                      51.000000\n",
       " crime                     48.000000\n",
       " adventure                 47.000000\n",
       "cult                       45.000000\n",
       " comedy                    44.000000\n",
       "gross                      42.098868\n",
       "votes                      40.042835\n",
       " thriller                  39.000000\n",
       "police                     38.000000\n",
       "female_nudity              37.000000\n",
       " music                     35.000000\n",
       "crime                      30.000000\n",
       "african_american           30.000000\n",
       "dog                        27.000000\n",
       " sci-fi                    26.000000\n",
       "lgbt                       21.000000\n",
       "male_nudity                19.000000\n",
       "sequel                     19.000000\n",
       "independent                18.000000\n",
       "crying                     17.000000\n",
       " fantasy                   16.000000\n",
       "cat                        14.000000\n",
       "racism                     13.000000\n",
       "adventure                  13.000000\n",
       " family                    13.000000\n",
       "animation                  10.000000\n",
       " musical                    9.000000\n",
       "gay                         9.000000\n",
       "biography                   9.000000\n",
       " sport                      7.000000\n",
       "lesbian                     7.000000\n",
       " mystery                    6.000000\n",
       " history                    6.000000\n",
       "mystery                     5.000000\n",
       " horror                     5.000000\n",
       "bisexual                    5.000000\n",
       "musical                     1.000000\n",
       "thriller                    1.000000\n",
       "romance                     1.000000\n",
       "horror                      0.000000\n",
       "african_american_woman      0.000000\n",
       "transgender                 0.000000\n",
       " action                     0.000000\n",
       "dtype: float64"
      ]
     },
     "execution_count": 24,
     "metadata": {},
     "output_type": "execute_result"
    }
   ],
   "source": [
    "#test = normed[normed.sum(axis=1) > 1]\n",
    "#len(test.columns),len(test.index)\n",
    "test = pd.DataFrame.sum(normed)\n",
    "test.sort_values(ascending=False)"
   ]
  },
  {
   "cell_type": "code",
   "execution_count": 25,
   "metadata": {
    "collapsed": false
   },
   "outputs": [],
   "source": [
    "#[list1[i] for i in range(len(list1)) if list2[i]>5.0)] # list1 is the column names or index of thing list2 is the sums"
   ]
  },
  {
   "cell_type": "markdown",
   "metadata": {},
   "source": [
    "## Modeling\n",
    "**Stepwise OLS**"
   ]
  },
  {
   "cell_type": "code",
   "execution_count": 26,
   "metadata": {
    "collapsed": false
   },
   "outputs": [],
   "source": [
    "#Reduce amount of factors\n",
    "X = normed[['meta_score','user_score','runtime','votes','peak_bb','weeks_bb','african_american',\\\n",
    "                      'african_american_woman', 'bisexual', 'cat', 'crying', 'cult', 'dog','female_nudity', 'gay',\\\n",
    "                      'independent', 'lesbian', 'male_nudity','police', 'racism','sequel', 'transgender','lgbt']]"
   ]
  },
  {
   "cell_type": "code",
   "execution_count": 27,
   "metadata": {
    "collapsed": false
   },
   "outputs": [
    {
     "data": {
      "text/html": [
       "<div>\n",
       "<table border=\"1\" class=\"dataframe\">\n",
       "  <thead>\n",
       "    <tr style=\"text-align: right;\">\n",
       "      <th></th>\n",
       "      <th>meta_score</th>\n",
       "      <th>user_score</th>\n",
       "      <th>runtime</th>\n",
       "      <th>votes</th>\n",
       "      <th>peak_bb</th>\n",
       "      <th>weeks_bb</th>\n",
       "      <th>african_american</th>\n",
       "      <th>african_american_woman</th>\n",
       "      <th>bisexual</th>\n",
       "      <th>cat</th>\n",
       "      <th>crying</th>\n",
       "      <th>cult</th>\n",
       "      <th>dog</th>\n",
       "      <th>female_nudity</th>\n",
       "      <th>gay</th>\n",
       "      <th>independent</th>\n",
       "      <th>lesbian</th>\n",
       "      <th>male_nudity</th>\n",
       "    </tr>\n",
       "  </thead>\n",
       "  <tbody>\n",
       "    <tr>\n",
       "      <th>0</th>\n",
       "      <td>0.40</td>\n",
       "      <td>0.695652</td>\n",
       "      <td>0.634021</td>\n",
       "      <td>0.244806</td>\n",
       "      <td>0.011111</td>\n",
       "      <td>0.149068</td>\n",
       "      <td>1.0</td>\n",
       "      <td>0.0</td>\n",
       "      <td>0.0</td>\n",
       "      <td>0.0</td>\n",
       "      <td>0.0</td>\n",
       "      <td>0.0</td>\n",
       "      <td>0.0</td>\n",
       "      <td>0.0</td>\n",
       "      <td>0.0</td>\n",
       "      <td>0.0</td>\n",
       "      <td>0.0</td>\n",
       "      <td>0.0</td>\n",
       "    </tr>\n",
       "    <tr>\n",
       "      <th>1</th>\n",
       "      <td>0.43</td>\n",
       "      <td>0.673913</td>\n",
       "      <td>0.479381</td>\n",
       "      <td>0.039606</td>\n",
       "      <td>0.011111</td>\n",
       "      <td>0.720497</td>\n",
       "      <td>0.0</td>\n",
       "      <td>0.0</td>\n",
       "      <td>0.0</td>\n",
       "      <td>0.0</td>\n",
       "      <td>0.0</td>\n",
       "      <td>1.0</td>\n",
       "      <td>0.0</td>\n",
       "      <td>0.0</td>\n",
       "      <td>0.0</td>\n",
       "      <td>0.0</td>\n",
       "      <td>0.0</td>\n",
       "      <td>0.0</td>\n",
       "    </tr>\n",
       "  </tbody>\n",
       "</table>\n",
       "</div>"
      ],
      "text/plain": [
       "   meta_score  user_score   runtime     votes   peak_bb  weeks_bb  \\\n",
       "0        0.40    0.695652  0.634021  0.244806  0.011111  0.149068   \n",
       "1        0.43    0.673913  0.479381  0.039606  0.011111  0.720497   \n",
       "\n",
       "   african_american  african_american_woman  bisexual  cat  crying  cult  dog  \\\n",
       "0               1.0                     0.0       0.0  0.0     0.0   0.0  0.0   \n",
       "1               0.0                     0.0       0.0  0.0     0.0   1.0  0.0   \n",
       "\n",
       "   female_nudity  gay  independent  lesbian  male_nudity  \n",
       "0            0.0  0.0          0.0      0.0          0.0  \n",
       "1            0.0  0.0          0.0      0.0          0.0  "
      ]
     },
     "execution_count": 27,
     "metadata": {},
     "output_type": "execute_result"
    }
   ],
   "source": [
    "X.iloc[:2,:18]"
   ]
  },
  {
   "cell_type": "code",
   "execution_count": 28,
   "metadata": {
    "collapsed": false
   },
   "outputs": [
    {
     "data": {
      "text/plain": [
       "0    0.493450\n",
       "1    0.000370\n",
       "2    0.278494\n",
       "3    0.026576\n",
       "4    0.026576\n",
       "Name: gross, dtype: float64"
      ]
     },
     "execution_count": 28,
     "metadata": {},
     "output_type": "execute_result"
    }
   ],
   "source": [
    "y.head()"
   ]
  },
  {
   "cell_type": "code",
   "execution_count": 29,
   "metadata": {
    "collapsed": false
   },
   "outputs": [
    {
     "data": {
      "text/html": [
       "<div>\n",
       "<table border=\"1\" class=\"dataframe\">\n",
       "  <thead>\n",
       "    <tr style=\"text-align: right;\">\n",
       "      <th></th>\n",
       "      <th>meta_score</th>\n",
       "      <th>user_score</th>\n",
       "      <th>runtime</th>\n",
       "      <th>votes</th>\n",
       "      <th>peak_bb</th>\n",
       "      <th>weeks_bb</th>\n",
       "      <th>african_american</th>\n",
       "      <th>african_american_woman</th>\n",
       "      <th>bisexual</th>\n",
       "      <th>cat</th>\n",
       "      <th>...</th>\n",
       "      <th>female_nudity</th>\n",
       "      <th>gay</th>\n",
       "      <th>independent</th>\n",
       "      <th>lesbian</th>\n",
       "      <th>male_nudity</th>\n",
       "      <th>police</th>\n",
       "      <th>racism</th>\n",
       "      <th>sequel</th>\n",
       "      <th>transgender</th>\n",
       "      <th>lgbt</th>\n",
       "    </tr>\n",
       "  </thead>\n",
       "  <tbody>\n",
       "    <tr>\n",
       "      <th>0</th>\n",
       "      <td>0.40</td>\n",
       "      <td>0.695652</td>\n",
       "      <td>0.634021</td>\n",
       "      <td>0.244806</td>\n",
       "      <td>0.011111</td>\n",
       "      <td>0.149068</td>\n",
       "      <td>1.0</td>\n",
       "      <td>0.0</td>\n",
       "      <td>0.0</td>\n",
       "      <td>0.0</td>\n",
       "      <td>...</td>\n",
       "      <td>0.0</td>\n",
       "      <td>0.0</td>\n",
       "      <td>0.0</td>\n",
       "      <td>0.0</td>\n",
       "      <td>0.0</td>\n",
       "      <td>0.0</td>\n",
       "      <td>0.0</td>\n",
       "      <td>0.0</td>\n",
       "      <td>0.0</td>\n",
       "      <td>0.0</td>\n",
       "    </tr>\n",
       "    <tr>\n",
       "      <th>1</th>\n",
       "      <td>0.43</td>\n",
       "      <td>0.673913</td>\n",
       "      <td>0.479381</td>\n",
       "      <td>0.039606</td>\n",
       "      <td>0.011111</td>\n",
       "      <td>0.720497</td>\n",
       "      <td>0.0</td>\n",
       "      <td>0.0</td>\n",
       "      <td>0.0</td>\n",
       "      <td>0.0</td>\n",
       "      <td>...</td>\n",
       "      <td>0.0</td>\n",
       "      <td>0.0</td>\n",
       "      <td>0.0</td>\n",
       "      <td>0.0</td>\n",
       "      <td>0.0</td>\n",
       "      <td>0.0</td>\n",
       "      <td>0.0</td>\n",
       "      <td>0.0</td>\n",
       "      <td>0.0</td>\n",
       "      <td>0.0</td>\n",
       "    </tr>\n",
       "    <tr>\n",
       "      <th>2</th>\n",
       "      <td>0.63</td>\n",
       "      <td>0.706522</td>\n",
       "      <td>0.592784</td>\n",
       "      <td>0.075649</td>\n",
       "      <td>0.011111</td>\n",
       "      <td>0.192547</td>\n",
       "      <td>0.0</td>\n",
       "      <td>0.0</td>\n",
       "      <td>0.0</td>\n",
       "      <td>0.0</td>\n",
       "      <td>...</td>\n",
       "      <td>0.0</td>\n",
       "      <td>0.0</td>\n",
       "      <td>0.0</td>\n",
       "      <td>0.0</td>\n",
       "      <td>0.0</td>\n",
       "      <td>0.0</td>\n",
       "      <td>0.0</td>\n",
       "      <td>1.0</td>\n",
       "      <td>0.0</td>\n",
       "      <td>0.0</td>\n",
       "    </tr>\n",
       "    <tr>\n",
       "      <th>3</th>\n",
       "      <td>0.38</td>\n",
       "      <td>0.652174</td>\n",
       "      <td>0.463918</td>\n",
       "      <td>0.004792</td>\n",
       "      <td>0.011111</td>\n",
       "      <td>0.211180</td>\n",
       "      <td>0.0</td>\n",
       "      <td>0.0</td>\n",
       "      <td>0.0</td>\n",
       "      <td>0.0</td>\n",
       "      <td>...</td>\n",
       "      <td>1.0</td>\n",
       "      <td>0.0</td>\n",
       "      <td>0.0</td>\n",
       "      <td>0.0</td>\n",
       "      <td>0.0</td>\n",
       "      <td>0.0</td>\n",
       "      <td>0.0</td>\n",
       "      <td>0.0</td>\n",
       "      <td>0.0</td>\n",
       "      <td>0.0</td>\n",
       "    </tr>\n",
       "    <tr>\n",
       "      <th>4</th>\n",
       "      <td>0.38</td>\n",
       "      <td>0.652174</td>\n",
       "      <td>0.463918</td>\n",
       "      <td>0.004792</td>\n",
       "      <td>0.011111</td>\n",
       "      <td>0.211180</td>\n",
       "      <td>0.0</td>\n",
       "      <td>0.0</td>\n",
       "      <td>0.0</td>\n",
       "      <td>0.0</td>\n",
       "      <td>...</td>\n",
       "      <td>0.0</td>\n",
       "      <td>0.0</td>\n",
       "      <td>1.0</td>\n",
       "      <td>0.0</td>\n",
       "      <td>0.0</td>\n",
       "      <td>0.0</td>\n",
       "      <td>0.0</td>\n",
       "      <td>0.0</td>\n",
       "      <td>0.0</td>\n",
       "      <td>0.0</td>\n",
       "    </tr>\n",
       "  </tbody>\n",
       "</table>\n",
       "<p>5 rows × 23 columns</p>\n",
       "</div>"
      ],
      "text/plain": [
       "   meta_score  user_score   runtime     votes   peak_bb  weeks_bb  \\\n",
       "0        0.40    0.695652  0.634021  0.244806  0.011111  0.149068   \n",
       "1        0.43    0.673913  0.479381  0.039606  0.011111  0.720497   \n",
       "2        0.63    0.706522  0.592784  0.075649  0.011111  0.192547   \n",
       "3        0.38    0.652174  0.463918  0.004792  0.011111  0.211180   \n",
       "4        0.38    0.652174  0.463918  0.004792  0.011111  0.211180   \n",
       "\n",
       "   african_american  african_american_woman  bisexual  cat  ...   \\\n",
       "0               1.0                     0.0       0.0  0.0  ...    \n",
       "1               0.0                     0.0       0.0  0.0  ...    \n",
       "2               0.0                     0.0       0.0  0.0  ...    \n",
       "3               0.0                     0.0       0.0  0.0  ...    \n",
       "4               0.0                     0.0       0.0  0.0  ...    \n",
       "\n",
       "   female_nudity  gay  independent  lesbian  male_nudity  police  racism  \\\n",
       "0            0.0  0.0          0.0      0.0          0.0     0.0     0.0   \n",
       "1            0.0  0.0          0.0      0.0          0.0     0.0     0.0   \n",
       "2            0.0  0.0          0.0      0.0          0.0     0.0     0.0   \n",
       "3            1.0  0.0          0.0      0.0          0.0     0.0     0.0   \n",
       "4            0.0  0.0          1.0      0.0          0.0     0.0     0.0   \n",
       "\n",
       "   sequel  transgender  lgbt  \n",
       "0     0.0          0.0   0.0  \n",
       "1     0.0          0.0   0.0  \n",
       "2     1.0          0.0   0.0  \n",
       "3     0.0          0.0   0.0  \n",
       "4     0.0          0.0   0.0  \n",
       "\n",
       "[5 rows x 23 columns]"
      ]
     },
     "execution_count": 29,
     "metadata": {},
     "output_type": "execute_result"
    }
   ],
   "source": [
    "X.head()"
   ]
  },
  {
   "cell_type": "code",
   "execution_count": 30,
   "metadata": {
    "collapsed": false
   },
   "outputs": [
    {
     "ename": "NameError",
     "evalue": "name 'RFE' is not defined",
     "output_type": "error",
     "traceback": [
      "\u001b[0;31m---------------------------------------------------------------------------\u001b[0m",
      "\u001b[0;31mNameError\u001b[0m                                 Traceback (most recent call last)",
      "\u001b[0;32m<ipython-input-30-cc8dd5e700b4>\u001b[0m in \u001b[0;36m<module>\u001b[0;34m()\u001b[0m\n\u001b[1;32m      1\u001b[0m \u001b[0mlinreg\u001b[0m \u001b[0;34m=\u001b[0m \u001b[0mLinearRegression\u001b[0m\u001b[0;34m(\u001b[0m\u001b[0;34m)\u001b[0m\u001b[0;34m\u001b[0m\u001b[0m\n\u001b[0;32m----> 2\u001b[0;31m \u001b[0mrfe\u001b[0m \u001b[0;34m=\u001b[0m \u001b[0mRFE\u001b[0m\u001b[0;34m(\u001b[0m\u001b[0mestimator\u001b[0m\u001b[0;34m=\u001b[0m\u001b[0mlinreg\u001b[0m\u001b[0;34m,\u001b[0m \u001b[0mn_features_to_select\u001b[0m\u001b[0;34m=\u001b[0m\u001b[0;36m1\u001b[0m\u001b[0;34m,\u001b[0m \u001b[0mstep\u001b[0m\u001b[0;34m=\u001b[0m\u001b[0;36m1\u001b[0m\u001b[0;34m)\u001b[0m\u001b[0;34m\u001b[0m\u001b[0m\n\u001b[0m\u001b[1;32m      3\u001b[0m \u001b[0mrfe\u001b[0m\u001b[0;34m.\u001b[0m\u001b[0mfit\u001b[0m\u001b[0;34m(\u001b[0m\u001b[0mX\u001b[0m\u001b[0;34m,\u001b[0m \u001b[0my\u001b[0m\u001b[0;34m)\u001b[0m\u001b[0;34m\u001b[0m\u001b[0m\n",
      "\u001b[0;31mNameError\u001b[0m: name 'RFE' is not defined"
     ]
    }
   ],
   "source": [
    "linreg = LinearRegression()\n",
    "rfe = RFE(estimator=linreg, n_features_to_select=1, step=1)\n",
    "rfe.fit(X, y)"
   ]
  },
  {
   "cell_type": "code",
   "execution_count": null,
   "metadata": {
    "collapsed": false
   },
   "outputs": [],
   "source": [
    "X = normed.drop([\"gross\"], axis=1, errors=\"ignore\")\n",
    "y = normed['gross']\n",
    "rfecv =   RFECV(estimator=linreg, cv=5)\n",
    "rfecv.fit(X, y)\n",
    "X_rfecv=rfecv.transform(X)\n",
    "#print(X_rfecv)"
   ]
  },
  {
   "cell_type": "code",
   "execution_count": null,
   "metadata": {
    "collapsed": false
   },
   "outputs": [],
   "source": [
    "ranks = pd.DataFrame(rfecv.ranking_)\n",
    "#df_to_process = pd.concat([metrics.reset_index(drop=True), actors,genres,directors], axis=1)\n",
    "ranks['col_names']=X.columns\n",
    "ranks[ranks[0]<=19]"
   ]
  },
  {
   "cell_type": "code",
   "execution_count": null,
   "metadata": {
    "collapsed": false
   },
   "outputs": [],
   "source": [
    "print(\"Optimal number of features : %d\" % rfecv.n_features_)\n",
    "\n",
    "# Plot number of features VS. cross-validation scores\n",
    "plt.figure()\n",
    "plt.xlabel(\"Number of features selected\")\n",
    "plt.ylabel(\"Cross validation score (nb of correct classifications)\")\n",
    "plt.plot(range(1, len(rfecv.grid_scores_) + 1), rfecv.grid_scores_)\n",
    "plt.show()"
   ]
  },
  {
   "cell_type": "code",
   "execution_count": null,
   "metadata": {
    "collapsed": false
   },
   "outputs": [],
   "source": [
    "\n"
   ]
  },
  {
   "cell_type": "code",
   "execution_count": null,
   "metadata": {
    "collapsed": false
   },
   "outputs": [],
   "source": [
    "kf=KFold(n=len(X),n_folds=2,shuffle=True)\n",
    "\n",
    "all_scores=[]\n",
    "\n",
    "\n",
    "# get indices of corresponding train & test\n",
    "for train,test in kf:\n",
    "    x_train=X.iloc[train]\n",
    "    y_train=y.iloc[train]\n",
    "    x_test=X.iloc[test]\n",
    "    y_test=y.iloc[test]\n",
    "    pvals=[]\n",
    "    sig_cols=[]\n",
    "            \n",
    "    model=sm.OLS(y_train,x_train)\n",
    "    est=model.fit()\n",
    "    pvals=est.pvalues.sort_values()\n",
    "    # we can eliminate features iteratively\n",
    "    \n",
    "    for i in range(5):\n",
    "        ## recalculate pvalue\n",
    "        pvals=pvals[:-6]\n",
    "        ## remove 6 features at a time\n",
    "        feature_keep=pvals.index\n",
    "        #print(len(feature_keep))\n",
    "        \n",
    "        x_train=x_train[feature_keep]\n",
    "        x_test=x_test[feature_keep]\n",
    "        model=sm.OLS(y_train,x_train)\n",
    "        est=model.fit()\n",
    "        pvals=est.pvalues.sort_values()\n",
    "        \n",
    "        \n",
    "    \n",
    "    r_2=est.rsquared\n",
    "    all_scores.append(r_2)\n",
    "        \n",
    "np.mean(all_scores)\n",
    "est.summary()"
   ]
  },
  {
   "cell_type": "code",
   "execution_count": null,
   "metadata": {
    "collapsed": false
   },
   "outputs": [],
   "source": []
  },
  {
   "cell_type": "code",
   "execution_count": null,
   "metadata": {
    "collapsed": true
   },
   "outputs": [],
   "source": []
  },
  {
   "cell_type": "code",
   "execution_count": null,
   "metadata": {
    "collapsed": true
   },
   "outputs": [],
   "source": []
  },
  {
   "cell_type": "code",
   "execution_count": null,
   "metadata": {
    "collapsed": true
   },
   "outputs": [],
   "source": []
  },
  {
   "cell_type": "code",
   "execution_count": null,
   "metadata": {
    "collapsed": true
   },
   "outputs": [],
   "source": []
  },
  {
   "cell_type": "markdown",
   "metadata": {},
   "source": [
    "## SKLearn Feature Selection"
   ]
  },
  {
   "cell_type": "code",
   "execution_count": null,
   "metadata": {
    "collapsed": false
   },
   "outputs": [],
   "source": [
    "est=LinearRegression()\n",
    "selector = RFECV(est, step=1, cv=None, scoring=None, verbose=0, n_jobs=1)\n",
    "selector.fit(X, y)"
   ]
  },
  {
   "cell_type": "code",
   "execution_count": null,
   "metadata": {
    "collapsed": true
   },
   "outputs": [],
   "source": [
    "best_X = RFECV.transform(X)\n",
    "best_X.head()"
   ]
  },
  {
   "cell_type": "code",
   "execution_count": null,
   "metadata": {
    "collapsed": true
   },
   "outputs": [],
   "source": []
  },
  {
   "cell_type": "code",
   "execution_count": null,
   "metadata": {
    "collapsed": true
   },
   "outputs": [],
   "source": []
  },
  {
   "cell_type": "code",
   "execution_count": null,
   "metadata": {
    "collapsed": false
   },
   "outputs": [],
   "source": [
    "#filtering features using p-value: \n",
    "est=LinearRegression()\n",
    "\n",
    "\n",
    "sig_columns=[]\n",
    "pvals=[]\n",
    "\n",
    "for feature in X.columns:\n",
    "    #get pval on feature by feature basis\n",
    "    pval=f_select.f_regression(X[[feature]],y)\n",
    "    if pval[1][0]<.02: \n",
    "        sig_columns.append(feature)\n",
    "        pvals.append(pval[1][0])\n",
    "        \n",
    "X_trans=X[sig_columns]\n",
    "cross_val_score(est,X_trans,y,cv=5,scoring='r2').mean()"
   ]
  },
  {
   "cell_type": "code",
   "execution_count": null,
   "metadata": {
    "collapsed": true
   },
   "outputs": [],
   "source": []
  },
  {
   "cell_type": "markdown",
   "metadata": {},
   "source": [
    "## Regularization"
   ]
  },
  {
   "cell_type": "code",
   "execution_count": null,
   "metadata": {
    "collapsed": false
   },
   "outputs": [],
   "source": [
    "# Test, train, split option via Ridge \n",
    "alphas=[1e-5,1e-3,1e-1,1,100]\n",
    "X_train, X_test, y_train, y_test = train_test_split(X, y, test_size=0.3)\n",
    "\n",
    "def make_estimator(est,alpha):\n",
    "    est.alpha=alpha\n",
    "    model = est.fit(X_train,y_train)\n",
    "    mse=np.mean(y_test-model.predict(X_test))**2\n",
    "    return mse\n",
    "    \n",
    "# Get scores\n",
    "all_mse=[]    \n",
    "for a in alphas:    \n",
    "    all_mse.append(make_estimator(Ridge(),a))\n",
    "    \n",
    "\n",
    "#plot of model\n",
    "plt.figure(figsize=(8,6))\n",
    "plt.legend()\n",
    "plt.plot(np.log10(alphas),all_mse)\n",
    "plt.legend()\n",
    "plt.xlabel('alphas')\n",
    "plt.ylabel('MSE')\n",
    "plt.show()"
   ]
  },
  {
   "cell_type": "code",
   "execution_count": null,
   "metadata": {
    "collapsed": false
   },
   "outputs": [],
   "source": [
    "# A bit more involved approach: illustrated here with Lasso\n",
    "kf = KFold(n=len(X), n_folds=5, shuffle=True)\n",
    "\n",
    "all_scores=[]\n",
    "alphas=[1e-5,1e-3,1e-1,0,1,100]\n",
    "\n",
    "\n",
    "for train, test in kf:\n",
    "    x_train=X.iloc[train]\n",
    "    y_train=y.iloc[train]\n",
    "    x_test=X.iloc[test]\n",
    "    y_test=y.iloc[test]\n",
    "    mse_score=[]\n",
    "    for a in alphas:\n",
    "        est=Lasso(alpha=a)\n",
    "        est.fit(x_train,y_train)\n",
    "        mse=np.mean((y_test-est.predict(x_test))**2)\n",
    "        mse_score.append(mse)\n",
    "    all_scores.append(mse_score)"
   ]
  },
  {
   "cell_type": "code",
   "execution_count": null,
   "metadata": {
    "collapsed": false
   },
   "outputs": [],
   "source": [
    "# Which alpha is the best for our model ? Looks like alpha= 1e-3 is still the best!\n",
    "plt.figure(figsize=(8,6))\n",
    "plt.ylim(0,0.1)\n",
    "plt.legend()\n",
    "for i in range(5):\n",
    "    plt.plot(all_scores[i],label = 'cv %s'%i)\n",
    "plt.legend()\n",
    "plt.xlabel('alphas')\n",
    "plt.ylabel('MSE')\n",
    "plt.show()"
   ]
  },
  {
   "cell_type": "code",
   "execution_count": null,
   "metadata": {
    "collapsed": true
   },
   "outputs": [],
   "source": []
  },
  {
   "cell_type": "code",
   "execution_count": null,
   "metadata": {
    "collapsed": true
   },
   "outputs": [],
   "source": []
  },
  {
   "cell_type": "code",
   "execution_count": null,
   "metadata": {
    "collapsed": false
   },
   "outputs": [],
   "source": [
    "# Take a quick look at our strongest features\n",
    "X_train, X_test, y_train, y_test = train_test_split(X, y, test_size=0.3)\n",
    "\n",
    "est=Lasso(alpha=1e-3)\n",
    "est.fit(X_train,y_train)\n",
    "est.alpha\n",
    "\n",
    "zipped=zip(X.columns,est.coef_)\n",
    "features=sorted(zipped,key = lambda t: t[1],reverse=True)\n",
    "features[:5]"
   ]
  },
  {
   "cell_type": "code",
   "execution_count": null,
   "metadata": {
    "collapsed": false
   },
   "outputs": [],
   "source": [
    "norm_corr = normed.corr()\n",
    "norm_corr['peak_bb'].sort_values(ascending=False)"
   ]
  },
  {
   "cell_type": "code",
   "execution_count": null,
   "metadata": {
    "collapsed": true
   },
   "outputs": [],
   "source": []
  },
  {
   "cell_type": "code",
   "execution_count": null,
   "metadata": {
    "collapsed": true
   },
   "outputs": [],
   "source": []
  },
  {
   "cell_type": "code",
   "execution_count": null,
   "metadata": {
    "collapsed": true
   },
   "outputs": [],
   "source": []
  },
  {
   "cell_type": "markdown",
   "metadata": {},
   "source": [
    "## Modeling with skLearn"
   ]
  },
  {
   "cell_type": "code",
   "execution_count": null,
   "metadata": {
    "collapsed": false
   },
   "outputs": [],
   "source": [
    "lr = LinearRegression()\n",
    "# Remember:\n",
    "#X = normed.drop([\"gross\"], axis=1, errors=\"ignore\")\n",
    "#y = normed['gross']\n",
    "lr.fit(X, y)\n",
    "lr.score(X,y)"
   ]
  },
  {
   "cell_type": "code",
   "execution_count": null,
   "metadata": {
    "collapsed": true
   },
   "outputs": [],
   "source": []
  }
 ],
 "metadata": {
  "anaconda-cloud": {},
  "kernelspec": {
   "display_name": "Python [default]",
   "language": "python",
   "name": "python3"
  },
  "language_info": {
   "codemirror_mode": {
    "name": "ipython",
    "version": 3
   },
   "file_extension": ".py",
   "mimetype": "text/x-python",
   "name": "python",
   "nbconvert_exporter": "python",
   "pygments_lexer": "ipython3",
   "version": "3.5.2"
  }
 },
 "nbformat": 4,
 "nbformat_minor": 1
}
